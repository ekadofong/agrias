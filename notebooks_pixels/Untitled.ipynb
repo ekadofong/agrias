{
 "cells": [
  {
   "cell_type": "code",
   "execution_count": 1,
   "id": "00668f68-f513-4585-96bc-4cb589e3afb5",
   "metadata": {},
   "outputs": [],
   "source": [
    "%load_ext autoreload\n",
    "%autoreload 2"
   ]
  },
  {
   "cell_type": "code",
   "execution_count": 2,
   "id": "77e531f4-e391-45f4-8782-01188156227f",
   "metadata": {},
   "outputs": [],
   "source": [
    "import numpy as np\n",
    "import matplotlib.pyplot as plt\n",
    "import pandas as pd\n",
    "from astropy import table, coordinates\n",
    "from astropy.io import fits\n",
    "\n",
    "from ekfplot import plot as ek\n",
    "from ekfparse import query\n",
    "from ekfphot import image, photometry"
   ]
  },
  {
   "cell_type": "code",
   "execution_count": 3,
   "id": "ec2af2cc-dee0-41bb-96fe-85b0a4dd871f",
   "metadata": {},
   "outputs": [],
   "source": [
    "from astropy import units as u\n",
    "from astropy import cosmology\n",
    "cosmo = cosmology.FlatLambdaCDM(70.,0.3)"
   ]
  },
  {
   "cell_type": "code",
   "execution_count": null,
   "id": "b1631cdf-f386-478b-8e97-77a67d0d0685",
   "metadata": {},
   "outputs": [],
   "source": []
  }
 ],
 "metadata": {
  "kernelspec": {
   "display_name": "Python 3 (ipykernel)",
   "language": "python",
   "name": "python3"
  },
  "language_info": {
   "codemirror_mode": {
    "name": "ipython",
    "version": 3
   },
   "file_extension": ".py",
   "mimetype": "text/x-python",
   "name": "python",
   "nbconvert_exporter": "python",
   "pygments_lexer": "ipython3",
   "version": "3.10.13"
  }
 },
 "nbformat": 4,
 "nbformat_minor": 5
}
