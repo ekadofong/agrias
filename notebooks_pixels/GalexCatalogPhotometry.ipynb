{
 "cells": [
  {
   "cell_type": "code",
   "execution_count": 1,
   "id": "bf85ca20-386c-4f58-811d-8a20e8cb24fe",
   "metadata": {},
   "outputs": [],
   "source": [
    "%load_ext autoreload\n",
    "%autoreload 2"
   ]
  },
  {
   "cell_type": "code",
   "execution_count": 2,
   "id": "9d5c5cb2-c037-41d2-a2ee-8cbb418f57f9",
   "metadata": {},
   "outputs": [],
   "source": [
    "import numpy as np\n",
    "import matplotlib.pyplot as plt\n",
    "import pandas as pd\n",
    "from astropy import table, coordinates\n",
    "from astropy.io import fits\n",
    "\n",
    "from ekfplot import plot as ek\n",
    "from ekfparse import query\n",
    "from ekfphot import image, photometry"
   ]
  },
  {
   "cell_type": "code",
   "execution_count": 3,
   "id": "0272d62f-580a-492a-88a9-ebd30d264b52",
   "metadata": {},
   "outputs": [],
   "source": [
    "from astropy import units as u\n",
    "from astropy import cosmology\n",
    "cosmo = cosmology.FlatLambdaCDM(70.,0.3)"
   ]
  },
  {
   "cell_type": "code",
   "execution_count": 4,
   "id": "d494a5ea-2522-4f9b-8d08-e92a98123e46",
   "metadata": {},
   "outputs": [],
   "source": [
    "cat = table.Table(fits.getdata('../local_data/inputs/Merian_DR1_photoz_EAZY_v3.0_inbandspecz.fits', 1))"
   ]
  },
  {
   "cell_type": "markdown",
   "id": "969ffaad-842c-4eea-840d-8cdf748b3af2",
   "metadata": {},
   "source": [
    "# Catalog matching"
   ]
  },
  {
   "cell_type": "code",
   "execution_count": 5,
   "id": "5c93c01e-e2e4-4af2-99ed-377594fb9feb",
   "metadata": {
    "scrolled": true
   },
   "outputs": [],
   "source": [
    "from astroquery.mast import Catalogs\n",
    "import progressbar"
   ]
  },
  {
   "cell_type": "code",
   "execution_count": 6,
   "id": "0553156c-ce66-4e77-a786-73995fe0a2f5",
   "metadata": {},
   "outputs": [],
   "source": [
    "rsep = 0.2*u.deg\n",
    "match_sep = 5.*u.arcsec"
   ]
  },
  {
   "cell_type": "code",
   "execution_count": 12,
   "id": "1584d2f8-b9f5-438b-b0d2-4494580b708c",
   "metadata": {},
   "outputs": [],
   "source": [
    "rerun = True\n",
    "galex_df = pd.read_csv('./galex_df.csv.scratch', index_col=0)\n",
    "galex_df['z_spec'] = cat['z_spec']\n",
    "galex_df['z_source'] = cat['z_source']"
   ]
  },
  {
   "cell_type": "code",
   "execution_count": 9,
   "id": "f4e38cc2-928d-4158-ac9b-ed696b7b2872",
   "metadata": {
    "scrolled": true
   },
   "outputs": [
    {
     "name": "stderr",
     "output_type": "stream",
     "text": [
      " 99% |######################################################################## |\r"
     ]
    }
   ],
   "source": [
    "mcoords = coordinates.SkyCoord(cat['coord_ra_Merian'], cat['coord_dec_Merian'], unit='deg')\n",
    "assns = np.zeros(len(mcoords))\n",
    "group_number = 1\n",
    "pbar = progressbar.ProgressBar(maxval=len(mcoords))\n",
    "pbar.start()\n",
    "anchor_points = []\n",
    "anchor_names = []\n",
    "for idx,row in enumerate(mcoords):\n",
    "    if assns[idx] > 0:\n",
    "        continue\n",
    "    relative_positions = row.separation(mcoords) \n",
    "    assns[(relative_positions<rsep)&(assns==0)] = group_number\n",
    "    group_number += 1\n",
    "    pbar.update(idx)\n",
    "    anchor_points.append(row)\n",
    "    anchor_names.append(f'M{cat[idx][\"objectId_Merian\"]}')"
   ]
  },
  {
   "cell_type": "code",
   "execution_count": 11,
   "id": "1bd557c3-4499-4934-b735-2d6a9151fe39",
   "metadata": {},
   "outputs": [
    {
     "name": "stdout",
     "output_type": "stream",
     "text": [
      "True\n"
     ]
    }
   ],
   "source": [
    "has_run = not galex_df.loc[anchor_names[-1]].isna().all()\n",
    "print(has_run)"
   ]
  },
  {
   "cell_type": "code",
   "execution_count": 13,
   "id": "0c169117-e76b-4721-94ff-a04ce5569a2b",
   "metadata": {},
   "outputs": [],
   "source": [
    "#galex_df.to_csv('../local_data/intermediates/galex_df_w_specz.csv')"
   ]
  },
  {
   "cell_type": "code",
   "execution_count": null,
   "id": "07e9efa0-b918-45a4-8eda-5e9aab8816cb",
   "metadata": {
    "scrolled": true
   },
   "outputs": [
    {
     "name": "stderr",
     "output_type": "stream",
     "text": [
      "WARNING: NoResultsWarning: Query returned no results. [astroquery.mast.discovery_portal]\n",
      "WARNING: NoResultsWarning: Query returned no results. [astroquery.mast.discovery_portal]\n",
      "WARNING: NoResultsWarning: Query returned no results. [astroquery.mast.discovery_portal]\n",
      "WARNING: NoResultsWarning: Query returned no results. [astroquery.mast.discovery_portal]\n",
      "WARNING: NoResultsWarning: Query returned no results. [astroquery.mast.discovery_portal]\n",
      "WARNING: NoResultsWarning: Query returned no results. [astroquery.mast.discovery_portal]\n",
      "WARNING: NoResultsWarning: Query returned no results. [astroquery.mast.discovery_portal]\n",
      "WARNING: NoResultsWarning: Query returned no results. [astroquery.mast.discovery_portal]\n",
      "WARNING: NoResultsWarning: Query returned no results. [astroquery.mast.discovery_portal]\n",
      "WARNING: NoResultsWarning: Query returned no results. [astroquery.mast.discovery_portal]\n",
      " 28% |####################                                                     |\r"
     ]
    }
   ],
   "source": [
    "if rerun or not has_run:\n",
    "    pbar = progressbar.ProgressBar(maxval=len(anchor_points))\n",
    "    pbar.start()\n",
    "    \n",
    "    columns = 'fuv_mag fuv_magerr nuv_mag nuv_magerr fuv_flux fuv_fluxerr nuv_flux nuv_fluxerr e_bv ra dec fuv_artifact nuv_artifact IAUName'.split()\n",
    "    if rerun:\n",
    "        galex_df = pd.DataFrame(index=[f'M{x}' for x in cat['objectId_Merian']], columns=columns)\n",
    "    for group_index in range(1, len(anchor_points)+1):\n",
    "        name = anchor_names[group_index-1]\n",
    "        if not galex_df.loc[name].isna().all():\n",
    "            pbar.update(group_index)\n",
    "            continue\n",
    "        row = anchor_points[group_index-1]    \n",
    "        catalog_data = Catalogs.query_region(row, radius=rsep, catalog='Galex').to_pandas()\n",
    "        ccoords = coordinates.SkyCoord(catalog_data['ra'], catalog_data['dec'], unit='deg')\n",
    "        if len(ccoords)==0:\n",
    "            continue\n",
    "        match_index, d2d,_=mcoords[assns==group_index].match_to_catalog_sky(ccoords)\n",
    "        is_match = d2d < match_sep\n",
    "        matches = [f'M{x}' for x in cat[assns==group_index][is_match]['objectId_Merian']]\n",
    "        galex_df.loc[matches] = catalog_data.reindex(match_index[is_match])[columns].values\n",
    "        pbar.update(group_index)\n",
    "    \n",
    "        if group_index % 10 == 0:\n",
    "            galex_df.to_csv('./galex_df.csv.scratch')\n",
    "    \n",
    "    galex_df.to_csv('./galex_df.csv.scratch')\n",
    "else:\n",
    "    print('using scratch')"
   ]
  },
  {
   "cell_type": "code",
   "execution_count": 24,
   "id": "5854c2f7-5426-4845-b458-a9c21261617b",
   "metadata": {},
   "outputs": [],
   "source": [
    "nuv_flux = 3631.*10.**(galex_df['nuv_mag'].values.astype(float)/-2.5)\n",
    "fuv_flux = 3631.*10.**(galex_df['nuv_mag'].values.astype(float)/-2.5)"
   ]
  },
  {
   "cell_type": "code",
   "execution_count": 25,
   "id": "418f4dbd-e786-4421-9d25-50bf4f5063fc",
   "metadata": {},
   "outputs": [
    {
     "data": {
      "text/plain": [
       "<matplotlib.legend.Legend at 0x13ce73ee0>"
      ]
     },
     "execution_count": 25,
     "metadata": {},
     "output_type": "execute_result"
    },
    {
     "data": {
      "image/png": "[encoded data removed]",
      "text/plain": [
       "<Figure size 640x480 with 1 Axes>"
      ]
     },
     "metadata": {},
     "output_type": "display_data"
    }
   ],
   "source": [
    "ek.hist(np.log10(nuv_flux), label='all')\n",
    "ek.hist(np.log10(nuv_flux)[cat['logmass_gaap']<9.], label=r'$\\rm M_\\bigstar<10^9 M_\\odot$')\n",
    "plt.xlabel(r'F(NUV) [nJy]')\n",
    "plt.ylabel('N')\n",
    "plt.legend(frameon=False)"
   ]
  },
  {
   "cell_type": "code",
   "execution_count": 27,
   "id": "6f0ed589-6f5c-4ca4-a313-9ac72667a3a3",
   "metadata": {},
   "outputs": [
    {
     "data": {
      "text/plain": [
       "(17975,)"
      ]
     },
     "execution_count": 27,
     "metadata": {},
     "output_type": "execute_result"
    }
   ],
   "source": [
    "plt.scatter(\n",
    "    cat['logmass_gaap'],\n",
    "    fuv_flux/"
   ]
  },
  {
   "cell_type": "code",
   "execution_count": null,
   "id": "5c7eabcd-d1f0-490a-940d-d32d5e8c8946",
   "metadata": {},
   "outputs": [],
   "source": [
    "cat"
   ]
  },
  {
   "cell_type": "markdown",
   "id": "6626faf8-f82b-49d8-b150-46d367855a39",
   "metadata": {},
   "source": [
    "# Galex pixels"
   ]
  },
  {
   "cell_type": "code",
   "execution_count": 49,
   "id": "fa282ce2-e85b-44e5-851d-6655a1628ab6",
   "metadata": {},
   "outputs": [
    {
     "name": "stderr",
     "output_type": "stream",
     "text": [
      "WARNING: InputWarning: Coordinate string is being interpreted as an ICRS coordinate provided in degrees. [astroquery.utils.commons]\n"
     ]
    },
    {
     "name": "stdout",
     "output_type": "stream",
     "text": [
      "Queried GALEX observations in 1.25 seconds.\n"
     ]
    }
   ],
   "source": [
    "matches = query.identify_galexcoadds(row['coord_ra_Merian'], row['coord_dec_Merian'])"
   ]
  },
  {
   "cell_type": "code",
   "execution_count": null,
   "id": "13d98d5d-ea7d-4b56-aa05-321811a11eaa",
   "metadata": {},
   "outputs": [],
   "source": [
    "catalog_data = Catalogs.query_object_async"
   ]
  },
  {
   "cell_type": "code",
   "execution_count": 50,
   "id": "b6fcc26f-7749-4190-9409-bbbd75409304",
   "metadata": {},
   "outputs": [
    {
     "name": "stdout",
     "output_type": "stream",
     "text": [
      "Queried GALEX observations in 0.12 seconds.\n",
      "Identified GALEX observations in 0.65 seconds.\n",
      "Downloading URL https://mast.stsci.edu/api/v0.1/Download/file?uri=mast:GALEX/url/data/GR7/pipe/01-vsn/25680-GI5_028080_W1_18028_0270/d/01-main/0007-img/07-try/GI5_028080_W1_18028_0270-nd-flags.fits.gz to /Users/kadofong/work/surveys/merian/agrias/local_data/cutouts/galex/M2950284366439293259/mastDownload/GALEX/3209380021181349888/GI5_028080_W1_18028_0270-nd-flags.fits.gz ... [Done]\n"
     ]
    },
    {
     "name": "stderr",
     "output_type": "stream",
     "text": [
      "/Users/kadofong/work/ekfutils/ekfparse/ekfparse/query.py:244: ResourceWarning: unclosed file <_io.TextIOWrapper name='/Users/kadofong/work/surveys/merian/agrias/local_data/cutouts/galex/M2950284366439293259//keys.txt' mode='w' encoding='UTF-8'>\n",
      "  open(f'{target}/keys.txt','w').write(f'''FUV,{names[0]}\n"
     ]
    },
    {
     "name": "stdout",
     "output_type": "stream",
     "text": [
      "Downloading URL https://mast.stsci.edu/api/v0.1/Download/file?uri=mast:GALEX/url/data/GR7/pipe/01-vsn/25680-GI5_028080_W1_18028_0270/d/01-main/0007-img/07-try/GI5_028080_W1_18028_0270-nd-rrhr.fits.gz to /Users/kadofong/work/surveys/merian/agrias/local_data/cutouts/galex/M2950284366439293259/mastDownload/GALEX/3209380021181349888/GI5_028080_W1_18028_0270-nd-rrhr.fits.gz ... [Done]\n",
      "Downloading URL https://mast.stsci.edu/api/v0.1/Download/file?uri=mast:GALEX/url/data/GR7/pipe/01-vsn/25680-GI5_028080_W1_18028_0270/d/01-main/0007-img/07-try/GI5_028080_W1_18028_0270-nd-skybg.fits.gz to /Users/kadofong/work/surveys/merian/agrias/local_data/cutouts/galex/M2950284366439293259/mastDownload/GALEX/3209380021181349888/GI5_028080_W1_18028_0270-nd-skybg.fits.gz ... [Done]\n",
      "Downloading URL https://mast.stsci.edu/api/v0.1/Download/file?uri=mast:GALEX/url/data/GR7/pipe/01-vsn/25680-GI5_028080_W1_18028_0270/d/01-main/0007-img/07-try/GI5_028080_W1_18028_0270-xd-mcat.fits.gz to /Users/kadofong/work/surveys/merian/agrias/local_data/cutouts/galex/M2950284366439293259/mastDownload/GALEX/3209380021181349888/GI5_028080_W1_18028_0270-xd-mcat.fits.gz ... [Done]\n",
      "Downloading URL https://mast.stsci.edu/api/v0.1/Download/file?uri=mast:GALEX/url/data/GR7/pipe/01-vsn/25680-GI5_028080_W1_18028_0270/d/01-main/0007-img/07-try/GI5_028080_W1_18028_0270-nd-int.fits.gz to /Users/kadofong/work/surveys/merian/agrias/local_data/cutouts/galex/M2950284366439293259/mastDownload/GALEX/3209380021181349888/GI5_028080_W1_18028_0270-nd-int.fits.gz ... [Done]\n",
      "Downloading URL https://mast.stsci.edu/api/v0.1/Download/file?uri=mast:GALEX/url/data/GR6/pipe/02-vsn/50269-AIS_269/d/01-main/0001-img/07-try/AIS_269_sg94-fd-flags.fits.gz to /Users/kadofong/work/surveys/merian/agrias/local_data/cutouts/galex/M2950284366439293259/mastDownload/GALEX/6380380452510760960/AIS_269_sg94-fd-flags.fits.gz ... [Done]\n",
      "Downloading URL https://mast.stsci.edu/api/v0.1/Download/file?uri=mast:GALEX/url/data/GR6/pipe/02-vsn/50269-AIS_269/d/01-main/0001-img/07-try/AIS_269_sg94-fd-rrhr.fits.gz to /Users/kadofong/work/surveys/merian/agrias/local_data/cutouts/galex/M2950284366439293259/mastDownload/GALEX/6380380452510760960/AIS_269_sg94-fd-rrhr.fits.gz ... [Done]\n",
      "Downloading URL https://mast.stsci.edu/api/v0.1/Download/file?uri=mast:GALEX/url/data/GR6/pipe/02-vsn/50269-AIS_269/d/01-main/0001-img/07-try/AIS_269_sg94-fd-skybg.fits.gz to /Users/kadofong/work/surveys/merian/agrias/local_data/cutouts/galex/M2950284366439293259/mastDownload/GALEX/6380380452510760960/AIS_269_sg94-fd-skybg.fits.gz ... [Done]\n",
      "Downloading URL https://mast.stsci.edu/api/v0.1/Download/file?uri=mast:GALEX/url/data/GR6/pipe/02-vsn/50269-AIS_269/d/01-main/0001-img/07-try/AIS_269_sg94-nd-flags.fits.gz to /Users/kadofong/work/surveys/merian/agrias/local_data/cutouts/galex/M2950284366439293259/mastDownload/GALEX/6380380452510760960/AIS_269_sg94-nd-flags.fits.gz ... [Done]\n",
      "Downloading URL https://mast.stsci.edu/api/v0.1/Download/file?uri=mast:GALEX/url/data/GR6/pipe/02-vsn/50269-AIS_269/d/01-main/0001-img/07-try/AIS_269_sg94-nd-rrhr.fits.gz to /Users/kadofong/work/surveys/merian/agrias/local_data/cutouts/galex/M2950284366439293259/mastDownload/GALEX/6380380452510760960/AIS_269_sg94-nd-rrhr.fits.gz ... [Done]\n",
      "Downloading URL https://mast.stsci.edu/api/v0.1/Download/file?uri=mast:GALEX/url/data/GR6/pipe/02-vsn/50269-AIS_269/d/01-main/0001-img/07-try/AIS_269_sg94-nd-skybg.fits.gz to /Users/kadofong/work/surveys/merian/agrias/local_data/cutouts/galex/M2950284366439293259/mastDownload/GALEX/6380380452510760960/AIS_269_sg94-nd-skybg.fits.gz ... [Done]\n",
      "Downloading URL https://mast.stsci.edu/api/v0.1/Download/file?uri=mast:GALEX/url/data/GR6/pipe/02-vsn/50269-AIS_269/d/01-main/0001-img/07-try/AIS_269_sg94-xd-mcat.fits.gz to /Users/kadofong/work/surveys/merian/agrias/local_data/cutouts/galex/M2950284366439293259/mastDownload/GALEX/6380380452510760960/AIS_269_sg94-xd-mcat.fits.gz ... [Done]\n",
      "Downloading URL https://mast.stsci.edu/api/v0.1/Download/file?uri=mast:GALEX/url/data/GR6/pipe/02-vsn/50269-AIS_269/d/01-main/0001-img/07-try/AIS_269_sg94-xd-mcat.fits.gz to /Users/kadofong/work/surveys/merian/agrias/local_data/cutouts/galex/M2950284366439293259/mastDownload/GALEX/6380380452510760960/AIS_269_sg94-xd-mcat.fits.gz ... [Done]\n",
      "Downloading URL https://mast.stsci.edu/api/v0.1/Download/file?uri=mast:GALEX/url/data/GR6/pipe/02-vsn/50269-AIS_269/d/01-main/0001-img/07-try/AIS_269_sg94-fd-int.fits.gz to /Users/kadofong/work/surveys/merian/agrias/local_data/cutouts/galex/M2950284366439293259/mastDownload/GALEX/6380380452510760960/AIS_269_sg94-fd-int.fits.gz ... [Done]\n",
      "Downloading URL https://mast.stsci.edu/api/v0.1/Download/file?uri=mast:GALEX/url/data/GR6/pipe/02-vsn/50269-AIS_269/d/01-main/0001-img/07-try/AIS_269_sg94-nd-int.fits.gz to /Users/kadofong/work/surveys/merian/agrias/local_data/cutouts/galex/M2950284366439293259/mastDownload/GALEX/6380380452510760960/AIS_269_sg94-nd-int.fits.gz ... [Done]\n",
      "Downloaded GALEX observations in 7.50 seconds.\n",
      "Saved to: /Users/kadofong/work/surveys/merian/agrias/local_data/cutouts/galex/M2950284366439293259/mastDownload/GALEX/6380380452510760960\n"
     ]
    },
    {
     "data": {
      "text/plain": [
       "(0,\n",
       " <Table length=15>\n",
       "                                                                                 Local Path                                                                                ...\n",
       "                                                                                   str169                                                                                  ...\n",
       " ------------------------------------------------------------------------------------------------------------------------------------------------------------------------- ...\n",
       " /Users/kadofong/work/surveys/merian/agrias/local_data/cutouts/galex/M2950284366439293259/mastDownload/GALEX/3209380021181349888/GI5_028080_W1_18028_0270-nd-flags.fits.gz ...\n",
       "  /Users/kadofong/work/surveys/merian/agrias/local_data/cutouts/galex/M2950284366439293259/mastDownload/GALEX/3209380021181349888/GI5_028080_W1_18028_0270-nd-rrhr.fits.gz ...\n",
       " /Users/kadofong/work/surveys/merian/agrias/local_data/cutouts/galex/M2950284366439293259/mastDownload/GALEX/3209380021181349888/GI5_028080_W1_18028_0270-nd-skybg.fits.gz ...\n",
       "  /Users/kadofong/work/surveys/merian/agrias/local_data/cutouts/galex/M2950284366439293259/mastDownload/GALEX/3209380021181349888/GI5_028080_W1_18028_0270-xd-mcat.fits.gz ...\n",
       "   /Users/kadofong/work/surveys/merian/agrias/local_data/cutouts/galex/M2950284366439293259/mastDownload/GALEX/3209380021181349888/GI5_028080_W1_18028_0270-nd-int.fits.gz ...\n",
       "             /Users/kadofong/work/surveys/merian/agrias/local_data/cutouts/galex/M2950284366439293259/mastDownload/GALEX/6380380452510760960/AIS_269_sg94-fd-flags.fits.gz ...\n",
       "              /Users/kadofong/work/surveys/merian/agrias/local_data/cutouts/galex/M2950284366439293259/mastDownload/GALEX/6380380452510760960/AIS_269_sg94-fd-rrhr.fits.gz ...\n",
       "             /Users/kadofong/work/surveys/merian/agrias/local_data/cutouts/galex/M2950284366439293259/mastDownload/GALEX/6380380452510760960/AIS_269_sg94-fd-skybg.fits.gz ...\n",
       "             /Users/kadofong/work/surveys/merian/agrias/local_data/cutouts/galex/M2950284366439293259/mastDownload/GALEX/6380380452510760960/AIS_269_sg94-nd-flags.fits.gz ...\n",
       "              /Users/kadofong/work/surveys/merian/agrias/local_data/cutouts/galex/M2950284366439293259/mastDownload/GALEX/6380380452510760960/AIS_269_sg94-nd-rrhr.fits.gz ...\n",
       "             /Users/kadofong/work/surveys/merian/agrias/local_data/cutouts/galex/M2950284366439293259/mastDownload/GALEX/6380380452510760960/AIS_269_sg94-nd-skybg.fits.gz ...\n",
       "              /Users/kadofong/work/surveys/merian/agrias/local_data/cutouts/galex/M2950284366439293259/mastDownload/GALEX/6380380452510760960/AIS_269_sg94-xd-mcat.fits.gz ...\n",
       "              /Users/kadofong/work/surveys/merian/agrias/local_data/cutouts/galex/M2950284366439293259/mastDownload/GALEX/6380380452510760960/AIS_269_sg94-xd-mcat.fits.gz ...\n",
       "               /Users/kadofong/work/surveys/merian/agrias/local_data/cutouts/galex/M2950284366439293259/mastDownload/GALEX/6380380452510760960/AIS_269_sg94-fd-int.fits.gz ...\n",
       "               /Users/kadofong/work/surveys/merian/agrias/local_data/cutouts/galex/M2950284366439293259/mastDownload/GALEX/6380380452510760960/AIS_269_sg94-nd-int.fits.gz ...,\n",
       " ('AIS_269_1_94', 'GI5_028080_W1_18028_0270'))"
      ]
     },
     "execution_count": 50,
     "metadata": {},
     "output_type": "execute_result"
    }
   ],
   "source": [
    "gsavedir = '/Users/kadofong/work/surveys/merian/agrias/local_data/cutouts/galex'\n",
    "mid = f'M{row[\"objectId_Merian\"]}'\n",
    "cra,cdec = row['coord_ra_Merian'], row['coord_dec_Merian']\n",
    "query.download_galeximages(cra, cdec, mid, savedir=gsavedir)"
   ]
  },
  {
   "cell_type": "code",
   "execution_count": 51,
   "id": "7f7234c7-2b91-4226-aa5a-4ed44cb87bf4",
   "metadata": {},
   "outputs": [
    {
     "name": "stdout",
     "output_type": "stream",
     "text": [
      "M2950284366439293259 maps to GI5_028080_W1_18028_0270\n"
     ]
    },
    {
     "name": "stderr",
     "output_type": "stream",
     "text": [
      "/Users/kadofong/work/ekfutils/ekfparse/ekfparse/query.py:295: ResourceWarning: unclosed file <_io.TextIOWrapper name='/Users/kadofong/work/surveys/merian/agrias/local_data/cutouts/galex/M2950284366439293259/keys.txt' mode='r' encoding='UTF-8'>\n",
      "  keyinfo = open(keypath,'r').read().splitlines()\n",
      "/Users/kadofong/work/ekfutils/ekfparse/ekfparse/query.py:374: RuntimeWarning: overflow encountered in square\n",
      "  variance = fits.ImageHDU ( cts / rrhr[0].data**2, header=intmap[0].header, name='VARIANCE' )\n",
      "/Users/kadofong/work/ekfutils/ekfparse/ekfparse/query.py:374: RuntimeWarning: invalid value encountered in divide\n",
      "  variance = fits.ImageHDU ( cts / rrhr[0].data**2, header=intmap[0].header, name='VARIANCE' )\n"
     ]
    },
    {
     "name": "stdout",
     "output_type": "stream",
     "text": [
      "M2950284366439293259 maps to AIS_269_sg94\n"
     ]
    },
    {
     "name": "stderr",
     "output_type": "stream",
     "text": [
      "/Users/kadofong/work/ekfutils/ekfparse/ekfparse/query.py:374: RuntimeWarning: overflow encountered in square\n",
      "  variance = fits.ImageHDU ( cts / rrhr[0].data**2, header=intmap[0].header, name='VARIANCE' )\n",
      "/Users/kadofong/work/ekfutils/ekfparse/ekfparse/query.py:374: RuntimeWarning: invalid value encountered in divide\n",
      "  variance = fits.ImageHDU ( cts / rrhr[0].data**2, header=intmap[0].header, name='VARIANCE' )\n"
     ]
    }
   ],
   "source": [
    "gpackage = query.load_galexcutouts(mid, gsavedir, (cra,cdec), 100,100)"
   ]
  },
  {
   "cell_type": "code",
   "execution_count": null,
   "id": "2dd9c9d7-6930-4c63-8524-ebda5619729b",
   "metadata": {},
   "outputs": [],
   "source": []
  },
  {
   "cell_type": "code",
   "execution_count": 54,
   "id": "d636a591-14a1-463f-ab0a-86ce8f78a49b",
   "metadata": {},
   "outputs": [
    {
     "data": {
      "text/plain": [
       "(<matplotlib.image.AxesImage at 0x16cefa950>, <Axes: >)"
      ]
     },
     "execution_count": 54,
     "metadata": {},
     "output_type": "execute_result"
    },
    {
     "data": {
      "image/png": "[encoded data removed]",
      "text/plain": [
       "<Figure size 640x480 with 1 Axes>"
      ]
     },
     "metadata": {},
     "output_type": "display_data"
    }
   ],
   "source": [
    "ek.imshow(gpackage['nd'][0].data)"
   ]
  },
  {
   "cell_type": "code",
   "execution_count": null,
   "id": "0b6c5fb2-db40-4df2-9a32-0290cc4740af",
   "metadata": {},
   "outputs": [],
   "source": []
  }
 ],
 "metadata": {
  "kernelspec": {
   "display_name": "Python 3 (ipykernel)",
   "language": "python",
   "name": "python3"
  },
  "language_info": {
   "codemirror_mode": {
    "name": "ipython",
    "version": 3
   },
   "file_extension": ".py",
   "mimetype": "text/x-python",
   "name": "python",
   "nbconvert_exporter": "python",
   "pygments_lexer": "ipython3",
   "version": "3.10.13"
  }
 },
 "nbformat": 4,
 "nbformat_minor": 5
}
