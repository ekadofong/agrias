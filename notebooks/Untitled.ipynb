{
 "cells": [
  {
   "cell_type": "code",
   "execution_count": 1,
   "id": "acc99a0e-3adb-4b28-9891-e40955514a00",
   "metadata": {},
   "outputs": [],
   "source": [
    "%load_ext autoreload\n",
    "%autoreload 2"
   ]
  },
  {
   "cell_type": "code",
   "execution_count": 5,
   "id": "93e4ec59-3a78-4167-9a43-137261194eac",
   "metadata": {},
   "outputs": [],
   "source": [
    "import numpy as np\n",
    "import matplotlib.pyplot as plt\n",
    "import pandas as pd\n",
    "\n",
    "from astroML.utils.decorators import pickle_results\n",
    "from astroML.density_estimation import XDGMM\n",
    "from astroML.plotting.tools import draw_ellipse\n",
    "\n",
    "from agrias import utils\n",
    "import reader"
   ]
  },
  {
   "cell_type": "code",
   "execution_count": 9,
   "id": "c408642c-1a0c-465c-9194-4d609bc82f6e",
   "metadata": {},
   "outputs": [
    {
     "name": "stdout",
     "output_type": "stream",
     "text": [
      "[merianselect] Only choosing sources at 0.070<z_phot<0.090\n",
      "[merianselect] Only choosing sources with i_cModelmag_Merian < 22.0\n",
      "[merianselect] only choosing sources with cmodel/gaap(i) > 1.3\n"
     ]
    }
   ],
   "source": [
    "merian_sources = reader.merianselect ( )"
   ]
  },
  {
   "cell_type": "code",
   "execution_count": 10,
   "id": "22cba781-d6a8-45a8-888f-333497437908",
   "metadata": {},
   "outputs": [
    {
     "name": "stdout",
     "output_type": "stream",
     "text": [
      "Direct Ha photometry found for 15496 sources.\n"
     ]
    }
   ],
   "source": [
    "lha_df = pd.read_csv('../local_data/output/lha_df.csv', index_col=0)\n",
    "lha_df = lha_df.reindex(merian_sources.index)\n",
    "print(f'Direct Ha photometry found for {lha_df.dropna().shape[0]} sources.')"
   ]
  },
  {
   "cell_type": "code",
   "execution_count": 15,
   "id": "bdc44e40-2f88-4614-9559-347268a42cd8",
   "metadata": {},
   "outputs": [
    {
     "data": {
      "text/plain": [
       "'[[-2.3334128e-04  3.2459982e-04  6.1205350e-04 ... -1.0685369e-03\\n  -5.0605752e-04 -2.8460631e-06]\\n [-1.4816954e-03 -2.4071478e-03 -9.5172477e-04 ... -2.1352812e-03\\n   1.4944165e-04  1.3844246e-03]\\n [-1.4822285e-03 -3.7019723e-03 -1.9111704e-03 ... -1.0243395e-03\\n   1.0157102e-03  2.4083485e-03]\\n ...\\n [ 1.9318532e-03 -1.4709175e-04  1.3740925e-03 ... -2.1127657e-04\\n   3.7301850e-04  4.2645619e-04]\\n [ 5.5356475e-04 -1.5139232e-03  7.5655887e-05 ...  1.1109881e-03\\n   8.4710179e-04 -1.5085677e-04]\\n [-6.6196587e-04 -1.6414283e-03 -1.6082559e-03 ...  3.1126211e-03\\n   2.1702945e-03 -9.8341377e-04]]'"
      ]
     },
     "execution_count": 15,
     "metadata": {},
     "output_type": "execute_result"
    }
   ],
   "source": [
    "lha_df['FHa'].loc['M3339216813555746526']"
   ]
  },
  {
   "cell_type": "code",
   "execution_count": null,
   "id": "3919afaf-5e9a-4e33-8e30-5e845e9e80f3",
   "metadata": {},
   "outputs": [],
   "source": []
  }
 ],
 "metadata": {
  "kernelspec": {
   "display_name": "Python 3 (ipykernel)",
   "language": "python",
   "name": "python3"
  },
  "language_info": {
   "codemirror_mode": {
    "name": "ipython",
    "version": 3
   },
   "file_extension": ".py",
   "mimetype": "text/x-python",
   "name": "python",
   "nbconvert_exporter": "python",
   "pygments_lexer": "ipython3",
   "version": "3.10.12"
  }
 },
 "nbformat": 4,
 "nbformat_minor": 5
}
