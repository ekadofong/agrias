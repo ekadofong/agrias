{
 "cells": [
  {
   "cell_type": "code",
   "execution_count": 1,
   "id": "b5527d31-0717-4c9a-920d-c6fd9d22acdb",
   "metadata": {},
   "outputs": [],
   "source": [
    "%load_ext autoreload\n",
    "%autoreload 2"
   ]
  },
  {
   "cell_type": "code",
   "execution_count": 108,
   "id": "09be9547-0d60-4b2c-8cd4-d4e8537921fc",
   "metadata": {},
   "outputs": [],
   "source": [
    "import numpy as np\n",
    "import matplotlib.pyplot as plt\n",
    "import pandas as pd\n",
    "from astropy import table, coordinates\n",
    "from astropy.io import fits\n",
    "from astropy import units as u\n",
    "\n",
    "from carpenter import pixels, conventions\n",
    "\n",
    "from ekfplot import plot as ek\n",
    "from ekfplot import colors as ec\n",
    "from ekfparse import query\n",
    "from ekfphot import photometry as ep\n",
    "\n",
    "from agrias import utils, photometry\n",
    "\n",
    "import reader"
   ]
  },
  {
   "cell_type": "code",
   "execution_count": 3,
   "id": "ab0981f7-16f9-4609-9215-4608c06d012b",
   "metadata": {},
   "outputs": [
    {
     "name": "stdout",
     "output_type": "stream",
     "text": [
      "[merianselect] Only choosing sources at 0.070<z_phot<0.090\n",
      "[merianselect] Only choosing sources with i_cModelmag_Merian < 22.0\n",
      "[merianselect] only choosing sources with cmodel/gaap(i) > 1.3\n"
     ]
    }
   ],
   "source": [
    "merian = table.Table(fits.getdata('../local_data/inputs/Merian_DR1_photoz_EAZY_v1.2.fits',1))\n",
    "mcoords = coordinates.SkyCoord( merian['coord_ra_Merian'], merian['coord_dec_Merian'], unit='deg')\n",
    "mcat = reader.merianselect(merian, av=0.3)"
   ]
  },
  {
   "cell_type": "code",
   "execution_count": 161,
   "id": "11664749-3762-46b7-a47c-d48a0a747af3",
   "metadata": {},
   "outputs": [],
   "source": [
    "merian_cg, galex_cg = reader.get_meriancrossgalex(mcat)"
   ]
  },
  {
   "cell_type": "code",
   "execution_count": 212,
   "id": "31742fde-2420-4b19-9646-2b942fd52c92",
   "metadata": {},
   "outputs": [
    {
     "data": {
      "text/html": [
       "<div>\n",
       "<style scoped>\n",
       "    .dataframe tbody tr th:only-of-type {\n",
       "        vertical-align: middle;\n",
       "    }\n",
       "\n",
       "    .dataframe tbody tr th {\n",
       "        vertical-align: top;\n",
       "    }\n",
       "\n",
       "    .dataframe thead th {\n",
       "        text-align: right;\n",
       "    }\n",
       "</style>\n",
       "<table border=\"1\" class=\"dataframe\">\n",
       "  <thead>\n",
       "    <tr style=\"text-align: right;\">\n",
       "      <th></th>\n",
       "      <th>MatchID</th>\n",
       "      <th>MatchRA</th>\n",
       "      <th>MatchDEC</th>\n",
       "      <th>dstArcSec</th>\n",
       "      <th>nuv_exptime</th>\n",
       "      <th>fuv_exptime</th>\n",
       "      <th>fuv_mag</th>\n",
       "      <th>fuv_magerr</th>\n",
       "      <th>nuv_mag</th>\n",
       "      <th>nuv_magerr</th>\n",
       "      <th>e_bv</th>\n",
       "      <th>nuv_artifact</th>\n",
       "      <th>fuv_artifact</th>\n",
       "    </tr>\n",
       "  </thead>\n",
       "  <tbody>\n",
       "    <tr>\n",
       "      <th>M3324835201464449405</th>\n",
       "      <td>6382034049280511341</td>\n",
       "      <td>157.948258</td>\n",
       "      <td>-1.435848</td>\n",
       "      <td>1.973953</td>\n",
       "      <td>220.05</td>\n",
       "      <td>108.05</td>\n",
       "      <td>-999.00000</td>\n",
       "      <td>-999.000000</td>\n",
       "      <td>22.42561</td>\n",
       "      <td>0.425855</td>\n",
       "      <td>0.053608</td>\n",
       "      <td>0</td>\n",
       "      <td>0</td>\n",
       "    </tr>\n",
       "    <tr>\n",
       "      <th>M3324852793650467962</th>\n",
       "      <td>6382034048206768941</td>\n",
       "      <td>158.960670</td>\n",
       "      <td>-1.385981</td>\n",
       "      <td>1.384842</td>\n",
       "      <td>222.00</td>\n",
       "      <td>110.00</td>\n",
       "      <td>-999.00000</td>\n",
       "      <td>-999.000000</td>\n",
       "      <td>22.70032</td>\n",
       "      <td>0.404039</td>\n",
       "      <td>0.065822</td>\n",
       "      <td>1</td>\n",
       "      <td>0</td>\n",
       "    </tr>\n",
       "    <tr>\n",
       "      <th>M3324865987790013450</th>\n",
       "      <td>2932021615806907206</td>\n",
       "      <td>158.417571</td>\n",
       "      <td>-1.281019</td>\n",
       "      <td>1.306798</td>\n",
       "      <td>1565.05</td>\n",
       "      <td>1565.05</td>\n",
       "      <td>22.50388</td>\n",
       "      <td>0.219760</td>\n",
       "      <td>21.93446</td>\n",
       "      <td>0.142750</td>\n",
       "      <td>0.064901</td>\n",
       "      <td>0</td>\n",
       "      <td>0</td>\n",
       "    </tr>\n",
       "    <tr>\n",
       "      <th>M3324887978022557647</th>\n",
       "      <td>2932021615806908007</td>\n",
       "      <td>159.038914</td>\n",
       "      <td>-1.170242</td>\n",
       "      <td>1.760696</td>\n",
       "      <td>1565.05</td>\n",
       "      <td>1565.05</td>\n",
       "      <td>21.57811</td>\n",
       "      <td>0.141329</td>\n",
       "      <td>20.73355</td>\n",
       "      <td>0.107041</td>\n",
       "      <td>0.065887</td>\n",
       "      <td>153</td>\n",
       "      <td>256</td>\n",
       "    </tr>\n",
       "    <tr>\n",
       "      <th>M3324887978022568529</th>\n",
       "      <td>6381928550925075310</td>\n",
       "      <td>159.164742</td>\n",
       "      <td>-1.056221</td>\n",
       "      <td>1.868374</td>\n",
       "      <td>217.00</td>\n",
       "      <td>105.00</td>\n",
       "      <td>-999.00000</td>\n",
       "      <td>-999.000000</td>\n",
       "      <td>22.45738</td>\n",
       "      <td>0.421661</td>\n",
       "      <td>0.064297</td>\n",
       "      <td>0</td>\n",
       "      <td>0</td>\n",
       "    </tr>\n",
       "    <tr>\n",
       "      <th>...</th>\n",
       "      <td>...</td>\n",
       "      <td>...</td>\n",
       "      <td>...</td>\n",
       "      <td>...</td>\n",
       "      <td>...</td>\n",
       "      <td>...</td>\n",
       "      <td>...</td>\n",
       "      <td>...</td>\n",
       "      <td>...</td>\n",
       "      <td>...</td>\n",
       "      <td>...</td>\n",
       "      <td>...</td>\n",
       "      <td>...</td>\n",
       "    </tr>\n",
       "    <tr>\n",
       "      <th>M3339216813555741785</th>\n",
       "      <td>2934378968735823116</td>\n",
       "      <td>218.410856</td>\n",
       "      <td>-0.758639</td>\n",
       "      <td>0.354008</td>\n",
       "      <td>3014.40</td>\n",
       "      <td>3014.40</td>\n",
       "      <td>21.44766</td>\n",
       "      <td>0.074615</td>\n",
       "      <td>-999.00000</td>\n",
       "      <td>-999.000000</td>\n",
       "      <td>0.041138</td>\n",
       "      <td>0</td>\n",
       "      <td>0</td>\n",
       "    </tr>\n",
       "    <tr>\n",
       "      <th>M3339216813555746526</th>\n",
       "      <td>2934378968736861636</td>\n",
       "      <td>218.295324</td>\n",
       "      <td>-0.719070</td>\n",
       "      <td>2.081069</td>\n",
       "      <td>3014.40</td>\n",
       "      <td>3014.40</td>\n",
       "      <td>22.41258</td>\n",
       "      <td>0.142618</td>\n",
       "      <td>22.37830</td>\n",
       "      <td>0.198398</td>\n",
       "      <td>0.045686</td>\n",
       "      <td>0</td>\n",
       "      <td>0</td>\n",
       "    </tr>\n",
       "    <tr>\n",
       "      <th>M3339256395974337725</th>\n",
       "      <td>2934378968736862496</td>\n",
       "      <td>218.346191</td>\n",
       "      <td>-0.643636</td>\n",
       "      <td>0.643631</td>\n",
       "      <td>3014.40</td>\n",
       "      <td>3014.40</td>\n",
       "      <td>23.81987</td>\n",
       "      <td>0.278122</td>\n",
       "      <td>23.49022</td>\n",
       "      <td>0.318206</td>\n",
       "      <td>0.042246</td>\n",
       "      <td>0</td>\n",
       "      <td>0</td>\n",
       "    </tr>\n",
       "    <tr>\n",
       "      <th>M3339291580346429639</th>\n",
       "      <td>2934378968736865408</td>\n",
       "      <td>218.460430</td>\n",
       "      <td>-0.422770</td>\n",
       "      <td>1.429087</td>\n",
       "      <td>3014.40</td>\n",
       "      <td>3014.40</td>\n",
       "      <td>21.63540</td>\n",
       "      <td>0.088368</td>\n",
       "      <td>21.39118</td>\n",
       "      <td>0.076055</td>\n",
       "      <td>0.040873</td>\n",
       "      <td>0</td>\n",
       "      <td>0</td>\n",
       "    </tr>\n",
       "    <tr>\n",
       "      <th>M3339291580346444953</th>\n",
       "      <td>2934378968736866718</td>\n",
       "      <td>218.496479</td>\n",
       "      <td>-0.326049</td>\n",
       "      <td>0.325534</td>\n",
       "      <td>3014.40</td>\n",
       "      <td>3014.40</td>\n",
       "      <td>21.79549</td>\n",
       "      <td>0.097366</td>\n",
       "      <td>21.32921</td>\n",
       "      <td>0.067819</td>\n",
       "      <td>0.039599</td>\n",
       "      <td>1</td>\n",
       "      <td>0</td>\n",
       "    </tr>\n",
       "  </tbody>\n",
       "</table>\n",
       "<p>15909 rows × 13 columns</p>\n",
       "</div>"
      ],
      "text/plain": [
       "                                  MatchID     MatchRA  MatchDEC  dstArcSec  \\\n",
       "M3324835201464449405  6382034049280511341  157.948258 -1.435848   1.973953   \n",
       "M3324852793650467962  6382034048206768941  158.960670 -1.385981   1.384842   \n",
       "M3324865987790013450  2932021615806907206  158.417571 -1.281019   1.306798   \n",
       "M3324887978022557647  2932021615806908007  159.038914 -1.170242   1.760696   \n",
       "M3324887978022568529  6381928550925075310  159.164742 -1.056221   1.868374   \n",
       "...                                   ...         ...       ...        ...   \n",
       "M3339216813555741785  2934378968735823116  218.410856 -0.758639   0.354008   \n",
       "M3339216813555746526  2934378968736861636  218.295324 -0.719070   2.081069   \n",
       "M3339256395974337725  2934378968736862496  218.346191 -0.643636   0.643631   \n",
       "M3339291580346429639  2934378968736865408  218.460430 -0.422770   1.429087   \n",
       "M3339291580346444953  2934378968736866718  218.496479 -0.326049   0.325534   \n",
       "\n",
       "                      nuv_exptime  fuv_exptime    fuv_mag  fuv_magerr  \\\n",
       "M3324835201464449405       220.05       108.05 -999.00000 -999.000000   \n",
       "M3324852793650467962       222.00       110.00 -999.00000 -999.000000   \n",
       "M3324865987790013450      1565.05      1565.05   22.50388    0.219760   \n",
       "M3324887978022557647      1565.05      1565.05   21.57811    0.141329   \n",
       "M3324887978022568529       217.00       105.00 -999.00000 -999.000000   \n",
       "...                           ...          ...        ...         ...   \n",
       "M3339216813555741785      3014.40      3014.40   21.44766    0.074615   \n",
       "M3339216813555746526      3014.40      3014.40   22.41258    0.142618   \n",
       "M3339256395974337725      3014.40      3014.40   23.81987    0.278122   \n",
       "M3339291580346429639      3014.40      3014.40   21.63540    0.088368   \n",
       "M3339291580346444953      3014.40      3014.40   21.79549    0.097366   \n",
       "\n",
       "                        nuv_mag  nuv_magerr      e_bv  nuv_artifact  \\\n",
       "M3324835201464449405   22.42561    0.425855  0.053608             0   \n",
       "M3324852793650467962   22.70032    0.404039  0.065822             1   \n",
       "M3324865987790013450   21.93446    0.142750  0.064901             0   \n",
       "M3324887978022557647   20.73355    0.107041  0.065887           153   \n",
       "M3324887978022568529   22.45738    0.421661  0.064297             0   \n",
       "...                         ...         ...       ...           ...   \n",
       "M3339216813555741785 -999.00000 -999.000000  0.041138             0   \n",
       "M3339216813555746526   22.37830    0.198398  0.045686             0   \n",
       "M3339256395974337725   23.49022    0.318206  0.042246             0   \n",
       "M3339291580346429639   21.39118    0.076055  0.040873             0   \n",
       "M3339291580346444953   21.32921    0.067819  0.039599             1   \n",
       "\n",
       "                      fuv_artifact  \n",
       "M3324835201464449405             0  \n",
       "M3324852793650467962             0  \n",
       "M3324865987790013450             0  \n",
       "M3324887978022557647           256  \n",
       "M3324887978022568529             0  \n",
       "...                            ...  \n",
       "M3339216813555741785             0  \n",
       "M3339216813555746526             0  \n",
       "M3339256395974337725             0  \n",
       "M3339291580346429639             0  \n",
       "M3339291580346444953             0  \n",
       "\n",
       "[15909 rows x 13 columns]"
      ]
     },
     "execution_count": 212,
     "metadata": {},
     "output_type": "execute_result"
    }
   ],
   "source": [
    "galex_cg"
   ]
  },
  {
   "cell_type": "code",
   "execution_count": 4,
   "id": "bb78e678-d9d2-40e7-8d19-97dc8f6cb88f",
   "metadata": {},
   "outputs": [
    {
     "name": "stdout",
     "output_type": "stream",
     "text": [
      "Computed line contamination in -0.0 seconds.\n",
      "Computed Galactic extinction in -201.1 seconds.\n",
      "Computed internal extinction in -0.1 seconds.\n",
      "Computed aperture correction in -0.0 seconds.\n"
     ]
    }
   ],
   "source": [
    "out = reader.compute_halphacorrections(mcat)\n",
    "emission_correction, ge_correction, dust_correction, aperture_correction = out"
   ]
  },
  {
   "cell_type": "code",
   "execution_count": 15,
   "id": "64eeb751-2959-4871-883f-3be4bb62b6a3",
   "metadata": {},
   "outputs": [],
   "source": [
    "packaged = {}\n",
    "z_col = 'z_phot'\n",
    "\n",
    "merian_cat = table.Table.from_pandas(mcat.reset_index())\n",
    "\n",
    "haflux, u_haflux, halum, u_halum = photometry.mbestimate_halpha(\n",
    "    merian_cat[utils.photcols['N708']],\n",
    "    merian_cat[utils.photcols['r']],\n",
    "    merian_cat[utils.photcols['i']],\n",
    "    merian_cat[z_col],\n",
    "    merian_cat[utils.u_photcols['N708']],\n",
    "    merian_cat[utils.u_photcols['r']],\n",
    "    merian_cat[utils.u_photcols['i'QW]],    \n",
    "    apercorr=aperture_correction[:].values,\n",
    "    ge_correction=ge_correction[:,2],\n",
    "    ex_correction=dust_correction[:,2],\n",
    "    ns_correction=emission_correction[:],\n",
    "    do_aperturecorrection=True,\n",
    "    do_gecorrection=True,\n",
    "    do_extinctioncorrection=True,\n",
    "    do_linecorrection=True,\n",
    "    specflux_unit=u.nJy\n",
    ")"
   ]
  },
  {
   "cell_type": "code",
   "execution_count": 240,
   "id": "e4e7157f-211f-4bd2-b9a2-8a56573a6b62",
   "metadata": {},
   "outputs": [],
   "source": [
    "objname='J085428.25-014043.35'\n",
    "mid = conventions.merianobjectname_to_catalogname(objname, mcat)\n",
    "#mid = 'M3324852793650467962'\n",
    "#objname = conventions.produce_merianobjectname(ra=row.RA, dec=row.DEC) "
   ]
  },
  {
   "cell_type": "code",
   "execution_count": 241,
   "id": "ad529ab2-c39f-4a44-82e1-217d64bd899f",
   "metadata": {},
   "outputs": [],
   "source": [
    "savedir = '../local_data/cutouts/galex/'\n",
    "merdir = '../local_data/cutouts/merian/'\n",
    "row = mcat.loc[mid]\n",
    "target = coordinates.SkyCoord(row.RA, row.DEC, unit='deg')\n",
    "cutout_size = 30.*u.arcsec"
   ]
  },
  {
   "cell_type": "code",
   "execution_count": 242,
   "id": "a021a8f3-908e-4642-8855-28f23e83a1bd",
   "metadata": {},
   "outputs": [
    {
     "name": "stdout",
     "output_type": "stream",
     "text": [
      "[SEDMap] Matching PSFs\n",
      "    Copying to matched arrays ... \n",
      "        ... Done.\n"
     ]
    }
   ],
   "source": [
    "bbmb = pixels.BBMBImage(galaxy_id=mid, distance=row.z_phot )\n",
    "band='N708'\n",
    "imname = f'{merdir}/N708/image/{objname}_N708_merim.fits'\n",
    "imfits = fits.open(imname)\n",
    "psf = fits.open(f'{merdir}/N708/psf/{objname}_N708_merpsf.fits')\n",
    "bbmb.add_band(band, target, cutout_size, imfits['IMAGE'], imfits['VARIANCE'], psf[0].data )\n",
    "bbmb.match_psfs(refband=band)\n",
    "emask, autoparams = bbmb.define_autoaper(band)"
   ]
  },
  {
   "cell_type": "code",
   "execution_count": 243,
   "id": "c526f252-a5dd-4405-83a1-42f400fa8839",
   "metadata": {},
   "outputs": [
    {
     "name": "stdout",
     "output_type": "stream",
     "text": [
      "CPU times: user 51 µs, sys: 23 µs, total: 74 µs\n",
      "Wall time: 76.1 µs\n"
     ]
    }
   ],
   "source": [
    "%%time\n",
    "exitcode, manifest, names = query.download_galeximages ( row.RA, row.DEC, mid, savedir=savedir )"
   ]
  },
  {
   "cell_type": "code",
   "execution_count": 244,
   "id": "d7c3ebf8-9744-4da4-a48c-9e8efe64cae0",
   "metadata": {},
   "outputs": [
    {
     "name": "stdout",
     "output_type": "stream",
     "text": [
      "M3232836864545161905 maps to GI5_028004_W2_24422_0202\n"
     ]
    },
    {
     "name": "stderr",
     "output_type": "stream",
     "text": [
      "/Users/kadofong/work/ekfutils/ekfparse/ekfparse/query.py:371: RuntimeWarning: overflow encountered in square\n",
      "  variance = fits.ImageHDU ( cts / rrhr[0].data**2, header=intmap[0].header, name='VARIANCE' )\n",
      "/Users/kadofong/work/ekfutils/ekfparse/ekfparse/query.py:371: RuntimeWarning: invalid value encountered in divide\n",
      "  variance = fits.ImageHDU ( cts / rrhr[0].data**2, header=intmap[0].header, name='VARIANCE' )\n"
     ]
    },
    {
     "name": "stdout",
     "output_type": "stream",
     "text": [
      "M3232836864545161905 maps to GI5_028004_W2_24422_0202\n"
     ]
    },
    {
     "name": "stderr",
     "output_type": "stream",
     "text": [
      "/Users/kadofong/work/ekfutils/ekfparse/ekfparse/query.py:371: RuntimeWarning: overflow encountered in square\n",
      "  variance = fits.ImageHDU ( cts / rrhr[0].data**2, header=intmap[0].header, name='VARIANCE' )\n",
      "/Users/kadofong/work/ekfutils/ekfparse/ekfparse/query.py:371: RuntimeWarning: invalid value encountered in divide\n",
      "  variance = fits.ImageHDU ( cts / rrhr[0].data**2, header=intmap[0].header, name='VARIANCE' )\n"
     ]
    }
   ],
   "source": [
    "gc_output = query.load_galexcutouts(mid, savedir, target, sw=cutout_size, sh=cutout_size, )"
   ]
  },
  {
   "cell_type": "code",
   "execution_count": 245,
   "id": "06f37628-e4b7-40d7-ad53-20fcfae6a092",
   "metadata": {},
   "outputs": [],
   "source": [
    "gi = ep.GalexImaging(gc_output, filter_directory='../local_data/filters/')"
   ]
  },
  {
   "cell_type": "code",
   "execution_count": 246,
   "id": "e46272e0-5867-4dab-ab9d-9ac0dad7bb94",
   "metadata": {},
   "outputs": [
    {
     "name": "stdout",
     "output_type": "stream",
     "text": [
      "[GalexImaging] 10^(0.4*A_FUV) = 1.1237\n",
      "[GalexImaging] 10^(0.4*A_NUV) = 1.1214\n"
     ]
    }
   ],
   "source": [
    "galex_photometry = gi.do_ephotometry( (row.RA, row.DEC), autoparams )"
   ]
  },
  {
   "cell_type": "code",
   "execution_count": 247,
   "id": "927ceb6f-d065-44b1-b3a0-4b24b35acae2",
   "metadata": {},
   "outputs": [
    {
     "name": "stdout",
     "output_type": "stream",
     "text": [
      "[GalexImaging] 10^(0.4*A_FUV) = 1.1237\n",
      "[GalexImaging] 10^(0.4*A_NUV) = 1.1214\n"
     ]
    }
   ],
   "source": [
    "galex_ulphot = gi.do_upperlimitphotometry( (row.RA, row.DEC) )"
   ]
  },
  {
   "cell_type": "code",
   "execution_count": 248,
   "id": "4a55f729-8f2e-4476-9416-e015c3b43b32",
   "metadata": {},
   "outputs": [
    {
     "data": {
      "text/plain": [
       "array([23.74608336, 24.00780952])"
      ]
     },
     "execution_count": 248,
     "metadata": {},
     "output_type": "execute_result"
    }
   ],
   "source": [
    "-2.5*np.log10(galex_ulphot[0]/3631.)"
   ]
  },
  {
   "cell_type": "code",
   "execution_count": 249,
   "id": "c0c9a64f-41a5-4f2e-9ecd-e3f331b0f10a",
   "metadata": {},
   "outputs": [
    {
     "data": {
      "text/plain": [
       "array([25.17571902, 25.25088365])"
      ]
     },
     "execution_count": 249,
     "metadata": {},
     "output_type": "execute_result"
    }
   ],
   "source": [
    "-2.5*np.log10(galex_photometry[0]/3631.)"
   ]
  },
  {
   "cell_type": "code",
   "execution_count": 252,
   "id": "1688ea5e-db83-454f-9f9f-802dd92324a3",
   "metadata": {},
   "outputs": [
    {
     "data": {
      "text/plain": [
       "array([1.59472067, 1.81102287])"
      ]
     },
     "execution_count": 252,
     "metadata": {},
     "output_type": "execute_result"
    }
   ],
   "source": [
    "galex_photometry[0]/galex_photometry[1]"
   ]
  },
  {
   "cell_type": "code",
   "execution_count": 261,
   "id": "c0c89735-c564-4c55-8b74-028cda2eab7d",
   "metadata": {},
   "outputs": [],
   "source": [
    "import sys\n",
    "sys.path.append('../scripts')\n",
    "import do_directgalexphotometry"
   ]
  },
  {
   "cell_type": "code",
   "execution_count": 263,
   "id": "2fedf705-e22f-41d3-9d97-dcd3f4b11da3",
   "metadata": {},
   "outputs": [
    {
     "ename": "FileNotFoundError",
     "evalue": "[Errno 2] No such file or directory: '../local_data/cutouts/merian//N708/image/J103147.45-012609.47_N708_merim.fits'",
     "output_type": "error",
     "traceback": [
      "\u001b[0;31m---------------------------------------------------------------------------\u001b[0m",
      "\u001b[0;31mFileNotFoundError\u001b[0m                         Traceback (most recent call last)",
      "Cell \u001b[0;32mIn[263], line 2\u001b[0m\n\u001b[1;32m      1\u001b[0m mid \u001b[38;5;241m=\u001b[39m \u001b[38;5;124m'\u001b[39m\u001b[38;5;124mM3324835201464449405\u001b[39m\u001b[38;5;124m'\u001b[39m\n\u001b[0;32m----> 2\u001b[0m \u001b[43mdo_directgalexphotometry\u001b[49m\u001b[38;5;241;43m.\u001b[39;49m\u001b[43msingleton\u001b[49m\u001b[43m(\u001b[49m\u001b[43m \u001b[49m\u001b[43mmcat\u001b[49m\u001b[38;5;241;43m.\u001b[39;49m\u001b[43mloc\u001b[49m\u001b[43m[\u001b[49m\u001b[43mmid\u001b[49m\u001b[43m]\u001b[49m\u001b[43m)\u001b[49m\n",
      "File \u001b[0;32m~/work/projects/merian/agrias/notebooks/../scripts/do_directgalexphotometry.py:40\u001b[0m, in \u001b[0;36msingleton\u001b[0;34m(row, savedir, merdir, cutout_size, verbose)\u001b[0m\n\u001b[1;32m     37\u001b[0m bbmb \u001b[38;5;241m=\u001b[39m pixels\u001b[38;5;241m.\u001b[39mBBMBImage(galaxy_id\u001b[38;5;241m=\u001b[39mmid, distance\u001b[38;5;241m=\u001b[39mrow\u001b[38;5;241m.\u001b[39mz_phot )\n\u001b[1;32m     38\u001b[0m band\u001b[38;5;241m=\u001b[39m\u001b[38;5;124m'\u001b[39m\u001b[38;5;124mN708\u001b[39m\u001b[38;5;124m'\u001b[39m\n\u001b[0;32m---> 40\u001b[0m imfits \u001b[38;5;241m=\u001b[39m \u001b[43mfits\u001b[49m\u001b[38;5;241;43m.\u001b[39;49m\u001b[43mopen\u001b[49m\u001b[43m(\u001b[49m\u001b[38;5;124;43mf\u001b[39;49m\u001b[38;5;124;43m'\u001b[39;49m\u001b[38;5;132;43;01m{\u001b[39;49;00m\u001b[43mmerdir\u001b[49m\u001b[38;5;132;43;01m}\u001b[39;49;00m\u001b[38;5;124;43m/N708/image/\u001b[39;49m\u001b[38;5;132;43;01m{\u001b[39;49;00m\u001b[43mobjname\u001b[49m\u001b[38;5;132;43;01m}\u001b[39;49;00m\u001b[38;5;124;43m_N708_merim.fits\u001b[39;49m\u001b[38;5;124;43m'\u001b[39;49m\u001b[43m)\u001b[49m\n\u001b[1;32m     41\u001b[0m psf \u001b[38;5;241m=\u001b[39m fits\u001b[38;5;241m.\u001b[39mopen(\u001b[38;5;124mf\u001b[39m\u001b[38;5;124m'\u001b[39m\u001b[38;5;132;01m{\u001b[39;00mmerdir\u001b[38;5;132;01m}\u001b[39;00m\u001b[38;5;124m/N708/psf/\u001b[39m\u001b[38;5;132;01m{\u001b[39;00mobjname\u001b[38;5;132;01m}\u001b[39;00m\u001b[38;5;124m_N708_merpsf.fits\u001b[39m\u001b[38;5;124m'\u001b[39m)\n\u001b[1;32m     42\u001b[0m bbmb\u001b[38;5;241m.\u001b[39madd_band(band, target, cutout_size, imfits[\u001b[38;5;124m'\u001b[39m\u001b[38;5;124mIMAGE\u001b[39m\u001b[38;5;124m'\u001b[39m], imfits[\u001b[38;5;124m'\u001b[39m\u001b[38;5;124mVARIANCE\u001b[39m\u001b[38;5;124m'\u001b[39m], psf[\u001b[38;5;241m0\u001b[39m]\u001b[38;5;241m.\u001b[39mdata )\n",
      "File \u001b[0;32m~/opt/miniconda3/envs/newmoda/lib/python3.10/site-packages/astropy/io/fits/hdu/hdulist.py:213\u001b[0m, in \u001b[0;36mfitsopen\u001b[0;34m(name, mode, memmap, save_backup, cache, lazy_load_hdus, ignore_missing_simple, use_fsspec, fsspec_kwargs, **kwargs)\u001b[0m\n\u001b[1;32m    210\u001b[0m \u001b[38;5;28;01mif\u001b[39;00m \u001b[38;5;129;01mnot\u001b[39;00m name:\n\u001b[1;32m    211\u001b[0m     \u001b[38;5;28;01mraise\u001b[39;00m \u001b[38;5;167;01mValueError\u001b[39;00m(\u001b[38;5;124mf\u001b[39m\u001b[38;5;124m\"\u001b[39m\u001b[38;5;124mEmpty filename: \u001b[39m\u001b[38;5;132;01m{\u001b[39;00mname\u001b[38;5;132;01m!r}\u001b[39;00m\u001b[38;5;124m\"\u001b[39m)\n\u001b[0;32m--> 213\u001b[0m \u001b[38;5;28;01mreturn\u001b[39;00m \u001b[43mHDUList\u001b[49m\u001b[38;5;241;43m.\u001b[39;49m\u001b[43mfromfile\u001b[49m\u001b[43m(\u001b[49m\n\u001b[1;32m    214\u001b[0m \u001b[43m    \u001b[49m\u001b[43mname\u001b[49m\u001b[43m,\u001b[49m\n\u001b[1;32m    215\u001b[0m \u001b[43m    \u001b[49m\u001b[43mmode\u001b[49m\u001b[43m,\u001b[49m\n\u001b[1;32m    216\u001b[0m \u001b[43m    \u001b[49m\u001b[43mmemmap\u001b[49m\u001b[43m,\u001b[49m\n\u001b[1;32m    217\u001b[0m \u001b[43m    \u001b[49m\u001b[43msave_backup\u001b[49m\u001b[43m,\u001b[49m\n\u001b[1;32m    218\u001b[0m \u001b[43m    \u001b[49m\u001b[43mcache\u001b[49m\u001b[43m,\u001b[49m\n\u001b[1;32m    219\u001b[0m \u001b[43m    \u001b[49m\u001b[43mlazy_load_hdus\u001b[49m\u001b[43m,\u001b[49m\n\u001b[1;32m    220\u001b[0m \u001b[43m    \u001b[49m\u001b[43mignore_missing_simple\u001b[49m\u001b[43m,\u001b[49m\n\u001b[1;32m    221\u001b[0m \u001b[43m    \u001b[49m\u001b[43muse_fsspec\u001b[49m\u001b[38;5;241;43m=\u001b[39;49m\u001b[43muse_fsspec\u001b[49m\u001b[43m,\u001b[49m\n\u001b[1;32m    222\u001b[0m \u001b[43m    \u001b[49m\u001b[43mfsspec_kwargs\u001b[49m\u001b[38;5;241;43m=\u001b[39;49m\u001b[43mfsspec_kwargs\u001b[49m\u001b[43m,\u001b[49m\n\u001b[1;32m    223\u001b[0m \u001b[43m    \u001b[49m\u001b[38;5;241;43m*\u001b[39;49m\u001b[38;5;241;43m*\u001b[39;49m\u001b[43mkwargs\u001b[49m\u001b[43m,\u001b[49m\n\u001b[1;32m    224\u001b[0m \u001b[43m\u001b[49m\u001b[43m)\u001b[49m\n",
      "File \u001b[0;32m~/opt/miniconda3/envs/newmoda/lib/python3.10/site-packages/astropy/io/fits/hdu/hdulist.py:476\u001b[0m, in \u001b[0;36mHDUList.fromfile\u001b[0;34m(cls, fileobj, mode, memmap, save_backup, cache, lazy_load_hdus, ignore_missing_simple, **kwargs)\u001b[0m\n\u001b[1;32m    457\u001b[0m \u001b[38;5;129m@classmethod\u001b[39m\n\u001b[1;32m    458\u001b[0m \u001b[38;5;28;01mdef\u001b[39;00m \u001b[38;5;21mfromfile\u001b[39m(\n\u001b[1;32m    459\u001b[0m     \u001b[38;5;28mcls\u001b[39m,\n\u001b[0;32m   (...)\u001b[0m\n\u001b[1;32m    467\u001b[0m     \u001b[38;5;241m*\u001b[39m\u001b[38;5;241m*\u001b[39mkwargs,\n\u001b[1;32m    468\u001b[0m ):\n\u001b[1;32m    469\u001b[0m \u001b[38;5;250m    \u001b[39m\u001b[38;5;124;03m\"\"\"\u001b[39;00m\n\u001b[1;32m    470\u001b[0m \u001b[38;5;124;03m    Creates an `HDUList` instance from a file-like object.\u001b[39;00m\n\u001b[1;32m    471\u001b[0m \n\u001b[0;32m   (...)\u001b[0m\n\u001b[1;32m    474\u001b[0m \u001b[38;5;124;03m    documentation for details of the parameters accepted by this method).\u001b[39;00m\n\u001b[1;32m    475\u001b[0m \u001b[38;5;124;03m    \"\"\"\u001b[39;00m\n\u001b[0;32m--> 476\u001b[0m     \u001b[38;5;28;01mreturn\u001b[39;00m \u001b[38;5;28;43mcls\u001b[39;49m\u001b[38;5;241;43m.\u001b[39;49m\u001b[43m_readfrom\u001b[49m\u001b[43m(\u001b[49m\n\u001b[1;32m    477\u001b[0m \u001b[43m        \u001b[49m\u001b[43mfileobj\u001b[49m\u001b[38;5;241;43m=\u001b[39;49m\u001b[43mfileobj\u001b[49m\u001b[43m,\u001b[49m\n\u001b[1;32m    478\u001b[0m \u001b[43m        \u001b[49m\u001b[43mmode\u001b[49m\u001b[38;5;241;43m=\u001b[39;49m\u001b[43mmode\u001b[49m\u001b[43m,\u001b[49m\n\u001b[1;32m    479\u001b[0m \u001b[43m        \u001b[49m\u001b[43mmemmap\u001b[49m\u001b[38;5;241;43m=\u001b[39;49m\u001b[43mmemmap\u001b[49m\u001b[43m,\u001b[49m\n\u001b[1;32m    480\u001b[0m \u001b[43m        \u001b[49m\u001b[43msave_backup\u001b[49m\u001b[38;5;241;43m=\u001b[39;49m\u001b[43msave_backup\u001b[49m\u001b[43m,\u001b[49m\n\u001b[1;32m    481\u001b[0m \u001b[43m        \u001b[49m\u001b[43mcache\u001b[49m\u001b[38;5;241;43m=\u001b[39;49m\u001b[43mcache\u001b[49m\u001b[43m,\u001b[49m\n\u001b[1;32m    482\u001b[0m \u001b[43m        \u001b[49m\u001b[43mignore_missing_simple\u001b[49m\u001b[38;5;241;43m=\u001b[39;49m\u001b[43mignore_missing_simple\u001b[49m\u001b[43m,\u001b[49m\n\u001b[1;32m    483\u001b[0m \u001b[43m        \u001b[49m\u001b[43mlazy_load_hdus\u001b[49m\u001b[38;5;241;43m=\u001b[39;49m\u001b[43mlazy_load_hdus\u001b[49m\u001b[43m,\u001b[49m\n\u001b[1;32m    484\u001b[0m \u001b[43m        \u001b[49m\u001b[38;5;241;43m*\u001b[39;49m\u001b[38;5;241;43m*\u001b[39;49m\u001b[43mkwargs\u001b[49m\u001b[43m,\u001b[49m\n\u001b[1;32m    485\u001b[0m \u001b[43m    \u001b[49m\u001b[43m)\u001b[49m\n",
      "File \u001b[0;32m~/opt/miniconda3/envs/newmoda/lib/python3.10/site-packages/astropy/io/fits/hdu/hdulist.py:1146\u001b[0m, in \u001b[0;36mHDUList._readfrom\u001b[0;34m(cls, fileobj, data, mode, memmap, cache, lazy_load_hdus, ignore_missing_simple, use_fsspec, fsspec_kwargs, **kwargs)\u001b[0m\n\u001b[1;32m   1143\u001b[0m \u001b[38;5;28;01mif\u001b[39;00m fileobj \u001b[38;5;129;01mis\u001b[39;00m \u001b[38;5;129;01mnot\u001b[39;00m \u001b[38;5;28;01mNone\u001b[39;00m:\n\u001b[1;32m   1144\u001b[0m     \u001b[38;5;28;01mif\u001b[39;00m \u001b[38;5;129;01mnot\u001b[39;00m \u001b[38;5;28misinstance\u001b[39m(fileobj, _File):\n\u001b[1;32m   1145\u001b[0m         \u001b[38;5;66;03m# instantiate a FITS file object (ffo)\u001b[39;00m\n\u001b[0;32m-> 1146\u001b[0m         fileobj \u001b[38;5;241m=\u001b[39m \u001b[43m_File\u001b[49m\u001b[43m(\u001b[49m\n\u001b[1;32m   1147\u001b[0m \u001b[43m            \u001b[49m\u001b[43mfileobj\u001b[49m\u001b[43m,\u001b[49m\n\u001b[1;32m   1148\u001b[0m \u001b[43m            \u001b[49m\u001b[43mmode\u001b[49m\u001b[38;5;241;43m=\u001b[39;49m\u001b[43mmode\u001b[49m\u001b[43m,\u001b[49m\n\u001b[1;32m   1149\u001b[0m \u001b[43m            \u001b[49m\u001b[43mmemmap\u001b[49m\u001b[38;5;241;43m=\u001b[39;49m\u001b[43mmemmap\u001b[49m\u001b[43m,\u001b[49m\n\u001b[1;32m   1150\u001b[0m \u001b[43m            \u001b[49m\u001b[43mcache\u001b[49m\u001b[38;5;241;43m=\u001b[39;49m\u001b[43mcache\u001b[49m\u001b[43m,\u001b[49m\n\u001b[1;32m   1151\u001b[0m \u001b[43m            \u001b[49m\u001b[43muse_fsspec\u001b[49m\u001b[38;5;241;43m=\u001b[39;49m\u001b[43muse_fsspec\u001b[49m\u001b[43m,\u001b[49m\n\u001b[1;32m   1152\u001b[0m \u001b[43m            \u001b[49m\u001b[43mfsspec_kwargs\u001b[49m\u001b[38;5;241;43m=\u001b[39;49m\u001b[43mfsspec_kwargs\u001b[49m\u001b[43m,\u001b[49m\n\u001b[1;32m   1153\u001b[0m \u001b[43m        \u001b[49m\u001b[43m)\u001b[49m\n\u001b[1;32m   1154\u001b[0m     \u001b[38;5;66;03m# The Astropy mode is determined by the _File initializer if the\u001b[39;00m\n\u001b[1;32m   1155\u001b[0m     \u001b[38;5;66;03m# supplied mode was None\u001b[39;00m\n\u001b[1;32m   1156\u001b[0m     mode \u001b[38;5;241m=\u001b[39m fileobj\u001b[38;5;241m.\u001b[39mmode\n",
      "File \u001b[0;32m~/opt/miniconda3/envs/newmoda/lib/python3.10/site-packages/astropy/io/fits/file.py:217\u001b[0m, in \u001b[0;36m_File.__init__\u001b[0;34m(self, fileobj, mode, memmap, overwrite, cache, use_fsspec, fsspec_kwargs)\u001b[0m\n\u001b[1;32m    215\u001b[0m     \u001b[38;5;28mself\u001b[39m\u001b[38;5;241m.\u001b[39m_open_fileobj(fileobj, mode, overwrite)\n\u001b[1;32m    216\u001b[0m \u001b[38;5;28;01melif\u001b[39;00m \u001b[38;5;28misinstance\u001b[39m(fileobj, (\u001b[38;5;28mstr\u001b[39m, \u001b[38;5;28mbytes\u001b[39m)):\n\u001b[0;32m--> 217\u001b[0m     \u001b[38;5;28;43mself\u001b[39;49m\u001b[38;5;241;43m.\u001b[39;49m\u001b[43m_open_filename\u001b[49m\u001b[43m(\u001b[49m\u001b[43mfileobj\u001b[49m\u001b[43m,\u001b[49m\u001b[43m \u001b[49m\u001b[43mmode\u001b[49m\u001b[43m,\u001b[49m\u001b[43m \u001b[49m\u001b[43moverwrite\u001b[49m\u001b[43m)\u001b[49m\n\u001b[1;32m    218\u001b[0m \u001b[38;5;28;01melse\u001b[39;00m:\n\u001b[1;32m    219\u001b[0m     \u001b[38;5;28mself\u001b[39m\u001b[38;5;241m.\u001b[39m_open_filelike(fileobj, mode, overwrite)\n",
      "File \u001b[0;32m~/opt/miniconda3/envs/newmoda/lib/python3.10/site-packages/astropy/io/fits/file.py:626\u001b[0m, in \u001b[0;36m_File._open_filename\u001b[0;34m(self, filename, mode, overwrite)\u001b[0m\n\u001b[1;32m    623\u001b[0m ext \u001b[38;5;241m=\u001b[39m os\u001b[38;5;241m.\u001b[39mpath\u001b[38;5;241m.\u001b[39msplitext(\u001b[38;5;28mself\u001b[39m\u001b[38;5;241m.\u001b[39mname)[\u001b[38;5;241m1\u001b[39m]\n\u001b[1;32m    625\u001b[0m \u001b[38;5;28;01mif\u001b[39;00m \u001b[38;5;129;01mnot\u001b[39;00m \u001b[38;5;28mself\u001b[39m\u001b[38;5;241m.\u001b[39m_try_read_compressed(\u001b[38;5;28mself\u001b[39m\u001b[38;5;241m.\u001b[39mname, magic, mode, ext\u001b[38;5;241m=\u001b[39mext):\n\u001b[0;32m--> 626\u001b[0m     \u001b[38;5;28mself\u001b[39m\u001b[38;5;241m.\u001b[39m_file \u001b[38;5;241m=\u001b[39m \u001b[38;5;28;43mopen\u001b[39;49m\u001b[43m(\u001b[49m\u001b[38;5;28;43mself\u001b[39;49m\u001b[38;5;241;43m.\u001b[39;49m\u001b[43mname\u001b[49m\u001b[43m,\u001b[49m\u001b[43m \u001b[49m\u001b[43mIO_FITS_MODES\u001b[49m\u001b[43m[\u001b[49m\u001b[43mmode\u001b[49m\u001b[43m]\u001b[49m\u001b[43m)\u001b[49m\n\u001b[1;32m    627\u001b[0m     \u001b[38;5;28mself\u001b[39m\u001b[38;5;241m.\u001b[39mclose_on_error \u001b[38;5;241m=\u001b[39m \u001b[38;5;28;01mTrue\u001b[39;00m\n\u001b[1;32m    629\u001b[0m \u001b[38;5;66;03m# Make certain we're back at the beginning of the file\u001b[39;00m\n\u001b[1;32m    630\u001b[0m \u001b[38;5;66;03m# BZ2File does not support seek when the file is open for writing, but\u001b[39;00m\n\u001b[1;32m    631\u001b[0m \u001b[38;5;66;03m# when opening a file for write, bz2.BZ2File always truncates anyway.\u001b[39;00m\n",
      "\u001b[0;31mFileNotFoundError\u001b[0m: [Errno 2] No such file or directory: '../local_data/cutouts/merian//N708/image/J103147.45-012609.47_N708_merim.fits'"
     ]
    }
   ],
   "source": [
    "mid = 'M3324835201464449405'\n",
    "do_directgalexphotometry.singleton( mcat.loc[mid])"
   ]
  },
  {
   "cell_type": "code",
   "execution_count": 250,
   "id": "1c541d0b-00ef-478d-9c00-207365e30647",
   "metadata": {},
   "outputs": [
    {
     "data": {
      "text/plain": [
       "fuv_mag     23.47457\n",
       "nuv_mag   -999.00000\n",
       "Name: M3232836864545161905, dtype: float64"
      ]
     },
     "execution_count": 250,
     "metadata": {},
     "output_type": "execute_result"
    }
   ],
   "source": [
    "galex_cg.loc[mid, ['fuv_mag', 'nuv_mag']]"
   ]
  },
  {
   "cell_type": "code",
   "execution_count": 251,
   "id": "1d9fd88f-8e46-40cd-9ef9-f4d09e0b0785",
   "metadata": {},
   "outputs": [
    {
     "data": {
      "text/plain": [
       "(<matplotlib.image.AxesImage at 0x284bc6fb0>, <Axes: >)"
      ]
     },
     "execution_count": 251,
     "metadata": {},
     "output_type": "execute_result"
    },
    {
     "data": {
      "image/png": "[encoded data removed]",
      "text/plain": [
       "<Figure size 640x480 with 1 Axes>"
      ]
     },
     "metadata": {},
     "output_type": "display_data"
    }
   ],
   "source": [
    "ek.imshow(gi.nuv_im[0].data)"
   ]
  },
  {
   "cell_type": "code",
   "execution_count": null,
   "id": "8e44eb97-b74b-4a9b-a04f-f4c896eb0f05",
   "metadata": {},
   "outputs": [],
   "source": []
  }
 ],
 "metadata": {
  "kernelspec": {
   "display_name": "Python 3 (ipykernel)",
   "language": "python",
   "name": "python3"
  },
  "language_info": {
   "codemirror_mode": {
    "name": "ipython",
    "version": 3
   },
   "file_extension": ".py",
   "mimetype": "text/x-python",
   "name": "python",
   "nbconvert_exporter": "python",
   "pygments_lexer": "ipython3",
   "version": "3.10.12"
  }
 },
 "nbformat": 4,
 "nbformat_minor": 5
}
