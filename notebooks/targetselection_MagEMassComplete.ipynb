{
 "cells": [
  {
   "cell_type": "code",
   "execution_count": 2,
   "id": "55e6fd8d-31c4-4192-9c1d-7887cf857dc5",
   "metadata": {},
   "outputs": [
    {
     "name": "stdout",
     "output_type": "stream",
     "text": [
      "The autoreload extension is already loaded. To reload it, use:\n",
      "  %reload_ext autoreload\n"
     ]
    }
   ],
   "source": [
    "%load_ext autoreload\n",
    "%autoreload 2"
   ]
  },
  {
   "cell_type": "code",
   "execution_count": 3,
   "id": "bd6608d4-acdb-4ddc-a0fb-008c8ca49392",
   "metadata": {},
   "outputs": [],
   "source": [
    "import os\n",
    "import numpy as np\n",
    "import matplotlib.pyplot as plt\n",
    "import matplotlib.dates as mdates\n",
    "import matplotlib.image as mpimg\n",
    "from matplotlib import patches\n",
    "import pandas as pd\n",
    "\n",
    "from astropy import table\n",
    "from astropy.io import fits\n",
    "from astropy import units as u\n",
    "from astropy import coordinates, cosmology\n",
    "from astropy import wcs\n",
    "\n",
    "from astroquery.mast import Catalogs\n",
    "from astroquery.skyview import SkyView\n",
    "\n",
    "from ekfobs import planning\n",
    "from ekfphys import observer, calibrations\n",
    "from ekfplot import plot as ek\n",
    "from ekfparse import query\n",
    "\n",
    "from agrias import utils, photometry\n",
    "from skipper import observe\n",
    "\n",
    "import sys\n",
    "sys.path.append('../scripts')\n",
    "import reader\n",
    "\n",
    "cosmo = cosmology.FlatLambdaCDM(70.,0.3)"
   ]
  },
  {
   "cell_type": "code",
   "execution_count": 4,
   "id": "fe23c6d9-bb02-41fc-9e58-f8a2cc189a09",
   "metadata": {},
   "outputs": [],
   "source": [
    "def fha_from_sfr ( sample, z=0.08):\n",
    "    dlum = cosmo.luminosity_distance(z).to(u.cm).value\n",
    "    return calibrations.SFR2LHa(10.**sample['logsfr']) / (4*np.pi*dlum**2)\n",
    "    "
   ]
  },
  {
   "cell_type": "code",
   "execution_count": 5,
   "id": "92710427-af82-4ce1-ac0c-6bd9816d4b49",
   "metadata": {},
   "outputs": [
    {
     "name": "stdout",
     "output_type": "stream",
     "text": [
      "[merianselect] Only choosing sources with m_i < 21.5\n",
      "[merianselect] only choosing sources with cmodel/gaap(i) > 1.3\n",
      "[merianselect] only choosing sources with griz photometry\n"
     ]
    },
    {
     "name": "stderr",
     "output_type": "stream",
     "text": [
      "/Users/kadofong/opt/miniconda3/envs/newmoda/lib/python3.10/site-packages/pandas/core/arraylike.py:396: RuntimeWarning: invalid value encountered in log10\n",
      "  result = getattr(ufunc, method)(*inputs, **kwargs)\n",
      "/Users/kadofong/opt/miniconda3/envs/newmoda/lib/python3.10/site-packages/pandas/core/arraylike.py:396: RuntimeWarning: invalid value encountered in log10\n",
      "  result = getattr(ufunc, method)(*inputs, **kwargs)\n",
      "/Users/kadofong/opt/miniconda3/envs/newmoda/lib/python3.10/site-packages/astropy/cosmology/flrw/base.py:1351: RuntimeWarning: divide by zero encountered in log10\n",
      "  val = 5.0 * np.log10(abs(self.luminosity_distance(z).value)) + 25.0\n",
      "/Users/kadofong/opt/miniconda3/envs/newmoda/lib/python3.10/site-packages/pandas/core/arraylike.py:396: RuntimeWarning: invalid value encountered in log10\n",
      "  result = getattr(ufunc, method)(*inputs, **kwargs)\n",
      "/Users/kadofong/opt/miniconda3/envs/newmoda/lib/python3.10/site-packages/pandas/core/arraylike.py:396: RuntimeWarning: invalid value encountered in log10\n",
      "  result = getattr(ufunc, method)(*inputs, **kwargs)\n"
     ]
    }
   ],
   "source": [
    "#merian = table.Table(fits.getdata(\"/Users/kadofong/Downloads/Merian_DR1_photoz_EAZY_v2.0.fits\", 1))#.to_pandas ()\n",
    "ms = reader.merianselect ( maglim=21.5,)"
   ]
  },
  {
   "cell_type": "code",
   "execution_count": 6,
   "id": "d1de167f-e1a8-4f7c-9904-4e69bcb3e5c1",
   "metadata": {},
   "outputs": [],
   "source": [
    "lha_cat = calibrations.SFR2LHa( 10.**(ms['logssfr']+ ms['logmass']))\n",
    "fha_cat = lha_cat / (4.*np.pi * cosmo.luminosity_distance(ms['z500'].values).to(u.cm).value**2)"
   ]
  },
  {
   "cell_type": "code",
   "execution_count": 7,
   "id": "a0299d9f-3242-4237-96aa-b72774ab6bb7",
   "metadata": {},
   "outputs": [],
   "source": [
    "palomar = observe.ObservingSite('palomar')\n",
    "lco = observe.ObservingSite('CTIO')"
   ]
  },
  {
   "cell_type": "markdown",
   "id": "85c0fddc-6bd5-4110-8d6f-d125b84c00a6",
   "metadata": {},
   "source": [
    "# Mass-Complete Selection"
   ]
  },
  {
   "cell_type": "code",
   "execution_count": 8,
   "id": "f9f50338-11e1-4b6c-9e51-4042a9a30646",
   "metadata": {},
   "outputs": [],
   "source": [
    "sample_name = 'MassComplete_jan2025'\n",
    "if not os.path.exists(sample_name):\n",
    "    os.mkdir(sample_name)\n",
    "\n",
    "for dirname in  ['thumbnails','cutouts','finding_charts']:\n",
    "    dpath = f'{sample_name}/{dirname}'\n",
    "    if not os.path.exists(dpath):\n",
    "        os.mkdir(dpath)"
   ]
  },
  {
   "cell_type": "code",
   "execution_count": 9,
   "id": "d911f3c1-b1ea-48ea-95b5-041d8b12741f",
   "metadata": {},
   "outputs": [
    {
     "name": "stdout",
     "output_type": "stream",
     "text": [
      "[observe] Computing sunrise and sunset on 2025/1/15 at altitude = -14.0\n"
     ]
    },
    {
     "name": "stderr",
     "output_type": "stream",
     "text": [
      "WARNING: TimeDeltaMissingUnitWarning: Numerical value without unit or explicit format passed to TimeDelta, assuming days [astropy.time.core]\n"
     ]
    },
    {
     "name": "stdout",
     "output_type": "stream",
     "text": [
      "1: 1921\n",
      "[observe] Computing sunrise and sunset on 2025/2/15 at altitude = -14.0\n"
     ]
    },
    {
     "name": "stderr",
     "output_type": "stream",
     "text": [
      "WARNING: TimeDeltaMissingUnitWarning: Numerical value without unit or explicit format passed to TimeDelta, assuming days [astropy.time.core]\n"
     ]
    },
    {
     "name": "stdout",
     "output_type": "stream",
     "text": [
      "2: 1921\n",
      "[observe] Computing sunrise and sunset on 2025/3/15 at altitude = -14.0\n"
     ]
    },
    {
     "name": "stderr",
     "output_type": "stream",
     "text": [
      "WARNING: TimeDeltaMissingUnitWarning: Numerical value without unit or explicit format passed to TimeDelta, assuming days [astropy.time.core]\n"
     ]
    },
    {
     "name": "stdout",
     "output_type": "stream",
     "text": [
      "3: 1921\n",
      "[observe] Computing sunrise and sunset on 2025/4/15 at altitude = -14.0\n"
     ]
    },
    {
     "name": "stderr",
     "output_type": "stream",
     "text": [
      "WARNING: TimeDeltaMissingUnitWarning: Numerical value without unit or explicit format passed to TimeDelta, assuming days [astropy.time.core]\n"
     ]
    },
    {
     "name": "stdout",
     "output_type": "stream",
     "text": [
      "4: 1191\n",
      "[observe] Computing sunrise and sunset on 2025/5/15 at altitude = -14.0\n"
     ]
    },
    {
     "name": "stderr",
     "output_type": "stream",
     "text": [
      "WARNING: TimeDeltaMissingUnitWarning: Numerical value without unit or explicit format passed to TimeDelta, assuming days [astropy.time.core]\n"
     ]
    },
    {
     "name": "stdout",
     "output_type": "stream",
     "text": [
      "5: 364\n",
      "[observe] Computing sunrise and sunset on 2025/6/15 at altitude = -14.0\n"
     ]
    },
    {
     "name": "stderr",
     "output_type": "stream",
     "text": [
      "WARNING: TimeDeltaMissingUnitWarning: Numerical value without unit or explicit format passed to TimeDelta, assuming days [astropy.time.core]\n"
     ]
    },
    {
     "name": "stdout",
     "output_type": "stream",
     "text": [
      "6: 320\n",
      "[observe] Computing sunrise and sunset on 2025/7/15 at altitude = -14.0\n"
     ]
    },
    {
     "name": "stderr",
     "output_type": "stream",
     "text": [
      "WARNING: TimeDeltaMissingUnitWarning: Numerical value without unit or explicit format passed to TimeDelta, assuming days [astropy.time.core]\n"
     ]
    },
    {
     "name": "stdout",
     "output_type": "stream",
     "text": [
      "7: 320\n"
     ]
    }
   ],
   "source": [
    "logmstar_min = 8.45\n",
    "logmstar_max = 8.55\n",
    "\n",
    "for month in range(1, 8):\n",
    "    is_lmass = (ms['logmass']>logmstar_min)&(ms['logmass']<logmstar_max)\n",
    "    \n",
    "    night_start, night_end = palomar.get_sunriseset ( 2025, month, 15, )\n",
    "    obsframe = lco.define_obsframe ( obs_start=night_start, obs_end=night_end )\n",
    "    \n",
    "    coords = coordinates.SkyCoord(*ms.loc[is_lmass, ['RA','DEC']].values.T, unit='deg')\n",
    "    alt_l = [ lco.get_altitude(cc, obsframe) for cc in coords ]\n",
    "    \n",
    "    is_observable = np.array([ np.nanmin(np.where(x.secz<0, 10.,x.secz)).value<1.4 for x in alt_l ])\n",
    "    sample = ms.loc[is_lmass].loc[is_observable]\n",
    "    print(f'{month}: {len(sample)}')"
   ]
  },
  {
   "cell_type": "code",
   "execution_count": 19,
   "id": "8d9c29db-c6da-4636-8360-2b1b47efdf8d",
   "metadata": {},
   "outputs": [
    {
     "data": {
      "text/plain": [
       "Text(0, 0.5, 'N$(<m_r)$')"
      ]
     },
     "execution_count": 19,
     "metadata": {},
     "output_type": "execute_result"
    },
    {
     "data": {
      "image/png": "[encoded data removed]",
      "text/plain": [
       "<Figure size 640x480 with 1 Axes>"
      ]
     },
     "metadata": {},
     "output_type": "display_data"
    }
   ],
   "source": [
    "ek.hist( utils.flux2mag(sample['r_cModelFlux_Merian']), cumulative=True, alpha=0.3, lw=2)\n",
    "plt.xlabel(r'$m_r$')\n",
    "plt.ylabel(r'N$(<m_r)$')\n"
   ]
  },
  {
   "cell_type": "code",
   "execution_count": 20,
   "id": "26e29ec0-2ddc-4d55-beaa-04723e715fe2",
   "metadata": {},
   "outputs": [],
   "source": [
    "#ms.loc[is_lmass].to_csv('/Users/kadofong/Downloads/full_masscomplete_sample.csv')"
   ]
  },
  {
   "cell_type": "code",
   "execution_count": 16,
   "id": "9205c394-aadb-484d-a93b-e9568b2858f2",
   "metadata": {},
   "outputs": [],
   "source": [
    "dlum = cosmo.luminosity_distance(0.1).to(u.cm).value\n",
    "lha_expected = calibrations.SFR2LHa(10.**sample['logsfr']) \n",
    "fha_expected = lha_expected / (4.*np.pi*dlum**2)\n",
    "r_absmag = utils.flux2mag(sample['r_cModelFlux_Merian']) - cosmo.distmod(0.08).value\n",
    "ewha_expected = calibrations.EWfromLHa(lha_expected, r_absmag, )\n",
    "sample['expected_haew'] = ewha_expected"
   ]
  },
  {
   "cell_type": "code",
   "execution_count": 17,
   "id": "3fa54182-1ff9-4864-9af7-240514e9cbff",
   "metadata": {},
   "outputs": [],
   "source": [
    "sample.to_csv(f'{sample_name}/target_list.csv')"
   ]
  },
  {
   "cell_type": "code",
   "execution_count": 10,
   "id": "06cbf482-05df-42fa-a298-0ded793038d5",
   "metadata": {
    "scrolled": true
   },
   "outputs": [
    {
     "name": "stderr",
     "output_type": "stream",
     "text": [
      "Progress:   0% [                          ] ETA:  --:--:-- Elapsed Time: 0:00:02\r"
     ]
    },
    {
     "name": "stdout",
     "output_type": "stream",
     "text": [
      "INFO: Query finished. [astroquery.utils.tap.core]\n"
     ]
    },
    {
     "name": "stderr",
     "output_type": "stream",
     "text": [
      "Progress:   0% [                           ] ETA:  0:23:48 Elapsed Time: 0:00:04\r"
     ]
    },
    {
     "name": "stdout",
     "output_type": "stream",
     "text": [
      "INFO: Query finished. [astroquery.utils.tap.core]\n"
     ]
    },
    {
     "name": "stderr",
     "output_type": "stream",
     "text": [
      "Progress:   0% [                           ] ETA:  0:17:07 Elapsed Time: 0:00:06\r"
     ]
    },
    {
     "name": "stdout",
     "output_type": "stream",
     "text": [
      "INFO: Query finished. [astroquery.utils.tap.core]\n"
     ]
    },
    {
     "name": "stderr",
     "output_type": "stream",
     "text": [
      "Progress:   0% [                           ] ETA:  0:14:51 Elapsed Time: 0:00:08\r"
     ]
    },
    {
     "name": "stdout",
     "output_type": "stream",
     "text": [
      "INFO: Query finished. [astroquery.utils.tap.core]\n"
     ]
    },
    {
     "name": "stderr",
     "output_type": "stream",
     "text": [
      "Progress:   1% [                           ] ETA:  0:14:02 Elapsed Time: 0:00:10\r"
     ]
    },
    {
     "name": "stdout",
     "output_type": "stream",
     "text": [
      "INFO: Query finished. [astroquery.utils.tap.core]\n"
     ]
    },
    {
     "name": "stderr",
     "output_type": "stream",
     "text": [
      "Progress:   1% [                           ] ETA:  0:13:23 Elapsed Time: 0:00:12\r"
     ]
    },
    {
     "name": "stdout",
     "output_type": "stream",
     "text": [
      "INFO: Query finished. [astroquery.utils.tap.core]\n"
     ]
    },
    {
     "name": "stderr",
     "output_type": "stream",
     "text": [
      "Progress:   1% [                           ] ETA:  0:12:58 Elapsed Time: 0:00:14\r"
     ]
    },
    {
     "name": "stdout",
     "output_type": "stream",
     "text": [
      "INFO: Query finished. [astroquery.utils.tap.core]\n"
     ]
    },
    {
     "name": "stderr",
     "output_type": "stream",
     "text": [
      "Progress:   2% [                           ] ETA:  0:13:55 Elapsed Time: 0:00:17\r"
     ]
    },
    {
     "name": "stdout",
     "output_type": "stream",
     "text": [
      "INFO: Query finished. [astroquery.utils.tap.core]\n"
     ]
    },
    {
     "name": "stderr",
     "output_type": "stream",
     "text": [
      "Progress:   2% [                           ] ETA:  0:13:33 Elapsed Time: 0:00:19\r"
     ]
    },
    {
     "name": "stdout",
     "output_type": "stream",
     "text": [
      "INFO: Query finished. [astroquery.utils.tap.core]\n"
     ]
    },
    {
     "name": "stderr",
     "output_type": "stream",
     "text": [
      "Progress:   2% [                           ] ETA:  0:15:04 Elapsed Time: 0:00:24\r"
     ]
    },
    {
     "name": "stdout",
     "output_type": "stream",
     "text": [
      "INFO: Query finished. [astroquery.utils.tap.core]\n"
     ]
    },
    {
     "name": "stderr",
     "output_type": "stream",
     "text": [
      "Progress:   2% [                           ] ETA:  0:14:55 Elapsed Time: 0:00:27\r"
     ]
    },
    {
     "name": "stdout",
     "output_type": "stream",
     "text": [
      "INFO: Query finished. [astroquery.utils.tap.core]\n"
     ]
    },
    {
     "name": "stderr",
     "output_type": "stream",
     "text": [
      "Progress:   3% [                           ] ETA:  0:14:37 Elapsed Time: 0:00:29\r"
     ]
    },
    {
     "name": "stdout",
     "output_type": "stream",
     "text": [
      "INFO: Query finished. [astroquery.utils.tap.core]\n"
     ]
    },
    {
     "name": "stderr",
     "output_type": "stream",
     "text": [
      "Progress:   3% [                           ] ETA:  0:14:31 Elapsed Time: 0:00:32\r"
     ]
    },
    {
     "name": "stdout",
     "output_type": "stream",
     "text": [
      "INFO: Query finished. [astroquery.utils.tap.core]\n"
     ]
    },
    {
     "name": "stderr",
     "output_type": "stream",
     "text": [
      "Progress:   3% [=                          ] ETA:  0:14:15 Elapsed Time: 0:00:34\r"
     ]
    },
    {
     "name": "stdout",
     "output_type": "stream",
     "text": [
      "INFO: Query finished. [astroquery.utils.tap.core]\n"
     ]
    },
    {
     "name": "stderr",
     "output_type": "stream",
     "text": [
      "Progress:   4% [=                          ] ETA:  0:13:57 Elapsed Time: 0:00:36\r"
     ]
    },
    {
     "name": "stdout",
     "output_type": "stream",
     "text": [
      "INFO: Query finished. [astroquery.utils.tap.core]\n"
     ]
    },
    {
     "name": "stderr",
     "output_type": "stream",
     "text": [
      "Progress:   4% [=                          ] ETA:  0:13:43 Elapsed Time: 0:00:38\r"
     ]
    },
    {
     "name": "stdout",
     "output_type": "stream",
     "text": [
      "INFO: Query finished. [astroquery.utils.tap.core]\n"
     ]
    },
    {
     "name": "stderr",
     "output_type": "stream",
     "text": [
      "Progress:   4% [=                          ] ETA:  0:13:36 Elapsed Time: 0:00:40\r"
     ]
    },
    {
     "name": "stdout",
     "output_type": "stream",
     "text": [
      "INFO: Query finished. [astroquery.utils.tap.core]\n"
     ]
    },
    {
     "name": "stderr",
     "output_type": "stream",
     "text": [
      "Progress:   5% [=                          ] ETA:  0:13:34 Elapsed Time: 0:00:43\r"
     ]
    },
    {
     "name": "stdout",
     "output_type": "stream",
     "text": [
      "INFO: Query finished. [astroquery.utils.tap.core]\n"
     ]
    },
    {
     "name": "stderr",
     "output_type": "stream",
     "text": [
      "Progress:   5% [=                          ] ETA:  0:13:50 Elapsed Time: 0:00:47\r"
     ]
    },
    {
     "name": "stdout",
     "output_type": "stream",
     "text": [
      "INFO: Query finished. [astroquery.utils.tap.core]\n"
     ]
    },
    {
     "name": "stderr",
     "output_type": "stream",
     "text": [
      "Progress:   5% [=                          ] ETA:  0:13:43 Elapsed Time: 0:00:49\r"
     ]
    },
    {
     "name": "stdout",
     "output_type": "stream",
     "text": [
      "INFO: Query finished. [astroquery.utils.tap.core]\n"
     ]
    },
    {
     "name": "stderr",
     "output_type": "stream",
     "text": [
      "Progress:   5% [=                          ] ETA:  0:13:47 Elapsed Time: 0:00:52\r"
     ]
    },
    {
     "name": "stdout",
     "output_type": "stream",
     "text": [
      "INFO: Query finished. [astroquery.utils.tap.core]\n"
     ]
    },
    {
     "name": "stderr",
     "output_type": "stream",
     "text": [
      "Progress:   6% [=                          ] ETA:  0:13:33 Elapsed Time: 0:00:54\r"
     ]
    },
    {
     "name": "stdout",
     "output_type": "stream",
     "text": [
      "INFO: Query finished. [astroquery.utils.tap.core]\n"
     ]
    },
    {
     "name": "stderr",
     "output_type": "stream",
     "text": [
      "Progress:   6% [=                          ] ETA:  0:13:27 Elapsed Time: 0:00:56\r"
     ]
    },
    {
     "name": "stdout",
     "output_type": "stream",
     "text": [
      "INFO: Query finished. [astroquery.utils.tap.core]\n"
     ]
    },
    {
     "name": "stderr",
     "output_type": "stream",
     "text": [
      "Progress:   6% [=                          ] ETA:  0:13:28 Elapsed Time: 0:00:59\r"
     ]
    },
    {
     "name": "stdout",
     "output_type": "stream",
     "text": [
      "INFO: Query finished. [astroquery.utils.tap.core]\n"
     ]
    },
    {
     "name": "stderr",
     "output_type": "stream",
     "text": [
      "Progress:   7% [=                          ] ETA:  0:13:20 Elapsed Time: 0:01:01\r"
     ]
    },
    {
     "name": "stdout",
     "output_type": "stream",
     "text": [
      "INFO: Query finished. [astroquery.utils.tap.core]\n"
     ]
    },
    {
     "name": "stderr",
     "output_type": "stream",
     "text": [
      "Progress:   7% [==                         ] ETA:  0:13:22 Elapsed Time: 0:01:04\r"
     ]
    },
    {
     "name": "stdout",
     "output_type": "stream",
     "text": [
      "INFO: Query finished. [astroquery.utils.tap.core]\n"
     ]
    },
    {
     "name": "stderr",
     "output_type": "stream",
     "text": [
      "Progress:   7% [==                         ] ETA:  0:13:21 Elapsed Time: 0:01:07\r"
     ]
    },
    {
     "name": "stdout",
     "output_type": "stream",
     "text": [
      "INFO: Query finished. [astroquery.utils.tap.core]\n"
     ]
    },
    {
     "name": "stderr",
     "output_type": "stream",
     "text": [
      "Progress:   8% [==                         ] ETA:  0:13:12 Elapsed Time: 0:01:09\r"
     ]
    },
    {
     "name": "stdout",
     "output_type": "stream",
     "text": [
      "INFO: Query finished. [astroquery.utils.tap.core]\n"
     ]
    },
    {
     "name": "stderr",
     "output_type": "stream",
     "text": [
      "Progress:   8% [==                         ] ETA:  0:13:03 Elapsed Time: 0:01:11\r"
     ]
    },
    {
     "name": "stdout",
     "output_type": "stream",
     "text": [
      "INFO: Query finished. [astroquery.utils.tap.core]\n"
     ]
    },
    {
     "name": "stderr",
     "output_type": "stream",
     "text": [
      "Progress:   8% [==                         ] ETA:  0:13:00 Elapsed Time: 0:01:13\r"
     ]
    },
    {
     "name": "stdout",
     "output_type": "stream",
     "text": [
      "INFO: Query finished. [astroquery.utils.tap.core]\n"
     ]
    },
    {
     "name": "stderr",
     "output_type": "stream",
     "text": [
      "Progress:   8% [==                         ] ETA:  0:12:54 Elapsed Time: 0:01:15\r"
     ]
    },
    {
     "name": "stdout",
     "output_type": "stream",
     "text": [
      "INFO: Query finished. [astroquery.utils.tap.core]\n"
     ]
    },
    {
     "name": "stderr",
     "output_type": "stream",
     "text": [
      "Progress:   9% [==                         ] ETA:  0:12:46 Elapsed Time: 0:01:17\r"
     ]
    },
    {
     "name": "stdout",
     "output_type": "stream",
     "text": [
      "INFO: Query finished. [astroquery.utils.tap.core]\n"
     ]
    },
    {
     "name": "stderr",
     "output_type": "stream",
     "text": [
      "Progress:   9% [==                         ] ETA:  0:12:44 Elapsed Time: 0:01:20\r"
     ]
    },
    {
     "name": "stdout",
     "output_type": "stream",
     "text": [
      "INFO: Query finished. [astroquery.utils.tap.core]\n"
     ]
    },
    {
     "name": "stderr",
     "output_type": "stream",
     "text": [
      "Progress:   9% [==                         ] ETA:  0:12:38 Elapsed Time: 0:01:22\r"
     ]
    },
    {
     "name": "stdout",
     "output_type": "stream",
     "text": [
      "INFO: Query finished. [astroquery.utils.tap.core]\n"
     ]
    },
    {
     "name": "stderr",
     "output_type": "stream",
     "text": [
      "Progress:  10% [==                         ] ETA:  0:12:31 Elapsed Time: 0:01:24\r"
     ]
    },
    {
     "name": "stdout",
     "output_type": "stream",
     "text": [
      "INFO: Query finished. [astroquery.utils.tap.core]\n"
     ]
    },
    {
     "name": "stderr",
     "output_type": "stream",
     "text": [
      "Progress:  10% [==                         ] ETA:  0:12:26 Elapsed Time: 0:01:26\r"
     ]
    },
    {
     "name": "stdout",
     "output_type": "stream",
     "text": [
      "INFO: Query finished. [astroquery.utils.tap.core]\n"
     ]
    },
    {
     "name": "stderr",
     "output_type": "stream",
     "text": [
      "Progress:  10% [==                         ] ETA:  0:12:47 Elapsed Time: 0:01:32\r"
     ]
    },
    {
     "name": "stdout",
     "output_type": "stream",
     "text": [
      "INFO: Query finished. [astroquery.utils.tap.core]\n"
     ]
    },
    {
     "name": "stderr",
     "output_type": "stream",
     "text": [
      "Progress:  11% [==                         ] ETA:  0:12:39 Elapsed Time: 0:01:34\r"
     ]
    },
    {
     "name": "stdout",
     "output_type": "stream",
     "text": [
      "INFO: Query finished. [astroquery.utils.tap.core]\n"
     ]
    },
    {
     "name": "stderr",
     "output_type": "stream",
     "text": [
      "Progress:  11% [===                        ] ETA:  0:12:35 Elapsed Time: 0:01:36\r"
     ]
    },
    {
     "name": "stdout",
     "output_type": "stream",
     "text": [
      "INFO: Query finished. [astroquery.utils.tap.core]\n"
     ]
    },
    {
     "name": "stderr",
     "output_type": "stream",
     "text": [
      "Progress:  11% [===                        ] ETA:  0:12:34 Elapsed Time: 0:01:39\r"
     ]
    },
    {
     "name": "stdout",
     "output_type": "stream",
     "text": [
      "INFO: Query finished. [astroquery.utils.tap.core]\n"
     ]
    },
    {
     "name": "stderr",
     "output_type": "stream",
     "text": [
      "Progress:  11% [===                        ] ETA:  0:12:27 Elapsed Time: 0:01:41\r"
     ]
    },
    {
     "name": "stdout",
     "output_type": "stream",
     "text": [
      "INFO: Query finished. [astroquery.utils.tap.core]\n"
     ]
    },
    {
     "name": "stderr",
     "output_type": "stream",
     "text": [
      "Progress:  12% [===                        ] ETA:  0:12:21 Elapsed Time: 0:01:43\r"
     ]
    },
    {
     "name": "stdout",
     "output_type": "stream",
     "text": [
      "INFO: Query finished. [astroquery.utils.tap.core]\n"
     ]
    },
    {
     "name": "stderr",
     "output_type": "stream",
     "text": [
      "Progress:  12% [===                        ] ETA:  0:12:19 Elapsed Time: 0:01:45\r"
     ]
    },
    {
     "name": "stdout",
     "output_type": "stream",
     "text": [
      "INFO: Query finished. [astroquery.utils.tap.core]\n"
     ]
    },
    {
     "name": "stderr",
     "output_type": "stream",
     "text": [
      "Progress:  12% [===                        ] ETA:  0:12:26 Elapsed Time: 0:01:49\r"
     ]
    },
    {
     "name": "stdout",
     "output_type": "stream",
     "text": [
      "INFO: Query finished. [astroquery.utils.tap.core]\n"
     ]
    },
    {
     "name": "stderr",
     "output_type": "stream",
     "text": [
      "Progress:  13% [===                        ] ETA:  0:12:20 Elapsed Time: 0:01:51\r"
     ]
    },
    {
     "name": "stdout",
     "output_type": "stream",
     "text": [
      "INFO: Query finished. [astroquery.utils.tap.core]\n"
     ]
    },
    {
     "name": "stderr",
     "output_type": "stream",
     "text": [
      "Progress:  13% [===                        ] ETA:  0:12:15 Elapsed Time: 0:01:53\r"
     ]
    },
    {
     "name": "stdout",
     "output_type": "stream",
     "text": [
      "INFO: Query finished. [astroquery.utils.tap.core]\n"
     ]
    },
    {
     "name": "stderr",
     "output_type": "stream",
     "text": [
      "Progress:  13% [===                        ] ETA:  0:12:10 Elapsed Time: 0:01:55\r"
     ]
    },
    {
     "name": "stdout",
     "output_type": "stream",
     "text": [
      "INFO: Query finished. [astroquery.utils.tap.core]\n"
     ]
    },
    {
     "name": "stderr",
     "output_type": "stream",
     "text": [
      "Progress:  13% [===                        ] ETA:  0:12:13 Elapsed Time: 0:01:59\r"
     ]
    },
    {
     "name": "stdout",
     "output_type": "stream",
     "text": [
      "INFO: Query finished. [astroquery.utils.tap.core]\n"
     ]
    },
    {
     "name": "stderr",
     "output_type": "stream",
     "text": [
      "Progress:  14% [===                        ] ETA:  0:12:10 Elapsed Time: 0:02:01\r"
     ]
    },
    {
     "name": "stdout",
     "output_type": "stream",
     "text": [
      "INFO: Query finished. [astroquery.utils.tap.core]\n"
     ]
    },
    {
     "name": "stderr",
     "output_type": "stream",
     "text": [
      "Progress:  14% [===                        ] ETA:  0:12:10 Elapsed Time: 0:02:04\r"
     ]
    },
    {
     "name": "stdout",
     "output_type": "stream",
     "text": [
      "INFO: Query finished. [astroquery.utils.tap.core]\n"
     ]
    },
    {
     "name": "stderr",
     "output_type": "stream",
     "text": [
      "Progress:  14% [====                       ] ETA:  0:12:04 Elapsed Time: 0:02:06\r"
     ]
    },
    {
     "name": "stdout",
     "output_type": "stream",
     "text": [
      "INFO: Query finished. [astroquery.utils.tap.core]\n"
     ]
    },
    {
     "name": "stderr",
     "output_type": "stream",
     "text": [
      "Progress:  15% [====                       ] ETA:  0:11:59 Elapsed Time: 0:02:08\r"
     ]
    },
    {
     "name": "stdout",
     "output_type": "stream",
     "text": [
      "INFO: Query finished. [astroquery.utils.tap.core]\n"
     ]
    },
    {
     "name": "stderr",
     "output_type": "stream",
     "text": [
      "Progress:  15% [====                       ] ETA:  0:11:54 Elapsed Time: 0:02:10\r"
     ]
    },
    {
     "name": "stdout",
     "output_type": "stream",
     "text": [
      "INFO: Query finished. [astroquery.utils.tap.core]\n"
     ]
    },
    {
     "name": "stderr",
     "output_type": "stream",
     "text": [
      "Progress:  15% [====                       ] ETA:  0:11:51 Elapsed Time: 0:02:13\r"
     ]
    },
    {
     "name": "stdout",
     "output_type": "stream",
     "text": [
      "INFO: Query finished. [astroquery.utils.tap.core]\n"
     ]
    },
    {
     "name": "stderr",
     "output_type": "stream",
     "text": [
      "Progress:  16% [====                       ] ETA:  0:11:46 Elapsed Time: 0:02:15\r"
     ]
    },
    {
     "name": "stdout",
     "output_type": "stream",
     "text": [
      "INFO: Query finished. [astroquery.utils.tap.core]\n"
     ]
    },
    {
     "name": "stderr",
     "output_type": "stream",
     "text": [
      "Progress:  16% [====                       ] ETA:  0:11:58 Elapsed Time: 0:02:20\r"
     ]
    },
    {
     "name": "stdout",
     "output_type": "stream",
     "text": [
      "INFO: Query finished. [astroquery.utils.tap.core]\n"
     ]
    },
    {
     "name": "stderr",
     "output_type": "stream",
     "text": [
      "Progress:  16% [====                       ] ETA:  0:11:52 Elapsed Time: 0:02:22\r"
     ]
    },
    {
     "name": "stdout",
     "output_type": "stream",
     "text": [
      "INFO: Query finished. [astroquery.utils.tap.core]\n"
     ]
    },
    {
     "name": "stderr",
     "output_type": "stream",
     "text": [
      "Progress:  16% [====                       ] ETA:  0:11:47 Elapsed Time: 0:02:24\r"
     ]
    },
    {
     "name": "stdout",
     "output_type": "stream",
     "text": [
      "INFO: Query finished. [astroquery.utils.tap.core]\n"
     ]
    },
    {
     "name": "stderr",
     "output_type": "stream",
     "text": [
      "Progress:  17% [====                       ] ETA:  0:11:44 Elapsed Time: 0:02:26\r"
     ]
    },
    {
     "name": "stdout",
     "output_type": "stream",
     "text": [
      "INFO: Query finished. [astroquery.utils.tap.core]\n"
     ]
    },
    {
     "name": "stderr",
     "output_type": "stream",
     "text": [
      "Progress:  17% [====                       ] ETA:  0:11:38 Elapsed Time: 0:02:28\r"
     ]
    },
    {
     "name": "stdout",
     "output_type": "stream",
     "text": [
      "INFO: Query finished. [astroquery.utils.tap.core]\n"
     ]
    },
    {
     "name": "stderr",
     "output_type": "stream",
     "text": [
      "Progress:  17% [====                       ] ETA:  0:11:33 Elapsed Time: 0:02:30\r"
     ]
    },
    {
     "name": "stdout",
     "output_type": "stream",
     "text": [
      "INFO: Query finished. [astroquery.utils.tap.core]\n"
     ]
    },
    {
     "name": "stderr",
     "output_type": "stream",
     "text": [
      "Progress:  18% [====                       ] ETA:  0:11:28 Elapsed Time: 0:02:32\r"
     ]
    },
    {
     "name": "stdout",
     "output_type": "stream",
     "text": [
      "INFO: Query finished. [astroquery.utils.tap.core]\n"
     ]
    },
    {
     "name": "stderr",
     "output_type": "stream",
     "text": [
      "Progress:  18% [====                       ] ETA:  0:11:24 Elapsed Time: 0:02:34\r"
     ]
    },
    {
     "name": "stdout",
     "output_type": "stream",
     "text": [
      "INFO: Query finished. [astroquery.utils.tap.core]\n"
     ]
    },
    {
     "name": "stderr",
     "output_type": "stream",
     "text": [
      "Progress:  18% [=====                      ] ETA:  0:11:22 Elapsed Time: 0:02:37\r"
     ]
    },
    {
     "name": "stdout",
     "output_type": "stream",
     "text": [
      "INFO: Query finished. [astroquery.utils.tap.core]\n"
     ]
    },
    {
     "name": "stderr",
     "output_type": "stream",
     "text": [
      "Progress:  19% [=====                      ] ETA:  0:11:17 Elapsed Time: 0:02:39\r"
     ]
    },
    {
     "name": "stdout",
     "output_type": "stream",
     "text": [
      "INFO: Query finished. [astroquery.utils.tap.core]\n"
     ]
    },
    {
     "name": "stderr",
     "output_type": "stream",
     "text": [
      "Progress:  19% [=====                      ] ETA:  0:11:15 Elapsed Time: 0:02:42\r"
     ]
    },
    {
     "name": "stdout",
     "output_type": "stream",
     "text": [
      "INFO: Query finished. [astroquery.utils.tap.core]\n"
     ]
    },
    {
     "name": "stderr",
     "output_type": "stream",
     "text": [
      "Progress:  19% [=====                      ] ETA:  0:11:14 Elapsed Time: 0:02:44\r"
     ]
    },
    {
     "name": "stdout",
     "output_type": "stream",
     "text": [
      "INFO: Query finished. [astroquery.utils.tap.core]\n"
     ]
    },
    {
     "name": "stderr",
     "output_type": "stream",
     "text": [
      "Progress:  19% [=====                      ] ETA:  0:11:12 Elapsed Time: 0:02:47\r"
     ]
    },
    {
     "name": "stdout",
     "output_type": "stream",
     "text": [
      "INFO: Query finished. [astroquery.utils.tap.core]\n"
     ]
    },
    {
     "name": "stderr",
     "output_type": "stream",
     "text": [
      "Progress:  20% [=====                      ] ETA:  0:11:08 Elapsed Time: 0:02:49\r"
     ]
    },
    {
     "name": "stdout",
     "output_type": "stream",
     "text": [
      "INFO: Query finished. [astroquery.utils.tap.core]\n"
     ]
    },
    {
     "name": "stderr",
     "output_type": "stream",
     "text": [
      "Progress:  20% [=====                      ] ETA:  0:11:04 Elapsed Time: 0:02:51\r"
     ]
    },
    {
     "name": "stdout",
     "output_type": "stream",
     "text": [
      "INFO: Query finished. [astroquery.utils.tap.core]\n"
     ]
    },
    {
     "name": "stderr",
     "output_type": "stream",
     "text": [
      "Progress:  20% [=====                      ] ETA:  0:11:02 Elapsed Time: 0:02:54\r"
     ]
    },
    {
     "name": "stdout",
     "output_type": "stream",
     "text": [
      "INFO: Query finished. [astroquery.utils.tap.core]\n"
     ]
    },
    {
     "name": "stderr",
     "output_type": "stream",
     "text": [
      "Progress:  21% [=====                      ] ETA:  0:10:58 Elapsed Time: 0:02:56\r"
     ]
    },
    {
     "name": "stdout",
     "output_type": "stream",
     "text": [
      "INFO: Query finished. [astroquery.utils.tap.core]\n"
     ]
    },
    {
     "name": "stderr",
     "output_type": "stream",
     "text": [
      "Progress:  21% [=====                      ] ETA:  0:10:54 Elapsed Time: 0:02:58\r"
     ]
    },
    {
     "name": "stdout",
     "output_type": "stream",
     "text": [
      "INFO: Query finished. [astroquery.utils.tap.core]\n"
     ]
    },
    {
     "name": "stderr",
     "output_type": "stream",
     "text": [
      "Progress:  21% [=====                      ] ETA:  0:10:49 Elapsed Time: 0:03:00\r"
     ]
    },
    {
     "name": "stdout",
     "output_type": "stream",
     "text": [
      "INFO: Query finished. [astroquery.utils.tap.core]\n"
     ]
    },
    {
     "name": "stderr",
     "output_type": "stream",
     "text": [
      "Progress:  22% [=====                      ] ETA:  0:10:46 Elapsed Time: 0:03:02\r"
     ]
    },
    {
     "name": "stdout",
     "output_type": "stream",
     "text": [
      "INFO: Query finished. [astroquery.utils.tap.core]\n"
     ]
    },
    {
     "name": "stderr",
     "output_type": "stream",
     "text": [
      "Progress:  22% [======                     ] ETA:  0:10:43 Elapsed Time: 0:03:04\r"
     ]
    },
    {
     "name": "stdout",
     "output_type": "stream",
     "text": [
      "INFO: Query finished. [astroquery.utils.tap.core]\n"
     ]
    },
    {
     "name": "stderr",
     "output_type": "stream",
     "text": [
      "Progress:  22% [======                     ] ETA:  0:10:43 Elapsed Time: 0:03:08\r"
     ]
    },
    {
     "name": "stdout",
     "output_type": "stream",
     "text": [
      "INFO: Query finished. [astroquery.utils.tap.core]\n"
     ]
    },
    {
     "name": "stderr",
     "output_type": "stream",
     "text": [
      "Progress:  22% [======                     ] ETA:  0:10:39 Elapsed Time: 0:03:10\r"
     ]
    },
    {
     "name": "stdout",
     "output_type": "stream",
     "text": [
      "INFO: Query finished. [astroquery.utils.tap.core]\n"
     ]
    },
    {
     "name": "stderr",
     "output_type": "stream",
     "text": [
      "Progress:  23% [======                     ] ETA:  0:10:39 Elapsed Time: 0:03:13\r"
     ]
    },
    {
     "name": "stdout",
     "output_type": "stream",
     "text": [
      "INFO: Query finished. [astroquery.utils.tap.core]\n"
     ]
    },
    {
     "name": "stderr",
     "output_type": "stream",
     "text": [
      "Progress:  23% [======                     ] ETA:  0:10:36 Elapsed Time: 0:03:15\r"
     ]
    },
    {
     "name": "stdout",
     "output_type": "stream",
     "text": [
      "INFO: Query finished. [astroquery.utils.tap.core]\n"
     ]
    },
    {
     "name": "stderr",
     "output_type": "stream",
     "text": [
      "Progress:  23% [======                     ] ETA:  0:10:35 Elapsed Time: 0:03:18\r"
     ]
    },
    {
     "name": "stdout",
     "output_type": "stream",
     "text": [
      "INFO: Query finished. [astroquery.utils.tap.core]\n"
     ]
    },
    {
     "name": "stderr",
     "output_type": "stream",
     "text": [
      "Progress:  24% [======                     ] ETA:  0:10:41 Elapsed Time: 0:03:23\r"
     ]
    },
    {
     "name": "stdout",
     "output_type": "stream",
     "text": [
      "INFO: Query finished. [astroquery.utils.tap.core]\n"
     ]
    },
    {
     "name": "stderr",
     "output_type": "stream",
     "text": [
      "Progress:  24% [======                     ] ETA:  0:10:39 Elapsed Time: 0:03:26\r"
     ]
    },
    {
     "name": "stdout",
     "output_type": "stream",
     "text": [
      "INFO: Query finished. [astroquery.utils.tap.core]\n"
     ]
    },
    {
     "name": "stderr",
     "output_type": "stream",
     "text": [
      "Progress:  24% [======                     ] ETA:  0:10:35 Elapsed Time: 0:03:28\r"
     ]
    },
    {
     "name": "stdout",
     "output_type": "stream",
     "text": [
      "INFO: Query finished. [astroquery.utils.tap.core]\n"
     ]
    },
    {
     "name": "stderr",
     "output_type": "stream",
     "text": [
      "Progress:  25% [======                     ] ETA:  0:10:31 Elapsed Time: 0:03:30\r"
     ]
    },
    {
     "name": "stdout",
     "output_type": "stream",
     "text": [
      "INFO: Query finished. [astroquery.utils.tap.core]\n"
     ]
    },
    {
     "name": "stderr",
     "output_type": "stream",
     "text": [
      "Progress:  25% [======                     ] ETA:  0:10:27 Elapsed Time: 0:03:32\r"
     ]
    },
    {
     "name": "stdout",
     "output_type": "stream",
     "text": [
      "INFO: Query finished. [astroquery.utils.tap.core]\n"
     ]
    },
    {
     "name": "stderr",
     "output_type": "stream",
     "text": [
      "Progress:  25% [======                     ] ETA:  0:10:27 Elapsed Time: 0:03:35\r"
     ]
    },
    {
     "name": "stdout",
     "output_type": "stream",
     "text": [
      "INFO: Query finished. [astroquery.utils.tap.core]\n"
     ]
    },
    {
     "name": "stderr",
     "output_type": "stream",
     "text": [
      "Progress:  25% [======                     ] ETA:  0:10:23 Elapsed Time: 0:03:37\r"
     ]
    },
    {
     "name": "stdout",
     "output_type": "stream",
     "text": [
      "INFO: Query finished. [astroquery.utils.tap.core]\n"
     ]
    },
    {
     "name": "stderr",
     "output_type": "stream",
     "text": [
      "Progress:  26% [=======                    ] ETA:  0:10:29 Elapsed Time: 0:03:43\r"
     ]
    },
    {
     "name": "stdout",
     "output_type": "stream",
     "text": [
      "INFO: Query finished. [astroquery.utils.tap.core]\n"
     ]
    },
    {
     "name": "stderr",
     "output_type": "stream",
     "text": [
      "Progress:  26% [=======                    ] ETA:  0:10:26 Elapsed Time: 0:03:45\r"
     ]
    },
    {
     "name": "stdout",
     "output_type": "stream",
     "text": [
      "INFO: Query finished. [astroquery.utils.tap.core]\n"
     ]
    },
    {
     "name": "stderr",
     "output_type": "stream",
     "text": [
      "Progress:  26% [=======                    ] ETA:  0:10:23 Elapsed Time: 0:03:47\r"
     ]
    },
    {
     "name": "stdout",
     "output_type": "stream",
     "text": [
      "INFO: Query finished. [astroquery.utils.tap.core]\n"
     ]
    },
    {
     "name": "stderr",
     "output_type": "stream",
     "text": [
      "Progress:  27% [=======                    ] ETA:  0:10:22 Elapsed Time: 0:03:51\r"
     ]
    },
    {
     "name": "stdout",
     "output_type": "stream",
     "text": [
      "INFO: Query finished. [astroquery.utils.tap.core]\n"
     ]
    },
    {
     "name": "stderr",
     "output_type": "stream",
     "text": [
      "Progress:  27% [=======                    ] ETA:  0:10:18 Elapsed Time: 0:03:53\r"
     ]
    },
    {
     "name": "stdout",
     "output_type": "stream",
     "text": [
      "INFO: Query finished. [astroquery.utils.tap.core]\n"
     ]
    },
    {
     "name": "stderr",
     "output_type": "stream",
     "text": [
      "Progress:  27% [=======                    ] ETA:  0:10:14 Elapsed Time: 0:03:55\r"
     ]
    },
    {
     "name": "stdout",
     "output_type": "stream",
     "text": [
      "INFO: Query finished. [astroquery.utils.tap.core]\n"
     ]
    },
    {
     "name": "stderr",
     "output_type": "stream",
     "text": [
      "Progress:  27% [=======                    ] ETA:  0:10:10 Elapsed Time: 0:03:56\r"
     ]
    },
    {
     "name": "stdout",
     "output_type": "stream",
     "text": [
      "INFO: Query finished. [astroquery.utils.tap.core]\n"
     ]
    },
    {
     "name": "stderr",
     "output_type": "stream",
     "text": [
      "Progress:  28% [=======                    ] ETA:  0:10:07 Elapsed Time: 0:03:59\r"
     ]
    },
    {
     "name": "stdout",
     "output_type": "stream",
     "text": [
      "INFO: Query finished. [astroquery.utils.tap.core]\n"
     ]
    },
    {
     "name": "stderr",
     "output_type": "stream",
     "text": [
      "Progress:  28% [=======                    ] ETA:  0:10:05 Elapsed Time: 0:04:02\r"
     ]
    },
    {
     "name": "stdout",
     "output_type": "stream",
     "text": [
      "INFO: Query finished. [astroquery.utils.tap.core]\n"
     ]
    },
    {
     "name": "stderr",
     "output_type": "stream",
     "text": [
      "Progress:  28% [=======                    ] ETA:  0:10:02 Elapsed Time: 0:04:04\r"
     ]
    },
    {
     "name": "stdout",
     "output_type": "stream",
     "text": [
      "INFO: Query finished. [astroquery.utils.tap.core]\n"
     ]
    },
    {
     "name": "stderr",
     "output_type": "stream",
     "text": [
      "Progress:  29% [=======                    ] ETA:  0:09:58 Elapsed Time: 0:04:06\r"
     ]
    },
    {
     "name": "stdout",
     "output_type": "stream",
     "text": [
      "INFO: Query finished. [astroquery.utils.tap.core]\n"
     ]
    },
    {
     "name": "stderr",
     "output_type": "stream",
     "text": [
      "Progress:  29% [=======                    ] ETA:  0:09:55 Elapsed Time: 0:04:08\r"
     ]
    },
    {
     "name": "stdout",
     "output_type": "stream",
     "text": [
      "INFO: Query finished. [astroquery.utils.tap.core]\n"
     ]
    },
    {
     "name": "stderr",
     "output_type": "stream",
     "text": [
      "Progress:  29% [========                   ] ETA:  0:09:51 Elapsed Time: 0:04:10\r"
     ]
    },
    {
     "name": "stdout",
     "output_type": "stream",
     "text": [
      "INFO: Query finished. [astroquery.utils.tap.core]\n"
     ]
    },
    {
     "name": "stderr",
     "output_type": "stream",
     "text": [
      "Progress:  30% [========                   ] ETA:  0:09:48 Elapsed Time: 0:04:13\r"
     ]
    },
    {
     "name": "stdout",
     "output_type": "stream",
     "text": [
      "INFO: Query finished. [astroquery.utils.tap.core]\n"
     ]
    },
    {
     "name": "stderr",
     "output_type": "stream",
     "text": [
      "Progress:  30% [========                   ] ETA:  0:09:46 Elapsed Time: 0:04:15\r"
     ]
    },
    {
     "name": "stdout",
     "output_type": "stream",
     "text": [
      "INFO: Query finished. [astroquery.utils.tap.core]\n"
     ]
    },
    {
     "name": "stderr",
     "output_type": "stream",
     "text": [
      "Progress:  30% [========                   ] ETA:  0:09:42 Elapsed Time: 0:04:17\r"
     ]
    },
    {
     "name": "stdout",
     "output_type": "stream",
     "text": [
      "INFO: Query finished. [astroquery.utils.tap.core]\n"
     ]
    },
    {
     "name": "stderr",
     "output_type": "stream",
     "text": [
      "Progress:  30% [========                   ] ETA:  0:09:48 Elapsed Time: 0:04:23\r"
     ]
    },
    {
     "name": "stdout",
     "output_type": "stream",
     "text": [
      "INFO: Query finished. [astroquery.utils.tap.core]\n"
     ]
    },
    {
     "name": "stderr",
     "output_type": "stream",
     "text": [
      "Progress:  31% [========                   ] ETA:  0:09:45 Elapsed Time: 0:04:25\r"
     ]
    },
    {
     "name": "stdout",
     "output_type": "stream",
     "text": [
      "INFO: Query finished. [astroquery.utils.tap.core]\n"
     ]
    },
    {
     "name": "stderr",
     "output_type": "stream",
     "text": [
      "Progress:  31% [========                   ] ETA:  0:09:42 Elapsed Time: 0:04:28\r"
     ]
    },
    {
     "name": "stdout",
     "output_type": "stream",
     "text": [
      "INFO: Query finished. [astroquery.utils.tap.core]\n"
     ]
    },
    {
     "name": "stderr",
     "output_type": "stream",
     "text": [
      "Progress:  31% [========                   ] ETA:  0:09:39 Elapsed Time: 0:04:30\r"
     ]
    },
    {
     "name": "stdout",
     "output_type": "stream",
     "text": [
      "INFO: Query finished. [astroquery.utils.tap.core]\n"
     ]
    },
    {
     "name": "stderr",
     "output_type": "stream",
     "text": [
      "Progress:  32% [========                   ] ETA:  0:09:37 Elapsed Time: 0:04:33\r"
     ]
    },
    {
     "name": "stdout",
     "output_type": "stream",
     "text": [
      "INFO: Query finished. [astroquery.utils.tap.core]\n"
     ]
    },
    {
     "name": "stderr",
     "output_type": "stream",
     "text": [
      "Progress:  32% [========                   ] ETA:  0:09:40 Elapsed Time: 0:04:38\r"
     ]
    },
    {
     "name": "stdout",
     "output_type": "stream",
     "text": [
      "INFO: Query finished. [astroquery.utils.tap.core]\n"
     ]
    },
    {
     "name": "stderr",
     "output_type": "stream",
     "text": [
      "Progress:  32% [========                   ] ETA:  0:09:36 Elapsed Time: 0:04:40\r"
     ]
    },
    {
     "name": "stdout",
     "output_type": "stream",
     "text": [
      "INFO: Query finished. [astroquery.utils.tap.core]\n"
     ]
    },
    {
     "name": "stderr",
     "output_type": "stream",
     "text": [
      "Progress:  33% [========                   ] ETA:  0:09:32 Elapsed Time: 0:04:42\r"
     ]
    },
    {
     "name": "stdout",
     "output_type": "stream",
     "text": [
      "INFO: Query finished. [astroquery.utils.tap.core]\n"
     ]
    },
    {
     "name": "stderr",
     "output_type": "stream",
     "text": [
      "Progress:  33% [=========                  ] ETA:  0:09:30 Elapsed Time: 0:04:45\r"
     ]
    },
    {
     "name": "stdout",
     "output_type": "stream",
     "text": [
      "INFO: Query finished. [astroquery.utils.tap.core]\n"
     ]
    },
    {
     "name": "stderr",
     "output_type": "stream",
     "text": [
      "Progress:  33% [=========                  ] ETA:  0:09:26 Elapsed Time: 0:04:47\r"
     ]
    },
    {
     "name": "stdout",
     "output_type": "stream",
     "text": [
      "INFO: Query finished. [astroquery.utils.tap.core]\n"
     ]
    },
    {
     "name": "stderr",
     "output_type": "stream",
     "text": [
      "Progress:  33% [=========                  ] ETA:  0:09:29 Elapsed Time: 0:04:52\r"
     ]
    },
    {
     "name": "stdout",
     "output_type": "stream",
     "text": [
      "INFO: Query finished. [astroquery.utils.tap.core]\n"
     ]
    },
    {
     "name": "stderr",
     "output_type": "stream",
     "text": [
      "Progress:  34% [=========                  ] ETA:  0:09:27 Elapsed Time: 0:04:55\r"
     ]
    },
    {
     "name": "stdout",
     "output_type": "stream",
     "text": [
      "INFO: Query finished. [astroquery.utils.tap.core]\n"
     ]
    },
    {
     "name": "stderr",
     "output_type": "stream",
     "text": [
      "Progress:  34% [=========                  ] ETA:  0:09:23 Elapsed Time: 0:04:57\r"
     ]
    },
    {
     "name": "stdout",
     "output_type": "stream",
     "text": [
      "INFO: Query finished. [astroquery.utils.tap.core]\n"
     ]
    },
    {
     "name": "stderr",
     "output_type": "stream",
     "text": [
      "Progress:  34% [=========                  ] ETA:  0:09:20 Elapsed Time: 0:04:59\r"
     ]
    },
    {
     "name": "stdout",
     "output_type": "stream",
     "text": [
      "INFO: Query finished. [astroquery.utils.tap.core]\n"
     ]
    },
    {
     "name": "stderr",
     "output_type": "stream",
     "text": [
      "Progress:  35% [=========                  ] ETA:  0:09:16 Elapsed Time: 0:05:01\r"
     ]
    },
    {
     "name": "stdout",
     "output_type": "stream",
     "text": [
      "INFO: Query finished. [astroquery.utils.tap.core]\n"
     ]
    },
    {
     "name": "stderr",
     "output_type": "stream",
     "text": [
      "Progress:  35% [=========                  ] ETA:  0:09:13 Elapsed Time: 0:05:03\r"
     ]
    },
    {
     "name": "stdout",
     "output_type": "stream",
     "text": [
      "INFO: Query finished. [astroquery.utils.tap.core]\n"
     ]
    },
    {
     "name": "stderr",
     "output_type": "stream",
     "text": [
      "Progress:  35% [=========                  ] ETA:  0:09:12 Elapsed Time: 0:05:06\r"
     ]
    },
    {
     "name": "stdout",
     "output_type": "stream",
     "text": [
      "INFO: Query finished. [astroquery.utils.tap.core]\n"
     ]
    },
    {
     "name": "stderr",
     "output_type": "stream",
     "text": [
      "Progress:  36% [=========                  ] ETA:  0:09:11 Elapsed Time: 0:05:10\r"
     ]
    },
    {
     "name": "stdout",
     "output_type": "stream",
     "text": [
      "INFO: Query finished. [astroquery.utils.tap.core]\n"
     ]
    },
    {
     "name": "stderr",
     "output_type": "stream",
     "text": [
      "Progress:  36% [=========                  ] ETA:  0:09:09 Elapsed Time: 0:05:13\r"
     ]
    },
    {
     "name": "stdout",
     "output_type": "stream",
     "text": [
      "INFO: Query finished. [astroquery.utils.tap.core]\n"
     ]
    },
    {
     "name": "stderr",
     "output_type": "stream",
     "text": [
      "Progress:  36% [=========                  ] ETA:  0:09:06 Elapsed Time: 0:05:15\r"
     ]
    },
    {
     "name": "stdout",
     "output_type": "stream",
     "text": [
      "INFO: Query finished. [astroquery.utils.tap.core]\n"
     ]
    },
    {
     "name": "stderr",
     "output_type": "stream",
     "text": [
      "Progress:  36% [=========                  ] ETA:  0:09:02 Elapsed Time: 0:05:17\r"
     ]
    },
    {
     "name": "stdout",
     "output_type": "stream",
     "text": [
      "INFO: Query finished. [astroquery.utils.tap.core]\n"
     ]
    },
    {
     "name": "stderr",
     "output_type": "stream",
     "text": [
      "Progress:  37% [==========                 ] ETA:  0:08:59 Elapsed Time: 0:05:19\r"
     ]
    },
    {
     "name": "stdout",
     "output_type": "stream",
     "text": [
      "INFO: Query finished. [astroquery.utils.tap.core]\n"
     ]
    },
    {
     "name": "stderr",
     "output_type": "stream",
     "text": [
      "Progress:  37% [==========                 ] ETA:  0:08:56 Elapsed Time: 0:05:21\r"
     ]
    },
    {
     "name": "stdout",
     "output_type": "stream",
     "text": [
      "INFO: Query finished. [astroquery.utils.tap.core]\n"
     ]
    },
    {
     "name": "stderr",
     "output_type": "stream",
     "text": [
      "Progress:  37% [==========                 ] ETA:  0:08:54 Elapsed Time: 0:05:24\r"
     ]
    },
    {
     "name": "stdout",
     "output_type": "stream",
     "text": [
      "INFO: Query finished. [astroquery.utils.tap.core]\n"
     ]
    },
    {
     "name": "stderr",
     "output_type": "stream",
     "text": [
      "Progress:  38% [==========                 ] ETA:  0:08:50 Elapsed Time: 0:05:26\r"
     ]
    },
    {
     "name": "stdout",
     "output_type": "stream",
     "text": [
      "INFO: Query finished. [astroquery.utils.tap.core]\n"
     ]
    },
    {
     "name": "stderr",
     "output_type": "stream",
     "text": [
      "Progress:  38% [==========                 ] ETA:  0:08:46 Elapsed Time: 0:05:28\r"
     ]
    },
    {
     "name": "stdout",
     "output_type": "stream",
     "text": [
      "INFO: Query finished. [astroquery.utils.tap.core]\n"
     ]
    },
    {
     "name": "stderr",
     "output_type": "stream",
     "text": [
      "Progress:  38% [==========                 ] ETA:  0:08:44 Elapsed Time: 0:05:30\r"
     ]
    },
    {
     "name": "stdout",
     "output_type": "stream",
     "text": [
      "INFO: Query finished. [astroquery.utils.tap.core]\n"
     ]
    },
    {
     "name": "stderr",
     "output_type": "stream",
     "text": [
      "Progress:  38% [==========                 ] ETA:  0:08:40 Elapsed Time: 0:05:32\r"
     ]
    },
    {
     "name": "stdout",
     "output_type": "stream",
     "text": [
      "INFO: Query finished. [astroquery.utils.tap.core]\n"
     ]
    },
    {
     "name": "stderr",
     "output_type": "stream",
     "text": [
      "Progress:  39% [==========                 ] ETA:  0:08:37 Elapsed Time: 0:05:35\r"
     ]
    },
    {
     "name": "stdout",
     "output_type": "stream",
     "text": [
      "INFO: Query finished. [astroquery.utils.tap.core]\n"
     ]
    },
    {
     "name": "stderr",
     "output_type": "stream",
     "text": [
      "Progress:  39% [==========                 ] ETA:  0:08:35 Elapsed Time: 0:05:37\r"
     ]
    },
    {
     "name": "stdout",
     "output_type": "stream",
     "text": [
      "INFO: Query finished. [astroquery.utils.tap.core]\n"
     ]
    },
    {
     "name": "stderr",
     "output_type": "stream",
     "text": [
      "Progress:  39% [==========                 ] ETA:  0:08:32 Elapsed Time: 0:05:39\r"
     ]
    },
    {
     "name": "stdout",
     "output_type": "stream",
     "text": [
      "INFO: Query finished. [astroquery.utils.tap.core]\n"
     ]
    },
    {
     "name": "stderr",
     "output_type": "stream",
     "text": [
      "Progress:  40% [==========                 ] ETA:  0:08:29 Elapsed Time: 0:05:42\r"
     ]
    },
    {
     "name": "stdout",
     "output_type": "stream",
     "text": [
      "INFO: Query finished. [astroquery.utils.tap.core]\n"
     ]
    },
    {
     "name": "stderr",
     "output_type": "stream",
     "text": [
      "Progress:  40% [==========                 ] ETA:  0:08:26 Elapsed Time: 0:05:44\r"
     ]
    },
    {
     "name": "stdout",
     "output_type": "stream",
     "text": [
      "INFO: Query finished. [astroquery.utils.tap.core]\n"
     ]
    },
    {
     "name": "stderr",
     "output_type": "stream",
     "text": [
      "Progress:  40% [===========                ] ETA:  0:08:23 Elapsed Time: 0:05:46\r"
     ]
    },
    {
     "name": "stdout",
     "output_type": "stream",
     "text": [
      "INFO: Query finished. [astroquery.utils.tap.core]\n"
     ]
    },
    {
     "name": "stderr",
     "output_type": "stream",
     "text": [
      "Progress:  41% [===========                ] ETA:  0:08:20 Elapsed Time: 0:05:48\r"
     ]
    },
    {
     "name": "stdout",
     "output_type": "stream",
     "text": [
      "INFO: Query finished. [astroquery.utils.tap.core]\n"
     ]
    },
    {
     "name": "stderr",
     "output_type": "stream",
     "text": [
      "Progress:  41% [===========                ] ETA:  0:08:17 Elapsed Time: 0:05:51\r"
     ]
    },
    {
     "name": "stdout",
     "output_type": "stream",
     "text": [
      "INFO: Query finished. [astroquery.utils.tap.core]\n"
     ]
    },
    {
     "name": "stderr",
     "output_type": "stream",
     "text": [
      "Progress:  41% [===========                ] ETA:  0:08:14 Elapsed Time: 0:05:53\r"
     ]
    },
    {
     "name": "stdout",
     "output_type": "stream",
     "text": [
      "INFO: Query finished. [astroquery.utils.tap.core]\n"
     ]
    },
    {
     "name": "stderr",
     "output_type": "stream",
     "text": [
      "Progress:  41% [===========                ] ETA:  0:08:11 Elapsed Time: 0:05:55\r"
     ]
    },
    {
     "name": "stdout",
     "output_type": "stream",
     "text": [
      "INFO: Query finished. [astroquery.utils.tap.core]\n"
     ]
    },
    {
     "name": "stderr",
     "output_type": "stream",
     "text": [
      "Progress:  42% [===========                ] ETA:  0:08:09 Elapsed Time: 0:05:58\r"
     ]
    },
    {
     "name": "stdout",
     "output_type": "stream",
     "text": [
      "INFO: Query finished. [astroquery.utils.tap.core]\n"
     ]
    },
    {
     "name": "stderr",
     "output_type": "stream",
     "text": [
      "Progress:  42% [===========                ] ETA:  0:08:06 Elapsed Time: 0:06:00\r"
     ]
    },
    {
     "name": "stdout",
     "output_type": "stream",
     "text": [
      "INFO: Query finished. [astroquery.utils.tap.core]\n"
     ]
    },
    {
     "name": "stderr",
     "output_type": "stream",
     "text": [
      "Progress:  42% [===========                ] ETA:  0:08:03 Elapsed Time: 0:06:02\r"
     ]
    },
    {
     "name": "stdout",
     "output_type": "stream",
     "text": [
      "INFO: Query finished. [astroquery.utils.tap.core]\n"
     ]
    },
    {
     "name": "stderr",
     "output_type": "stream",
     "text": [
      "Progress:  43% [===========                ] ETA:  0:08:00 Elapsed Time: 0:06:04\r"
     ]
    },
    {
     "name": "stdout",
     "output_type": "stream",
     "text": [
      "INFO: Query finished. [astroquery.utils.tap.core]\n"
     ]
    },
    {
     "name": "stderr",
     "output_type": "stream",
     "text": [
      "Progress:  43% [===========                ] ETA:  0:07:57 Elapsed Time: 0:06:07\r"
     ]
    },
    {
     "name": "stdout",
     "output_type": "stream",
     "text": [
      "INFO: Query finished. [astroquery.utils.tap.core]\n"
     ]
    },
    {
     "name": "stderr",
     "output_type": "stream",
     "text": [
      "Progress:  43% [===========                ] ETA:  0:07:54 Elapsed Time: 0:06:09\r"
     ]
    },
    {
     "name": "stdout",
     "output_type": "stream",
     "text": [
      "INFO: Query finished. [astroquery.utils.tap.core]\n"
     ]
    },
    {
     "name": "stderr",
     "output_type": "stream",
     "text": [
      "Progress:  44% [===========                ] ETA:  0:07:52 Elapsed Time: 0:06:11\r"
     ]
    },
    {
     "name": "stdout",
     "output_type": "stream",
     "text": [
      "INFO: Query finished. [astroquery.utils.tap.core]\n"
     ]
    },
    {
     "name": "stderr",
     "output_type": "stream",
     "text": [
      "Progress:  44% [===========                ] ETA:  0:07:49 Elapsed Time: 0:06:14\r"
     ]
    },
    {
     "name": "stdout",
     "output_type": "stream",
     "text": [
      "INFO: Query finished. [astroquery.utils.tap.core]\n"
     ]
    },
    {
     "name": "stderr",
     "output_type": "stream",
     "text": [
      "Progress:  44% [============               ] ETA:  0:07:46 Elapsed Time: 0:06:16\r"
     ]
    },
    {
     "name": "stdout",
     "output_type": "stream",
     "text": [
      "INFO: Query finished. [astroquery.utils.tap.core]\n"
     ]
    },
    {
     "name": "stderr",
     "output_type": "stream",
     "text": [
      "Progress:  44% [============               ] ETA:  0:07:43 Elapsed Time: 0:06:18\r"
     ]
    },
    {
     "name": "stdout",
     "output_type": "stream",
     "text": [
      "INFO: Query finished. [astroquery.utils.tap.core]\n"
     ]
    },
    {
     "name": "stderr",
     "output_type": "stream",
     "text": [
      "Progress:  45% [============               ] ETA:  0:07:40 Elapsed Time: 0:06:20\r"
     ]
    },
    {
     "name": "stdout",
     "output_type": "stream",
     "text": [
      "INFO: Query finished. [astroquery.utils.tap.core]\n"
     ]
    },
    {
     "name": "stderr",
     "output_type": "stream",
     "text": [
      "Progress:  45% [============               ] ETA:  0:07:37 Elapsed Time: 0:06:22\r"
     ]
    },
    {
     "name": "stdout",
     "output_type": "stream",
     "text": [
      "INFO: Query finished. [astroquery.utils.tap.core]\n"
     ]
    },
    {
     "name": "stderr",
     "output_type": "stream",
     "text": [
      "Progress:  45% [============               ] ETA:  0:07:37 Elapsed Time: 0:06:27\r"
     ]
    },
    {
     "name": "stdout",
     "output_type": "stream",
     "text": [
      "INFO: Query finished. [astroquery.utils.tap.core]\n"
     ]
    },
    {
     "name": "stderr",
     "output_type": "stream",
     "text": [
      "Progress:  46% [============               ] ETA:  0:07:34 Elapsed Time: 0:06:29\r"
     ]
    },
    {
     "name": "stdout",
     "output_type": "stream",
     "text": [
      "INFO: Query finished. [astroquery.utils.tap.core]\n"
     ]
    },
    {
     "name": "stderr",
     "output_type": "stream",
     "text": [
      "Progress:  46% [============               ] ETA:  0:07:31 Elapsed Time: 0:06:31\r"
     ]
    },
    {
     "name": "stdout",
     "output_type": "stream",
     "text": [
      "INFO: Query finished. [astroquery.utils.tap.core]\n"
     ]
    },
    {
     "name": "stderr",
     "output_type": "stream",
     "text": [
      "Progress:  46% [============               ] ETA:  0:07:29 Elapsed Time: 0:06:34\r"
     ]
    },
    {
     "name": "stdout",
     "output_type": "stream",
     "text": [
      "INFO: Query finished. [astroquery.utils.tap.core]\n"
     ]
    },
    {
     "name": "stderr",
     "output_type": "stream",
     "text": [
      "Progress:  47% [============               ] ETA:  0:07:27 Elapsed Time: 0:06:37\r"
     ]
    },
    {
     "name": "stdout",
     "output_type": "stream",
     "text": [
      "INFO: Query finished. [astroquery.utils.tap.core]\n"
     ]
    },
    {
     "name": "stderr",
     "output_type": "stream",
     "text": [
      "Progress:  47% [============               ] ETA:  0:07:24 Elapsed Time: 0:06:39\r"
     ]
    },
    {
     "name": "stdout",
     "output_type": "stream",
     "text": [
      "INFO: Query finished. [astroquery.utils.tap.core]\n"
     ]
    },
    {
     "name": "stderr",
     "output_type": "stream",
     "text": [
      "Progress:  47% [============               ] ETA:  0:07:21 Elapsed Time: 0:06:41\r"
     ]
    },
    {
     "name": "stdout",
     "output_type": "stream",
     "text": [
      "INFO: Query finished. [astroquery.utils.tap.core]\n"
     ]
    },
    {
     "name": "stderr",
     "output_type": "stream",
     "text": [
      "Progress:  47% [============               ] ETA:  0:07:18 Elapsed Time: 0:06:43\r"
     ]
    },
    {
     "name": "stdout",
     "output_type": "stream",
     "text": [
      "INFO: Query finished. [astroquery.utils.tap.core]\n"
     ]
    },
    {
     "name": "stderr",
     "output_type": "stream",
     "text": [
      "Progress:  48% [=============              ] ETA:  0:07:19 Elapsed Time: 0:06:48\r"
     ]
    },
    {
     "name": "stdout",
     "output_type": "stream",
     "text": [
      "INFO: Query finished. [astroquery.utils.tap.core]\n"
     ]
    },
    {
     "name": "stderr",
     "output_type": "stream",
     "text": [
      "Progress:  48% [=============              ] ETA:  0:07:16 Elapsed Time: 0:06:50\r"
     ]
    },
    {
     "name": "stdout",
     "output_type": "stream",
     "text": [
      "INFO: Query finished. [astroquery.utils.tap.core]\n"
     ]
    },
    {
     "name": "stderr",
     "output_type": "stream",
     "text": [
      "Progress:  48% [=============              ] ETA:  0:07:16 Elapsed Time: 0:06:56\r"
     ]
    },
    {
     "name": "stdout",
     "output_type": "stream",
     "text": [
      "INFO: Query finished. [astroquery.utils.tap.core]\n"
     ]
    },
    {
     "name": "stderr",
     "output_type": "stream",
     "text": [
      "Progress:  49% [=============              ] ETA:  0:07:14 Elapsed Time: 0:06:58\r"
     ]
    },
    {
     "name": "stdout",
     "output_type": "stream",
     "text": [
      "INFO: Query finished. [astroquery.utils.tap.core]\n"
     ]
    },
    {
     "name": "stderr",
     "output_type": "stream",
     "text": [
      "Progress:  49% [=============              ] ETA:  0:07:11 Elapsed Time: 0:07:01\r"
     ]
    },
    {
     "name": "stdout",
     "output_type": "stream",
     "text": [
      "INFO: Query finished. [astroquery.utils.tap.core]\n"
     ]
    },
    {
     "name": "stderr",
     "output_type": "stream",
     "text": [
      "Progress:  49% [=============              ] ETA:  0:07:08 Elapsed Time: 0:07:03\r"
     ]
    },
    {
     "name": "stdout",
     "output_type": "stream",
     "text": [
      "INFO: Query finished. [astroquery.utils.tap.core]\n"
     ]
    },
    {
     "name": "stderr",
     "output_type": "stream",
     "text": [
      "Progress:  50% [=============              ] ETA:  0:07:08 Elapsed Time: 0:07:08\r"
     ]
    },
    {
     "name": "stdout",
     "output_type": "stream",
     "text": [
      "INFO: Query finished. [astroquery.utils.tap.core]\n"
     ]
    },
    {
     "name": "stderr",
     "output_type": "stream",
     "text": [
      "Progress:  50% [=============              ] ETA:  0:07:05 Elapsed Time: 0:07:11\r"
     ]
    },
    {
     "name": "stdout",
     "output_type": "stream",
     "text": [
      "INFO: Query finished. [astroquery.utils.tap.core]\n"
     ]
    },
    {
     "name": "stderr",
     "output_type": "stream",
     "text": [
      "Progress:  50% [=============              ] ETA:  0:07:06 Elapsed Time: 0:07:17\r"
     ]
    },
    {
     "name": "stdout",
     "output_type": "stream",
     "text": [
      "INFO: Query finished. [astroquery.utils.tap.core]\n"
     ]
    },
    {
     "name": "stderr",
     "output_type": "stream",
     "text": [
      "Progress:  50% [=============              ] ETA:  0:07:03 Elapsed Time: 0:07:19\r"
     ]
    },
    {
     "name": "stdout",
     "output_type": "stream",
     "text": [
      "INFO: Query finished. [astroquery.utils.tap.core]\n"
     ]
    },
    {
     "name": "stderr",
     "output_type": "stream",
     "text": [
      "Progress:  51% [=============              ] ETA:  0:07:01 Elapsed Time: 0:07:21\r"
     ]
    },
    {
     "name": "stdout",
     "output_type": "stream",
     "text": [
      "INFO: Query finished. [astroquery.utils.tap.core]\n"
     ]
    },
    {
     "name": "stderr",
     "output_type": "stream",
     "text": [
      "Progress:  51% [=============              ] ETA:  0:06:58 Elapsed Time: 0:07:23\r"
     ]
    },
    {
     "name": "stdout",
     "output_type": "stream",
     "text": [
      "INFO: Query finished. [astroquery.utils.tap.core]\n"
     ]
    },
    {
     "name": "stderr",
     "output_type": "stream",
     "text": [
      "Progress:  51% [=============              ] ETA:  0:06:55 Elapsed Time: 0:07:25\r"
     ]
    },
    {
     "name": "stdout",
     "output_type": "stream",
     "text": [
      "INFO: Query finished. [astroquery.utils.tap.core]\n"
     ]
    },
    {
     "name": "stderr",
     "output_type": "stream",
     "text": [
      "Progress:  52% [==============             ] ETA:  0:06:52 Elapsed Time: 0:07:28\r"
     ]
    },
    {
     "name": "stdout",
     "output_type": "stream",
     "text": [
      "INFO: Query finished. [astroquery.utils.tap.core]\n"
     ]
    },
    {
     "name": "stderr",
     "output_type": "stream",
     "text": [
      "Progress:  52% [==============             ] ETA:  0:06:49 Elapsed Time: 0:07:30\r"
     ]
    },
    {
     "name": "stdout",
     "output_type": "stream",
     "text": [
      "INFO: Query finished. [astroquery.utils.tap.core]\n"
     ]
    },
    {
     "name": "stderr",
     "output_type": "stream",
     "text": [
      "Progress:  52% [==============             ] ETA:  0:06:46 Elapsed Time: 0:07:32\r"
     ]
    },
    {
     "name": "stdout",
     "output_type": "stream",
     "text": [
      "INFO: Query finished. [astroquery.utils.tap.core]\n"
     ]
    },
    {
     "name": "stderr",
     "output_type": "stream",
     "text": [
      "Progress:  52% [==============             ] ETA:  0:06:43 Elapsed Time: 0:07:34\r"
     ]
    },
    {
     "name": "stdout",
     "output_type": "stream",
     "text": [
      "INFO: Query finished. [astroquery.utils.tap.core]\n"
     ]
    },
    {
     "name": "stderr",
     "output_type": "stream",
     "text": [
      "Progress:  53% [==============             ] ETA:  0:06:40 Elapsed Time: 0:07:36\r"
     ]
    },
    {
     "name": "stdout",
     "output_type": "stream",
     "text": [
      "INFO: Query finished. [astroquery.utils.tap.core]\n"
     ]
    },
    {
     "name": "stderr",
     "output_type": "stream",
     "text": [
      "Progress:  53% [==============             ] ETA:  0:06:37 Elapsed Time: 0:07:38\r"
     ]
    },
    {
     "name": "stdout",
     "output_type": "stream",
     "text": [
      "INFO: Query finished. [astroquery.utils.tap.core]\n"
     ]
    },
    {
     "name": "stderr",
     "output_type": "stream",
     "text": [
      "Progress:  53% [==============             ] ETA:  0:06:34 Elapsed Time: 0:07:40\r"
     ]
    },
    {
     "name": "stdout",
     "output_type": "stream",
     "text": [
      "INFO: Query finished. [astroquery.utils.tap.core]\n"
     ]
    },
    {
     "name": "stderr",
     "output_type": "stream",
     "text": [
      "Progress:  54% [==============             ] ETA:  0:06:32 Elapsed Time: 0:07:43\r"
     ]
    },
    {
     "name": "stdout",
     "output_type": "stream",
     "text": [
      "INFO: Query finished. [astroquery.utils.tap.core]\n"
     ]
    },
    {
     "name": "stderr",
     "output_type": "stream",
     "text": [
      "Progress:  54% [==============             ] ETA:  0:06:29 Elapsed Time: 0:07:45\r"
     ]
    },
    {
     "name": "stdout",
     "output_type": "stream",
     "text": [
      "INFO: Query finished. [astroquery.utils.tap.core]\n"
     ]
    },
    {
     "name": "stderr",
     "output_type": "stream",
     "text": [
      "Progress:  54% [==============             ] ETA:  0:06:26 Elapsed Time: 0:07:47\r"
     ]
    },
    {
     "name": "stdout",
     "output_type": "stream",
     "text": [
      "INFO: Query finished. [astroquery.utils.tap.core]\n"
     ]
    },
    {
     "name": "stderr",
     "output_type": "stream",
     "text": [
      "Progress:  55% [==============             ] ETA:  0:06:23 Elapsed Time: 0:07:50\r"
     ]
    },
    {
     "name": "stdout",
     "output_type": "stream",
     "text": [
      "INFO: Query finished. [astroquery.utils.tap.core]\n"
     ]
    },
    {
     "name": "stderr",
     "output_type": "stream",
     "text": [
      "Progress:  55% [==============             ] ETA:  0:06:23 Elapsed Time: 0:07:55\r"
     ]
    },
    {
     "name": "stdout",
     "output_type": "stream",
     "text": [
      "INFO: Query finished. [astroquery.utils.tap.core]\n"
     ]
    },
    {
     "name": "stderr",
     "output_type": "stream",
     "text": [
      "Progress:  55% [===============            ] ETA:  0:06:20 Elapsed Time: 0:07:57\r"
     ]
    },
    {
     "name": "stdout",
     "output_type": "stream",
     "text": [
      "INFO: Query finished. [astroquery.utils.tap.core]\n"
     ]
    },
    {
     "name": "stderr",
     "output_type": "stream",
     "text": [
      "Progress:  55% [===============            ] ETA:  0:06:17 Elapsed Time: 0:07:59\r"
     ]
    },
    {
     "name": "stdout",
     "output_type": "stream",
     "text": [
      "INFO: Query finished. [astroquery.utils.tap.core]\n"
     ]
    },
    {
     "name": "stderr",
     "output_type": "stream",
     "text": [
      "Progress:  56% [===============            ] ETA:  0:06:15 Elapsed Time: 0:08:02\r"
     ]
    },
    {
     "name": "stdout",
     "output_type": "stream",
     "text": [
      "INFO: Query finished. [astroquery.utils.tap.core]\n"
     ]
    },
    {
     "name": "stderr",
     "output_type": "stream",
     "text": [
      "Progress:  56% [===============            ] ETA:  0:06:12 Elapsed Time: 0:08:04\r"
     ]
    },
    {
     "name": "stdout",
     "output_type": "stream",
     "text": [
      "INFO: Query finished. [astroquery.utils.tap.core]\n"
     ]
    },
    {
     "name": "stderr",
     "output_type": "stream",
     "text": [
      "Progress:  56% [===============            ] ETA:  0:06:09 Elapsed Time: 0:08:06\r"
     ]
    },
    {
     "name": "stdout",
     "output_type": "stream",
     "text": [
      "INFO: Query finished. [astroquery.utils.tap.core]\n"
     ]
    },
    {
     "name": "stderr",
     "output_type": "stream",
     "text": [
      "Progress:  57% [===============            ] ETA:  0:06:06 Elapsed Time: 0:08:08\r"
     ]
    },
    {
     "name": "stdout",
     "output_type": "stream",
     "text": [
      "INFO: Query finished. [astroquery.utils.tap.core]\n"
     ]
    },
    {
     "name": "stderr",
     "output_type": "stream",
     "text": [
      "Progress:  57% [===============            ] ETA:  0:06:03 Elapsed Time: 0:08:11\r"
     ]
    },
    {
     "name": "stdout",
     "output_type": "stream",
     "text": [
      "INFO: Query finished. [astroquery.utils.tap.core]\n"
     ]
    },
    {
     "name": "stderr",
     "output_type": "stream",
     "text": [
      "Progress:  57% [===============            ] ETA:  0:06:03 Elapsed Time: 0:08:16\r"
     ]
    },
    {
     "name": "stdout",
     "output_type": "stream",
     "text": [
      "INFO: Query finished. [astroquery.utils.tap.core]\n"
     ]
    },
    {
     "name": "stderr",
     "output_type": "stream",
     "text": [
      "Progress:  58% [===============            ] ETA:  0:06:00 Elapsed Time: 0:08:18\r"
     ]
    },
    {
     "name": "stdout",
     "output_type": "stream",
     "text": [
      "INFO: Query finished. [astroquery.utils.tap.core]\n"
     ]
    },
    {
     "name": "stderr",
     "output_type": "stream",
     "text": [
      "Progress:  58% [===============            ] ETA:  0:05:57 Elapsed Time: 0:08:20\r"
     ]
    },
    {
     "name": "stdout",
     "output_type": "stream",
     "text": [
      "INFO: Query finished. [astroquery.utils.tap.core]\n"
     ]
    },
    {
     "name": "stderr",
     "output_type": "stream",
     "text": [
      "Progress:  58% [===============            ] ETA:  0:05:54 Elapsed Time: 0:08:22\r"
     ]
    },
    {
     "name": "stdout",
     "output_type": "stream",
     "text": [
      "INFO: Query finished. [astroquery.utils.tap.core]\n"
     ]
    },
    {
     "name": "stderr",
     "output_type": "stream",
     "text": [
      "Progress:  58% [===============            ] ETA:  0:05:51 Elapsed Time: 0:08:24\r"
     ]
    },
    {
     "name": "stdout",
     "output_type": "stream",
     "text": [
      "INFO: Query finished. [astroquery.utils.tap.core]\n"
     ]
    },
    {
     "name": "stderr",
     "output_type": "stream",
     "text": [
      "Progress:  59% [===============            ] ETA:  0:05:49 Elapsed Time: 0:08:27\r"
     ]
    },
    {
     "name": "stdout",
     "output_type": "stream",
     "text": [
      "INFO: Query finished. [astroquery.utils.tap.core]\n"
     ]
    },
    {
     "name": "stderr",
     "output_type": "stream",
     "text": [
      "Progress:  59% [================           ] ETA:  0:05:48 Elapsed Time: 0:08:32\r"
     ]
    },
    {
     "name": "stdout",
     "output_type": "stream",
     "text": [
      "INFO: Query finished. [astroquery.utils.tap.core]\n"
     ]
    },
    {
     "name": "stderr",
     "output_type": "stream",
     "text": [
      "Progress:  59% [================           ] ETA:  0:05:45 Elapsed Time: 0:08:34\r"
     ]
    },
    {
     "name": "stdout",
     "output_type": "stream",
     "text": [
      "INFO: Query finished. [astroquery.utils.tap.core]\n"
     ]
    },
    {
     "name": "stderr",
     "output_type": "stream",
     "text": [
      "Progress:  60% [================           ] ETA:  0:05:42 Elapsed Time: 0:08:36\r"
     ]
    },
    {
     "name": "stdout",
     "output_type": "stream",
     "text": [
      "INFO: Query finished. [astroquery.utils.tap.core]\n"
     ]
    },
    {
     "name": "stderr",
     "output_type": "stream",
     "text": [
      "Progress:  60% [================           ] ETA:  0:05:39 Elapsed Time: 0:08:38\r"
     ]
    },
    {
     "name": "stdout",
     "output_type": "stream",
     "text": [
      "INFO: Query finished. [astroquery.utils.tap.core]\n"
     ]
    },
    {
     "name": "stderr",
     "output_type": "stream",
     "text": [
      "Progress:  60% [================           ] ETA:  0:05:37 Elapsed Time: 0:08:41\r"
     ]
    },
    {
     "name": "stdout",
     "output_type": "stream",
     "text": [
      "INFO: Query finished. [astroquery.utils.tap.core]\n"
     ]
    },
    {
     "name": "stderr",
     "output_type": "stream",
     "text": [
      "Progress:  61% [================           ] ETA:  0:05:34 Elapsed Time: 0:08:43\r"
     ]
    },
    {
     "name": "stdout",
     "output_type": "stream",
     "text": [
      "INFO: Query finished. [astroquery.utils.tap.core]\n"
     ]
    },
    {
     "name": "stderr",
     "output_type": "stream",
     "text": [
      "Progress:  61% [================           ] ETA:  0:05:31 Elapsed Time: 0:08:45\r"
     ]
    },
    {
     "name": "stdout",
     "output_type": "stream",
     "text": [
      "INFO: Query finished. [astroquery.utils.tap.core]\n"
     ]
    },
    {
     "name": "stderr",
     "output_type": "stream",
     "text": [
      "Progress:  61% [================           ] ETA:  0:05:29 Elapsed Time: 0:08:48\r"
     ]
    },
    {
     "name": "stdout",
     "output_type": "stream",
     "text": [
      "INFO: Query finished. [astroquery.utils.tap.core]\n"
     ]
    },
    {
     "name": "stderr",
     "output_type": "stream",
     "text": [
      "Progress:  61% [================           ] ETA:  0:05:26 Elapsed Time: 0:08:50\r"
     ]
    },
    {
     "name": "stdout",
     "output_type": "stream",
     "text": [
      "INFO: Query finished. [astroquery.utils.tap.core]\n"
     ]
    },
    {
     "name": "stderr",
     "output_type": "stream",
     "text": [
      "Progress:  62% [================           ] ETA:  0:05:23 Elapsed Time: 0:08:52\r"
     ]
    },
    {
     "name": "stdout",
     "output_type": "stream",
     "text": [
      "INFO: Query finished. [astroquery.utils.tap.core]\n"
     ]
    },
    {
     "name": "stderr",
     "output_type": "stream",
     "text": [
      "Progress:  62% [================           ] ETA:  0:05:20 Elapsed Time: 0:08:54\r"
     ]
    },
    {
     "name": "stdout",
     "output_type": "stream",
     "text": [
      "INFO: Query finished. [astroquery.utils.tap.core]\n"
     ]
    },
    {
     "name": "stderr",
     "output_type": "stream",
     "text": [
      "Progress:  62% [================           ] ETA:  0:05:17 Elapsed Time: 0:08:56\r"
     ]
    },
    {
     "name": "stdout",
     "output_type": "stream",
     "text": [
      "INFO: Query finished. [astroquery.utils.tap.core]\n"
     ]
    },
    {
     "name": "stderr",
     "output_type": "stream",
     "text": [
      "Progress:  63% [=================          ] ETA:  0:05:15 Elapsed Time: 0:08:59\r"
     ]
    },
    {
     "name": "stdout",
     "output_type": "stream",
     "text": [
      "INFO: Query finished. [astroquery.utils.tap.core]\n"
     ]
    },
    {
     "name": "stderr",
     "output_type": "stream",
     "text": [
      "Progress:  63% [=================          ] ETA:  0:05:12 Elapsed Time: 0:09:01\r"
     ]
    },
    {
     "name": "stdout",
     "output_type": "stream",
     "text": [
      "INFO: Query finished. [astroquery.utils.tap.core]\n"
     ]
    },
    {
     "name": "stderr",
     "output_type": "stream",
     "text": [
      "Progress:  63% [=================          ] ETA:  0:05:09 Elapsed Time: 0:09:03\r"
     ]
    },
    {
     "name": "stdout",
     "output_type": "stream",
     "text": [
      "INFO: Query finished. [astroquery.utils.tap.core]\n"
     ]
    },
    {
     "name": "stderr",
     "output_type": "stream",
     "text": [
      "Progress:  63% [=================          ] ETA:  0:05:07 Elapsed Time: 0:09:05\r"
     ]
    },
    {
     "name": "stdout",
     "output_type": "stream",
     "text": [
      "INFO: Query finished. [astroquery.utils.tap.core]\n"
     ]
    },
    {
     "name": "stderr",
     "output_type": "stream",
     "text": [
      "Progress:  64% [=================          ] ETA:  0:05:04 Elapsed Time: 0:09:07\r"
     ]
    },
    {
     "name": "stdout",
     "output_type": "stream",
     "text": [
      "INFO: Query finished. [astroquery.utils.tap.core]\n"
     ]
    },
    {
     "name": "stderr",
     "output_type": "stream",
     "text": [
      "Progress:  64% [=================          ] ETA:  0:05:01 Elapsed Time: 0:09:09\r"
     ]
    },
    {
     "name": "stdout",
     "output_type": "stream",
     "text": [
      "INFO: Query finished. [astroquery.utils.tap.core]\n"
     ]
    },
    {
     "name": "stderr",
     "output_type": "stream",
     "text": [
      "Progress:  64% [=================          ] ETA:  0:04:58 Elapsed Time: 0:09:11\r"
     ]
    },
    {
     "name": "stdout",
     "output_type": "stream",
     "text": [
      "INFO: Query finished. [astroquery.utils.tap.core]\n"
     ]
    },
    {
     "name": "stderr",
     "output_type": "stream",
     "text": [
      "Progress:  65% [=================          ] ETA:  0:04:56 Elapsed Time: 0:09:14\r"
     ]
    },
    {
     "name": "stdout",
     "output_type": "stream",
     "text": [
      "INFO: Query finished. [astroquery.utils.tap.core]\n"
     ]
    },
    {
     "name": "stderr",
     "output_type": "stream",
     "text": [
      "Progress:  65% [=================          ] ETA:  0:04:53 Elapsed Time: 0:09:16\r"
     ]
    },
    {
     "name": "stdout",
     "output_type": "stream",
     "text": [
      "INFO: Query finished. [astroquery.utils.tap.core]\n"
     ]
    },
    {
     "name": "stderr",
     "output_type": "stream",
     "text": [
      "Progress:  65% [=================          ] ETA:  0:04:50 Elapsed Time: 0:09:18\r"
     ]
    },
    {
     "name": "stdout",
     "output_type": "stream",
     "text": [
      "INFO: Query finished. [astroquery.utils.tap.core]\n"
     ]
    },
    {
     "name": "stderr",
     "output_type": "stream",
     "text": [
      "Progress:  66% [=================          ] ETA:  0:04:47 Elapsed Time: 0:09:20\r"
     ]
    },
    {
     "name": "stdout",
     "output_type": "stream",
     "text": [
      "INFO: Query finished. [astroquery.utils.tap.core]\n"
     ]
    },
    {
     "name": "stderr",
     "output_type": "stream",
     "text": [
      "Progress:  66% [=================          ] ETA:  0:04:45 Elapsed Time: 0:09:23\r"
     ]
    },
    {
     "name": "stdout",
     "output_type": "stream",
     "text": [
      "INFO: Query finished. [astroquery.utils.tap.core]\n"
     ]
    },
    {
     "name": "stderr",
     "output_type": "stream",
     "text": [
      "Progress:  66% [==================         ] ETA:  0:04:42 Elapsed Time: 0:09:25\r"
     ]
    },
    {
     "name": "stdout",
     "output_type": "stream",
     "text": [
      "INFO: Query finished. [astroquery.utils.tap.core]\n"
     ]
    },
    {
     "name": "stderr",
     "output_type": "stream",
     "text": [
      "Progress:  66% [==================         ] ETA:  0:04:39 Elapsed Time: 0:09:27\r"
     ]
    },
    {
     "name": "stdout",
     "output_type": "stream",
     "text": [
      "INFO: Query finished. [astroquery.utils.tap.core]\n"
     ]
    },
    {
     "name": "stderr",
     "output_type": "stream",
     "text": [
      "Progress:  67% [==================         ] ETA:  0:04:37 Elapsed Time: 0:09:29\r"
     ]
    },
    {
     "name": "stdout",
     "output_type": "stream",
     "text": [
      "INFO: Query finished. [astroquery.utils.tap.core]\n"
     ]
    },
    {
     "name": "stderr",
     "output_type": "stream",
     "text": [
      "Progress:  67% [==================         ] ETA:  0:04:34 Elapsed Time: 0:09:32\r"
     ]
    },
    {
     "name": "stdout",
     "output_type": "stream",
     "text": [
      "INFO: Query finished. [astroquery.utils.tap.core]\n"
     ]
    },
    {
     "name": "stderr",
     "output_type": "stream",
     "text": [
      "Progress:  67% [==================         ] ETA:  0:04:31 Elapsed Time: 0:09:34\r"
     ]
    },
    {
     "name": "stdout",
     "output_type": "stream",
     "text": [
      "INFO: Query finished. [astroquery.utils.tap.core]\n"
     ]
    },
    {
     "name": "stderr",
     "output_type": "stream",
     "text": [
      "Progress:  68% [==================         ] ETA:  0:04:29 Elapsed Time: 0:09:36\r"
     ]
    },
    {
     "name": "stdout",
     "output_type": "stream",
     "text": [
      "INFO: Query finished. [astroquery.utils.tap.core]\n"
     ]
    },
    {
     "name": "stderr",
     "output_type": "stream",
     "text": [
      "Progress:  68% [==================         ] ETA:  0:04:26 Elapsed Time: 0:09:38\r"
     ]
    },
    {
     "name": "stdout",
     "output_type": "stream",
     "text": [
      "INFO: Query finished. [astroquery.utils.tap.core]\n"
     ]
    },
    {
     "name": "stderr",
     "output_type": "stream",
     "text": [
      "Progress:  68% [==================         ] ETA:  0:04:23 Elapsed Time: 0:09:40\r"
     ]
    },
    {
     "name": "stdout",
     "output_type": "stream",
     "text": [
      "INFO: Query finished. [astroquery.utils.tap.core]\n"
     ]
    },
    {
     "name": "stderr",
     "output_type": "stream",
     "text": [
      "Progress:  69% [==================         ] ETA:  0:04:21 Elapsed Time: 0:09:42\r"
     ]
    },
    {
     "name": "stdout",
     "output_type": "stream",
     "text": [
      "INFO: Query finished. [astroquery.utils.tap.core]\n"
     ]
    },
    {
     "name": "stderr",
     "output_type": "stream",
     "text": [
      "Progress:  69% [==================         ] ETA:  0:04:18 Elapsed Time: 0:09:44\r"
     ]
    },
    {
     "name": "stdout",
     "output_type": "stream",
     "text": [
      "INFO: Query finished. [astroquery.utils.tap.core]\n"
     ]
    },
    {
     "name": "stderr",
     "output_type": "stream",
     "text": [
      "Progress:  69% [==================         ] ETA:  0:04:15 Elapsed Time: 0:09:46\r"
     ]
    },
    {
     "name": "stdout",
     "output_type": "stream",
     "text": [
      "INFO: Query finished. [astroquery.utils.tap.core]\n"
     ]
    },
    {
     "name": "stderr",
     "output_type": "stream",
     "text": [
      "Progress:  69% [==================         ] ETA:  0:04:13 Elapsed Time: 0:09:49\r"
     ]
    },
    {
     "name": "stdout",
     "output_type": "stream",
     "text": [
      "INFO: Query finished. [astroquery.utils.tap.core]\n"
     ]
    },
    {
     "name": "stderr",
     "output_type": "stream",
     "text": [
      "Progress:  70% [==================         ] ETA:  0:04:11 Elapsed Time: 0:09:52\r"
     ]
    },
    {
     "name": "stdout",
     "output_type": "stream",
     "text": [
      "INFO: Query finished. [astroquery.utils.tap.core]\n"
     ]
    },
    {
     "name": "stderr",
     "output_type": "stream",
     "text": [
      "Progress:  70% [===================        ] ETA:  0:04:08 Elapsed Time: 0:09:54\r"
     ]
    },
    {
     "name": "stdout",
     "output_type": "stream",
     "text": [
      "INFO: Query finished. [astroquery.utils.tap.core]\n"
     ]
    },
    {
     "name": "stderr",
     "output_type": "stream",
     "text": [
      "Progress:  70% [===================        ] ETA:  0:04:05 Elapsed Time: 0:09:57\r"
     ]
    },
    {
     "name": "stdout",
     "output_type": "stream",
     "text": [
      "INFO: Query finished. [astroquery.utils.tap.core]\n"
     ]
    },
    {
     "name": "stderr",
     "output_type": "stream",
     "text": [
      "Progress:  71% [===================        ] ETA:  0:04:03 Elapsed Time: 0:09:59\r"
     ]
    },
    {
     "name": "stdout",
     "output_type": "stream",
     "text": [
      "INFO: Query finished. [astroquery.utils.tap.core]\n"
     ]
    },
    {
     "name": "stderr",
     "output_type": "stream",
     "text": [
      "Progress:  71% [===================        ] ETA:  0:04:00 Elapsed Time: 0:10:02\r"
     ]
    },
    {
     "name": "stdout",
     "output_type": "stream",
     "text": [
      "INFO: Query finished. [astroquery.utils.tap.core]\n"
     ]
    },
    {
     "name": "stderr",
     "output_type": "stream",
     "text": [
      "Progress:  71% [===================        ] ETA:  0:03:58 Elapsed Time: 0:10:04\r"
     ]
    },
    {
     "name": "stdout",
     "output_type": "stream",
     "text": [
      "INFO: Query finished. [astroquery.utils.tap.core]\n"
     ]
    },
    {
     "name": "stderr",
     "output_type": "stream",
     "text": [
      "Progress:  72% [===================        ] ETA:  0:03:55 Elapsed Time: 0:10:06\r"
     ]
    },
    {
     "name": "stdout",
     "output_type": "stream",
     "text": [
      "INFO: Query finished. [astroquery.utils.tap.core]\n"
     ]
    },
    {
     "name": "stderr",
     "output_type": "stream",
     "text": [
      "Progress:  72% [===================        ] ETA:  0:03:53 Elapsed Time: 0:10:08\r"
     ]
    },
    {
     "name": "stdout",
     "output_type": "stream",
     "text": [
      "INFO: Query finished. [astroquery.utils.tap.core]\n"
     ]
    },
    {
     "name": "stderr",
     "output_type": "stream",
     "text": [
      "Progress:  72% [===================        ] ETA:  0:03:50 Elapsed Time: 0:10:11\r"
     ]
    },
    {
     "name": "stdout",
     "output_type": "stream",
     "text": [
      "INFO: Query finished. [astroquery.utils.tap.core]\n"
     ]
    },
    {
     "name": "stderr",
     "output_type": "stream",
     "text": [
      "Progress:  72% [===================        ] ETA:  0:03:47 Elapsed Time: 0:10:13\r"
     ]
    },
    {
     "name": "stdout",
     "output_type": "stream",
     "text": [
      "INFO: Query finished. [astroquery.utils.tap.core]\n"
     ]
    },
    {
     "name": "stderr",
     "output_type": "stream",
     "text": [
      "Progress:  73% [===================        ] ETA:  0:03:45 Elapsed Time: 0:10:15\r"
     ]
    },
    {
     "name": "stdout",
     "output_type": "stream",
     "text": [
      "INFO: Query finished. [astroquery.utils.tap.core]\n"
     ]
    },
    {
     "name": "stderr",
     "output_type": "stream",
     "text": [
      "Progress:  73% [===================        ] ETA:  0:03:42 Elapsed Time: 0:10:18\r"
     ]
    },
    {
     "name": "stdout",
     "output_type": "stream",
     "text": [
      "INFO: Query finished. [astroquery.utils.tap.core]\n"
     ]
    },
    {
     "name": "stderr",
     "output_type": "stream",
     "text": [
      "Progress:  73% [===================        ] ETA:  0:03:40 Elapsed Time: 0:10:21\r"
     ]
    },
    {
     "name": "stdout",
     "output_type": "stream",
     "text": [
      "INFO: Query finished. [astroquery.utils.tap.core]\n"
     ]
    },
    {
     "name": "stderr",
     "output_type": "stream",
     "text": [
      "Progress:  74% [====================       ] ETA:  0:03:37 Elapsed Time: 0:10:23\r"
     ]
    },
    {
     "name": "stdout",
     "output_type": "stream",
     "text": [
      "INFO: Query finished. [astroquery.utils.tap.core]\n"
     ]
    },
    {
     "name": "stderr",
     "output_type": "stream",
     "text": [
      "Progress:  74% [====================       ] ETA:  0:03:35 Elapsed Time: 0:10:25\r"
     ]
    },
    {
     "name": "stdout",
     "output_type": "stream",
     "text": [
      "INFO: Query finished. [astroquery.utils.tap.core]\n"
     ]
    },
    {
     "name": "stderr",
     "output_type": "stream",
     "text": [
      "Progress:  74% [====================       ] ETA:  0:03:32 Elapsed Time: 0:10:27\r"
     ]
    },
    {
     "name": "stdout",
     "output_type": "stream",
     "text": [
      "INFO: Query finished. [astroquery.utils.tap.core]\n"
     ]
    },
    {
     "name": "stderr",
     "output_type": "stream",
     "text": [
      "Progress:  75% [====================       ] ETA:  0:03:29 Elapsed Time: 0:10:29\r"
     ]
    },
    {
     "name": "stdout",
     "output_type": "stream",
     "text": [
      "INFO: Query finished. [astroquery.utils.tap.core]\n"
     ]
    },
    {
     "name": "stderr",
     "output_type": "stream",
     "text": [
      "Progress:  75% [====================       ] ETA:  0:03:27 Elapsed Time: 0:10:31\r"
     ]
    },
    {
     "name": "stdout",
     "output_type": "stream",
     "text": [
      "INFO: Query finished. [astroquery.utils.tap.core]\n"
     ]
    },
    {
     "name": "stderr",
     "output_type": "stream",
     "text": [
      "Progress:  75% [====================       ] ETA:  0:03:24 Elapsed Time: 0:10:34\r"
     ]
    },
    {
     "name": "stdout",
     "output_type": "stream",
     "text": [
      "INFO: Query finished. [astroquery.utils.tap.core]\n"
     ]
    },
    {
     "name": "stderr",
     "output_type": "stream",
     "text": [
      "Progress:  75% [====================       ] ETA:  0:03:22 Elapsed Time: 0:10:36\r"
     ]
    },
    {
     "name": "stdout",
     "output_type": "stream",
     "text": [
      "INFO: Query finished. [astroquery.utils.tap.core]\n"
     ]
    },
    {
     "name": "stderr",
     "output_type": "stream",
     "text": [
      "Progress:  76% [====================       ] ETA:  0:03:19 Elapsed Time: 0:10:38\r"
     ]
    },
    {
     "name": "stdout",
     "output_type": "stream",
     "text": [
      "INFO: Query finished. [astroquery.utils.tap.core]\n"
     ]
    },
    {
     "name": "stderr",
     "output_type": "stream",
     "text": [
      "Progress:  76% [====================       ] ETA:  0:03:16 Elapsed Time: 0:10:40\r"
     ]
    },
    {
     "name": "stdout",
     "output_type": "stream",
     "text": [
      "INFO: Query finished. [astroquery.utils.tap.core]\n"
     ]
    },
    {
     "name": "stderr",
     "output_type": "stream",
     "text": [
      "Progress:  76% [====================       ] ETA:  0:03:14 Elapsed Time: 0:10:43\r"
     ]
    },
    {
     "name": "stdout",
     "output_type": "stream",
     "text": [
      "INFO: Query finished. [astroquery.utils.tap.core]\n"
     ]
    },
    {
     "name": "stderr",
     "output_type": "stream",
     "text": [
      "Progress:  77% [====================       ] ETA:  0:03:11 Elapsed Time: 0:10:45\r"
     ]
    },
    {
     "name": "stdout",
     "output_type": "stream",
     "text": [
      "INFO: Query finished. [astroquery.utils.tap.core]\n"
     ]
    },
    {
     "name": "stderr",
     "output_type": "stream",
     "text": [
      "Progress:  77% [====================       ] ETA:  0:03:09 Elapsed Time: 0:10:47\r"
     ]
    },
    {
     "name": "stdout",
     "output_type": "stream",
     "text": [
      "INFO: Query finished. [astroquery.utils.tap.core]\n"
     ]
    },
    {
     "name": "stderr",
     "output_type": "stream",
     "text": [
      "Progress:  77% [====================       ] ETA:  0:03:06 Elapsed Time: 0:10:49\r"
     ]
    },
    {
     "name": "stdout",
     "output_type": "stream",
     "text": [
      "INFO: Query finished. [astroquery.utils.tap.core]\n"
     ]
    },
    {
     "name": "stderr",
     "output_type": "stream",
     "text": [
      "Progress:  77% [=====================      ] ETA:  0:03:04 Elapsed Time: 0:10:52\r"
     ]
    },
    {
     "name": "stdout",
     "output_type": "stream",
     "text": [
      "INFO: Query finished. [astroquery.utils.tap.core]\n"
     ]
    },
    {
     "name": "stderr",
     "output_type": "stream",
     "text": [
      "Progress:  78% [=====================      ] ETA:  0:03:01 Elapsed Time: 0:10:54\r"
     ]
    },
    {
     "name": "stdout",
     "output_type": "stream",
     "text": [
      "INFO: Query finished. [astroquery.utils.tap.core]\n"
     ]
    },
    {
     "name": "stderr",
     "output_type": "stream",
     "text": [
      "Progress:  78% [=====================      ] ETA:  0:02:59 Elapsed Time: 0:10:58\r"
     ]
    },
    {
     "name": "stdout",
     "output_type": "stream",
     "text": [
      "INFO: Query finished. [astroquery.utils.tap.core]\n"
     ]
    },
    {
     "name": "stderr",
     "output_type": "stream",
     "text": [
      "Progress:  78% [=====================      ] ETA:  0:02:56 Elapsed Time: 0:11:00\r"
     ]
    },
    {
     "name": "stdout",
     "output_type": "stream",
     "text": [
      "INFO: Query finished. [astroquery.utils.tap.core]\n"
     ]
    },
    {
     "name": "stderr",
     "output_type": "stream",
     "text": [
      "Progress:  79% [=====================      ] ETA:  0:02:54 Elapsed Time: 0:11:02\r"
     ]
    },
    {
     "name": "stdout",
     "output_type": "stream",
     "text": [
      "INFO: Query finished. [astroquery.utils.tap.core]\n"
     ]
    },
    {
     "name": "stderr",
     "output_type": "stream",
     "text": [
      "Progress:  79% [=====================      ] ETA:  0:02:52 Elapsed Time: 0:11:08\r"
     ]
    },
    {
     "name": "stdout",
     "output_type": "stream",
     "text": [
      "INFO: Query finished. [astroquery.utils.tap.core]\n"
     ]
    },
    {
     "name": "stderr",
     "output_type": "stream",
     "text": [
      "Progress:  79% [=====================      ] ETA:  0:02:50 Elapsed Time: 0:11:10\r"
     ]
    },
    {
     "name": "stdout",
     "output_type": "stream",
     "text": [
      "INFO: Query finished. [astroquery.utils.tap.core]\n"
     ]
    },
    {
     "name": "stderr",
     "output_type": "stream",
     "text": [
      "Progress:  80% [=====================      ] ETA:  0:02:47 Elapsed Time: 0:11:12\r"
     ]
    },
    {
     "name": "stdout",
     "output_type": "stream",
     "text": [
      "INFO: Query finished. [astroquery.utils.tap.core]\n"
     ]
    },
    {
     "name": "stderr",
     "output_type": "stream",
     "text": [
      "Progress:  80% [=====================      ] ETA:  0:02:44 Elapsed Time: 0:11:14\r"
     ]
    },
    {
     "name": "stdout",
     "output_type": "stream",
     "text": [
      "INFO: Query finished. [astroquery.utils.tap.core]\n"
     ]
    },
    {
     "name": "stderr",
     "output_type": "stream",
     "text": [
      "Progress:  80% [=====================      ] ETA:  0:02:42 Elapsed Time: 0:11:17\r"
     ]
    },
    {
     "name": "stdout",
     "output_type": "stream",
     "text": [
      "INFO: Query finished. [astroquery.utils.tap.core]\n"
     ]
    },
    {
     "name": "stderr",
     "output_type": "stream",
     "text": [
      "Progress:  80% [=====================      ] ETA:  0:02:39 Elapsed Time: 0:11:19\r"
     ]
    },
    {
     "name": "stdout",
     "output_type": "stream",
     "text": [
      "INFO: Query finished. [astroquery.utils.tap.core]\n"
     ]
    },
    {
     "name": "stderr",
     "output_type": "stream",
     "text": [
      "Progress:  81% [=====================      ] ETA:  0:02:37 Elapsed Time: 0:11:21\r"
     ]
    },
    {
     "name": "stdout",
     "output_type": "stream",
     "text": [
      "INFO: Query finished. [astroquery.utils.tap.core]\n"
     ]
    },
    {
     "name": "stderr",
     "output_type": "stream",
     "text": [
      "Progress:  81% [======================     ] ETA:  0:02:34 Elapsed Time: 0:11:24\r"
     ]
    },
    {
     "name": "stdout",
     "output_type": "stream",
     "text": [
      "INFO: Query finished. [astroquery.utils.tap.core]\n"
     ]
    },
    {
     "name": "stderr",
     "output_type": "stream",
     "text": [
      "Progress:  81% [======================     ] ETA:  0:02:32 Elapsed Time: 0:11:27\r"
     ]
    },
    {
     "name": "stdout",
     "output_type": "stream",
     "text": [
      "INFO: Query finished. [astroquery.utils.tap.core]\n"
     ]
    },
    {
     "name": "stderr",
     "output_type": "stream",
     "text": [
      "Progress:  82% [======================     ] ETA:  0:02:29 Elapsed Time: 0:11:29\r"
     ]
    },
    {
     "name": "stdout",
     "output_type": "stream",
     "text": [
      "INFO: Query finished. [astroquery.utils.tap.core]\n"
     ]
    },
    {
     "name": "stderr",
     "output_type": "stream",
     "text": [
      "Progress:  82% [======================     ] ETA:  0:02:27 Elapsed Time: 0:11:33\r"
     ]
    },
    {
     "name": "stdout",
     "output_type": "stream",
     "text": [
      "INFO: Query finished. [astroquery.utils.tap.core]\n"
     ]
    },
    {
     "name": "stderr",
     "output_type": "stream",
     "text": [
      "Progress:  82% [======================     ] ETA:  0:02:25 Elapsed Time: 0:11:36\r"
     ]
    },
    {
     "name": "stdout",
     "output_type": "stream",
     "text": [
      "INFO: Query finished. [astroquery.utils.tap.core]\n"
     ]
    },
    {
     "name": "stderr",
     "output_type": "stream",
     "text": [
      "Progress:  83% [======================     ] ETA:  0:02:22 Elapsed Time: 0:11:38\r"
     ]
    },
    {
     "name": "stdout",
     "output_type": "stream",
     "text": [
      "INFO: Query finished. [astroquery.utils.tap.core]\n"
     ]
    },
    {
     "name": "stderr",
     "output_type": "stream",
     "text": [
      "Progress:  83% [======================     ] ETA:  0:02:20 Elapsed Time: 0:11:40\r"
     ]
    },
    {
     "name": "stdout",
     "output_type": "stream",
     "text": [
      "INFO: Query finished. [astroquery.utils.tap.core]\n"
     ]
    },
    {
     "name": "stderr",
     "output_type": "stream",
     "text": [
      "Progress:  83% [======================     ] ETA:  0:02:17 Elapsed Time: 0:11:42\r"
     ]
    },
    {
     "name": "stdout",
     "output_type": "stream",
     "text": [
      "INFO: Query finished. [astroquery.utils.tap.core]\n"
     ]
    },
    {
     "name": "stderr",
     "output_type": "stream",
     "text": [
      "Progress:  83% [======================     ] ETA:  0:02:14 Elapsed Time: 0:11:44\r"
     ]
    },
    {
     "name": "stdout",
     "output_type": "stream",
     "text": [
      "INFO: Query finished. [astroquery.utils.tap.core]\n"
     ]
    },
    {
     "name": "stderr",
     "output_type": "stream",
     "text": [
      "Progress:  84% [======================     ] ETA:  0:02:12 Elapsed Time: 0:11:47\r"
     ]
    },
    {
     "name": "stdout",
     "output_type": "stream",
     "text": [
      "INFO: Query finished. [astroquery.utils.tap.core]\n"
     ]
    },
    {
     "name": "stderr",
     "output_type": "stream",
     "text": [
      "Progress:  84% [======================     ] ETA:  0:02:09 Elapsed Time: 0:11:49\r"
     ]
    },
    {
     "name": "stdout",
     "output_type": "stream",
     "text": [
      "INFO: Query finished. [astroquery.utils.tap.core]\n"
     ]
    },
    {
     "name": "stderr",
     "output_type": "stream",
     "text": [
      "Progress:  84% [======================     ] ETA:  0:02:07 Elapsed Time: 0:11:51\r"
     ]
    },
    {
     "name": "stdout",
     "output_type": "stream",
     "text": [
      "INFO: Query finished. [astroquery.utils.tap.core]\n"
     ]
    },
    {
     "name": "stderr",
     "output_type": "stream",
     "text": [
      "Progress:  85% [======================     ] ETA:  0:02:04 Elapsed Time: 0:11:53\r"
     ]
    },
    {
     "name": "stdout",
     "output_type": "stream",
     "text": [
      "INFO: Query finished. [astroquery.utils.tap.core]\n"
     ]
    },
    {
     "name": "stderr",
     "output_type": "stream",
     "text": [
      "Progress:  85% [=======================    ] ETA:  0:02:02 Elapsed Time: 0:11:56\r"
     ]
    },
    {
     "name": "stdout",
     "output_type": "stream",
     "text": [
      "INFO: Query finished. [astroquery.utils.tap.core]\n"
     ]
    },
    {
     "name": "stderr",
     "output_type": "stream",
     "text": [
      "Progress:  85% [=======================    ] ETA:  0:01:59 Elapsed Time: 0:11:59\r"
     ]
    },
    {
     "name": "stdout",
     "output_type": "stream",
     "text": [
      "INFO: Query finished. [astroquery.utils.tap.core]\n"
     ]
    },
    {
     "name": "stderr",
     "output_type": "stream",
     "text": [
      "Progress:  86% [=======================    ] ETA:  0:01:57 Elapsed Time: 0:12:01\r"
     ]
    },
    {
     "name": "stdout",
     "output_type": "stream",
     "text": [
      "INFO: Query finished. [astroquery.utils.tap.core]\n"
     ]
    },
    {
     "name": "stderr",
     "output_type": "stream",
     "text": [
      "Progress:  86% [=======================    ] ETA:  0:01:54 Elapsed Time: 0:12:03\r"
     ]
    },
    {
     "name": "stdout",
     "output_type": "stream",
     "text": [
      "INFO: Query finished. [astroquery.utils.tap.core]\n"
     ]
    },
    {
     "name": "stderr",
     "output_type": "stream",
     "text": [
      "Progress:  86% [=======================    ] ETA:  0:01:52 Elapsed Time: 0:12:05\r"
     ]
    },
    {
     "name": "stdout",
     "output_type": "stream",
     "text": [
      "INFO: Query finished. [astroquery.utils.tap.core]\n"
     ]
    },
    {
     "name": "stderr",
     "output_type": "stream",
     "text": [
      "Progress:  86% [=======================    ] ETA:  0:01:49 Elapsed Time: 0:12:08\r"
     ]
    },
    {
     "name": "stdout",
     "output_type": "stream",
     "text": [
      "INFO: Query finished. [astroquery.utils.tap.core]\n"
     ]
    },
    {
     "name": "stderr",
     "output_type": "stream",
     "text": [
      "Progress:  87% [=======================    ] ETA:  0:01:47 Elapsed Time: 0:12:10\r"
     ]
    },
    {
     "name": "stdout",
     "output_type": "stream",
     "text": [
      "INFO: Query finished. [astroquery.utils.tap.core]\n"
     ]
    },
    {
     "name": "stderr",
     "output_type": "stream",
     "text": [
      "Progress:  87% [=======================    ] ETA:  0:01:44 Elapsed Time: 0:12:12\r"
     ]
    },
    {
     "name": "stdout",
     "output_type": "stream",
     "text": [
      "INFO: Query finished. [astroquery.utils.tap.core]\n"
     ]
    },
    {
     "name": "stderr",
     "output_type": "stream",
     "text": [
      "Progress:  87% [=======================    ] ETA:  0:01:42 Elapsed Time: 0:12:18\r"
     ]
    },
    {
     "name": "stdout",
     "output_type": "stream",
     "text": [
      "INFO: Query finished. [astroquery.utils.tap.core]\n"
     ]
    },
    {
     "name": "stderr",
     "output_type": "stream",
     "text": [
      "Progress:  88% [=======================    ] ETA:  0:01:40 Elapsed Time: 0:12:20\r"
     ]
    },
    {
     "name": "stdout",
     "output_type": "stream",
     "text": [
      "INFO: Query finished. [astroquery.utils.tap.core]\n"
     ]
    },
    {
     "name": "stderr",
     "output_type": "stream",
     "text": [
      "Progress:  88% [=======================    ] ETA:  0:01:37 Elapsed Time: 0:12:22\r"
     ]
    },
    {
     "name": "stdout",
     "output_type": "stream",
     "text": [
      "INFO: Query finished. [astroquery.utils.tap.core]\n"
     ]
    },
    {
     "name": "stderr",
     "output_type": "stream",
     "text": [
      "Progress:  88% [=======================    ] ETA:  0:01:34 Elapsed Time: 0:12:24\r"
     ]
    },
    {
     "name": "stdout",
     "output_type": "stream",
     "text": [
      "INFO: Query finished. [astroquery.utils.tap.core]\n"
     ]
    },
    {
     "name": "stderr",
     "output_type": "stream",
     "text": [
      "Progress:  88% [========================   ] ETA:  0:01:32 Elapsed Time: 0:12:27\r"
     ]
    },
    {
     "name": "stdout",
     "output_type": "stream",
     "text": [
      "INFO: Query finished. [astroquery.utils.tap.core]\n"
     ]
    },
    {
     "name": "stderr",
     "output_type": "stream",
     "text": [
      "Progress:  89% [========================   ] ETA:  0:01:29 Elapsed Time: 0:12:29\r"
     ]
    },
    {
     "name": "stdout",
     "output_type": "stream",
     "text": [
      "INFO: Query finished. [astroquery.utils.tap.core]\n"
     ]
    },
    {
     "name": "stderr",
     "output_type": "stream",
     "text": [
      "Progress:  89% [========================   ] ETA:  0:01:27 Elapsed Time: 0:12:32\r"
     ]
    },
    {
     "name": "stdout",
     "output_type": "stream",
     "text": [
      "INFO: Query finished. [astroquery.utils.tap.core]\n"
     ]
    },
    {
     "name": "stderr",
     "output_type": "stream",
     "text": [
      "Progress:  89% [========================   ] ETA:  0:01:24 Elapsed Time: 0:12:34\r"
     ]
    },
    {
     "name": "stdout",
     "output_type": "stream",
     "text": [
      "INFO: Query finished. [astroquery.utils.tap.core]\n"
     ]
    },
    {
     "name": "stderr",
     "output_type": "stream",
     "text": [
      "Progress:  90% [========================   ] ETA:  0:01:22 Elapsed Time: 0:12:39\r"
     ]
    },
    {
     "name": "stdout",
     "output_type": "stream",
     "text": [
      "INFO: Query finished. [astroquery.utils.tap.core]\n"
     ]
    },
    {
     "name": "stderr",
     "output_type": "stream",
     "text": [
      "Progress:  90% [========================   ] ETA:  0:01:20 Elapsed Time: 0:12:41\r"
     ]
    },
    {
     "name": "stdout",
     "output_type": "stream",
     "text": [
      "INFO: Query finished. [astroquery.utils.tap.core]\n"
     ]
    },
    {
     "name": "stderr",
     "output_type": "stream",
     "text": [
      "Progress:  90% [========================   ] ETA:  0:01:17 Elapsed Time: 0:12:44\r"
     ]
    },
    {
     "name": "stdout",
     "output_type": "stream",
     "text": [
      "INFO: Query finished. [astroquery.utils.tap.core]\n"
     ]
    },
    {
     "name": "stderr",
     "output_type": "stream",
     "text": [
      "Progress:  91% [========================   ] ETA:  0:01:15 Elapsed Time: 0:12:46\r"
     ]
    },
    {
     "name": "stdout",
     "output_type": "stream",
     "text": [
      "INFO: Query finished. [astroquery.utils.tap.core]\n"
     ]
    },
    {
     "name": "stderr",
     "output_type": "stream",
     "text": [
      "Progress:  91% [========================   ] ETA:  0:01:12 Elapsed Time: 0:12:51\r"
     ]
    },
    {
     "name": "stdout",
     "output_type": "stream",
     "text": [
      "INFO: Query finished. [astroquery.utils.tap.core]\n"
     ]
    },
    {
     "name": "stderr",
     "output_type": "stream",
     "text": [
      "Progress:  91% [========================   ] ETA:  0:01:10 Elapsed Time: 0:12:53\r"
     ]
    },
    {
     "name": "stdout",
     "output_type": "stream",
     "text": [
      "INFO: Query finished. [astroquery.utils.tap.core]\n"
     ]
    },
    {
     "name": "stderr",
     "output_type": "stream",
     "text": [
      "Progress:  91% [========================   ] ETA:  0:01:07 Elapsed Time: 0:12:55\r"
     ]
    },
    {
     "name": "stdout",
     "output_type": "stream",
     "text": [
      "INFO: Query finished. [astroquery.utils.tap.core]\n"
     ]
    },
    {
     "name": "stderr",
     "output_type": "stream",
     "text": [
      "Progress:  92% [========================   ] ETA:  0:01:05 Elapsed Time: 0:12:57\r"
     ]
    },
    {
     "name": "stdout",
     "output_type": "stream",
     "text": [
      "INFO: Query finished. [astroquery.utils.tap.core]\n"
     ]
    },
    {
     "name": "stderr",
     "output_type": "stream",
     "text": [
      "Progress:  92% [========================   ] ETA:  0:01:02 Elapsed Time: 0:13:00\r"
     ]
    },
    {
     "name": "stdout",
     "output_type": "stream",
     "text": [
      "INFO: Query finished. [astroquery.utils.tap.core]\n"
     ]
    },
    {
     "name": "stderr",
     "output_type": "stream",
     "text": [
      "Progress:  92% [=========================  ] ETA:  0:01:00 Elapsed Time: 0:13:02\r"
     ]
    },
    {
     "name": "stdout",
     "output_type": "stream",
     "text": [
      "INFO: Query finished. [astroquery.utils.tap.core]\n"
     ]
    },
    {
     "name": "stderr",
     "output_type": "stream",
     "text": [
      "Progress:  93% [=========================  ] ETA:  0:00:57 Elapsed Time: 0:13:04\r"
     ]
    },
    {
     "name": "stdout",
     "output_type": "stream",
     "text": [
      "INFO: Query finished. [astroquery.utils.tap.core]\n"
     ]
    },
    {
     "name": "stderr",
     "output_type": "stream",
     "text": [
      "Progress:  93% [=========================  ] ETA:  0:00:55 Elapsed Time: 0:13:07\r"
     ]
    },
    {
     "name": "stdout",
     "output_type": "stream",
     "text": [
      "INFO: Query finished. [astroquery.utils.tap.core]\n"
     ]
    },
    {
     "name": "stderr",
     "output_type": "stream",
     "text": [
      "Progress:  93% [=========================  ] ETA:  0:00:52 Elapsed Time: 0:13:09\r"
     ]
    },
    {
     "name": "stdout",
     "output_type": "stream",
     "text": [
      "INFO: Query finished. [astroquery.utils.tap.core]\n"
     ]
    },
    {
     "name": "stderr",
     "output_type": "stream",
     "text": [
      "Progress:  94% [=========================  ] ETA:  0:00:50 Elapsed Time: 0:13:11\r"
     ]
    },
    {
     "name": "stdout",
     "output_type": "stream",
     "text": [
      "INFO: Query finished. [astroquery.utils.tap.core]\n"
     ]
    },
    {
     "name": "stderr",
     "output_type": "stream",
     "text": [
      "Progress:  94% [=========================  ] ETA:  0:00:47 Elapsed Time: 0:13:14\r"
     ]
    },
    {
     "name": "stdout",
     "output_type": "stream",
     "text": [
      "INFO: Query finished. [astroquery.utils.tap.core]\n"
     ]
    },
    {
     "name": "stderr",
     "output_type": "stream",
     "text": [
      "Progress:  94% [=========================  ] ETA:  0:00:45 Elapsed Time: 0:13:16\r"
     ]
    },
    {
     "name": "stdout",
     "output_type": "stream",
     "text": [
      "INFO: Query finished. [astroquery.utils.tap.core]\n"
     ]
    },
    {
     "name": "stderr",
     "output_type": "stream",
     "text": [
      "Progress:  94% [=========================  ] ETA:  0:00:42 Elapsed Time: 0:13:18\r"
     ]
    },
    {
     "name": "stdout",
     "output_type": "stream",
     "text": [
      "INFO: Query finished. [astroquery.utils.tap.core]\n"
     ]
    },
    {
     "name": "stderr",
     "output_type": "stream",
     "text": [
      "Progress:  95% [=========================  ] ETA:  0:00:40 Elapsed Time: 0:13:20\r"
     ]
    },
    {
     "name": "stdout",
     "output_type": "stream",
     "text": [
      "INFO: Query finished. [astroquery.utils.tap.core]\n"
     ]
    },
    {
     "name": "stderr",
     "output_type": "stream",
     "text": [
      "Progress:  95% [=========================  ] ETA:  0:00:37 Elapsed Time: 0:13:23\r"
     ]
    },
    {
     "name": "stdout",
     "output_type": "stream",
     "text": [
      "INFO: Query finished. [astroquery.utils.tap.core]\n"
     ]
    },
    {
     "name": "stderr",
     "output_type": "stream",
     "text": [
      "Progress:  95% [=========================  ] ETA:  0:00:34 Elapsed Time: 0:13:24\r"
     ]
    },
    {
     "name": "stdout",
     "output_type": "stream",
     "text": [
      "INFO: Query finished. [astroquery.utils.tap.core]\n"
     ]
    },
    {
     "name": "stderr",
     "output_type": "stream",
     "text": [
      "Progress:  96% [=========================  ] ETA:  0:00:32 Elapsed Time: 0:13:27\r"
     ]
    },
    {
     "name": "stdout",
     "output_type": "stream",
     "text": [
      "INFO: Query finished. [astroquery.utils.tap.core]\n"
     ]
    },
    {
     "name": "stderr",
     "output_type": "stream",
     "text": [
      "Progress:  96% [========================== ] ETA:  0:00:30 Elapsed Time: 0:13:31\r"
     ]
    },
    {
     "name": "stdout",
     "output_type": "stream",
     "text": [
      "INFO: Query finished. [astroquery.utils.tap.core]\n"
     ]
    },
    {
     "name": "stderr",
     "output_type": "stream",
     "text": [
      "Progress:  96% [========================== ] ETA:  0:00:27 Elapsed Time: 0:13:33\r"
     ]
    },
    {
     "name": "stdout",
     "output_type": "stream",
     "text": [
      "INFO: Query finished. [astroquery.utils.tap.core]\n"
     ]
    },
    {
     "name": "stderr",
     "output_type": "stream",
     "text": [
      "Progress:  97% [========================== ] ETA:  0:00:25 Elapsed Time: 0:13:35\r"
     ]
    },
    {
     "name": "stdout",
     "output_type": "stream",
     "text": [
      "INFO: Query finished. [astroquery.utils.tap.core]\n"
     ]
    },
    {
     "name": "stderr",
     "output_type": "stream",
     "text": [
      "Progress:  97% [========================== ] ETA:  0:00:22 Elapsed Time: 0:13:37\r"
     ]
    },
    {
     "name": "stdout",
     "output_type": "stream",
     "text": [
      "INFO: Query finished. [astroquery.utils.tap.core]\n"
     ]
    },
    {
     "name": "stderr",
     "output_type": "stream",
     "text": [
      "Progress:  97% [========================== ] ETA:  0:00:19 Elapsed Time: 0:13:39\r"
     ]
    },
    {
     "name": "stdout",
     "output_type": "stream",
     "text": [
      "INFO: Query finished. [astroquery.utils.tap.core]\n"
     ]
    },
    {
     "name": "stderr",
     "output_type": "stream",
     "text": [
      "Progress:  97% [========================== ] ETA:  0:00:17 Elapsed Time: 0:13:41\r"
     ]
    },
    {
     "name": "stdout",
     "output_type": "stream",
     "text": [
      "INFO: Query finished. [astroquery.utils.tap.core]\n"
     ]
    },
    {
     "name": "stderr",
     "output_type": "stream",
     "text": [
      "Progress:  98% [========================== ] ETA:  0:00:14 Elapsed Time: 0:13:43\r"
     ]
    },
    {
     "name": "stdout",
     "output_type": "stream",
     "text": [
      "INFO: Query finished. [astroquery.utils.tap.core]\n"
     ]
    },
    {
     "name": "stderr",
     "output_type": "stream",
     "text": [
      "Progress:  98% [========================== ] ETA:  0:00:12 Elapsed Time: 0:13:46\r"
     ]
    },
    {
     "name": "stdout",
     "output_type": "stream",
     "text": [
      "INFO: Query finished. [astroquery.utils.tap.core]\n"
     ]
    },
    {
     "name": "stderr",
     "output_type": "stream",
     "text": [
      "Progress:  98% [========================== ] ETA:  0:00:09 Elapsed Time: 0:13:48\r"
     ]
    },
    {
     "name": "stdout",
     "output_type": "stream",
     "text": [
      "INFO: Query finished. [astroquery.utils.tap.core]\n"
     ]
    },
    {
     "name": "stderr",
     "output_type": "stream",
     "text": [
      "Progress:  99% [========================== ] ETA:  0:00:07 Elapsed Time: 0:13:51\r"
     ]
    },
    {
     "name": "stdout",
     "output_type": "stream",
     "text": [
      "INFO: Query finished. [astroquery.utils.tap.core]\n"
     ]
    },
    {
     "name": "stderr",
     "output_type": "stream",
     "text": [
      "Progress:  99% [========================== ] ETA:  0:00:04 Elapsed Time: 0:13:53\r"
     ]
    },
    {
     "name": "stdout",
     "output_type": "stream",
     "text": [
      "INFO: Query finished. [astroquery.utils.tap.core]\n"
     ]
    },
    {
     "name": "stderr",
     "output_type": "stream",
     "text": [
      "Progress:  99% [========================== ] ETA:  0:00:02 Elapsed Time: 0:13:55\r"
     ]
    },
    {
     "name": "stdout",
     "output_type": "stream",
     "text": [
      "INFO: Query finished. [astroquery.utils.tap.core]\n"
     ]
    }
   ],
   "source": [
    "ostars = planning.find_blindoffset_stars(coords[is_observable], maglim=17)"
   ]
  },
  {
   "cell_type": "code",
   "execution_count": 19,
   "id": "2f29548b-86f3-48de-b0c0-98f05e32d7b3",
   "metadata": {},
   "outputs": [],
   "source": [
    "ostars.to_csv(f'{sample_name}/blind_offset_stars.csv')"
   ]
  },
  {
   "cell_type": "code",
   "execution_count": 11,
   "id": "e4460b2e-0a43-46e7-8e32-a75774bea46c",
   "metadata": {
    "scrolled": true
   },
   "outputs": [
    {
     "name": "stdout",
     "output_type": "stream",
     "text": [
      "Saving:\n",
      "https://www.legacysurvey.org/viewer/cutout.jpg?ra=33.222069613082795&dec=-6.431757352571157&layer=ls-dr9&pixscale=0.26&width=200&height=200\n",
      "to ./MassComplete/thumbnails/M2950244784020665799.jpg\n",
      "Saving:\n",
      "https://www.legacysurvey.org/viewer/cutout.jpg?ra=34.87384196984972&dec=-6.144657254871133&layer=ls-dr9&pixscale=0.26&width=200&height=200\n",
      "to ./MassComplete/thumbnails/M2950675792578767836.jpg\n",
      "Saving:\n",
      "https://www.legacysurvey.org/viewer/cutout.jpg?ra=34.92193960012602&dec=-6.112787900648346&layer=ls-dr9&pixscale=0.26&width=200&height=200\n",
      "to ./MassComplete/thumbnails/M2950675792578772244.jpg\n",
      "Saving:\n",
      "https://www.legacysurvey.org/viewer/cutout.jpg?ra=34.9175928620035&dec=-6.0497402078601175&layer=ls-dr9&pixscale=0.26&width=200&height=200\n",
      "to ./MassComplete/thumbnails/M2950675792578778840.jpg\n",
      "Saving:\n",
      "https://www.legacysurvey.org/viewer/cutout.jpg?ra=33.62645933229555&dec=-6.137009770905149&layer=ls-dr9&pixscale=0.26&width=200&height=200\n",
      "to ./MassComplete/thumbnails/M2950706578904338274.jpg\n",
      "Saving:\n",
      "https://www.legacysurvey.org/viewer/cutout.jpg?ra=34.87161453984235&dec=-5.969934313556927&layer=ls-dr9&pixscale=0.26&width=200&height=200\n",
      "to ./MassComplete/thumbnails/M2950715374997370291.jpg\n",
      "Saving:\n",
      "https://www.legacysurvey.org/viewer/cutout.jpg?ra=36.46674774314156&dec=-6.341290373074527&layer=ls-dr9&pixscale=0.26&width=200&height=200\n",
      "to ./MassComplete/thumbnails/M2950992451927568674.jpg\n",
      "Saving:\n",
      "https://www.legacysurvey.org/viewer/cutout.jpg?ra=35.44169606333717&dec=-6.392504020042952&layer=ls-dr9&pixscale=0.26&width=200&height=200\n",
      "to ./MassComplete/thumbnails/M2951014442160117883.jpg\n",
      "Saving:\n",
      "https://www.legacysurvey.org/viewer/cutout.jpg?ra=35.472727755035436&dec=-6.39124927524381&layer=ls-dr9&pixscale=0.26&width=200&height=200\n",
      "to ./MassComplete/thumbnails/M2951014442160118008.jpg\n",
      "Saving:\n",
      "https://www.legacysurvey.org/viewer/cutout.jpg?ra=35.50187402088987&dec=-6.389388473159357&layer=ls-dr9&pixscale=0.26&width=200&height=200\n",
      "to ./MassComplete/thumbnails/M2951014442160118434.jpg\n",
      "Saving:\n",
      "https://www.legacysurvey.org/viewer/cutout.jpg?ra=35.46198335834005&dec=-6.38829600330817&layer=ls-dr9&pixscale=0.26&width=200&height=200\n",
      "to ./MassComplete/thumbnails/M2951014442160118786.jpg\n",
      "Saving:\n",
      "https://www.legacysurvey.org/viewer/cutout.jpg?ra=36.51354873174463&dec=-6.0715403710175835&layer=ls-dr9&pixscale=0.26&width=200&height=200\n",
      "to ./MassComplete/thumbnails/M2951027636299659396.jpg\n",
      "Saving:\n",
      "https://www.legacysurvey.org/viewer/cutout.jpg?ra=36.28419581641774&dec=-6.08066135655792&layer=ls-dr9&pixscale=0.26&width=200&height=200\n",
      "to ./MassComplete/thumbnails/M2951036432392677873.jpg\n",
      "Saving:\n",
      "https://www.legacysurvey.org/viewer/cutout.jpg?ra=35.978508228132156&dec=-6.225971382020317&layer=ls-dr9&pixscale=0.26&width=200&height=200\n",
      "to ./MassComplete/thumbnails/M2951040830439177629.jpg\n",
      "Saving:\n",
      "https://www.legacysurvey.org/viewer/cutout.jpg?ra=36.12473058280717&dec=-6.108353171921192&layer=ls-dr9&pixscale=0.26&width=200&height=200\n",
      "to ./MassComplete/thumbnails/M2951040830439188127.jpg\n",
      "Saving:\n",
      "https://www.legacysurvey.org/viewer/cutout.jpg?ra=35.3478482205311&dec=-6.078488143604498&layer=ls-dr9&pixscale=0.26&width=200&height=200\n",
      "to ./MassComplete/thumbnails/M2951058422625245031.jpg\n",
      "Saving:\n",
      "https://www.legacysurvey.org/viewer/cutout.jpg?ra=35.10614757828236&dec=-6.20967782936379&layer=ls-dr9&pixscale=0.26&width=200&height=200\n",
      "to ./MassComplete/thumbnails/M2951062820671739132.jpg\n",
      "Saving:\n",
      "https://www.legacysurvey.org/viewer/cutout.jpg?ra=36.43417465434898&dec=-6.03324047922358&layer=ls-dr9&pixscale=0.26&width=200&height=200\n",
      "to ./MassComplete/thumbnails/M2951071616764753069.jpg\n",
      "Saving:\n",
      "https://www.legacysurvey.org/viewer/cutout.jpg?ra=36.48662817932778&dec=-6.004322985004046&layer=ls-dr9&pixscale=0.26&width=200&height=200\n",
      "to ./MassComplete/thumbnails/M2951071616764755154.jpg\n",
      "Saving:\n",
      "https://www.legacysurvey.org/viewer/cutout.jpg?ra=35.570670741029&dec=-5.9510687372644115&layer=ls-dr9&pixscale=0.26&width=200&height=200\n",
      "to ./MassComplete/thumbnails/M2951089208950809913.jpg\n",
      "Saving:\n",
      "https://www.legacysurvey.org/viewer/cutout.jpg?ra=37.018654056130956&dec=-6.394899288277401&layer=ls-dr9&pixscale=0.26&width=200&height=200\n",
      "to ./MassComplete/thumbnails/M2951370683927509792.jpg\n",
      "Saving:\n",
      "https://www.legacysurvey.org/viewer/cutout.jpg?ra=37.50812017079011&dec=-6.053294327823617&layer=ls-dr9&pixscale=0.26&width=200&height=200\n",
      "to ./MassComplete/thumbnails/M2951397072206583699.jpg\n",
      "Saving:\n",
      "https://www.legacysurvey.org/viewer/cutout.jpg?ra=36.8305403835443&dec=-6.1593704400715&layer=ls-dr9&pixscale=0.26&width=200&height=200\n",
      "to ./MassComplete/thumbnails/M2951414664392624204.jpg\n",
      "Saving:\n",
      "https://www.legacysurvey.org/viewer/cutout.jpg?ra=39.05014056523057&dec=-6.4541316471423995&layer=ls-dr9&pixscale=0.26&width=200&height=200\n",
      "to ./MassComplete/thumbnails/M2951674149136765069.jpg\n",
      "Saving:\n",
      "https://www.legacysurvey.org/viewer/cutout.jpg?ra=39.18196513977433&dec=-6.2613950970216585&layer=ls-dr9&pixscale=0.26&width=200&height=200\n",
      "to ./MassComplete/thumbnails/M2951709333508861706.jpg\n",
      "Saving:\n",
      "https://www.legacysurvey.org/viewer/cutout.jpg?ra=31.9633302881561&dec=-5.074029598002714&layer=ls-dr9&pixscale=0.26&width=200&height=200\n",
      "to ./MassComplete/thumbnails/M3035734012103514746.jpg\n",
      "Saving:\n",
      "https://www.legacysurvey.org/viewer/cutout.jpg?ra=33.37196313224207&dec=-5.894475910381114&layer=ls-dr9&pixscale=0.26&width=200&height=200\n",
      "to ./MassComplete/thumbnails/M3035896739824442708.jpg\n",
      "Saving:\n",
      "https://www.legacysurvey.org/viewer/cutout.jpg?ra=32.05120760584982&dec=-5.882328759304616&layer=ls-dr9&pixscale=0.26&width=200&height=200\n",
      "to ./MassComplete/thumbnails/M3035927526150006655.jpg\n",
      "Saving:\n",
      "https://www.legacysurvey.org/viewer/cutout.jpg?ra=32.80301597891802&dec=-5.706224451371975&layer=ls-dr9&pixscale=0.26&width=200&height=200\n",
      "to ./MassComplete/thumbnails/M3035949516382580362.jpg\n",
      "Saving:\n",
      "https://www.legacysurvey.org/viewer/cutout.jpg?ra=32.34837762805045&dec=-5.795092083986665&layer=ls-dr9&pixscale=0.26&width=200&height=200\n",
      "to ./MassComplete/thumbnails/M3035958312475586329.jpg\n",
      "Saving:\n",
      "https://www.legacysurvey.org/viewer/cutout.jpg?ra=33.02545161404737&dec=-5.469881869266685&layer=ls-dr9&pixscale=0.26&width=200&height=200\n",
      "to ./MassComplete/thumbnails/M3036019885126736847.jpg\n",
      "Saving:\n",
      "https://www.legacysurvey.org/viewer/cutout.jpg?ra=32.372406830117725&dec=-5.18252743847988&layer=ls-dr9&pixscale=0.26&width=200&height=200\n",
      "to ./MassComplete/thumbnails/M3036077059731397757.jpg\n",
      "Saving:\n",
      "https://www.legacysurvey.org/viewer/cutout.jpg?ra=32.40850669590864&dec=-5.119097542793529&layer=ls-dr9&pixscale=0.26&width=200&height=200\n",
      "to ./MassComplete/thumbnails/M3036077059731405225.jpg\n",
      "Saving:\n",
      "https://www.legacysurvey.org/viewer/cutout.jpg?ra=33.00465183303414&dec=-5.076156846436001&layer=ls-dr9&pixscale=0.26&width=200&height=200\n",
      "to ./MassComplete/thumbnails/M3036103448010454244.jpg\n",
      "Saving:\n",
      "https://www.legacysurvey.org/viewer/cutout.jpg?ra=32.774945974589556&dec=-5.099021345266224&layer=ls-dr9&pixscale=0.26&width=200&height=200\n",
      "to ./MassComplete/thumbnails/M3036107846056961308.jpg\n",
      "Saving:\n",
      "https://www.legacysurvey.org/viewer/cutout.jpg?ra=32.50490189980393&dec=-5.094059717955448&layer=ls-dr9&pixscale=0.26&width=200&height=200\n",
      "to ./MassComplete/thumbnails/M3036112244103472300.jpg\n",
      "Saving:\n",
      "https://www.legacysurvey.org/viewer/cutout.jpg?ra=32.45796284162332&dec=-5.093671177509355&layer=ls-dr9&pixscale=0.26&width=200&height=200\n",
      "to ./MassComplete/thumbnails/M3036112244103473125.jpg\n",
      "Saving:\n",
      "https://www.legacysurvey.org/viewer/cutout.jpg?ra=33.20411942099915&dec=-4.886062089832813&layer=ls-dr9&pixscale=0.26&width=200&height=200\n",
      "to ./MassComplete/thumbnails/M3036134234336032460.jpg\n",
      "Saving:\n",
      "https://www.legacysurvey.org/viewer/cutout.jpg?ra=33.31922660262973&dec=-4.7886955963328415&layer=ls-dr9&pixscale=0.26&width=200&height=200\n",
      "to ./MassComplete/thumbnails/M3036134234336042338.jpg\n",
      "Saving:\n",
      "https://www.legacysurvey.org/viewer/cutout.jpg?ra=32.71224201138526&dec=-4.579794174986321&layer=ls-dr9&pixscale=0.26&width=200&height=200\n",
      "to ./MassComplete/thumbnails/M3036187010894174598.jpg\n",
      "Saving:\n",
      "https://www.legacysurvey.org/viewer/cutout.jpg?ra=32.51111987425646&dec=-4.637424670430633&layer=ls-dr9&pixscale=0.26&width=200&height=200\n",
      "to ./MassComplete/thumbnails/M3036191408940675953.jpg\n",
      "Saving:\n",
      "https://www.legacysurvey.org/viewer/cutout.jpg?ra=34.021237081415855&dec=-5.729020948079157&layer=ls-dr9&pixscale=0.26&width=200&height=200\n",
      "to ./MassComplete/thumbnails/M3036310156196489899.jpg\n",
      "Saving:\n",
      "https://www.legacysurvey.org/viewer/cutout.jpg?ra=34.61290493906637&dec=-5.661758461968259&layer=ls-dr9&pixscale=0.26&width=200&height=200\n",
      "to ./MassComplete/thumbnails/M3036336544475534551.jpg\n",
      "Saving:\n",
      "https://www.legacysurvey.org/viewer/cutout.jpg?ra=34.53021587524966&dec=-5.5471460159248975&layer=ls-dr9&pixscale=0.26&width=200&height=200\n",
      "to ./MassComplete/thumbnails/M3036336544475549192.jpg\n",
      "Saving:\n",
      "https://www.legacysurvey.org/viewer/cutout.jpg?ra=34.32399365934132&dec=-5.661885536678968&layer=ls-dr9&pixscale=0.26&width=200&height=200\n",
      "to ./MassComplete/thumbnails/M3036340942522046850.jpg\n",
      "Saving:\n",
      "https://www.legacysurvey.org/viewer/cutout.jpg?ra=34.82479167836201&dec=-5.466380201903788&layer=ls-dr9&pixscale=0.26&width=200&height=200\n",
      "to ./MassComplete/thumbnails/M3036371728847623667.jpg\n",
      "Saving:\n",
      "https://www.legacysurvey.org/viewer/cutout.jpg?ra=33.704853367049516&dec=-5.432681303330303&layer=ls-dr9&pixscale=0.26&width=200&height=200\n",
      "to ./MassComplete/thumbnails/M3036398117126691184.jpg\n",
      "Saving:\n",
      "https://www.legacysurvey.org/viewer/cutout.jpg?ra=34.49359650593943&dec=-4.936601707099953&layer=ls-dr9&pixscale=0.26&width=200&height=200\n",
      "to ./MassComplete/thumbnails/M3036459689777866011.jpg\n",
      "Saving:\n",
      "https://www.legacysurvey.org/viewer/cutout.jpg?ra=34.27816366170289&dec=-4.9300652015520825&layer=ls-dr9&pixscale=0.26&width=200&height=200\n",
      "to ./MassComplete/thumbnails/M3036464087824381947.jpg\n",
      "Saving:\n",
      "https://www.legacysurvey.org/viewer/cutout.jpg?ra=34.455664135131805&dec=-4.558478330017408&layer=ls-dr9&pixscale=0.26&width=200&height=200\n",
      "to ./MassComplete/thumbnails/M3036538854615069618.jpg\n",
      "Saving:\n",
      "https://www.legacysurvey.org/viewer/cutout.jpg?ra=36.333308270984965&dec=-5.932629826746849&layer=ls-dr9&pixscale=0.26&width=200&height=200\n",
      "to ./MassComplete/thumbnails/M3036609223359224796.jpg\n",
      "Saving:\n",
      "https://www.legacysurvey.org/viewer/cutout.jpg?ra=35.76919869740363&dec=-5.926981486411588&layer=ls-dr9&pixscale=0.26&width=200&height=200\n",
      "to ./MassComplete/thumbnails/M3036622417498759679.jpg\n",
      "Saving:\n",
      "https://www.legacysurvey.org/viewer/cutout.jpg?ra=36.089229605180364&dec=-5.798167403343653&layer=ls-dr9&pixscale=0.26&width=200&height=200\n",
      "to ./MassComplete/thumbnails/M3036653203824333636.jpg\n",
      "Saving:\n",
      "https://www.legacysurvey.org/viewer/cutout.jpg?ra=36.37516868967879&dec=-5.521312025790465&layer=ls-dr9&pixscale=0.26&width=200&height=200\n",
      "to ./MassComplete/thumbnails/M3036683990149919670.jpg\n",
      "Saving:\n",
      "https://www.legacysurvey.org/viewer/cutout.jpg?ra=35.54952834196553&dec=-5.672413557161932&layer=ls-dr9&pixscale=0.26&width=200&height=200\n",
      "to ./MassComplete/thumbnails/M3036705980382464797.jpg\n",
      "Saving:\n",
      "https://www.legacysurvey.org/viewer/cutout.jpg?ra=35.94050281728278&dec=-5.235295670809155&layer=ls-dr9&pixscale=0.26&width=200&height=200\n",
      "to ./MassComplete/thumbnails/M3036776349126646053.jpg\n",
      "Saving:\n",
      "https://www.legacysurvey.org/viewer/cutout.jpg?ra=35.625268021191495&dec=-5.196511300943285&layer=ls-dr9&pixscale=0.26&width=200&height=200\n",
      "to ./MassComplete/thumbnails/M3036780747173164200.jpg\n",
      "Saving:\n",
      "https://www.legacysurvey.org/viewer/cutout.jpg?ra=35.73817316148857&dec=-5.187727079572558&layer=ls-dr9&pixscale=0.26&width=200&height=200\n",
      "to ./MassComplete/thumbnails/M3036780747173165624.jpg\n",
      "Saving:\n",
      "https://www.legacysurvey.org/viewer/cutout.jpg?ra=35.46649453380875&dec=-5.231732955549509&layer=ls-dr9&pixscale=0.26&width=200&height=200\n",
      "to ./MassComplete/thumbnails/M3036785145219675944.jpg\n",
      "Saving:\n",
      "https://www.legacysurvey.org/viewer/cutout.jpg?ra=36.43038286889678&dec=-5.047872596865995&layer=ls-dr9&pixscale=0.26&width=200&height=200\n",
      "to ./MassComplete/thumbnails/M3036802737405691954.jpg\n",
      "Saving:\n",
      "https://www.legacysurvey.org/viewer/cutout.jpg?ra=36.194818646266555&dec=-5.0955000318485135&layer=ls-dr9&pixscale=0.26&width=200&height=200\n",
      "to ./MassComplete/thumbnails/M3036807135452212818.jpg\n",
      "Saving:\n",
      "https://www.legacysurvey.org/viewer/cutout.jpg?ra=35.119543335032056&dec=-4.938774962017663&layer=ls-dr9&pixscale=0.26&width=200&height=200\n",
      "to ./MassComplete/thumbnails/M3036833523731310350.jpg\n",
      "Saving:\n",
      "https://www.legacysurvey.org/viewer/cutout.jpg?ra=36.33097468382858&dec=-4.894080865335454&layer=ls-dr9&pixscale=0.26&width=200&height=200\n",
      "to ./MassComplete/thumbnails/M3036846717870817230.jpg\n",
      "Saving:\n",
      "https://www.legacysurvey.org/viewer/cutout.jpg?ra=36.19760322063664&dec=-4.777470473312901&layer=ls-dr9&pixscale=0.26&width=200&height=200\n",
      "to ./MassComplete/thumbnails/M3036846717870827136.jpg\n",
      "Saving:\n",
      "https://www.legacysurvey.org/viewer/cutout.jpg?ra=35.18067363984002&dec=-4.816245106296529&layer=ls-dr9&pixscale=0.26&width=200&height=200\n",
      "to ./MassComplete/thumbnails/M3036873106149902398.jpg\n",
      "Saving:\n",
      "https://www.legacysurvey.org/viewer/cutout.jpg?ra=36.4136379206801&dec=-4.610817217609431&layer=ls-dr9&pixscale=0.26&width=200&height=200\n",
      "to ./MassComplete/thumbnails/M3036881902242917132.jpg\n",
      "Saving:\n",
      "https://www.legacysurvey.org/viewer/cutout.jpg?ra=36.15030160423922&dec=-4.64300104273747&layer=ls-dr9&pixscale=0.26&width=200&height=200\n",
      "to ./MassComplete/thumbnails/M3036890698335941223.jpg\n",
      "Saving:\n",
      "https://www.legacysurvey.org/viewer/cutout.jpg?ra=35.3472606016529&dec=-4.585215281272967&layer=ls-dr9&pixscale=0.26&width=200&height=200\n",
      "to ./MassComplete/thumbnails/M3036908290521994475.jpg\n",
      "Saving:\n",
      "https://www.legacysurvey.org/viewer/cutout.jpg?ra=36.95752430803377&dec=-5.854601421664095&layer=ls-dr9&pixscale=0.26&width=200&height=200\n",
      "to ./MassComplete/thumbnails/M3037022639731255176.jpg\n",
      "Saving:\n",
      "https://www.legacysurvey.org/viewer/cutout.jpg?ra=37.10731715999777&dec=-5.436040402484368&layer=ls-dr9&pixscale=0.26&width=200&height=200\n",
      "to ./MassComplete/thumbnails/M3037097406521948945.jpg\n",
      "Saving:\n",
      "https://www.legacysurvey.org/viewer/cutout.jpg?ra=36.99090340934519&dec=-5.461681834573724&layer=ls-dr9&pixscale=0.26&width=200&height=200\n",
      "to ./MassComplete/thumbnails/M3037101804568456554.jpg\n",
      "Saving:\n",
      "https://www.legacysurvey.org/viewer/cutout.jpg?ra=37.13142402144542&dec=-5.255574891493342&layer=ls-dr9&pixscale=0.26&width=200&height=200\n",
      "to ./MassComplete/thumbnails/M3037136988940546204.jpg\n",
      "Saving:\n",
      "https://www.legacysurvey.org/viewer/cutout.jpg?ra=36.55200772608335&dec=-5.290286211267754&layer=ls-dr9&pixscale=0.26&width=200&height=200\n",
      "to ./MassComplete/thumbnails/M3037150183080082526.jpg\n",
      "Saving:\n",
      "https://www.legacysurvey.org/viewer/cutout.jpg?ra=36.593274850900784&dec=-5.268850637102237&layer=ls-dr9&pixscale=0.26&width=200&height=200\n",
      "to ./MassComplete/thumbnails/M3037150183080084427.jpg\n",
      "Saving:\n",
      "https://www.legacysurvey.org/viewer/cutout.jpg?ra=36.569930822050985&dec=-5.117699040541531&layer=ls-dr9&pixscale=0.26&width=200&height=200\n",
      "to ./MassComplete/thumbnails/M3037150183080099528.jpg\n",
      "Saving:\n",
      "https://www.legacysurvey.org/viewer/cutout.jpg?ra=37.555089570152305&dec=-4.927191161329061&layer=ls-dr9&pixscale=0.26&width=200&height=200\n",
      "to ./MassComplete/thumbnails/M3037167775266126358.jpg\n",
      "Saving:\n",
      "https://www.legacysurvey.org/viewer/cutout.jpg?ra=36.52385553521582&dec=-5.032949059268892&layer=ls-dr9&pixscale=0.26&width=200&height=200\n",
      "to ./MassComplete/thumbnails/M3037194163545196500.jpg\n",
      "Saving:\n",
      "https://www.legacysurvey.org/viewer/cutout.jpg?ra=37.93247906359296&dec=-4.821903256543776&layer=ls-dr9&pixscale=0.26&width=200&height=200\n",
      "to ./MassComplete/thumbnails/M3037198561591702048.jpg\n",
      "Saving:\n",
      "https://www.legacysurvey.org/viewer/cutout.jpg?ra=37.913388645819104&dec=-4.7606207484037375&layer=ls-dr9&pixscale=0.26&width=200&height=200\n",
      "to ./MassComplete/thumbnails/M3037198561591705519.jpg\n",
      "Saving:\n",
      "https://www.legacysurvey.org/viewer/cutout.jpg?ra=37.822099415403976&dec=-4.769043817928263&layer=ls-dr9&pixscale=0.26&width=200&height=200\n",
      "to ./MassComplete/thumbnails/M3037202959638216504.jpg\n",
      "Saving:\n",
      "https://www.legacysurvey.org/viewer/cutout.jpg?ra=37.55381712806574&dec=-4.912931122584931&layer=ls-dr9&pixscale=0.26&width=200&height=200\n",
      "to ./MassComplete/thumbnails/M3037207357684722453.jpg\n",
      "Saving:\n",
      "https://www.legacysurvey.org/viewer/cutout.jpg?ra=36.744244159176894&dec=-4.799197419878349&layer=ls-dr9&pixscale=0.26&width=200&height=200\n",
      "to ./MassComplete/thumbnails/M3037224949870784687.jpg\n",
      "Saving:\n",
      "https://www.legacysurvey.org/viewer/cutout.jpg?ra=36.56303390272351&dec=-4.898874463158881&layer=ls-dr9&pixscale=0.26&width=200&height=200\n",
      "to ./MassComplete/thumbnails/M3037229347917284612.jpg\n",
      "Saving:\n",
      "https://www.legacysurvey.org/viewer/cutout.jpg?ra=37.859224209236366&dec=-4.628572806039305&layer=ls-dr9&pixscale=0.26&width=200&height=200\n",
      "to ./MassComplete/thumbnails/M3037238144010311131.jpg\n",
      "Saving:\n",
      "https://www.legacysurvey.org/viewer/cutout.jpg?ra=37.14705748423728&dec=-4.613200051379445&layer=ls-dr9&pixscale=0.26&width=200&height=200\n",
      "to ./MassComplete/thumbnails/M3037255736196348360.jpg\n",
      "Saving:\n",
      "https://www.legacysurvey.org/viewer/cutout.jpg?ra=36.57157031107825&dec=-4.573543509573787&layer=ls-dr9&pixscale=0.26&width=200&height=200\n",
      "to ./MassComplete/thumbnails/M3037268930335895098.jpg\n",
      "Saving:\n",
      "https://www.legacysurvey.org/viewer/cutout.jpg?ra=38.344968947436776&dec=-5.761169895125261&layer=ls-dr9&pixscale=0.26&width=200&height=200\n",
      "to ./MassComplete/thumbnails/M3037383279545170253.jpg\n",
      "Saving:\n",
      "https://www.legacysurvey.org/viewer/cutout.jpg?ra=37.95901910127636&dec=-5.720921257243809&layer=ls-dr9&pixscale=0.26&width=200&height=200\n",
      "to ./MassComplete/thumbnails/M3037392075638189883.jpg\n",
      "Saving:\n",
      "https://www.legacysurvey.org/viewer/cutout.jpg?ra=38.94177721638121&dec=-5.420079711699968&layer=ls-dr9&pixscale=0.26&width=200&height=200\n",
      "to ./MassComplete/thumbnails/M3037449250242836527.jpg\n",
      "Saving:\n",
      "https://www.legacysurvey.org/viewer/cutout.jpg?ra=38.63040862311676&dec=-5.232547230064533&layer=ls-dr9&pixscale=0.26&width=200&height=200\n",
      "to ./MassComplete/thumbnails/M3037493230707946302.jpg\n",
      "Saving:\n",
      "https://www.legacysurvey.org/viewer/cutout.jpg?ra=38.233860887719786&dec=-5.226815520119981&layer=ls-dr9&pixscale=0.26&width=200&height=200\n",
      "to ./MassComplete/thumbnails/M3037502026800968809.jpg\n",
      "Saving:\n",
      "https://www.legacysurvey.org/viewer/cutout.jpg?ra=38.14015747188856&dec=-5.18103120006581&layer=ls-dr9&pixscale=0.26&width=200&height=200\n",
      "to ./MassComplete/thumbnails/M3037506424847485073.jpg\n",
      "Saving:\n",
      "https://www.legacysurvey.org/viewer/cutout.jpg?ra=38.13485629588264&dec=-5.168958115777386&layer=ls-dr9&pixscale=0.26&width=200&height=200\n",
      "to ./MassComplete/thumbnails/M3037506424847485963.jpg\n",
      "Saving:\n",
      "https://www.legacysurvey.org/viewer/cutout.jpg?ra=39.043714610446685&dec=-4.83640541349352&layer=ls-dr9&pixscale=0.26&width=200&height=200\n",
      "to ./MassComplete/thumbnails/M3037563599452140344.jpg\n",
      "Saving:\n",
      "https://www.legacysurvey.org/viewer/cutout.jpg?ra=38.63618599964597&dec=-4.926394974588082&layer=ls-dr9&pixscale=0.26&width=200&height=200\n",
      "to ./MassComplete/thumbnails/M3037572395545145826.jpg\n",
      "Saving:\n",
      "https://www.legacysurvey.org/viewer/cutout.jpg?ra=39.345399230879615&dec=-4.6701788902022745&layer=ls-dr9&pixscale=0.26&width=200&height=200\n",
      "to ./MassComplete/thumbnails/M3037594385777714579.jpg\n",
      "Saving:\n",
      "https://www.legacysurvey.org/viewer/cutout.jpg?ra=38.44023963947237&dec=-4.596009468399373&layer=ls-dr9&pixscale=0.26&width=200&height=200\n",
      "to ./MassComplete/thumbnails/M3037616376010263180.jpg\n",
      "Saving:\n",
      "https://www.legacysurvey.org/viewer/cutout.jpg?ra=39.36501728352676&dec=-4.526824271628613&layer=ls-dr9&pixscale=0.26&width=200&height=200\n",
      "to ./MassComplete/thumbnails/M3037633968196308211.jpg\n",
      "Saving:\n",
      "https://www.legacysurvey.org/viewer/cutout.jpg?ra=37.74077160836152&dec=-4.255632949701764&layer=ls-dr9&pixscale=0.26&width=200&height=200\n",
      "to ./MassComplete/thumbnails/M3123215555255886621.jpg\n",
      "Saving:\n",
      "https://www.legacysurvey.org/viewer/cutout.jpg?ra=38.98720699447876&dec=-4.3417008217355555&layer=ls-dr9&pixscale=0.26&width=200&height=200\n",
      "to ./MassComplete/thumbnails/M3123576195069792912.jpg\n",
      "Saving:\n",
      "https://www.legacysurvey.org/viewer/cutout.jpg?ra=39.17312663425466&dec=-4.006336855852517&layer=ls-dr9&pixscale=0.26&width=200&height=200\n",
      "to ./MassComplete/thumbnails/M3123611379441897179.jpg\n",
      "Saving:\n",
      "https://www.legacysurvey.org/viewer/cutout.jpg?ra=38.15718752323568&dec=-4.052017259018521&layer=ls-dr9&pixscale=0.26&width=200&height=200\n",
      "to ./MassComplete/thumbnails/M3123637767720961553.jpg\n",
      "Saving:\n",
      "https://www.legacysurvey.org/viewer/cutout.jpg?ra=38.77175347137814&dec=-3.8410683281383777&layer=ls-dr9&pixscale=0.26&width=200&height=200\n",
      "to ./MassComplete/thumbnails/M3123659757953521223.jpg\n",
      "Saving:\n",
      "https://www.legacysurvey.org/viewer/cutout.jpg?ra=38.68880458390683&dec=-3.8342498547359494&layer=ls-dr9&pixscale=0.26&width=200&height=200\n",
      "to ./MassComplete/thumbnails/M3123664156000032818.jpg\n",
      "Saving:\n",
      "https://www.legacysurvey.org/viewer/cutout.jpg?ra=38.36226009813135&dec=-3.8483853287537215&layer=ls-dr9&pixscale=0.26&width=200&height=200\n",
      "to ./MassComplete/thumbnails/M3123672952093050747.jpg\n",
      "Saving:\n",
      "https://www.legacysurvey.org/viewer/cutout.jpg?ra=39.343014406547&dec=-3.7883955506979587&layer=ls-dr9&pixscale=0.26&width=200&height=200\n",
      "to ./MassComplete/thumbnails/M3123686146232570006.jpg\n",
      "Saving:\n",
      "https://www.legacysurvey.org/viewer/cutout.jpg?ra=39.414342409224915&dec=-3.619372274762089&layer=ls-dr9&pixscale=0.26&width=200&height=200\n",
      "to ./MassComplete/thumbnails/M3123725728651166755.jpg\n",
      "Saving:\n",
      "https://www.legacysurvey.org/viewer/cutout.jpg?ra=38.34848411490735&dec=-3.1073152610556574&layer=ls-dr9&pixscale=0.26&width=200&height=200\n",
      "to ./MassComplete/thumbnails/M3123831281767452423.jpg\n",
      "Saving:\n",
      "https://www.legacysurvey.org/viewer/cutout.jpg?ra=38.48370568422662&dec=-3.035563075828528&layer=ls-dr9&pixscale=0.26&width=200&height=200\n",
      "to ./MassComplete/thumbnails/M3123866466139533620.jpg\n",
      "Saving:\n",
      "https://www.legacysurvey.org/viewer/cutout.jpg?ra=39.99001475543647&dec=-4.454009233691211&layer=ls-dr9&pixscale=0.26&width=200&height=200\n",
      "to ./MassComplete/thumbnails/M3123906048558136782.jpg\n",
      "Saving:\n",
      "https://www.legacysurvey.org/viewer/cutout.jpg?ra=39.71603852313731&dec=-4.402789185071982&layer=ls-dr9&pixscale=0.26&width=200&height=200\n",
      "to ./MassComplete/thumbnails/M3123910446604656440.jpg\n",
      "Saving:\n",
      "https://www.legacysurvey.org/viewer/cutout.jpg?ra=39.702911393177644&dec=-3.5411978392850916&layer=ls-dr9&pixscale=0.26&width=200&height=200\n",
      "to ./MassComplete/thumbnails/M3124108358697638485.jpg\n",
      "Saving:\n",
      "https://www.legacysurvey.org/viewer/cutout.jpg?ra=39.56198578635867&dec=-3.3700658767703287&layer=ls-dr9&pixscale=0.26&width=200&height=200\n",
      "to ./MassComplete/thumbnails/M3124152339162746622.jpg\n",
      "Saving:\n",
      "https://www.legacysurvey.org/viewer/cutout.jpg?ra=129.77444622851561&dec=-1.5384834250021726&layer=ls-dr9&pixscale=0.26&width=200&height=200\n",
      "to ./MassComplete/thumbnails/M3231794527522016582.jpg\n",
      "Saving:\n",
      "https://www.legacysurvey.org/viewer/cutout.jpg?ra=129.39586243195777&dec=-0.5239190326326569&layer=ls-dr9&pixscale=0.26&width=200&height=200\n",
      "to ./MassComplete/thumbnails/M3317881889930362902.jpg\n",
      "Saving:\n",
      "https://www.legacysurvey.org/viewer/cutout.jpg?ra=129.21201041953464&dec=-0.5873340291957345&layer=ls-dr9&pixscale=0.26&width=200&height=200\n",
      "to ./MassComplete/thumbnails/M3317886287976874763.jpg\n",
      "Saving:\n",
      "https://www.legacysurvey.org/viewer/cutout.jpg?ra=129.33502939001812&dec=-0.4926783980728769&layer=ls-dr9&pixscale=0.26&width=200&height=200\n",
      "to ./MassComplete/thumbnails/M3317886287976881116.jpg\n",
      "Saving:\n",
      "https://www.legacysurvey.org/viewer/cutout.jpg?ra=129.57499272529296&dec=-0.3656869425428898&layer=ls-dr9&pixscale=0.26&width=200&height=200\n",
      "to ./MassComplete/thumbnails/M3317917074302453546.jpg\n",
      "Saving:\n",
      "https://www.legacysurvey.org/viewer/cutout.jpg?ra=129.33093284029763&dec=-0.35720742554667784&layer=ls-dr9&pixscale=0.26&width=200&height=200\n",
      "to ./MassComplete/thumbnails/M3317925870395476900.jpg\n",
      "Saving:\n",
      "https://www.legacysurvey.org/viewer/cutout.jpg?ra=129.44273242116057&dec=-0.024308490640611014&layer=ls-dr9&pixscale=0.26&width=200&height=200\n",
      "to ./MassComplete/thumbnails/M3318000637186164422.jpg\n",
      "Saving:\n",
      "https://www.legacysurvey.org/viewer/cutout.jpg?ra=359.3354836506834&dec=0.035804849634187993&layer=ls-dr9&pixscale=0.26&width=200&height=200\n",
      "to ./MassComplete/thumbnails/M3373288479877237463.jpg\n",
      "Saving:\n",
      "https://www.legacysurvey.org/viewer/cutout.jpg?ra=0.6367754596175931&dec=0.2493586194123788&layer=ls-dr9&pixscale=0.26&width=200&height=200\n",
      "to ./MassComplete/thumbnails/M3373297275970270601.jpg\n",
      "Saving:\n",
      "https://www.legacysurvey.org/viewer/cutout.jpg?ra=0.023498393351176997&dec=0.24169885913999456&layer=ls-dr9&pixscale=0.26&width=200&height=200\n",
      "to ./MassComplete/thumbnails/M3373310470109803602.jpg\n",
      "Saving:\n",
      "https://www.legacysurvey.org/viewer/cutout.jpg?ra=0.6561918858967556&dec=0.39807683038480146&layer=ls-dr9&pixscale=0.26&width=200&height=200\n",
      "to ./MassComplete/thumbnails/M3373332460342358756.jpg\n",
      "Saving:\n",
      "https://www.legacysurvey.org/viewer/cutout.jpg?ra=0.6928649967718311&dec=0.4333373464039123&layer=ls-dr9&pixscale=0.26&width=200&height=200\n",
      "to ./MassComplete/thumbnails/M3373332460342359978.jpg\n",
      "Saving:\n",
      "https://www.legacysurvey.org/viewer/cutout.jpg?ra=0.5875034980587798&dec=0.4034716595113619&layer=ls-dr9&pixscale=0.26&width=200&height=200\n",
      "to ./MassComplete/thumbnails/M3373336858388871215.jpg\n",
      "Saving:\n",
      "https://www.legacysurvey.org/viewer/cutout.jpg?ra=359.9068756100555&dec=0.5063082530417863&layer=ls-dr9&pixscale=0.26&width=200&height=200\n",
      "to ./MassComplete/thumbnails/M3373389634946999210.jpg\n",
      "Saving:\n",
      "https://www.legacysurvey.org/viewer/cutout.jpg?ra=359.8074192220421&dec=0.6399991180214863&layer=ls-dr9&pixscale=0.26&width=200&height=200\n",
      "to ./MassComplete/thumbnails/M3373394032993519860.jpg\n",
      "Saving:\n",
      "https://www.legacysurvey.org/viewer/cutout.jpg?ra=359.61213364597296&dec=0.6070743769601049&layer=ls-dr9&pixscale=0.26&width=200&height=200\n",
      "to ./MassComplete/thumbnails/M3373398431040029533.jpg\n",
      "Saving:\n",
      "https://www.legacysurvey.org/viewer/cutout.jpg?ra=0.6673661575840564&dec=0.7723874672622293&layer=ls-dr9&pixscale=0.26&width=200&height=200\n",
      "to ./MassComplete/thumbnails/M3373411625179560191.jpg\n",
      "Saving:\n",
      "https://www.legacysurvey.org/viewer/cutout.jpg?ra=0.629176847442159&dec=0.779801924506295&layer=ls-dr9&pixscale=0.26&width=200&height=200\n",
      "to ./MassComplete/thumbnails/M3373416023226069825.jpg\n",
      "Saving:\n",
      "https://www.legacysurvey.org/viewer/cutout.jpg?ra=0.12852908805416643&dec=0.756884746425223&layer=ls-dr9&pixscale=0.26&width=200&height=200\n",
      "to ./MassComplete/thumbnails/M3373424819319091089.jpg\n",
      "Saving:\n",
      "https://www.legacysurvey.org/viewer/cutout.jpg?ra=359.8332860847142&dec=0.7253568076244963&layer=ls-dr9&pixscale=0.26&width=200&height=200\n",
      "to ./MassComplete/thumbnails/M3373433615412113945.jpg\n",
      "Saving:\n",
      "https://www.legacysurvey.org/viewer/cutout.jpg?ra=359.56085258492107&dec=0.8638586335325998&layer=ls-dr9&pixscale=0.26&width=200&height=200\n",
      "to ./MassComplete/thumbnails/M3373477595877222589.jpg\n",
      "Saving:\n",
      "https://www.legacysurvey.org/viewer/cutout.jpg?ra=359.64537128750504&dec=0.8866120233414153&layer=ls-dr9&pixscale=0.26&width=200&height=200\n",
      "to ./MassComplete/thumbnails/M3373477595877222993.jpg\n",
      "Saving:\n",
      "https://www.legacysurvey.org/viewer/cutout.jpg?ra=359.5662445447944&dec=0.9268922480772875&layer=ls-dr9&pixscale=0.26&width=200&height=200\n",
      "to ./MassComplete/thumbnails/M3373477595877224912.jpg\n",
      "Saving:\n",
      "https://www.legacysurvey.org/viewer/cutout.jpg?ra=0.29031585517919806&dec=1.0691308337214127&layer=ls-dr9&pixscale=0.26&width=200&height=200\n",
      "to ./MassComplete/thumbnails/M3373499586109777537.jpg\n",
      "Saving:\n",
      "https://www.legacysurvey.org/viewer/cutout.jpg?ra=0.035656647315239924&dec=1.071223221642463&layer=ls-dr9&pixscale=0.26&width=200&height=200\n",
      "to ./MassComplete/thumbnails/M3373508382202797953.jpg\n",
      "Saving:\n",
      "https://www.legacysurvey.org/viewer/cutout.jpg?ra=0.041304883496891535&dec=1.3270432203331897&layer=ls-dr9&pixscale=0.26&width=200&height=200\n",
      "to ./MassComplete/thumbnails/M3373547964621400556.jpg\n",
      "Saving:\n",
      "https://www.legacysurvey.org/viewer/cutout.jpg?ra=359.3425456693646&dec=1.2280865698596783&layer=ls-dr9&pixscale=0.26&width=200&height=200\n",
      "to ./MassComplete/thumbnails/M3373565556807443826.jpg\n",
      "Saving:\n",
      "https://www.legacysurvey.org/viewer/cutout.jpg?ra=359.6766264273352&dec=1.4304428715979398&layer=ls-dr9&pixscale=0.26&width=200&height=200\n",
      "to ./MassComplete/thumbnails/M3373596343133023145.jpg\n",
      "Saving:\n",
      "https://www.legacysurvey.org/viewer/cutout.jpg?ra=359.65942516161994&dec=1.4306020776770014&layer=ls-dr9&pixscale=0.26&width=200&height=200\n",
      "to ./MassComplete/thumbnails/M3373596343133023204.jpg\n",
      "Saving:\n",
      "https://www.legacysurvey.org/viewer/cutout.jpg?ra=359.4899693221611&dec=1.4779711817868304&layer=ls-dr9&pixscale=0.26&width=200&height=200\n",
      "to ./MassComplete/thumbnails/M3373600741179537370.jpg\n",
      "Saving:\n",
      "https://www.legacysurvey.org/viewer/cutout.jpg?ra=1.5126425538629797&dec=0.1693974213120205&layer=ls-dr9&pixscale=0.26&width=200&height=200\n",
      "to ./MassComplete/thumbnails/M3373666711877199187.jpg\n",
      "Saving:\n",
      "https://www.legacysurvey.org/viewer/cutout.jpg?ra=1.3407909219217897&dec=0.2128457683697012&layer=ls-dr9&pixscale=0.26&width=200&height=200\n",
      "to ./MassComplete/thumbnails/M3373671109923715169.jpg\n",
      "Saving:\n",
      "https://www.legacysurvey.org/viewer/cutout.jpg?ra=0.8899090079926829&dec=0.44582453944899997&layer=ls-dr9&pixscale=0.26&width=200&height=200\n",
      "to ./MassComplete/thumbnails/M3373719488435334498.jpg\n",
      "Saving:\n",
      "https://www.legacysurvey.org/viewer/cutout.jpg?ra=1.6776525331527126&dec=0.465751720597442&layer=ls-dr9&pixscale=0.26&width=200&height=200\n",
      "to ./MassComplete/thumbnails/M3373741478667885712.jpg\n",
      "Saving:\n",
      "https://www.legacysurvey.org/viewer/cutout.jpg?ra=2.1482544125027285&dec=0.7975181433392139&layer=ls-dr9&pixscale=0.26&width=200&height=200\n",
      "to ./MassComplete/thumbnails/M3373767866946957524.jpg\n",
      "Saving:\n",
      "https://www.legacysurvey.org/viewer/cutout.jpg?ra=2.1945027693931896&dec=0.8910660580318377&layer=ls-dr9&pixscale=0.26&width=200&height=200\n",
      "to ./MassComplete/thumbnails/M3373807449365555346.jpg\n",
      "Saving:\n",
      "https://www.legacysurvey.org/viewer/cutout.jpg?ra=1.364510483856426&dec=0.9913892458857874&layer=ls-dr9&pixscale=0.26&width=200&height=200\n",
      "to ./MassComplete/thumbnails/M3373829439598116625.jpg\n",
      "Saving:\n",
      "https://www.legacysurvey.org/viewer/cutout.jpg?ra=2.00262499463228&dec=1.0975462648171495&layer=ls-dr9&pixscale=0.26&width=200&height=200\n",
      "to ./MassComplete/thumbnails/M3373851429830669410.jpg\n",
      "Saving:\n",
      "https://www.legacysurvey.org/viewer/cutout.jpg?ra=2.0802317371535826&dec=1.1609053571927945&layer=ls-dr9&pixscale=0.26&width=200&height=200\n",
      "to ./MassComplete/thumbnails/M3373851429830672462.jpg\n",
      "Saving:\n",
      "https://www.legacysurvey.org/viewer/cutout.jpg?ra=1.2351365295515353&dec=1.1739379064790787&layer=ls-dr9&pixscale=0.26&width=200&height=200\n",
      "to ./MassComplete/thumbnails/M3373869022016714510.jpg\n",
      "Saving:\n",
      "https://www.legacysurvey.org/viewer/cutout.jpg?ra=1.0763381730534494&dec=1.0904434630285837&layer=ls-dr9&pixscale=0.26&width=200&height=200\n",
      "to ./MassComplete/thumbnails/M3373873420063223292.jpg\n",
      "Saving:\n",
      "https://www.legacysurvey.org/viewer/cutout.jpg?ra=1.1165799392244649&dec=1.1716154369154608&layer=ls-dr9&pixscale=0.26&width=200&height=200\n",
      "to ./MassComplete/thumbnails/M3373873420063227993.jpg\n",
      "Saving:\n",
      "https://www.legacysurvey.org/viewer/cutout.jpg?ra=0.9297396055048877&dec=1.043567601884378&layer=ls-dr9&pixscale=0.26&width=200&height=200\n",
      "to ./MassComplete/thumbnails/M3373877818109730549.jpg\n",
      "Saving:\n",
      "https://www.legacysurvey.org/viewer/cutout.jpg?ra=1.6405004339575946&dec=1.3470055594673613&layer=ls-dr9&pixscale=0.26&width=200&height=200\n",
      "to ./MassComplete/thumbnails/M3373899808342291787.jpg\n",
      "Saving:\n",
      "https://www.legacysurvey.org/viewer/cutout.jpg?ra=0.9193698625696141&dec=1.3543882620110639&layer=ls-dr9&pixscale=0.26&width=200&height=200\n",
      "to ./MassComplete/thumbnails/M3373917400528338627.jpg\n",
      "Saving:\n",
      "https://www.legacysurvey.org/viewer/cutout.jpg?ra=1.9748058562895205&dec=1.4358136947274969&layer=ls-dr9&pixscale=0.26&width=200&height=200\n",
      "to ./MassComplete/thumbnails/M3373930594667865849.jpg\n",
      "Saving:\n",
      "https://www.legacysurvey.org/viewer/cutout.jpg?ra=1.9653082963196522&dec=1.4455456423012414&layer=ls-dr9&pixscale=0.26&width=200&height=200\n",
      "to ./MassComplete/thumbnails/M3373930594667866827.jpg\n",
      "Saving:\n",
      "https://www.legacysurvey.org/viewer/cutout.jpg?ra=2.3611691419870993&dec=0.45261922504623026&layer=ls-dr9&pixscale=0.26&width=200&height=200\n",
      "to ./MassComplete/thumbnails/M3374075730202729095.jpg\n",
      "Saving:\n",
      "https://www.legacysurvey.org/viewer/cutout.jpg?ra=2.2311017250994194&dec=0.4663137815179185&layer=ls-dr9&pixscale=0.26&width=200&height=200\n",
      "to ./MassComplete/thumbnails/M3374119710667842768.jpg\n",
      "Saving:\n",
      "https://www.legacysurvey.org/viewer/cutout.jpg?ra=2.2603838725944443&dec=0.8352182880430113&layer=ls-dr9&pixscale=0.26&width=200&height=200\n",
      "to ./MassComplete/thumbnails/M3374159293086446693.jpg\n",
      "Saving:\n",
      "https://www.legacysurvey.org/viewer/cutout.jpg?ra=2.696886085267662&dec=1.1214311324102173&layer=ls-dr9&pixscale=0.26&width=200&height=200\n",
      "to ./MassComplete/thumbnails/M3374225263784113447.jpg\n",
      "Saving:\n",
      "https://www.legacysurvey.org/viewer/cutout.jpg?ra=2.383062392741961&dec=1.4277015398159176&layer=ls-dr9&pixscale=0.26&width=200&height=200\n",
      "to ./MassComplete/thumbnails/M3374313224714332087.jpg\n",
      "Saving:\n",
      "https://www.legacysurvey.org/viewer/cutout.jpg?ra=129.26401245041694&dec=0.039682895803913106&layer=ls-dr9&pixscale=0.26&width=200&height=200\n",
      "to ./MassComplete/thumbnails/M3404255125361939560.jpg\n",
      "Saving:\n",
      "https://www.legacysurvey.org/viewer/cutout.jpg?ra=341.1868181638238&dec=0.30626849316081173&layer=ls-dr9&pixscale=0.26&width=200&height=200\n",
      "to ./MassComplete/thumbnails/M3455276862937246390.jpg\n",
      "Saving:\n",
      "https://www.legacysurvey.org/viewer/cutout.jpg?ra=340.4349870415726&dec=0.39956526989104824&layer=ls-dr9&pixscale=0.26&width=200&height=200\n",
      "to ./MassComplete/thumbnails/M3455294455123302289.jpg\n",
      "Saving:\n",
      "https://www.legacysurvey.org/viewer/cutout.jpg?ra=340.03256759926796&dec=0.5257526006933091&layer=ls-dr9&pixscale=0.26&width=200&height=200\n",
      "to ./MassComplete/thumbnails/M3455342833634926066.jpg\n",
      "Saving:\n",
      "https://www.legacysurvey.org/viewer/cutout.jpg?ra=340.9929880578181&dec=0.6730338289987633&layer=ls-dr9&pixscale=0.26&width=200&height=200\n",
      "to ./MassComplete/thumbnails/M3455360425820958932.jpg\n",
      "Saving:\n",
      "https://www.legacysurvey.org/viewer/cutout.jpg?ra=340.3819910892349&dec=0.811484722094444&layer=ls-dr9&pixscale=0.26&width=200&height=200\n",
      "to ./MassComplete/thumbnails/M3455373619960517876.jpg\n",
      "Saving:\n",
      "https://www.legacysurvey.org/viewer/cutout.jpg?ra=340.09834048629796&dec=0.7344117484847913&layer=ls-dr9&pixscale=0.26&width=200&height=200\n",
      "to ./MassComplete/thumbnails/M3455378018007016157.jpg\n",
      "Saving:\n",
      "https://www.legacysurvey.org/viewer/cutout.jpg?ra=341.39352958256035&dec=0.9533319095807287&layer=ls-dr9&pixscale=0.26&width=200&height=200\n",
      "to ./MassComplete/thumbnails/M3455391212146543635.jpg\n",
      "Saving:\n",
      "https://www.legacysurvey.org/viewer/cutout.jpg?ra=341.06464473367447&dec=0.9620247636562544&layer=ls-dr9&pixscale=0.26&width=200&height=200\n",
      "to ./MassComplete/thumbnails/M3455395610193056020.jpg\n",
      "Saving:\n",
      "https://www.legacysurvey.org/viewer/cutout.jpg?ra=340.7070070961519&dec=0.9808240289371876&layer=ls-dr9&pixscale=0.26&width=200&height=200\n",
      "to ./MassComplete/thumbnails/M3455404406286078237.jpg\n",
      "Saving:\n",
      "https://www.legacysurvey.org/viewer/cutout.jpg?ra=341.1518802247222&dec=1.0611203868035688&layer=ls-dr9&pixscale=0.26&width=200&height=200\n",
      "to ./MassComplete/thumbnails/M3455435192611647986.jpg\n",
      "Saving:\n",
      "https://www.legacysurvey.org/viewer/cutout.jpg?ra=342.8365512661528&dec=0.540498468426045&layer=ls-dr9&pixscale=0.26&width=200&height=200\n",
      "to ./MassComplete/thumbnails/M3455668289076735003.jpg\n",
      "Saving:\n",
      "https://www.legacysurvey.org/viewer/cutout.jpg?ra=342.70944493543425&dec=0.5626165081554334&layer=ls-dr9&pixscale=0.26&width=200&height=200\n",
      "to ./MassComplete/thumbnails/M3455668289076735333.jpg\n",
      "Saving:\n",
      "https://www.legacysurvey.org/viewer/cutout.jpg?ra=342.2642364188557&dec=1.0026733322425994&layer=ls-dr9&pixscale=0.26&width=200&height=200\n",
      "to ./MassComplete/thumbnails/M3455760648053477011.jpg\n",
      "Saving:\n",
      "https://www.legacysurvey.org/viewer/cutout.jpg?ra=341.54187841041215&dec=1.0014682999694149&layer=ls-dr9&pixscale=0.26&width=200&height=200\n",
      "to ./MassComplete/thumbnails/M3455778240239519723.jpg\n",
      "Saving:\n",
      "https://www.legacysurvey.org/viewer/cutout.jpg?ra=342.408440664637&dec=1.0609213680880127&layer=ls-dr9&pixscale=0.26&width=200&height=200\n",
      "to ./MassComplete/thumbnails/M3455795832425556797.jpg\n",
      "Saving:\n",
      "https://www.legacysurvey.org/viewer/cutout.jpg?ra=341.99906899054065&dec=1.0310459474347933&layer=ls-dr9&pixscale=0.26&width=200&height=200\n",
      "to ./MassComplete/thumbnails/M3455804628518575171.jpg\n",
      "Saving:\n",
      "https://www.legacysurvey.org/viewer/cutout.jpg?ra=342.3402238417376&dec=1.243639486088525&layer=ls-dr9&pixscale=0.26&width=200&height=200\n",
      "to ./MassComplete/thumbnails/M3455835414844156170.jpg\n",
      "Saving:\n",
      "https://www.legacysurvey.org/viewer/cutout.jpg?ra=342.4119624671604&dec=1.3729170601723326&layer=ls-dr9&pixscale=0.26&width=200&height=200\n",
      "to ./MassComplete/thumbnails/M3455835414844162279.jpg\n",
      "Saving:\n",
      "https://www.legacysurvey.org/viewer/cutout.jpg?ra=341.4978852614729&dec=1.2865858700043278&layer=ls-dr9&pixscale=0.26&width=200&height=200\n",
      "to ./MassComplete/thumbnails/M3455857405076716099.jpg\n",
      "Saving:\n",
      "https://www.legacysurvey.org/viewer/cutout.jpg?ra=342.817747780369&dec=1.4287167399569345&layer=ls-dr9&pixscale=0.26&width=200&height=200\n",
      "to ./MassComplete/thumbnails/M3455866201169736138.jpg\n",
      "Saving:\n",
      "https://www.legacysurvey.org/viewer/cutout.jpg?ra=341.912211903448&dec=1.4301332516779994&layer=ls-dr9&pixscale=0.26&width=200&height=200\n",
      "to ./MassComplete/thumbnails/M3455888191402291606.jpg\n",
      "Saving:\n",
      "https://www.legacysurvey.org/viewer/cutout.jpg?ra=343.5795798754467&dec=0.14035298533574603&layer=ls-dr9&pixscale=0.26&width=200&height=200\n",
      "to ./MassComplete/thumbnails/M3455962958192978290.jpg\n",
      "Saving:\n",
      "https://www.legacysurvey.org/viewer/cutout.jpg?ra=344.0631574983513&dec=0.6131142353375374&layer=ls-dr9&pixscale=0.26&width=200&height=200\n",
      "to ./MassComplete/thumbnails/M3456028928890646751.jpg\n",
      "Saving:\n",
      "https://www.legacysurvey.org/viewer/cutout.jpg?ra=343.00456426998124&dec=0.5849572648647615&layer=ls-dr9&pixscale=0.26&width=200&height=200\n",
      "to ./MassComplete/thumbnails/M3456055317169713981.jpg\n",
      "Saving:\n",
      "https://www.legacysurvey.org/viewer/cutout.jpg?ra=343.32995561539866&dec=0.9954825349191357&layer=ls-dr9&pixscale=0.26&width=200&height=200\n",
      "to ./MassComplete/thumbnails/M3456125685913893671.jpg\n",
      "Saving:\n",
      "https://www.legacysurvey.org/viewer/cutout.jpg?ra=343.64178749003474&dec=1.0376970381674484&layer=ls-dr9&pixscale=0.26&width=200&height=200\n",
      "to ./MassComplete/thumbnails/M3456156472239462649.jpg\n",
      "Saving:\n",
      "https://www.legacysurvey.org/viewer/cutout.jpg?ra=343.31899074505316&dec=1.026651636730596&layer=ls-dr9&pixscale=0.26&width=200&height=200\n",
      "to ./MassComplete/thumbnails/M3456165268332486289.jpg\n",
      "Saving:\n",
      "https://www.legacysurvey.org/viewer/cutout.jpg?ra=343.61560738434514&dec=1.2206541801695092&layer=ls-dr9&pixscale=0.26&width=200&height=200\n",
      "to ./MassComplete/thumbnails/M3456196054658062601.jpg\n",
      "Saving:\n",
      "https://www.legacysurvey.org/viewer/cutout.jpg?ra=343.12815960688977&dec=1.2389881739377238&layer=ls-dr9&pixscale=0.26&width=200&height=200\n",
      "to ./MassComplete/thumbnails/M3456209248797600287.jpg\n",
      "Saving:\n",
      "https://www.legacysurvey.org/viewer/cutout.jpg?ra=344.15806692415134&dec=1.4802449442358012&layer=ls-dr9&pixscale=0.26&width=200&height=200\n",
      "to ./MassComplete/thumbnails/M3456226840983642191.jpg\n",
      "Saving:\n",
      "https://www.legacysurvey.org/viewer/cutout.jpg?ra=344.8284941628615&dec=0.08384730180083383&layer=ls-dr9&pixscale=0.26&width=200&height=200\n",
      "to ./MassComplete/thumbnails/M3456284015588286210.jpg\n",
      "Saving:\n",
      "https://www.legacysurvey.org/viewer/cutout.jpg?ra=344.55119885262457&dec=0.4242326808023483&layer=ls-dr9&pixscale=0.26&width=200&height=200\n",
      "to ./MassComplete/thumbnails/M3456367578472005161.jpg\n",
      "Saving:\n",
      "https://www.legacysurvey.org/viewer/cutout.jpg?ra=344.68491695897904&dec=0.42110711641377724&layer=ls-dr9&pixscale=0.26&width=200&height=200\n",
      "to ./MassComplete/thumbnails/M3456367578472005319.jpg\n",
      "Saving:\n",
      "https://www.legacysurvey.org/viewer/cutout.jpg?ra=345.79562139171173&dec=0.6738440082986195&layer=ls-dr9&pixscale=0.26&width=200&height=200\n",
      "to ./MassComplete/thumbnails/M3456420355030131264.jpg\n",
      "Saving:\n",
      "https://www.legacysurvey.org/viewer/cutout.jpg?ra=345.10504965042986&dec=0.7402706949835507&layer=ls-dr9&pixscale=0.26&width=200&height=200\n",
      "to ./MassComplete/thumbnails/M3456433549169665037.jpg\n",
      "Saving:\n",
      "https://www.legacysurvey.org/viewer/cutout.jpg?ra=345.46747064763144&dec=0.8372498253616678&layer=ls-dr9&pixscale=0.26&width=200&height=200\n",
      "to ./MassComplete/thumbnails/M3456464335495240745.jpg\n",
      "Saving:\n",
      "https://www.legacysurvey.org/viewer/cutout.jpg?ra=345.3538829359129&dec=0.9503566887983068&layer=ls-dr9&pixscale=0.26&width=200&height=200\n",
      "to ./MassComplete/thumbnails/M3456468733541758397.jpg\n",
      "Saving:\n",
      "https://www.legacysurvey.org/viewer/cutout.jpg?ra=345.5778029544927&dec=1.0753276450063807&layer=ls-dr9&pixscale=0.26&width=200&height=200\n",
      "to ./MassComplete/thumbnails/M3456503917913844686.jpg\n",
      "Saving:\n",
      "https://www.legacysurvey.org/viewer/cutout.jpg?ra=344.9937536173773&dec=1.0293182295495378&layer=ls-dr9&pixscale=0.26&width=200&height=200\n",
      "to ./MassComplete/thumbnails/M3456517112053372197.jpg\n",
      "Saving:\n",
      "https://www.legacysurvey.org/viewer/cutout.jpg?ra=344.9380326606424&dec=1.1117582223923492&layer=ls-dr9&pixscale=0.26&width=200&height=200\n",
      "to ./MassComplete/thumbnails/M3456517112053373951.jpg\n",
      "Saving:\n",
      "https://www.legacysurvey.org/viewer/cutout.jpg?ra=345.2612442971099&dec=1.3237627701991048&layer=ls-dr9&pixscale=0.26&width=200&height=200\n",
      "to ./MassComplete/thumbnails/M3456552296425464806.jpg\n",
      "Saving:\n",
      "https://www.legacysurvey.org/viewer/cutout.jpg?ra=345.15129708659964&dec=1.456608714300403&layer=ls-dr9&pixscale=0.26&width=200&height=200\n",
      "to ./MassComplete/thumbnails/M3456591878844064724.jpg\n",
      "Saving:\n",
      "https://www.legacysurvey.org/viewer/cutout.jpg?ra=344.820238192547&dec=1.4199500084516012&layer=ls-dr9&pixscale=0.26&width=200&height=200\n",
      "to ./MassComplete/thumbnails/M3456600674937086137.jpg\n",
      "Saving:\n",
      "https://www.legacysurvey.org/viewer/cutout.jpg?ra=353.17263031296966&dec=0.37602142421734513&layer=ls-dr9&pixscale=0.26&width=200&height=200\n",
      "to ./MassComplete/thumbnails/M3458122399029947159.jpg\n",
      "Saving:\n",
      "https://www.legacysurvey.org/viewer/cutout.jpg?ra=352.86440758259215&dec=0.6160975601145655&layer=ls-dr9&pixscale=0.26&width=200&height=200\n",
      "to ./MassComplete/thumbnails/M3458170777541561161.jpg\n",
      "Saving:\n",
      "https://www.legacysurvey.org/viewer/cutout.jpg?ra=353.02836063860485&dec=1.1195746525631982&layer=ls-dr9&pixscale=0.26&width=200&height=200\n",
      "to ./MassComplete/thumbnails/M3458285126750860596.jpg\n",
      "Saving:\n",
      "https://www.legacysurvey.org/viewer/cutout.jpg?ra=353.53519921790183&dec=0.47995485620962103&layer=ls-dr9&pixscale=0.26&width=200&height=200\n",
      "to ./MassComplete/thumbnails/M3458544611495011574.jpg\n",
      "Saving:\n",
      "https://www.legacysurvey.org/viewer/cutout.jpg?ra=354.19064984124475&dec=0.844251109325219&layer=ls-dr9&pixscale=0.26&width=200&height=200\n",
      "to ./MassComplete/thumbnails/M3458606184146165868.jpg\n",
      "Saving:\n",
      "https://www.legacysurvey.org/viewer/cutout.jpg?ra=354.17665605898355&dec=0.97610173620118&layer=ls-dr9&pixscale=0.26&width=200&height=200\n",
      "to ./MassComplete/thumbnails/M3458606184146185948.jpg\n",
      "Saving:\n",
      "https://www.legacysurvey.org/viewer/cutout.jpg?ra=353.6214784349497&dec=0.9276064028172658&layer=ls-dr9&pixscale=0.26&width=200&height=200\n",
      "to ./MassComplete/thumbnails/M3458619378285709890.jpg\n",
      "Saving:\n",
      "https://www.legacysurvey.org/viewer/cutout.jpg?ra=353.5133070867911&dec=0.9260389074005458&layer=ls-dr9&pixscale=0.26&width=200&height=200\n",
      "to ./MassComplete/thumbnails/M3458623776332216399.jpg\n",
      "Saving:\n",
      "https://www.legacysurvey.org/viewer/cutout.jpg?ra=354.0239945794454&dec=1.1143130244248736&layer=ls-dr9&pixscale=0.26&width=200&height=200\n",
      "to ./MassComplete/thumbnails/M3458650164611287066.jpg\n",
      "Saving:\n",
      "https://www.legacysurvey.org/viewer/cutout.jpg?ra=353.72300544574216&dec=1.202261821007836&layer=ls-dr9&pixscale=0.26&width=200&height=200\n",
      "to ./MassComplete/thumbnails/M3458658960704318521.jpg\n",
      "Saving:\n",
      "https://www.legacysurvey.org/viewer/cutout.jpg?ra=353.4002734020438&dec=1.0877979450272968&layer=ls-dr9&pixscale=0.26&width=200&height=200\n",
      "to ./MassComplete/thumbnails/M3458667756797319053.jpg\n",
      "Saving:\n",
      "https://www.legacysurvey.org/viewer/cutout.jpg?ra=354.58363727662135&dec=1.2151871514909247&layer=ls-dr9&pixscale=0.26&width=200&height=200\n",
      "to ./MassComplete/thumbnails/M3458676552890334518.jpg\n",
      "Saving:\n",
      "https://www.legacysurvey.org/viewer/cutout.jpg?ra=354.14883204006867&dec=1.2392293869445719&layer=ls-dr9&pixscale=0.26&width=200&height=200\n",
      "to ./MassComplete/thumbnails/M3458689747029878509.jpg\n",
      "Saving:\n",
      "https://www.legacysurvey.org/viewer/cutout.jpg?ra=353.4423829054886&dec=1.3252329880183953&layer=ls-dr9&pixscale=0.26&width=200&height=200\n",
      "to ./MassComplete/thumbnails/M3458702941169427597.jpg\n",
      "Saving:\n",
      "https://www.legacysurvey.org/viewer/cutout.jpg?ra=353.92493486041514&dec=1.418674056431478&layer=ls-dr9&pixscale=0.26&width=200&height=200\n",
      "to ./MassComplete/thumbnails/M3458733727494988187.jpg\n",
      "Saving:\n",
      "https://www.legacysurvey.org/viewer/cutout.jpg?ra=355.56779157847564&dec=0.25903749107173474&layer=ls-dr9&pixscale=0.26&width=200&height=200\n",
      "to ./MassComplete/thumbnails/M3458808494285671543.jpg\n",
      "Saving:\n",
      "https://www.legacysurvey.org/viewer/cutout.jpg?ra=355.2661572605086&dec=0.13941978622614748&layer=ls-dr9&pixscale=0.26&width=200&height=200\n",
      "to ./MassComplete/thumbnails/M3458817290378689877.jpg\n",
      "Saving:\n",
      "https://www.legacysurvey.org/viewer/cutout.jpg?ra=354.935239022395&dec=0.21400773258799757&layer=ls-dr9&pixscale=0.26&width=200&height=200\n",
      "to ./MassComplete/thumbnails/M3458821688425208105.jpg\n",
      "Saving:\n",
      "https://www.legacysurvey.org/viewer/cutout.jpg?ra=354.9773571939473&dec=0.21713737211767659&layer=ls-dr9&pixscale=0.26&width=200&height=200\n",
      "to ./MassComplete/thumbnails/M3458821688425208283.jpg\n",
      "Saving:\n",
      "https://www.legacysurvey.org/viewer/cutout.jpg?ra=354.8921580669461&dec=0.15759806067986606&layer=ls-dr9&pixscale=0.26&width=200&height=200\n",
      "to ./MassComplete/thumbnails/M3458826086471706286.jpg\n",
      "Saving:\n",
      "https://www.legacysurvey.org/viewer/cutout.jpg?ra=356.0261571047192&dec=0.45016813508061215&layer=ls-dr9&pixscale=0.26&width=200&height=200\n",
      "to ./MassComplete/thumbnails/M3458834882564746117.jpg\n",
      "Saving:\n",
      "https://www.legacysurvey.org/viewer/cutout.jpg?ra=355.57625105680995&dec=0.45242520210839027&layer=ls-dr9&pixscale=0.26&width=200&height=200\n",
      "to ./MassComplete/thumbnails/M3458848076704277997.jpg\n",
      "Saving:\n",
      "https://www.legacysurvey.org/viewer/cutout.jpg?ra=355.96024862467203&dec=0.6200244170342042&layer=ls-dr9&pixscale=0.26&width=200&height=200\n",
      "to ./MassComplete/thumbnails/M3458878863029848804.jpg\n",
      "Saving:\n",
      "https://www.legacysurvey.org/viewer/cutout.jpg?ra=356.2125838676113&dec=0.7790894382768091&layer=ls-dr9&pixscale=0.26&width=200&height=200\n",
      "to ./MassComplete/thumbnails/M3458909649355422835.jpg\n",
      "Saving:\n",
      "https://www.legacysurvey.org/viewer/cutout.jpg?ra=356.28278006823496&dec=0.9679681638056262&layer=ls-dr9&pixscale=0.26&width=200&height=200\n",
      "to ./MassComplete/thumbnails/M3458949231774027083.jpg\n",
      "Saving:\n",
      "https://www.legacysurvey.org/viewer/cutout.jpg?ra=354.9353162755568&dec=0.8884728531020448&layer=ls-dr9&pixscale=0.26&width=200&height=200\n",
      "to ./MassComplete/thumbnails/M3458980018099602157.jpg\n",
      "Saving:\n",
      "https://www.legacysurvey.org/viewer/cutout.jpg?ra=356.2856835174907&dec=1.191141896943858&layer=ls-dr9&pixscale=0.26&width=200&height=200\n",
      "to ./MassComplete/thumbnails/M3458988814192630743.jpg\n",
      "Saving:\n",
      "https://www.legacysurvey.org/viewer/cutout.jpg?ra=356.0292940731937&dec=1.1427241803656967&layer=ls-dr9&pixscale=0.26&width=200&height=200\n",
      "to ./MassComplete/thumbnails/M3458993212239138853.jpg\n",
      "Saving:\n",
      "https://www.legacysurvey.org/viewer/cutout.jpg?ra=354.8197803775049&dec=1.1863245562775724&layer=ls-dr9&pixscale=0.26&width=200&height=200\n",
      "to ./MassComplete/thumbnails/M3459023998564727131.jpg\n",
      "Saving:\n",
      "https://www.legacysurvey.org/viewer/cutout.jpg?ra=355.6638510742594&dec=1.2818734175026743&layer=ls-dr9&pixscale=0.26&width=200&height=200\n",
      "to ./MassComplete/thumbnails/M3459041590750762694.jpg\n",
      "Saving:\n",
      "https://www.legacysurvey.org/viewer/cutout.jpg?ra=357.63436332944775&dec=0.20805629863829875&layer=ls-dr9&pixscale=0.26&width=200&height=200\n",
      "to ./MassComplete/thumbnails/M3459151541913530521.jpg\n",
      "Saving:\n",
      "https://www.legacysurvey.org/viewer/cutout.jpg?ra=357.33325878736747&dec=0.2376331148173508&layer=ls-dr9&pixscale=0.26&width=200&height=200\n",
      "to ./MassComplete/thumbnails/M3459155939960041888.jpg\n",
      "Saving:\n",
      "https://www.legacysurvey.org/viewer/cutout.jpg?ra=356.81383886274875&dec=0.12252847522200754&layer=ls-dr9&pixscale=0.26&width=200&height=200\n",
      "to ./MassComplete/thumbnails/M3459169134099575444.jpg\n",
      "Saving:\n",
      "https://www.legacysurvey.org/viewer/cutout.jpg?ra=356.7072079446789&dec=0.22018117629522946&layer=ls-dr9&pixscale=0.26&width=200&height=200\n",
      "to ./MassComplete/thumbnails/M3459173532146083041.jpg\n",
      "Saving:\n",
      "https://www.legacysurvey.org/viewer/cutout.jpg?ra=357.32567867852157&dec=0.34499211355012677&layer=ls-dr9&pixscale=0.26&width=200&height=200\n",
      "to ./MassComplete/thumbnails/M3459195522378641264.jpg\n",
      "Saving:\n",
      "https://www.legacysurvey.org/viewer/cutout.jpg?ra=356.53196941990643&dec=0.30553499478553725&layer=ls-dr9&pixscale=0.26&width=200&height=200\n",
      "to ./MassComplete/thumbnails/M3459217512611197724.jpg\n",
      "Saving:\n",
      "https://www.legacysurvey.org/viewer/cutout.jpg?ra=356.34329651965356&dec=0.3214704524167787&layer=ls-dr9&pixscale=0.26&width=200&height=200\n",
      "to ./MassComplete/thumbnails/M3459221910657711238.jpg\n",
      "Saving:\n",
      "https://www.legacysurvey.org/viewer/cutout.jpg?ra=356.3843043644792&dec=0.7818126425594792&layer=ls-dr9&pixscale=0.26&width=200&height=200\n",
      "to ./MassComplete/thumbnails/M3459296677448404851.jpg\n",
      "Saving:\n",
      "https://www.legacysurvey.org/viewer/cutout.jpg?ra=356.2992295023254&dec=0.7925734236130522&layer=ls-dr9&pixscale=0.26&width=200&height=200\n",
      "to ./MassComplete/thumbnails/M3459301075494911944.jpg\n",
      "Saving:\n",
      "https://www.legacysurvey.org/viewer/cutout.jpg?ra=356.5611555890181&dec=0.8971729737353741&layer=ls-dr9&pixscale=0.26&width=200&height=200\n",
      "to ./MassComplete/thumbnails/M3459336259866996662.jpg\n",
      "Saving:\n",
      "https://www.legacysurvey.org/viewer/cutout.jpg?ra=356.76642750930444&dec=1.0978225564534458&layer=ls-dr9&pixscale=0.26&width=200&height=200\n",
      "to ./MassComplete/thumbnails/M3459367046192573382.jpg\n",
      "Saving:\n",
      "https://www.legacysurvey.org/viewer/cutout.jpg?ra=357.7640696277482&dec=1.2589677411362188&layer=ls-dr9&pixscale=0.26&width=200&height=200\n",
      "to ./MassComplete/thumbnails/M3459384638378615965.jpg\n",
      "Saving:\n",
      "https://www.legacysurvey.org/viewer/cutout.jpg?ra=357.2156466066528&dec=1.4419021343645135&layer=ls-dr9&pixscale=0.26&width=200&height=200\n",
      "to ./MassComplete/thumbnails/M3459437414936749535.jpg\n",
      "Saving:\n",
      "https://www.legacysurvey.org/viewer/cutout.jpg?ra=357.23373708127036&dec=1.4684809280830102&layer=ls-dr9&pixscale=0.26&width=200&height=200\n",
      "to ./MassComplete/thumbnails/M3459437414936750427.jpg\n",
      "Saving:\n",
      "https://www.legacysurvey.org/viewer/cutout.jpg?ra=356.627044025111&dec=1.4247406315516153&layer=ls-dr9&pixscale=0.26&width=200&height=200\n",
      "to ./MassComplete/thumbnails/M3459450609076285829.jpg\n",
      "Saving:\n",
      "https://www.legacysurvey.org/viewer/cutout.jpg?ra=359.00463062547874&dec=0.3601176066250291&layer=ls-dr9&pixscale=0.26&width=200&height=200\n",
      "to ./MassComplete/thumbnails/M3459547366099531337.jpg\n",
      "Saving:\n",
      "https://www.legacysurvey.org/viewer/cutout.jpg?ra=359.2407511820611&dec=0.6684128751463824&layer=ls-dr9&pixscale=0.26&width=200&height=200\n",
      "to ./MassComplete/thumbnails/M3459622132890213837.jpg\n",
      "Saving:\n",
      "https://www.legacysurvey.org/viewer/cutout.jpg?ra=358.3193484900756&dec=0.789498955431134&layer=ls-dr9&pixscale=0.26&width=200&height=200\n",
      "to ./MassComplete/thumbnails/M3459644123122774837.jpg\n",
      "Saving:\n",
      "https://www.legacysurvey.org/viewer/cutout.jpg?ra=358.3713731508167&dec=1.0150480559411263&layer=ls-dr9&pixscale=0.26&width=200&height=200\n",
      "to ./MassComplete/thumbnails/M3459683705541376546.jpg\n",
      "Saving:\n",
      "https://www.legacysurvey.org/viewer/cutout.jpg?ra=358.2288189002457&dec=0.8780077344662165&layer=ls-dr9&pixscale=0.26&width=200&height=200\n",
      "to ./MassComplete/thumbnails/M3459688103587881256.jpg\n",
      "Saving:\n",
      "https://www.legacysurvey.org/viewer/cutout.jpg?ra=357.85952171977016&dec=0.9645379661281487&layer=ls-dr9&pixscale=0.26&width=200&height=200\n",
      "to ./MassComplete/thumbnails/M3459696899680911186.jpg\n",
      "Saving:\n",
      "https://www.legacysurvey.org/viewer/cutout.jpg?ra=358.7204107283499&dec=1.0735235664763545&layer=ls-dr9&pixscale=0.26&width=200&height=200\n",
      "to ./MassComplete/thumbnails/M3459714491866947296.jpg\n",
      "Saving:\n",
      "https://www.legacysurvey.org/viewer/cutout.jpg?ra=359.23011653758147&dec=1.2548406905889526&layer=ls-dr9&pixscale=0.26&width=200&height=200\n",
      "to ./MassComplete/thumbnails/M3459740880146016917.jpg\n",
      "Saving:\n",
      "https://www.legacysurvey.org/viewer/cutout.jpg?ra=359.0096938358666&dec=1.2916347171349378&layer=ls-dr9&pixscale=0.26&width=200&height=200\n",
      "to ./MassComplete/thumbnails/M3459745278192530142.jpg\n",
      "Saving:\n",
      "https://www.legacysurvey.org/viewer/cutout.jpg?ra=358.96086936729614&dec=1.3210441803917228&layer=ls-dr9&pixscale=0.26&width=200&height=200\n",
      "to ./MassComplete/thumbnails/M3459749676239042949.jpg\n",
      "Saving:\n",
      "https://www.legacysurvey.org/viewer/cutout.jpg?ra=358.20804130638254&dec=1.3260043928912078&layer=ls-dr9&pixscale=0.26&width=200&height=200\n",
      "to ./MassComplete/thumbnails/M3459767268425085864.jpg\n",
      "Saving:\n",
      "https://www.legacysurvey.org/viewer/cutout.jpg?ra=357.8615020051697&dec=1.3821479465382025&layer=ls-dr9&pixscale=0.26&width=200&height=200\n",
      "to ./MassComplete/thumbnails/M3459776064518110011.jpg\n",
      "Saving:\n",
      "https://www.legacysurvey.org/viewer/cutout.jpg?ra=0.43814419656057896&dec=1.598666133198553&layer=ls-dr9&pixscale=0.26&width=200&height=200\n",
      "to ./MassComplete/thumbnails/M3459868423494838210.jpg\n",
      "Saving:\n",
      "https://www.legacysurvey.org/viewer/cutout.jpg?ra=359.9572692033606&dec=1.6413332579566258&layer=ls-dr9&pixscale=0.26&width=200&height=200\n",
      "to ./MassComplete/thumbnails/M3459877219587863747.jpg\n",
      "Saving:\n",
      "https://www.legacysurvey.org/viewer/cutout.jpg?ra=0.09002713169618709&dec=1.834522640168323&layer=ls-dr9&pixscale=0.26&width=200&height=200\n",
      "to ./MassComplete/thumbnails/M3459916802006463172.jpg\n",
      "Saving:\n",
      "https://www.legacysurvey.org/viewer/cutout.jpg?ra=0.08287642618902881&dec=1.9160363839113967&layer=ls-dr9&pixscale=0.26&width=200&height=200\n",
      "to ./MassComplete/thumbnails/M3459916802006467124.jpg\n",
      "Saving:\n",
      "https://www.legacysurvey.org/viewer/cutout.jpg?ra=359.9206088761679&dec=1.939171111125106&layer=ls-dr9&pixscale=0.26&width=200&height=200\n",
      "to ./MassComplete/thumbnails/M3459916802006467932.jpg\n",
      "Saving:\n",
      "https://www.legacysurvey.org/viewer/cutout.jpg?ra=0.27822352003067746&dec=2.0174276345170674&layer=ls-dr9&pixscale=0.26&width=200&height=200\n",
      "to ./MassComplete/thumbnails/M3459951986378551781.jpg\n",
      "Saving:\n",
      "https://www.legacysurvey.org/viewer/cutout.jpg?ra=359.3937558517627&dec=2.0885565928617686&layer=ls-dr9&pixscale=0.26&width=200&height=200\n",
      "to ./MassComplete/thumbnails/M3459969578564596652.jpg\n",
      "Saving:\n",
      "https://www.legacysurvey.org/viewer/cutout.jpg?ra=1.6281372854439113&dec=1.5581436725089075&layer=ls-dr9&pixscale=0.26&width=200&height=200\n",
      "to ./MassComplete/thumbnails/M3460189480890154964.jpg\n",
      "Saving:\n",
      "https://www.legacysurvey.org/viewer/cutout.jpg?ra=0.9692589212611584&dec=1.5590052662139722&layer=ls-dr9&pixscale=0.26&width=200&height=200\n",
      "to ./MassComplete/thumbnails/M3460207073076198369.jpg\n",
      "Saving:\n",
      "https://www.legacysurvey.org/viewer/cutout.jpg?ra=1.954194798811385&dec=1.6338031436494282&layer=ls-dr9&pixscale=0.26&width=200&height=200\n",
      "to ./MassComplete/thumbnails/M3460224665262239724.jpg\n",
      "Saving:\n",
      "https://www.legacysurvey.org/viewer/cutout.jpg?ra=1.5186929665164175&dec=1.6403359765034884&layer=ls-dr9&pixscale=0.26&width=200&height=200\n",
      "to ./MassComplete/thumbnails/M3460233461355261951.jpg\n",
      "Saving:\n",
      "https://www.legacysurvey.org/viewer/cutout.jpg?ra=1.3859499541315778&dec=1.6698718540057567&layer=ls-dr9&pixscale=0.26&width=200&height=200\n",
      "to ./MassComplete/thumbnails/M3460237859401773725.jpg\n",
      "Saving:\n",
      "https://www.legacysurvey.org/viewer/cutout.jpg?ra=1.393731517157417&dec=1.7036099003369238&layer=ls-dr9&pixscale=0.26&width=200&height=200\n",
      "to ./MassComplete/thumbnails/M3460237859401774849.jpg\n",
      "Saving:\n",
      "https://www.legacysurvey.org/viewer/cutout.jpg?ra=1.0688501525724836&dec=1.5951516242342916&layer=ls-dr9&pixscale=0.26&width=200&height=200\n",
      "to ./MassComplete/thumbnails/M3460242257448280493.jpg\n",
      "Saving:\n",
      "https://www.legacysurvey.org/viewer/cutout.jpg?ra=1.4008903483068185&dec=1.799998832979153&layer=ls-dr9&pixscale=0.26&width=200&height=200\n",
      "to ./MassComplete/thumbnails/M3460273043773857964.jpg\n",
      "Saving:\n",
      "https://www.legacysurvey.org/viewer/cutout.jpg?ra=1.3533473688996944&dec=1.8146222165005472&layer=ls-dr9&pixscale=0.26&width=200&height=200\n",
      "to ./MassComplete/thumbnails/M3460277441820371269.jpg\n",
      "Saving:\n",
      "https://www.legacysurvey.org/viewer/cutout.jpg?ra=1.3541709062852092&dec=1.829863028535874&layer=ls-dr9&pixscale=0.26&width=200&height=200\n",
      "to ./MassComplete/thumbnails/M3460277441820371270.jpg\n",
      "Saving:\n",
      "https://www.legacysurvey.org/viewer/cutout.jpg?ra=1.295648737157459&dec=1.875956427130305&layer=ls-dr9&pixscale=0.26&width=200&height=200\n",
      "to ./MassComplete/thumbnails/M3460277441820375113.jpg\n",
      "Saving:\n",
      "https://www.legacysurvey.org/viewer/cutout.jpg?ra=2.3008277472814687&dec=1.5821987979815455&layer=ls-dr9&pixscale=0.26&width=200&height=200\n",
      "to ./MassComplete/thumbnails/M3460607295308703703.jpg\n",
      "Saving:\n",
      "https://www.legacysurvey.org/viewer/cutout.jpg?ra=2.2666366429325695&dec=1.812608367814978&layer=ls-dr9&pixscale=0.26&width=200&height=200\n",
      "to ./MassComplete/thumbnails/M3460646877727308001.jpg\n",
      "Saving:\n",
      "https://www.legacysurvey.org/viewer/cutout.jpg?ra=340.2504030605201&dec=1.5336451151542345&layer=ls-dr9&pixscale=0.26&width=200&height=200\n",
      "to ./MassComplete/thumbnails/M3541425797996774326.jpg\n",
      "Saving:\n",
      "https://www.legacysurvey.org/viewer/cutout.jpg?ra=341.24974201096893&dec=1.7243990907724223&layer=ls-dr9&pixscale=0.26&width=200&height=200\n",
      "to ./MassComplete/thumbnails/M3541443390182807702.jpg\n",
      "Saving:\n",
      "https://www.legacysurvey.org/viewer/cutout.jpg?ra=341.21248897339217&dec=1.8445509119762884&layer=ls-dr9&pixscale=0.26&width=200&height=200\n",
      "to ./MassComplete/thumbnails/M3541482972601404325.jpg\n",
      "Saving:\n",
      "https://www.legacysurvey.org/viewer/cutout.jpg?ra=340.6307222286779&dec=1.8578309991723956&layer=ls-dr9&pixscale=0.26&width=200&height=200\n",
      "to ./MassComplete/thumbnails/M3541496166740946131.jpg\n",
      "Saving:\n",
      "https://www.legacysurvey.org/viewer/cutout.jpg?ra=341.7850534217669&dec=1.501655807118232&layer=ls-dr9&pixscale=0.26&width=200&height=200\n",
      "to ./MassComplete/thumbnails/M3541782039764157552.jpg\n",
      "Saving:\n",
      "https://www.legacysurvey.org/viewer/cutout.jpg?ra=342.05467433255114&dec=1.687029004064355&layer=ls-dr9&pixscale=0.26&width=200&height=200\n",
      "to ./MassComplete/thumbnails/M3541817224136246572.jpg\n",
      "Saving:\n",
      "https://www.legacysurvey.org/viewer/cutout.jpg?ra=341.8231966739448&dec=1.60469359871806&layer=ls-dr9&pixscale=0.26&width=200&height=200\n",
      "to ./MassComplete/thumbnails/M3541821622182756941.jpg\n",
      "Saving:\n",
      "https://www.legacysurvey.org/viewer/cutout.jpg?ra=342.6368387861822&dec=1.7939739186750936&layer=ls-dr9&pixscale=0.26&width=200&height=200\n",
      "to ./MassComplete/thumbnails/M3541839214368795166.jpg\n",
      "Saving:\n",
      "https://www.legacysurvey.org/viewer/cutout.jpg?ra=342.0682784864126&dec=1.916518855814075&layer=ls-dr9&pixscale=0.26&width=200&height=200\n",
      "to ./MassComplete/thumbnails/M3541852408508333213.jpg\n",
      "Saving:\n",
      "https://www.legacysurvey.org/viewer/cutout.jpg?ra=342.0606921475781&dec=2.2631302016826984&layer=ls-dr9&pixscale=0.26&width=200&height=200\n",
      "to ./MassComplete/thumbnails/M3541931573345544821.jpg\n",
      "Saving:\n",
      "https://www.legacysurvey.org/viewer/cutout.jpg?ra=342.8692121546176&dec=2.6770871225471824&layer=ls-dr9&pixscale=0.26&width=200&height=200\n",
      "to ./MassComplete/thumbnails/M3541993145996692671.jpg\n",
      "Saving:\n",
      "https://www.legacysurvey.org/viewer/cutout.jpg?ra=342.6108512996075&dec=2.576186517382098&layer=ls-dr9&pixscale=0.26&width=200&height=200\n",
      "to ./MassComplete/thumbnails/M3542001942089707407.jpg\n",
      "Saving:\n",
      "https://www.legacysurvey.org/viewer/cutout.jpg?ra=341.90550420538955&dec=2.714088018530841&layer=ls-dr9&pixscale=0.26&width=200&height=200\n",
      "to ./MassComplete/thumbnails/M3542054718647841935.jpg\n",
      "Saving:\n",
      "https://www.legacysurvey.org/viewer/cutout.jpg?ra=342.0131111004752&dec=2.818622834782879&layer=ls-dr9&pixscale=0.26&width=200&height=200\n",
      "to ./MassComplete/thumbnails/M3542054718647848716.jpg\n",
      "Saving:\n",
      "https://www.legacysurvey.org/viewer/cutout.jpg?ra=344.2946905147939&dec=1.5537036290794721&layer=ls-dr9&pixscale=0.26&width=200&height=200\n",
      "to ./MassComplete/thumbnails/M3542111893252488156.jpg\n",
      "Saving:\n",
      "https://www.legacysurvey.org/viewer/cutout.jpg?ra=344.1549503148127&dec=1.6904455198368586&layer=ls-dr9&pixscale=0.26&width=200&height=200\n",
      "to ./MassComplete/thumbnails/M3542155873717592822.jpg\n",
      "Saving:\n",
      "https://www.legacysurvey.org/viewer/cutout.jpg?ra=343.7699856592878&dec=2.15749817663962&layer=ls-dr9&pixscale=0.26&width=200&height=200\n",
      "to ./MassComplete/thumbnails/M3542283417066415309.jpg\n",
      "Saving:\n",
      "https://www.legacysurvey.org/viewer/cutout.jpg?ra=343.1001161600369&dec=2.4094769316261115&layer=ls-dr9&pixscale=0.26&width=200&height=200\n",
      "to ./MassComplete/thumbnails/M3542340591671061718.jpg\n",
      "Saving:\n",
      "https://www.legacysurvey.org/viewer/cutout.jpg?ra=343.28340720323274&dec=2.909723093952997&layer=ls-dr9&pixscale=0.26&width=200&height=200\n",
      "to ./MassComplete/thumbnails/M3542454940880350806.jpg\n",
      "Saving:\n",
      "https://www.legacysurvey.org/viewer/cutout.jpg?ra=345.099664464927&dec=1.7529891186781374&layer=ls-dr9&pixscale=0.26&width=200&height=200\n",
      "to ./MassComplete/thumbnails/M3542525309624526090.jpg\n",
      "Saving:\n",
      "https://www.legacysurvey.org/viewer/cutout.jpg?ra=345.35131329947717&dec=1.8684712494438376&layer=ls-dr9&pixscale=0.26&width=200&height=200\n",
      "to ./MassComplete/thumbnails/M3542560493996616714.jpg\n",
      "Saving:\n",
      "https://www.legacysurvey.org/viewer/cutout.jpg?ra=344.4057062781213&dec=2.2772956040673926&layer=ls-dr9&pixscale=0.26&width=200&height=200\n",
      "to ./MassComplete/thumbnails/M3542661649066376234.jpg\n",
      "Saving:\n",
      "https://www.legacysurvey.org/viewer/cutout.jpg?ra=353.018077923585&dec=1.5545119455780991&layer=ls-dr9&pixscale=0.26&width=200&height=200\n",
      "to ./MassComplete/thumbnails/M3544258139949942075.jpg\n",
      "Saving:\n",
      "https://www.legacysurvey.org/viewer/cutout.jpg?ra=353.50038777465284&dec=1.601439285614103&layer=ls-dr9&pixscale=0.26&width=200&height=200\n",
      "to ./MassComplete/thumbnails/M3544675954368475385.jpg\n",
      "Saving:\n",
      "https://www.legacysurvey.org/viewer/cutout.jpg?ra=353.75919240822856&dec=1.9358443273635964&layer=ls-dr9&pixscale=0.26&width=200&height=200\n",
      "to ./MassComplete/thumbnails/M3544711138740581604.jpg\n",
      "Saving:\n",
      "https://www.legacysurvey.org/viewer/cutout.jpg?ra=353.4524818078955&dec=1.8273631290277932&layer=ls-dr9&pixscale=0.26&width=200&height=200\n",
      "to ./MassComplete/thumbnails/M3544715536787079729.jpg\n",
      "Saving:\n",
      "https://www.legacysurvey.org/viewer/cutout.jpg?ra=359.1400484796573&dec=1.5062789564576884&layer=ls-dr9&pixscale=0.26&width=200&height=200\n",
      "to ./MassComplete/thumbnails/M3545678708972992793.jpg\n",
      "Saving:\n",
      "https://www.legacysurvey.org/viewer/cutout.jpg?ra=359.1706143312755&dec=1.688720214843809&layer=ls-dr9&pixscale=0.26&width=200&height=200\n",
      "to ./MassComplete/thumbnails/M3545713893345080152.jpg\n",
      "Saving:\n",
      "https://www.legacysurvey.org/viewer/cutout.jpg?ra=359.00615550153213&dec=1.7453375841889776&layer=ls-dr9&pixscale=0.26&width=200&height=200\n",
      "to ./MassComplete/thumbnails/M3545718291391595797.jpg\n",
      "Saving:\n",
      "https://www.legacysurvey.org/viewer/cutout.jpg?ra=358.44526711882577&dec=1.7526506542503273&layer=ls-dr9&pixscale=0.26&width=200&height=200\n",
      "to ./MassComplete/thumbnails/M3545731485531126283.jpg\n",
      "Saving:\n",
      "https://www.legacysurvey.org/viewer/cutout.jpg?ra=358.05239171675237&dec=1.6572456734378136&layer=ls-dr9&pixscale=0.26&width=200&height=200\n",
      "to ./MassComplete/thumbnails/M3545740281624146860.jpg\n",
      "Saving:\n",
      "https://www.legacysurvey.org/viewer/cutout.jpg?ra=358.8571645039337&dec=1.8726584583094863&layer=ls-dr9&pixscale=0.26&width=200&height=200\n",
      "to ./MassComplete/thumbnails/M3545762271856698697.jpg\n",
      "Saving:\n",
      "https://www.legacysurvey.org/viewer/cutout.jpg?ra=357.8862540549742&dec=1.7875341062621841&layer=ls-dr9&pixscale=0.26&width=200&height=200\n",
      "to ./MassComplete/thumbnails/M3545784262089254132.jpg\n",
      "Saving:\n",
      "https://www.legacysurvey.org/viewer/cutout.jpg?ra=357.9093528112079&dec=1.7992259158450261&layer=ls-dr9&pixscale=0.26&width=200&height=200\n",
      "to ./MassComplete/thumbnails/M3545784262089254816.jpg\n",
      "Saving:\n",
      "https://www.legacysurvey.org/viewer/cutout.jpg?ra=359.1126655300316&dec=2.0128482787837423&layer=ls-dr9&pixscale=0.26&width=200&height=200\n",
      "to ./MassComplete/thumbnails/M3545797456228787580.jpg\n",
      "Saving:\n",
      "https://www.legacysurvey.org/viewer/cutout.jpg?ra=358.39524564853775&dec=2.029535521626788&layer=ls-dr9&pixscale=0.26&width=200&height=200\n",
      "to ./MassComplete/thumbnails/M3545815048414835391.jpg\n",
      "Saving:\n",
      "https://www.legacysurvey.org/viewer/cutout.jpg?ra=358.1719557867363&dec=1.9526228223012185&layer=ls-dr9&pixscale=0.26&width=200&height=200\n",
      "to ./MassComplete/thumbnails/M3545819446461341762.jpg\n",
      "Saving:\n",
      "https://www.legacysurvey.org/viewer/cutout.jpg?ra=358.0050484248778&dec=2.150452788727268&layer=ls-dr9&pixscale=0.26&width=200&height=200\n",
      "to ./MassComplete/thumbnails/M3545863426926447505.jpg\n",
      "Saving:\n",
      "https://www.legacysurvey.org/viewer/cutout.jpg?ra=342.72609213350006&dec=2.9991676844695587&layer=ls-dr9&pixscale=0.26&width=200&height=200\n",
      "to ./MassComplete/thumbnails/M3627970557242260360.jpg\n",
      "Saving:\n",
      "https://www.legacysurvey.org/viewer/cutout.jpg?ra=342.7760807204552&dec=3.1976896762244706&layer=ls-dr9&pixscale=0.26&width=200&height=200\n",
      "to ./MassComplete/thumbnails/M3628010139660870332.jpg\n",
      "Saving:\n",
      "https://www.legacysurvey.org/viewer/cutout.jpg?ra=342.6464394338606&dec=3.3333007112252013&layer=ls-dr9&pixscale=0.26&width=200&height=200\n",
      "to ./MassComplete/thumbnails/M3628049722079465920.jpg\n",
      "Saving:\n",
      "https://www.legacysurvey.org/viewer/cutout.jpg?ra=342.0493617325205&dec=3.376260902050463&layer=ls-dr9&pixscale=0.26&width=200&height=200\n",
      "to ./MassComplete/thumbnails/M3628067314265514262.jpg\n",
      "Saving:\n",
      "https://www.legacysurvey.org/viewer/cutout.jpg?ra=341.7007088175073&dec=3.340637095895137&layer=ls-dr9&pixscale=0.26&width=200&height=200\n",
      "to ./MassComplete/thumbnails/M3628071712312022302.jpg\n",
      "Saving:\n",
      "https://www.legacysurvey.org/viewer/cutout.jpg?ra=342.28022642086125&dec=3.441423022960243&layer=ls-dr9&pixscale=0.26&width=200&height=200\n",
      "to ./MassComplete/thumbnails/M3628098100591078176.jpg\n",
      "Saving:\n",
      "https://www.legacysurvey.org/viewer/cutout.jpg?ra=342.312784688264&dec=3.5425342689343453&layer=ls-dr9&pixscale=0.26&width=200&height=200\n",
      "to ./MassComplete/thumbnails/M3628098100591084868.jpg\n",
      "Saving:\n",
      "https://www.legacysurvey.org/viewer/cutout.jpg?ra=343.297361958988&dec=3.019460256697363&layer=ls-dr9&pixscale=0.26&width=200&height=200\n",
      "to ./MassComplete/thumbnails/M3628348789242220310.jpg\n",
      "Saving:\n",
      "https://www.legacysurvey.org/viewer/cutout.jpg?ra=342.98185372774446&dec=2.976971528607001&layer=ls-dr9&pixscale=0.26&width=200&height=200\n",
      "to ./MassComplete/thumbnails/M3628357585335238006.jpg\n",
      "Saving:\n",
      "https://www.legacysurvey.org/viewer/cutout.jpg?ra=343.50345286409856&dec=3.120303147377766&layer=ls-dr9&pixscale=0.26&width=200&height=200\n",
      "to ./MassComplete/thumbnails/M3628383973614306808.jpg\n",
      "Saving:\n",
      "https://www.legacysurvey.org/viewer/cutout.jpg?ra=343.1586305442195&dec=3.356330957489141&layer=ls-dr9&pixscale=0.26&width=200&height=200\n",
      "to ./MassComplete/thumbnails/M3628432352125936679.jpg\n",
      "Saving:\n",
      "https://www.legacysurvey.org/viewer/cutout.jpg?ra=343.0591846228498&dec=3.4200480613336883&layer=ls-dr9&pixscale=0.26&width=200&height=200\n",
      "to ./MassComplete/thumbnails/M3628432352125944255.jpg\n"
     ]
    }
   ],
   "source": [
    "for idx in range(len(sample)):\n",
    "    target = sample.iloc[idx]\n",
    "    query.get_legacysurveyimage(\n",
    "        target['RA'], target['DEC'], \n",
    "        savedir=f'./{sample_name}/thumbnails/', savename=sample.index[idx], pixscale=0.26, width=200, height=200, format='jpg'\n",
    "    )\n"
   ]
  },
  {
   "cell_type": "code",
   "execution_count": 12,
   "id": "97ffa0a7-d824-45b8-bd08-d6a825ddce0d",
   "metadata": {
    "scrolled": true
   },
   "outputs": [],
   "source": [
    "for idx in range(len(sample)):\n",
    "    ostar = ostars.iloc[idx]\n",
    "    query.get_legacysurveyimage(ostar['ra'], ostar['dec'], savedir=f'./{sample_name}/cutouts/', \n",
    "                                savename=sample.index[idx], pixscale=1., width=300, height=300, verbose=False)"
   ]
  },
  {
   "cell_type": "code",
   "execution_count": 15,
   "id": "ee8a12cc-259b-4658-965a-87eb0015613f",
   "metadata": {
    "scrolled": true
   },
   "outputs": [
    {
     "name": "stderr",
     "output_type": "stream",
     "text": [
      "WARNING: FITSFixedWarning: 'cdfix' made the change 'Success'. [astropy.wcs.wcs]\n",
      "/var/folders/fs/f3k7bp2n3k1bldhn58thddt40000gn/T/ipykernel_87985/3282180528.py:23: UserWarning: FixedFormatter should only be used together with FixedLocator\n",
      "  ax.set_xticklabels(ax.get_xticklabels(), rotation=45)\n",
      "WARNING: FITSFixedWarning: 'cdfix' made the change 'Success'. [astropy.wcs.wcs]\n",
      "/var/folders/fs/f3k7bp2n3k1bldhn58thddt40000gn/T/ipykernel_87985/3282180528.py:23: UserWarning: FixedFormatter should only be used together with FixedLocator\n",
      "  ax.set_xticklabels(ax.get_xticklabels(), rotation=45)\n",
      "WARNING: FITSFixedWarning: 'cdfix' made the change 'Success'. [astropy.wcs.wcs]\n",
      "/var/folders/fs/f3k7bp2n3k1bldhn58thddt40000gn/T/ipykernel_87985/3282180528.py:23: UserWarning: FixedFormatter should only be used together with FixedLocator\n",
      "  ax.set_xticklabels(ax.get_xticklabels(), rotation=45)\n",
      "WARNING: FITSFixedWarning: 'cdfix' made the change 'Success'. [astropy.wcs.wcs]\n",
      "/var/folders/fs/f3k7bp2n3k1bldhn58thddt40000gn/T/ipykernel_87985/3282180528.py:23: UserWarning: FixedFormatter should only be used together with FixedLocator\n",
      "  ax.set_xticklabels(ax.get_xticklabels(), rotation=45)\n",
      "WARNING: FITSFixedWarning: 'cdfix' made the change 'Success'. [astropy.wcs.wcs]\n",
      "/var/folders/fs/f3k7bp2n3k1bldhn58thddt40000gn/T/ipykernel_87985/3282180528.py:23: UserWarning: FixedFormatter should only be used together with FixedLocator\n",
      "  ax.set_xticklabels(ax.get_xticklabels(), rotation=45)\n",
      "WARNING: FITSFixedWarning: 'cdfix' made the change 'Success'. [astropy.wcs.wcs]\n",
      "/var/folders/fs/f3k7bp2n3k1bldhn58thddt40000gn/T/ipykernel_87985/3282180528.py:23: UserWarning: FixedFormatter should only be used together with FixedLocator\n",
      "  ax.set_xticklabels(ax.get_xticklabels(), rotation=45)\n",
      "WARNING: FITSFixedWarning: 'cdfix' made the change 'Success'. [astropy.wcs.wcs]\n",
      "/var/folders/fs/f3k7bp2n3k1bldhn58thddt40000gn/T/ipykernel_87985/3282180528.py:23: UserWarning: FixedFormatter should only be used together with FixedLocator\n",
      "  ax.set_xticklabels(ax.get_xticklabels(), rotation=45)\n",
      "WARNING: FITSFixedWarning: 'cdfix' made the change 'Success'. [astropy.wcs.wcs]\n",
      "/var/folders/fs/f3k7bp2n3k1bldhn58thddt40000gn/T/ipykernel_87985/3282180528.py:23: UserWarning: FixedFormatter should only be used together with FixedLocator\n",
      "  ax.set_xticklabels(ax.get_xticklabels(), rotation=45)\n",
      "WARNING: FITSFixedWarning: 'cdfix' made the change 'Success'. [astropy.wcs.wcs]\n",
      "/var/folders/fs/f3k7bp2n3k1bldhn58thddt40000gn/T/ipykernel_87985/3282180528.py:23: UserWarning: FixedFormatter should only be used together with FixedLocator\n",
      "  ax.set_xticklabels(ax.get_xticklabels(), rotation=45)\n",
      "WARNING: FITSFixedWarning: 'cdfix' made the change 'Success'. [astropy.wcs.wcs]\n",
      "/var/folders/fs/f3k7bp2n3k1bldhn58thddt40000gn/T/ipykernel_87985/3282180528.py:23: UserWarning: FixedFormatter should only be used together with FixedLocator\n",
      "  ax.set_xticklabels(ax.get_xticklabels(), rotation=45)\n",
      "WARNING: FITSFixedWarning: 'cdfix' made the change 'Success'. [astropy.wcs.wcs]\n",
      "/var/folders/fs/f3k7bp2n3k1bldhn58thddt40000gn/T/ipykernel_87985/3282180528.py:23: UserWarning: FixedFormatter should only be used together with FixedLocator\n",
      "  ax.set_xticklabels(ax.get_xticklabels(), rotation=45)\n",
      "WARNING: FITSFixedWarning: 'cdfix' made the change 'Success'. [astropy.wcs.wcs]\n",
      "/var/folders/fs/f3k7bp2n3k1bldhn58thddt40000gn/T/ipykernel_87985/3282180528.py:23: UserWarning: FixedFormatter should only be used together with FixedLocator\n",
      "  ax.set_xticklabels(ax.get_xticklabels(), rotation=45)\n",
      "WARNING: FITSFixedWarning: 'cdfix' made the change 'Success'. [astropy.wcs.wcs]\n",
      "/var/folders/fs/f3k7bp2n3k1bldhn58thddt40000gn/T/ipykernel_87985/3282180528.py:23: UserWarning: FixedFormatter should only be used together with FixedLocator\n",
      "  ax.set_xticklabels(ax.get_xticklabels(), rotation=45)\n",
      "WARNING: FITSFixedWarning: 'cdfix' made the change 'Success'. [astropy.wcs.wcs]\n",
      "/var/folders/fs/f3k7bp2n3k1bldhn58thddt40000gn/T/ipykernel_87985/3282180528.py:23: UserWarning: FixedFormatter should only be used together with FixedLocator\n",
      "  ax.set_xticklabels(ax.get_xticklabels(), rotation=45)\n",
      "WARNING: FITSFixedWarning: 'cdfix' made the change 'Success'. [astropy.wcs.wcs]\n",
      "/var/folders/fs/f3k7bp2n3k1bldhn58thddt40000gn/T/ipykernel_87985/3282180528.py:23: UserWarning: FixedFormatter should only be used together with FixedLocator\n",
      "  ax.set_xticklabels(ax.get_xticklabels(), rotation=45)\n",
      "WARNING: FITSFixedWarning: 'cdfix' made the change 'Success'. [astropy.wcs.wcs]\n",
      "/var/folders/fs/f3k7bp2n3k1bldhn58thddt40000gn/T/ipykernel_87985/3282180528.py:23: UserWarning: FixedFormatter should only be used together with FixedLocator\n",
      "  ax.set_xticklabels(ax.get_xticklabels(), rotation=45)\n",
      "WARNING: FITSFixedWarning: 'cdfix' made the change 'Success'. [astropy.wcs.wcs]\n",
      "/var/folders/fs/f3k7bp2n3k1bldhn58thddt40000gn/T/ipykernel_87985/3282180528.py:23: UserWarning: FixedFormatter should only be used together with FixedLocator\n",
      "  ax.set_xticklabels(ax.get_xticklabels(), rotation=45)\n",
      "WARNING: FITSFixedWarning: 'cdfix' made the change 'Success'. [astropy.wcs.wcs]\n",
      "/var/folders/fs/f3k7bp2n3k1bldhn58thddt40000gn/T/ipykernel_87985/3282180528.py:23: UserWarning: FixedFormatter should only be used together with FixedLocator\n",
      "  ax.set_xticklabels(ax.get_xticklabels(), rotation=45)\n",
      "WARNING: FITSFixedWarning: 'cdfix' made the change 'Success'. [astropy.wcs.wcs]\n",
      "/var/folders/fs/f3k7bp2n3k1bldhn58thddt40000gn/T/ipykernel_87985/3282180528.py:23: UserWarning: FixedFormatter should only be used together with FixedLocator\n",
      "  ax.set_xticklabels(ax.get_xticklabels(), rotation=45)\n",
      "WARNING: FITSFixedWarning: 'cdfix' made the change 'Success'. [astropy.wcs.wcs]\n",
      "/var/folders/fs/f3k7bp2n3k1bldhn58thddt40000gn/T/ipykernel_87985/3282180528.py:23: UserWarning: FixedFormatter should only be used together with FixedLocator\n",
      "  ax.set_xticklabels(ax.get_xticklabels(), rotation=45)\n",
      "WARNING: FITSFixedWarning: 'cdfix' made the change 'Success'. [astropy.wcs.wcs]\n",
      "/var/folders/fs/f3k7bp2n3k1bldhn58thddt40000gn/T/ipykernel_87985/3282180528.py:23: UserWarning: FixedFormatter should only be used together with FixedLocator\n",
      "  ax.set_xticklabels(ax.get_xticklabels(), rotation=45)\n",
      "WARNING: FITSFixedWarning: 'cdfix' made the change 'Success'. [astropy.wcs.wcs]\n",
      "/var/folders/fs/f3k7bp2n3k1bldhn58thddt40000gn/T/ipykernel_87985/3282180528.py:23: UserWarning: FixedFormatter should only be used together with FixedLocator\n",
      "  ax.set_xticklabels(ax.get_xticklabels(), rotation=45)\n",
      "WARNING: FITSFixedWarning: 'cdfix' made the change 'Success'. [astropy.wcs.wcs]\n",
      "/var/folders/fs/f3k7bp2n3k1bldhn58thddt40000gn/T/ipykernel_87985/3282180528.py:23: UserWarning: FixedFormatter should only be used together with FixedLocator\n",
      "  ax.set_xticklabels(ax.get_xticklabels(), rotation=45)\n",
      "WARNING: FITSFixedWarning: 'cdfix' made the change 'Success'. [astropy.wcs.wcs]\n",
      "/var/folders/fs/f3k7bp2n3k1bldhn58thddt40000gn/T/ipykernel_87985/3282180528.py:23: UserWarning: FixedFormatter should only be used together with FixedLocator\n",
      "  ax.set_xticklabels(ax.get_xticklabels(), rotation=45)\n",
      "WARNING: FITSFixedWarning: 'cdfix' made the change 'Success'. [astropy.wcs.wcs]\n",
      "/var/folders/fs/f3k7bp2n3k1bldhn58thddt40000gn/T/ipykernel_87985/3282180528.py:23: UserWarning: FixedFormatter should only be used together with FixedLocator\n",
      "  ax.set_xticklabels(ax.get_xticklabels(), rotation=45)\n",
      "WARNING: FITSFixedWarning: 'cdfix' made the change 'Success'. [astropy.wcs.wcs]\n",
      "/var/folders/fs/f3k7bp2n3k1bldhn58thddt40000gn/T/ipykernel_87985/3282180528.py:23: UserWarning: FixedFormatter should only be used together with FixedLocator\n",
      "  ax.set_xticklabels(ax.get_xticklabels(), rotation=45)\n",
      "WARNING: FITSFixedWarning: 'cdfix' made the change 'Success'. [astropy.wcs.wcs]\n",
      "/var/folders/fs/f3k7bp2n3k1bldhn58thddt40000gn/T/ipykernel_87985/3282180528.py:23: UserWarning: FixedFormatter should only be used together with FixedLocator\n",
      "  ax.set_xticklabels(ax.get_xticklabels(), rotation=45)\n",
      "WARNING: FITSFixedWarning: 'cdfix' made the change 'Success'. [astropy.wcs.wcs]\n",
      "/var/folders/fs/f3k7bp2n3k1bldhn58thddt40000gn/T/ipykernel_87985/3282180528.py:23: UserWarning: FixedFormatter should only be used together with FixedLocator\n",
      "  ax.set_xticklabels(ax.get_xticklabels(), rotation=45)\n",
      "WARNING: FITSFixedWarning: 'cdfix' made the change 'Success'. [astropy.wcs.wcs]\n",
      "/var/folders/fs/f3k7bp2n3k1bldhn58thddt40000gn/T/ipykernel_87985/3282180528.py:23: UserWarning: FixedFormatter should only be used together with FixedLocator\n",
      "  ax.set_xticklabels(ax.get_xticklabels(), rotation=45)\n",
      "WARNING: FITSFixedWarning: 'cdfix' made the change 'Success'. [astropy.wcs.wcs]\n",
      "/var/folders/fs/f3k7bp2n3k1bldhn58thddt40000gn/T/ipykernel_87985/3282180528.py:23: UserWarning: FixedFormatter should only be used together with FixedLocator\n",
      "  ax.set_xticklabels(ax.get_xticklabels(), rotation=45)\n",
      "WARNING: FITSFixedWarning: 'cdfix' made the change 'Success'. [astropy.wcs.wcs]\n",
      "/var/folders/fs/f3k7bp2n3k1bldhn58thddt40000gn/T/ipykernel_87985/3282180528.py:23: UserWarning: FixedFormatter should only be used together with FixedLocator\n",
      "  ax.set_xticklabels(ax.get_xticklabels(), rotation=45)\n",
      "WARNING: FITSFixedWarning: 'cdfix' made the change 'Success'. [astropy.wcs.wcs]\n",
      "/var/folders/fs/f3k7bp2n3k1bldhn58thddt40000gn/T/ipykernel_87985/3282180528.py:23: UserWarning: FixedFormatter should only be used together with FixedLocator\n",
      "  ax.set_xticklabels(ax.get_xticklabels(), rotation=45)\n",
      "WARNING: FITSFixedWarning: 'cdfix' made the change 'Success'. [astropy.wcs.wcs]\n",
      "/var/folders/fs/f3k7bp2n3k1bldhn58thddt40000gn/T/ipykernel_87985/3282180528.py:23: UserWarning: FixedFormatter should only be used together with FixedLocator\n",
      "  ax.set_xticklabels(ax.get_xticklabels(), rotation=45)\n",
      "WARNING: FITSFixedWarning: 'cdfix' made the change 'Success'. [astropy.wcs.wcs]\n",
      "/var/folders/fs/f3k7bp2n3k1bldhn58thddt40000gn/T/ipykernel_87985/3282180528.py:23: UserWarning: FixedFormatter should only be used together with FixedLocator\n",
      "  ax.set_xticklabels(ax.get_xticklabels(), rotation=45)\n",
      "WARNING: FITSFixedWarning: 'cdfix' made the change 'Success'. [astropy.wcs.wcs]\n",
      "/var/folders/fs/f3k7bp2n3k1bldhn58thddt40000gn/T/ipykernel_87985/3282180528.py:23: UserWarning: FixedFormatter should only be used together with FixedLocator\n",
      "  ax.set_xticklabels(ax.get_xticklabels(), rotation=45)\n",
      "WARNING: FITSFixedWarning: 'cdfix' made the change 'Success'. [astropy.wcs.wcs]\n",
      "/var/folders/fs/f3k7bp2n3k1bldhn58thddt40000gn/T/ipykernel_87985/3282180528.py:23: UserWarning: FixedFormatter should only be used together with FixedLocator\n",
      "  ax.set_xticklabels(ax.get_xticklabels(), rotation=45)\n",
      "WARNING: FITSFixedWarning: 'cdfix' made the change 'Success'. [astropy.wcs.wcs]\n",
      "/var/folders/fs/f3k7bp2n3k1bldhn58thddt40000gn/T/ipykernel_87985/3282180528.py:23: UserWarning: FixedFormatter should only be used together with FixedLocator\n",
      "  ax.set_xticklabels(ax.get_xticklabels(), rotation=45)\n",
      "WARNING: FITSFixedWarning: 'cdfix' made the change 'Success'. [astropy.wcs.wcs]\n",
      "/var/folders/fs/f3k7bp2n3k1bldhn58thddt40000gn/T/ipykernel_87985/3282180528.py:23: UserWarning: FixedFormatter should only be used together with FixedLocator\n",
      "  ax.set_xticklabels(ax.get_xticklabels(), rotation=45)\n",
      "WARNING: FITSFixedWarning: 'cdfix' made the change 'Success'. [astropy.wcs.wcs]\n",
      "/var/folders/fs/f3k7bp2n3k1bldhn58thddt40000gn/T/ipykernel_87985/3282180528.py:23: UserWarning: FixedFormatter should only be used together with FixedLocator\n",
      "  ax.set_xticklabels(ax.get_xticklabels(), rotation=45)\n",
      "WARNING: FITSFixedWarning: 'cdfix' made the change 'Success'. [astropy.wcs.wcs]\n",
      "/var/folders/fs/f3k7bp2n3k1bldhn58thddt40000gn/T/ipykernel_87985/3282180528.py:23: UserWarning: FixedFormatter should only be used together with FixedLocator\n",
      "  ax.set_xticklabels(ax.get_xticklabels(), rotation=45)\n",
      "WARNING: FITSFixedWarning: 'cdfix' made the change 'Success'. [astropy.wcs.wcs]\n",
      "/var/folders/fs/f3k7bp2n3k1bldhn58thddt40000gn/T/ipykernel_87985/3282180528.py:23: UserWarning: FixedFormatter should only be used together with FixedLocator\n",
      "  ax.set_xticklabels(ax.get_xticklabels(), rotation=45)\n",
      "WARNING: FITSFixedWarning: 'cdfix' made the change 'Success'. [astropy.wcs.wcs]\n",
      "/var/folders/fs/f3k7bp2n3k1bldhn58thddt40000gn/T/ipykernel_87985/3282180528.py:23: UserWarning: FixedFormatter should only be used together with FixedLocator\n",
      "  ax.set_xticklabels(ax.get_xticklabels(), rotation=45)\n",
      "WARNING: FITSFixedWarning: 'cdfix' made the change 'Success'. [astropy.wcs.wcs]\n",
      "/var/folders/fs/f3k7bp2n3k1bldhn58thddt40000gn/T/ipykernel_87985/3282180528.py:23: UserWarning: FixedFormatter should only be used together with FixedLocator\n",
      "  ax.set_xticklabels(ax.get_xticklabels(), rotation=45)\n",
      "WARNING: FITSFixedWarning: 'cdfix' made the change 'Success'. [astropy.wcs.wcs]\n",
      "/var/folders/fs/f3k7bp2n3k1bldhn58thddt40000gn/T/ipykernel_87985/3282180528.py:23: UserWarning: FixedFormatter should only be used together with FixedLocator\n",
      "  ax.set_xticklabels(ax.get_xticklabels(), rotation=45)\n",
      "WARNING: FITSFixedWarning: 'cdfix' made the change 'Success'. [astropy.wcs.wcs]\n",
      "/var/folders/fs/f3k7bp2n3k1bldhn58thddt40000gn/T/ipykernel_87985/3282180528.py:23: UserWarning: FixedFormatter should only be used together with FixedLocator\n",
      "  ax.set_xticklabels(ax.get_xticklabels(), rotation=45)\n",
      "WARNING: FITSFixedWarning: 'cdfix' made the change 'Success'. [astropy.wcs.wcs]\n",
      "/var/folders/fs/f3k7bp2n3k1bldhn58thddt40000gn/T/ipykernel_87985/3282180528.py:23: UserWarning: FixedFormatter should only be used together with FixedLocator\n",
      "  ax.set_xticklabels(ax.get_xticklabels(), rotation=45)\n",
      "WARNING: FITSFixedWarning: 'cdfix' made the change 'Success'. [astropy.wcs.wcs]\n",
      "/var/folders/fs/f3k7bp2n3k1bldhn58thddt40000gn/T/ipykernel_87985/3282180528.py:23: UserWarning: FixedFormatter should only be used together with FixedLocator\n",
      "  ax.set_xticklabels(ax.get_xticklabels(), rotation=45)\n",
      "WARNING: FITSFixedWarning: 'cdfix' made the change 'Success'. [astropy.wcs.wcs]\n",
      "/var/folders/fs/f3k7bp2n3k1bldhn58thddt40000gn/T/ipykernel_87985/3282180528.py:23: UserWarning: FixedFormatter should only be used together with FixedLocator\n",
      "  ax.set_xticklabels(ax.get_xticklabels(), rotation=45)\n",
      "WARNING: FITSFixedWarning: 'cdfix' made the change 'Success'. [astropy.wcs.wcs]\n",
      "/var/folders/fs/f3k7bp2n3k1bldhn58thddt40000gn/T/ipykernel_87985/3282180528.py:23: UserWarning: FixedFormatter should only be used together with FixedLocator\n",
      "  ax.set_xticklabels(ax.get_xticklabels(), rotation=45)\n",
      "WARNING: FITSFixedWarning: 'cdfix' made the change 'Success'. [astropy.wcs.wcs]\n",
      "/var/folders/fs/f3k7bp2n3k1bldhn58thddt40000gn/T/ipykernel_87985/3282180528.py:23: UserWarning: FixedFormatter should only be used together with FixedLocator\n",
      "  ax.set_xticklabels(ax.get_xticklabels(), rotation=45)\n",
      "WARNING: FITSFixedWarning: 'cdfix' made the change 'Success'. [astropy.wcs.wcs]\n",
      "/var/folders/fs/f3k7bp2n3k1bldhn58thddt40000gn/T/ipykernel_87985/3282180528.py:23: UserWarning: FixedFormatter should only be used together with FixedLocator\n",
      "  ax.set_xticklabels(ax.get_xticklabels(), rotation=45)\n",
      "WARNING: FITSFixedWarning: 'cdfix' made the change 'Success'. [astropy.wcs.wcs]\n",
      "/var/folders/fs/f3k7bp2n3k1bldhn58thddt40000gn/T/ipykernel_87985/3282180528.py:23: UserWarning: FixedFormatter should only be used together with FixedLocator\n",
      "  ax.set_xticklabels(ax.get_xticklabels(), rotation=45)\n",
      "WARNING: FITSFixedWarning: 'cdfix' made the change 'Success'. [astropy.wcs.wcs]\n",
      "/var/folders/fs/f3k7bp2n3k1bldhn58thddt40000gn/T/ipykernel_87985/3282180528.py:23: UserWarning: FixedFormatter should only be used together with FixedLocator\n",
      "  ax.set_xticklabels(ax.get_xticklabels(), rotation=45)\n",
      "WARNING: FITSFixedWarning: 'cdfix' made the change 'Success'. [astropy.wcs.wcs]\n",
      "/var/folders/fs/f3k7bp2n3k1bldhn58thddt40000gn/T/ipykernel_87985/3282180528.py:23: UserWarning: FixedFormatter should only be used together with FixedLocator\n",
      "  ax.set_xticklabels(ax.get_xticklabels(), rotation=45)\n",
      "WARNING: FITSFixedWarning: 'cdfix' made the change 'Success'. [astropy.wcs.wcs]\n",
      "/var/folders/fs/f3k7bp2n3k1bldhn58thddt40000gn/T/ipykernel_87985/3282180528.py:23: UserWarning: FixedFormatter should only be used together with FixedLocator\n",
      "  ax.set_xticklabels(ax.get_xticklabels(), rotation=45)\n",
      "WARNING: FITSFixedWarning: 'cdfix' made the change 'Success'. [astropy.wcs.wcs]\n",
      "/var/folders/fs/f3k7bp2n3k1bldhn58thddt40000gn/T/ipykernel_87985/3282180528.py:23: UserWarning: FixedFormatter should only be used together with FixedLocator\n",
      "  ax.set_xticklabels(ax.get_xticklabels(), rotation=45)\n",
      "WARNING: FITSFixedWarning: 'cdfix' made the change 'Success'. [astropy.wcs.wcs]\n",
      "/var/folders/fs/f3k7bp2n3k1bldhn58thddt40000gn/T/ipykernel_87985/3282180528.py:23: UserWarning: FixedFormatter should only be used together with FixedLocator\n",
      "  ax.set_xticklabels(ax.get_xticklabels(), rotation=45)\n",
      "WARNING: FITSFixedWarning: 'cdfix' made the change 'Success'. [astropy.wcs.wcs]\n",
      "/var/folders/fs/f3k7bp2n3k1bldhn58thddt40000gn/T/ipykernel_87985/3282180528.py:23: UserWarning: FixedFormatter should only be used together with FixedLocator\n",
      "  ax.set_xticklabels(ax.get_xticklabels(), rotation=45)\n",
      "WARNING: FITSFixedWarning: 'cdfix' made the change 'Success'. [astropy.wcs.wcs]\n",
      "/var/folders/fs/f3k7bp2n3k1bldhn58thddt40000gn/T/ipykernel_87985/3282180528.py:23: UserWarning: FixedFormatter should only be used together with FixedLocator\n",
      "  ax.set_xticklabels(ax.get_xticklabels(), rotation=45)\n",
      "WARNING: FITSFixedWarning: 'cdfix' made the change 'Success'. [astropy.wcs.wcs]\n",
      "/var/folders/fs/f3k7bp2n3k1bldhn58thddt40000gn/T/ipykernel_87985/3282180528.py:23: UserWarning: FixedFormatter should only be used together with FixedLocator\n",
      "  ax.set_xticklabels(ax.get_xticklabels(), rotation=45)\n",
      "WARNING: FITSFixedWarning: 'cdfix' made the change 'Success'. [astropy.wcs.wcs]\n",
      "/var/folders/fs/f3k7bp2n3k1bldhn58thddt40000gn/T/ipykernel_87985/3282180528.py:23: UserWarning: FixedFormatter should only be used together with FixedLocator\n",
      "  ax.set_xticklabels(ax.get_xticklabels(), rotation=45)\n",
      "WARNING: FITSFixedWarning: 'cdfix' made the change 'Success'. [astropy.wcs.wcs]\n",
      "/var/folders/fs/f3k7bp2n3k1bldhn58thddt40000gn/T/ipykernel_87985/3282180528.py:23: UserWarning: FixedFormatter should only be used together with FixedLocator\n",
      "  ax.set_xticklabels(ax.get_xticklabels(), rotation=45)\n",
      "WARNING: FITSFixedWarning: 'cdfix' made the change 'Success'. [astropy.wcs.wcs]\n",
      "/var/folders/fs/f3k7bp2n3k1bldhn58thddt40000gn/T/ipykernel_87985/3282180528.py:23: UserWarning: FixedFormatter should only be used together with FixedLocator\n",
      "  ax.set_xticklabels(ax.get_xticklabels(), rotation=45)\n",
      "WARNING: FITSFixedWarning: 'cdfix' made the change 'Success'. [astropy.wcs.wcs]\n",
      "/var/folders/fs/f3k7bp2n3k1bldhn58thddt40000gn/T/ipykernel_87985/3282180528.py:23: UserWarning: FixedFormatter should only be used together with FixedLocator\n",
      "  ax.set_xticklabels(ax.get_xticklabels(), rotation=45)\n",
      "WARNING: FITSFixedWarning: 'cdfix' made the change 'Success'. [astropy.wcs.wcs]\n",
      "/var/folders/fs/f3k7bp2n3k1bldhn58thddt40000gn/T/ipykernel_87985/3282180528.py:23: UserWarning: FixedFormatter should only be used together with FixedLocator\n",
      "  ax.set_xticklabels(ax.get_xticklabels(), rotation=45)\n",
      "WARNING: FITSFixedWarning: 'cdfix' made the change 'Success'. [astropy.wcs.wcs]\n",
      "/var/folders/fs/f3k7bp2n3k1bldhn58thddt40000gn/T/ipykernel_87985/3282180528.py:23: UserWarning: FixedFormatter should only be used together with FixedLocator\n",
      "  ax.set_xticklabels(ax.get_xticklabels(), rotation=45)\n",
      "WARNING: FITSFixedWarning: 'cdfix' made the change 'Success'. [astropy.wcs.wcs]\n",
      "/var/folders/fs/f3k7bp2n3k1bldhn58thddt40000gn/T/ipykernel_87985/3282180528.py:23: UserWarning: FixedFormatter should only be used together with FixedLocator\n",
      "  ax.set_xticklabels(ax.get_xticklabels(), rotation=45)\n",
      "WARNING: FITSFixedWarning: 'cdfix' made the change 'Success'. [astropy.wcs.wcs]\n",
      "/var/folders/fs/f3k7bp2n3k1bldhn58thddt40000gn/T/ipykernel_87985/3282180528.py:23: UserWarning: FixedFormatter should only be used together with FixedLocator\n",
      "  ax.set_xticklabels(ax.get_xticklabels(), rotation=45)\n",
      "WARNING: FITSFixedWarning: 'cdfix' made the change 'Success'. [astropy.wcs.wcs]\n",
      "/var/folders/fs/f3k7bp2n3k1bldhn58thddt40000gn/T/ipykernel_87985/3282180528.py:23: UserWarning: FixedFormatter should only be used together with FixedLocator\n",
      "  ax.set_xticklabels(ax.get_xticklabels(), rotation=45)\n",
      "WARNING: FITSFixedWarning: 'cdfix' made the change 'Success'. [astropy.wcs.wcs]\n",
      "/var/folders/fs/f3k7bp2n3k1bldhn58thddt40000gn/T/ipykernel_87985/3282180528.py:23: UserWarning: FixedFormatter should only be used together with FixedLocator\n",
      "  ax.set_xticklabels(ax.get_xticklabels(), rotation=45)\n",
      "WARNING: FITSFixedWarning: 'cdfix' made the change 'Success'. [astropy.wcs.wcs]\n",
      "/var/folders/fs/f3k7bp2n3k1bldhn58thddt40000gn/T/ipykernel_87985/3282180528.py:23: UserWarning: FixedFormatter should only be used together with FixedLocator\n",
      "  ax.set_xticklabels(ax.get_xticklabels(), rotation=45)\n",
      "WARNING: FITSFixedWarning: 'cdfix' made the change 'Success'. [astropy.wcs.wcs]\n",
      "/var/folders/fs/f3k7bp2n3k1bldhn58thddt40000gn/T/ipykernel_87985/3282180528.py:23: UserWarning: FixedFormatter should only be used together with FixedLocator\n",
      "  ax.set_xticklabels(ax.get_xticklabels(), rotation=45)\n",
      "WARNING: FITSFixedWarning: 'cdfix' made the change 'Success'. [astropy.wcs.wcs]\n",
      "/var/folders/fs/f3k7bp2n3k1bldhn58thddt40000gn/T/ipykernel_87985/3282180528.py:23: UserWarning: FixedFormatter should only be used together with FixedLocator\n",
      "  ax.set_xticklabels(ax.get_xticklabels(), rotation=45)\n",
      "WARNING: FITSFixedWarning: 'cdfix' made the change 'Success'. [astropy.wcs.wcs]\n",
      "/var/folders/fs/f3k7bp2n3k1bldhn58thddt40000gn/T/ipykernel_87985/3282180528.py:23: UserWarning: FixedFormatter should only be used together with FixedLocator\n",
      "  ax.set_xticklabels(ax.get_xticklabels(), rotation=45)\n",
      "WARNING: FITSFixedWarning: 'cdfix' made the change 'Success'. [astropy.wcs.wcs]\n",
      "/var/folders/fs/f3k7bp2n3k1bldhn58thddt40000gn/T/ipykernel_87985/3282180528.py:23: UserWarning: FixedFormatter should only be used together with FixedLocator\n",
      "  ax.set_xticklabels(ax.get_xticklabels(), rotation=45)\n",
      "WARNING: FITSFixedWarning: 'cdfix' made the change 'Success'. [astropy.wcs.wcs]\n",
      "/var/folders/fs/f3k7bp2n3k1bldhn58thddt40000gn/T/ipykernel_87985/3282180528.py:23: UserWarning: FixedFormatter should only be used together with FixedLocator\n",
      "  ax.set_xticklabels(ax.get_xticklabels(), rotation=45)\n",
      "WARNING: FITSFixedWarning: 'cdfix' made the change 'Success'. [astropy.wcs.wcs]\n",
      "/var/folders/fs/f3k7bp2n3k1bldhn58thddt40000gn/T/ipykernel_87985/3282180528.py:23: UserWarning: FixedFormatter should only be used together with FixedLocator\n",
      "  ax.set_xticklabels(ax.get_xticklabels(), rotation=45)\n",
      "WARNING: FITSFixedWarning: 'cdfix' made the change 'Success'. [astropy.wcs.wcs]\n",
      "/var/folders/fs/f3k7bp2n3k1bldhn58thddt40000gn/T/ipykernel_87985/3282180528.py:23: UserWarning: FixedFormatter should only be used together with FixedLocator\n",
      "  ax.set_xticklabels(ax.get_xticklabels(), rotation=45)\n",
      "WARNING: FITSFixedWarning: 'cdfix' made the change 'Success'. [astropy.wcs.wcs]\n",
      "/var/folders/fs/f3k7bp2n3k1bldhn58thddt40000gn/T/ipykernel_87985/3282180528.py:23: UserWarning: FixedFormatter should only be used together with FixedLocator\n",
      "  ax.set_xticklabels(ax.get_xticklabels(), rotation=45)\n",
      "WARNING: FITSFixedWarning: 'cdfix' made the change 'Success'. [astropy.wcs.wcs]\n",
      "/var/folders/fs/f3k7bp2n3k1bldhn58thddt40000gn/T/ipykernel_87985/3282180528.py:23: UserWarning: FixedFormatter should only be used together with FixedLocator\n",
      "  ax.set_xticklabels(ax.get_xticklabels(), rotation=45)\n",
      "WARNING: FITSFixedWarning: 'cdfix' made the change 'Success'. [astropy.wcs.wcs]\n",
      "/var/folders/fs/f3k7bp2n3k1bldhn58thddt40000gn/T/ipykernel_87985/3282180528.py:23: UserWarning: FixedFormatter should only be used together with FixedLocator\n",
      "  ax.set_xticklabels(ax.get_xticklabels(), rotation=45)\n",
      "WARNING: FITSFixedWarning: 'cdfix' made the change 'Success'. [astropy.wcs.wcs]\n",
      "/var/folders/fs/f3k7bp2n3k1bldhn58thddt40000gn/T/ipykernel_87985/3282180528.py:23: UserWarning: FixedFormatter should only be used together with FixedLocator\n",
      "  ax.set_xticklabels(ax.get_xticklabels(), rotation=45)\n",
      "WARNING: FITSFixedWarning: 'cdfix' made the change 'Success'. [astropy.wcs.wcs]\n",
      "/var/folders/fs/f3k7bp2n3k1bldhn58thddt40000gn/T/ipykernel_87985/3282180528.py:23: UserWarning: FixedFormatter should only be used together with FixedLocator\n",
      "  ax.set_xticklabels(ax.get_xticklabels(), rotation=45)\n",
      "WARNING: FITSFixedWarning: 'cdfix' made the change 'Success'. [astropy.wcs.wcs]\n",
      "/var/folders/fs/f3k7bp2n3k1bldhn58thddt40000gn/T/ipykernel_87985/3282180528.py:23: UserWarning: FixedFormatter should only be used together with FixedLocator\n",
      "  ax.set_xticklabels(ax.get_xticklabels(), rotation=45)\n",
      "WARNING: FITSFixedWarning: 'cdfix' made the change 'Success'. [astropy.wcs.wcs]\n",
      "/var/folders/fs/f3k7bp2n3k1bldhn58thddt40000gn/T/ipykernel_87985/3282180528.py:23: UserWarning: FixedFormatter should only be used together with FixedLocator\n",
      "  ax.set_xticklabels(ax.get_xticklabels(), rotation=45)\n",
      "WARNING: FITSFixedWarning: 'cdfix' made the change 'Success'. [astropy.wcs.wcs]\n",
      "/var/folders/fs/f3k7bp2n3k1bldhn58thddt40000gn/T/ipykernel_87985/3282180528.py:23: UserWarning: FixedFormatter should only be used together with FixedLocator\n",
      "  ax.set_xticklabels(ax.get_xticklabels(), rotation=45)\n",
      "WARNING: FITSFixedWarning: 'cdfix' made the change 'Success'. [astropy.wcs.wcs]\n",
      "/var/folders/fs/f3k7bp2n3k1bldhn58thddt40000gn/T/ipykernel_87985/3282180528.py:23: UserWarning: FixedFormatter should only be used together with FixedLocator\n",
      "  ax.set_xticklabels(ax.get_xticklabels(), rotation=45)\n",
      "WARNING: FITSFixedWarning: 'cdfix' made the change 'Success'. [astropy.wcs.wcs]\n",
      "/var/folders/fs/f3k7bp2n3k1bldhn58thddt40000gn/T/ipykernel_87985/3282180528.py:23: UserWarning: FixedFormatter should only be used together with FixedLocator\n",
      "  ax.set_xticklabels(ax.get_xticklabels(), rotation=45)\n",
      "WARNING: FITSFixedWarning: 'cdfix' made the change 'Success'. [astropy.wcs.wcs]\n",
      "/var/folders/fs/f3k7bp2n3k1bldhn58thddt40000gn/T/ipykernel_87985/3282180528.py:23: UserWarning: FixedFormatter should only be used together with FixedLocator\n",
      "  ax.set_xticklabels(ax.get_xticklabels(), rotation=45)\n",
      "WARNING: FITSFixedWarning: 'cdfix' made the change 'Success'. [astropy.wcs.wcs]\n",
      "/var/folders/fs/f3k7bp2n3k1bldhn58thddt40000gn/T/ipykernel_87985/3282180528.py:23: UserWarning: FixedFormatter should only be used together with FixedLocator\n",
      "  ax.set_xticklabels(ax.get_xticklabels(), rotation=45)\n",
      "WARNING: FITSFixedWarning: 'cdfix' made the change 'Success'. [astropy.wcs.wcs]\n",
      "/var/folders/fs/f3k7bp2n3k1bldhn58thddt40000gn/T/ipykernel_87985/3282180528.py:23: UserWarning: FixedFormatter should only be used together with FixedLocator\n",
      "  ax.set_xticklabels(ax.get_xticklabels(), rotation=45)\n",
      "WARNING: FITSFixedWarning: 'cdfix' made the change 'Success'. [astropy.wcs.wcs]\n",
      "/var/folders/fs/f3k7bp2n3k1bldhn58thddt40000gn/T/ipykernel_87985/3282180528.py:23: UserWarning: FixedFormatter should only be used together with FixedLocator\n",
      "  ax.set_xticklabels(ax.get_xticklabels(), rotation=45)\n",
      "WARNING: FITSFixedWarning: 'cdfix' made the change 'Success'. [astropy.wcs.wcs]\n",
      "/var/folders/fs/f3k7bp2n3k1bldhn58thddt40000gn/T/ipykernel_87985/3282180528.py:23: UserWarning: FixedFormatter should only be used together with FixedLocator\n",
      "  ax.set_xticklabels(ax.get_xticklabels(), rotation=45)\n",
      "WARNING: FITSFixedWarning: 'cdfix' made the change 'Success'. [astropy.wcs.wcs]\n",
      "/var/folders/fs/f3k7bp2n3k1bldhn58thddt40000gn/T/ipykernel_87985/3282180528.py:23: UserWarning: FixedFormatter should only be used together with FixedLocator\n",
      "  ax.set_xticklabels(ax.get_xticklabels(), rotation=45)\n",
      "WARNING: FITSFixedWarning: 'cdfix' made the change 'Success'. [astropy.wcs.wcs]\n",
      "/var/folders/fs/f3k7bp2n3k1bldhn58thddt40000gn/T/ipykernel_87985/3282180528.py:23: UserWarning: FixedFormatter should only be used together with FixedLocator\n",
      "  ax.set_xticklabels(ax.get_xticklabels(), rotation=45)\n",
      "WARNING: FITSFixedWarning: 'cdfix' made the change 'Success'. [astropy.wcs.wcs]\n",
      "/var/folders/fs/f3k7bp2n3k1bldhn58thddt40000gn/T/ipykernel_87985/3282180528.py:23: UserWarning: FixedFormatter should only be used together with FixedLocator\n",
      "  ax.set_xticklabels(ax.get_xticklabels(), rotation=45)\n",
      "WARNING: FITSFixedWarning: 'cdfix' made the change 'Success'. [astropy.wcs.wcs]\n",
      "/var/folders/fs/f3k7bp2n3k1bldhn58thddt40000gn/T/ipykernel_87985/3282180528.py:23: UserWarning: FixedFormatter should only be used together with FixedLocator\n",
      "  ax.set_xticklabels(ax.get_xticklabels(), rotation=45)\n",
      "WARNING: FITSFixedWarning: 'cdfix' made the change 'Success'. [astropy.wcs.wcs]\n",
      "/var/folders/fs/f3k7bp2n3k1bldhn58thddt40000gn/T/ipykernel_87985/3282180528.py:23: UserWarning: FixedFormatter should only be used together with FixedLocator\n",
      "  ax.set_xticklabels(ax.get_xticklabels(), rotation=45)\n",
      "WARNING: FITSFixedWarning: 'cdfix' made the change 'Success'. [astropy.wcs.wcs]\n",
      "/var/folders/fs/f3k7bp2n3k1bldhn58thddt40000gn/T/ipykernel_87985/3282180528.py:23: UserWarning: FixedFormatter should only be used together with FixedLocator\n",
      "  ax.set_xticklabels(ax.get_xticklabels(), rotation=45)\n",
      "WARNING: FITSFixedWarning: 'cdfix' made the change 'Success'. [astropy.wcs.wcs]\n",
      "/var/folders/fs/f3k7bp2n3k1bldhn58thddt40000gn/T/ipykernel_87985/3282180528.py:23: UserWarning: FixedFormatter should only be used together with FixedLocator\n",
      "  ax.set_xticklabels(ax.get_xticklabels(), rotation=45)\n",
      "WARNING: FITSFixedWarning: 'cdfix' made the change 'Success'. [astropy.wcs.wcs]\n",
      "/var/folders/fs/f3k7bp2n3k1bldhn58thddt40000gn/T/ipykernel_87985/3282180528.py:23: UserWarning: FixedFormatter should only be used together with FixedLocator\n",
      "  ax.set_xticklabels(ax.get_xticklabels(), rotation=45)\n",
      "WARNING: FITSFixedWarning: 'cdfix' made the change 'Success'. [astropy.wcs.wcs]\n",
      "/var/folders/fs/f3k7bp2n3k1bldhn58thddt40000gn/T/ipykernel_87985/3282180528.py:23: UserWarning: FixedFormatter should only be used together with FixedLocator\n",
      "  ax.set_xticklabels(ax.get_xticklabels(), rotation=45)\n",
      "WARNING: FITSFixedWarning: 'cdfix' made the change 'Success'. [astropy.wcs.wcs]\n",
      "/var/folders/fs/f3k7bp2n3k1bldhn58thddt40000gn/T/ipykernel_87985/3282180528.py:23: UserWarning: FixedFormatter should only be used together with FixedLocator\n",
      "  ax.set_xticklabels(ax.get_xticklabels(), rotation=45)\n",
      "WARNING: FITSFixedWarning: 'cdfix' made the change 'Success'. [astropy.wcs.wcs]\n",
      "/var/folders/fs/f3k7bp2n3k1bldhn58thddt40000gn/T/ipykernel_87985/3282180528.py:23: UserWarning: FixedFormatter should only be used together with FixedLocator\n",
      "  ax.set_xticklabels(ax.get_xticklabels(), rotation=45)\n",
      "WARNING: FITSFixedWarning: 'cdfix' made the change 'Success'. [astropy.wcs.wcs]\n",
      "/var/folders/fs/f3k7bp2n3k1bldhn58thddt40000gn/T/ipykernel_87985/3282180528.py:23: UserWarning: FixedFormatter should only be used together with FixedLocator\n",
      "  ax.set_xticklabels(ax.get_xticklabels(), rotation=45)\n",
      "WARNING: FITSFixedWarning: 'cdfix' made the change 'Success'. [astropy.wcs.wcs]\n",
      "/var/folders/fs/f3k7bp2n3k1bldhn58thddt40000gn/T/ipykernel_87985/3282180528.py:23: UserWarning: FixedFormatter should only be used together with FixedLocator\n",
      "  ax.set_xticklabels(ax.get_xticklabels(), rotation=45)\n",
      "WARNING: FITSFixedWarning: 'cdfix' made the change 'Success'. [astropy.wcs.wcs]\n",
      "/var/folders/fs/f3k7bp2n3k1bldhn58thddt40000gn/T/ipykernel_87985/3282180528.py:23: UserWarning: FixedFormatter should only be used together with FixedLocator\n",
      "  ax.set_xticklabels(ax.get_xticklabels(), rotation=45)\n",
      "WARNING: FITSFixedWarning: 'cdfix' made the change 'Success'. [astropy.wcs.wcs]\n",
      "/var/folders/fs/f3k7bp2n3k1bldhn58thddt40000gn/T/ipykernel_87985/3282180528.py:23: UserWarning: FixedFormatter should only be used together with FixedLocator\n",
      "  ax.set_xticklabels(ax.get_xticklabels(), rotation=45)\n",
      "WARNING: FITSFixedWarning: 'cdfix' made the change 'Success'. [astropy.wcs.wcs]\n",
      "/var/folders/fs/f3k7bp2n3k1bldhn58thddt40000gn/T/ipykernel_87985/3282180528.py:23: UserWarning: FixedFormatter should only be used together with FixedLocator\n",
      "  ax.set_xticklabels(ax.get_xticklabels(), rotation=45)\n",
      "WARNING: FITSFixedWarning: 'cdfix' made the change 'Success'. [astropy.wcs.wcs]\n",
      "/var/folders/fs/f3k7bp2n3k1bldhn58thddt40000gn/T/ipykernel_87985/3282180528.py:23: UserWarning: FixedFormatter should only be used together with FixedLocator\n",
      "  ax.set_xticklabels(ax.get_xticklabels(), rotation=45)\n",
      "WARNING: FITSFixedWarning: 'cdfix' made the change 'Success'. [astropy.wcs.wcs]\n",
      "/var/folders/fs/f3k7bp2n3k1bldhn58thddt40000gn/T/ipykernel_87985/3282180528.py:23: UserWarning: FixedFormatter should only be used together with FixedLocator\n",
      "  ax.set_xticklabels(ax.get_xticklabels(), rotation=45)\n",
      "WARNING: FITSFixedWarning: 'cdfix' made the change 'Success'. [astropy.wcs.wcs]\n",
      "/var/folders/fs/f3k7bp2n3k1bldhn58thddt40000gn/T/ipykernel_87985/3282180528.py:23: UserWarning: FixedFormatter should only be used together with FixedLocator\n",
      "  ax.set_xticklabels(ax.get_xticklabels(), rotation=45)\n",
      "WARNING: FITSFixedWarning: 'cdfix' made the change 'Success'. [astropy.wcs.wcs]\n",
      "/var/folders/fs/f3k7bp2n3k1bldhn58thddt40000gn/T/ipykernel_87985/3282180528.py:23: UserWarning: FixedFormatter should only be used together with FixedLocator\n",
      "  ax.set_xticklabels(ax.get_xticklabels(), rotation=45)\n",
      "WARNING: FITSFixedWarning: 'cdfix' made the change 'Success'. [astropy.wcs.wcs]\n",
      "/var/folders/fs/f3k7bp2n3k1bldhn58thddt40000gn/T/ipykernel_87985/3282180528.py:23: UserWarning: FixedFormatter should only be used together with FixedLocator\n",
      "  ax.set_xticklabels(ax.get_xticklabels(), rotation=45)\n",
      "WARNING: FITSFixedWarning: 'cdfix' made the change 'Success'. [astropy.wcs.wcs]\n",
      "/var/folders/fs/f3k7bp2n3k1bldhn58thddt40000gn/T/ipykernel_87985/3282180528.py:23: UserWarning: FixedFormatter should only be used together with FixedLocator\n",
      "  ax.set_xticklabels(ax.get_xticklabels(), rotation=45)\n",
      "WARNING: FITSFixedWarning: 'cdfix' made the change 'Success'. [astropy.wcs.wcs]\n",
      "/var/folders/fs/f3k7bp2n3k1bldhn58thddt40000gn/T/ipykernel_87985/3282180528.py:23: UserWarning: FixedFormatter should only be used together with FixedLocator\n",
      "  ax.set_xticklabels(ax.get_xticklabels(), rotation=45)\n",
      "WARNING: FITSFixedWarning: 'cdfix' made the change 'Success'. [astropy.wcs.wcs]\n",
      "/var/folders/fs/f3k7bp2n3k1bldhn58thddt40000gn/T/ipykernel_87985/3282180528.py:23: UserWarning: FixedFormatter should only be used together with FixedLocator\n",
      "  ax.set_xticklabels(ax.get_xticklabels(), rotation=45)\n",
      "WARNING: FITSFixedWarning: 'cdfix' made the change 'Success'. [astropy.wcs.wcs]\n",
      "/var/folders/fs/f3k7bp2n3k1bldhn58thddt40000gn/T/ipykernel_87985/3282180528.py:23: UserWarning: FixedFormatter should only be used together with FixedLocator\n",
      "  ax.set_xticklabels(ax.get_xticklabels(), rotation=45)\n",
      "WARNING: FITSFixedWarning: 'cdfix' made the change 'Success'. [astropy.wcs.wcs]\n",
      "/var/folders/fs/f3k7bp2n3k1bldhn58thddt40000gn/T/ipykernel_87985/3282180528.py:23: UserWarning: FixedFormatter should only be used together with FixedLocator\n",
      "  ax.set_xticklabels(ax.get_xticklabels(), rotation=45)\n",
      "WARNING: FITSFixedWarning: 'cdfix' made the change 'Success'. [astropy.wcs.wcs]\n",
      "/var/folders/fs/f3k7bp2n3k1bldhn58thddt40000gn/T/ipykernel_87985/3282180528.py:23: UserWarning: FixedFormatter should only be used together with FixedLocator\n",
      "  ax.set_xticklabels(ax.get_xticklabels(), rotation=45)\n",
      "WARNING: FITSFixedWarning: 'cdfix' made the change 'Success'. [astropy.wcs.wcs]\n",
      "/var/folders/fs/f3k7bp2n3k1bldhn58thddt40000gn/T/ipykernel_87985/3282180528.py:23: UserWarning: FixedFormatter should only be used together with FixedLocator\n",
      "  ax.set_xticklabels(ax.get_xticklabels(), rotation=45)\n",
      "WARNING: FITSFixedWarning: 'cdfix' made the change 'Success'. [astropy.wcs.wcs]\n",
      "/var/folders/fs/f3k7bp2n3k1bldhn58thddt40000gn/T/ipykernel_87985/3282180528.py:23: UserWarning: FixedFormatter should only be used together with FixedLocator\n",
      "  ax.set_xticklabels(ax.get_xticklabels(), rotation=45)\n",
      "WARNING: FITSFixedWarning: 'cdfix' made the change 'Success'. [astropy.wcs.wcs]\n",
      "/var/folders/fs/f3k7bp2n3k1bldhn58thddt40000gn/T/ipykernel_87985/3282180528.py:23: UserWarning: FixedFormatter should only be used together with FixedLocator\n",
      "  ax.set_xticklabels(ax.get_xticklabels(), rotation=45)\n",
      "WARNING: FITSFixedWarning: 'cdfix' made the change 'Success'. [astropy.wcs.wcs]\n",
      "/var/folders/fs/f3k7bp2n3k1bldhn58thddt40000gn/T/ipykernel_87985/3282180528.py:23: UserWarning: FixedFormatter should only be used together with FixedLocator\n",
      "  ax.set_xticklabels(ax.get_xticklabels(), rotation=45)\n",
      "WARNING: FITSFixedWarning: 'cdfix' made the change 'Success'. [astropy.wcs.wcs]\n",
      "/var/folders/fs/f3k7bp2n3k1bldhn58thddt40000gn/T/ipykernel_87985/3282180528.py:23: UserWarning: FixedFormatter should only be used together with FixedLocator\n",
      "  ax.set_xticklabels(ax.get_xticklabels(), rotation=45)\n",
      "WARNING: FITSFixedWarning: 'cdfix' made the change 'Success'. [astropy.wcs.wcs]\n",
      "/var/folders/fs/f3k7bp2n3k1bldhn58thddt40000gn/T/ipykernel_87985/3282180528.py:23: UserWarning: FixedFormatter should only be used together with FixedLocator\n",
      "  ax.set_xticklabels(ax.get_xticklabels(), rotation=45)\n",
      "WARNING: FITSFixedWarning: 'cdfix' made the change 'Success'. [astropy.wcs.wcs]\n",
      "/var/folders/fs/f3k7bp2n3k1bldhn58thddt40000gn/T/ipykernel_87985/3282180528.py:23: UserWarning: FixedFormatter should only be used together with FixedLocator\n",
      "  ax.set_xticklabels(ax.get_xticklabels(), rotation=45)\n",
      "WARNING: FITSFixedWarning: 'cdfix' made the change 'Success'. [astropy.wcs.wcs]\n",
      "/var/folders/fs/f3k7bp2n3k1bldhn58thddt40000gn/T/ipykernel_87985/3282180528.py:23: UserWarning: FixedFormatter should only be used together with FixedLocator\n",
      "  ax.set_xticklabels(ax.get_xticklabels(), rotation=45)\n",
      "WARNING: FITSFixedWarning: 'cdfix' made the change 'Success'. [astropy.wcs.wcs]\n",
      "/var/folders/fs/f3k7bp2n3k1bldhn58thddt40000gn/T/ipykernel_87985/3282180528.py:23: UserWarning: FixedFormatter should only be used together with FixedLocator\n",
      "  ax.set_xticklabels(ax.get_xticklabels(), rotation=45)\n",
      "WARNING: FITSFixedWarning: 'cdfix' made the change 'Success'. [astropy.wcs.wcs]\n",
      "/var/folders/fs/f3k7bp2n3k1bldhn58thddt40000gn/T/ipykernel_87985/3282180528.py:23: UserWarning: FixedFormatter should only be used together with FixedLocator\n",
      "  ax.set_xticklabels(ax.get_xticklabels(), rotation=45)\n",
      "WARNING: FITSFixedWarning: 'cdfix' made the change 'Success'. [astropy.wcs.wcs]\n",
      "/var/folders/fs/f3k7bp2n3k1bldhn58thddt40000gn/T/ipykernel_87985/3282180528.py:23: UserWarning: FixedFormatter should only be used together with FixedLocator\n",
      "  ax.set_xticklabels(ax.get_xticklabels(), rotation=45)\n",
      "WARNING: FITSFixedWarning: 'cdfix' made the change 'Success'. [astropy.wcs.wcs]\n",
      "/var/folders/fs/f3k7bp2n3k1bldhn58thddt40000gn/T/ipykernel_87985/3282180528.py:23: UserWarning: FixedFormatter should only be used together with FixedLocator\n",
      "  ax.set_xticklabels(ax.get_xticklabels(), rotation=45)\n",
      "WARNING: FITSFixedWarning: 'cdfix' made the change 'Success'. [astropy.wcs.wcs]\n",
      "/var/folders/fs/f3k7bp2n3k1bldhn58thddt40000gn/T/ipykernel_87985/3282180528.py:23: UserWarning: FixedFormatter should only be used together with FixedLocator\n",
      "  ax.set_xticklabels(ax.get_xticklabels(), rotation=45)\n",
      "WARNING: FITSFixedWarning: 'cdfix' made the change 'Success'. [astropy.wcs.wcs]\n",
      "/var/folders/fs/f3k7bp2n3k1bldhn58thddt40000gn/T/ipykernel_87985/3282180528.py:23: UserWarning: FixedFormatter should only be used together with FixedLocator\n",
      "  ax.set_xticklabels(ax.get_xticklabels(), rotation=45)\n",
      "WARNING: FITSFixedWarning: 'cdfix' made the change 'Success'. [astropy.wcs.wcs]\n",
      "/var/folders/fs/f3k7bp2n3k1bldhn58thddt40000gn/T/ipykernel_87985/3282180528.py:23: UserWarning: FixedFormatter should only be used together with FixedLocator\n",
      "  ax.set_xticklabels(ax.get_xticklabels(), rotation=45)\n",
      "WARNING: FITSFixedWarning: 'cdfix' made the change 'Success'. [astropy.wcs.wcs]\n",
      "/var/folders/fs/f3k7bp2n3k1bldhn58thddt40000gn/T/ipykernel_87985/3282180528.py:23: UserWarning: FixedFormatter should only be used together with FixedLocator\n",
      "  ax.set_xticklabels(ax.get_xticklabels(), rotation=45)\n",
      "WARNING: FITSFixedWarning: 'cdfix' made the change 'Success'. [astropy.wcs.wcs]\n",
      "/var/folders/fs/f3k7bp2n3k1bldhn58thddt40000gn/T/ipykernel_87985/3282180528.py:23: UserWarning: FixedFormatter should only be used together with FixedLocator\n",
      "  ax.set_xticklabels(ax.get_xticklabels(), rotation=45)\n",
      "WARNING: FITSFixedWarning: 'cdfix' made the change 'Success'. [astropy.wcs.wcs]\n",
      "/var/folders/fs/f3k7bp2n3k1bldhn58thddt40000gn/T/ipykernel_87985/3282180528.py:23: UserWarning: FixedFormatter should only be used together with FixedLocator\n",
      "  ax.set_xticklabels(ax.get_xticklabels(), rotation=45)\n",
      "WARNING: FITSFixedWarning: 'cdfix' made the change 'Success'. [astropy.wcs.wcs]\n",
      "/var/folders/fs/f3k7bp2n3k1bldhn58thddt40000gn/T/ipykernel_87985/3282180528.py:23: UserWarning: FixedFormatter should only be used together with FixedLocator\n",
      "  ax.set_xticklabels(ax.get_xticklabels(), rotation=45)\n",
      "WARNING: FITSFixedWarning: 'cdfix' made the change 'Success'. [astropy.wcs.wcs]\n",
      "/var/folders/fs/f3k7bp2n3k1bldhn58thddt40000gn/T/ipykernel_87985/3282180528.py:23: UserWarning: FixedFormatter should only be used together with FixedLocator\n",
      "  ax.set_xticklabels(ax.get_xticklabels(), rotation=45)\n",
      "WARNING: FITSFixedWarning: 'cdfix' made the change 'Success'. [astropy.wcs.wcs]\n",
      "/var/folders/fs/f3k7bp2n3k1bldhn58thddt40000gn/T/ipykernel_87985/3282180528.py:23: UserWarning: FixedFormatter should only be used together with FixedLocator\n",
      "  ax.set_xticklabels(ax.get_xticklabels(), rotation=45)\n",
      "WARNING: FITSFixedWarning: 'cdfix' made the change 'Success'. [astropy.wcs.wcs]\n",
      "/var/folders/fs/f3k7bp2n3k1bldhn58thddt40000gn/T/ipykernel_87985/3282180528.py:23: UserWarning: FixedFormatter should only be used together with FixedLocator\n",
      "  ax.set_xticklabels(ax.get_xticklabels(), rotation=45)\n",
      "WARNING: FITSFixedWarning: 'cdfix' made the change 'Success'. [astropy.wcs.wcs]\n",
      "/var/folders/fs/f3k7bp2n3k1bldhn58thddt40000gn/T/ipykernel_87985/3282180528.py:23: UserWarning: FixedFormatter should only be used together with FixedLocator\n",
      "  ax.set_xticklabels(ax.get_xticklabels(), rotation=45)\n",
      "WARNING: FITSFixedWarning: 'cdfix' made the change 'Success'. [astropy.wcs.wcs]\n",
      "/var/folders/fs/f3k7bp2n3k1bldhn58thddt40000gn/T/ipykernel_87985/3282180528.py:23: UserWarning: FixedFormatter should only be used together with FixedLocator\n",
      "  ax.set_xticklabels(ax.get_xticklabels(), rotation=45)\n",
      "WARNING: FITSFixedWarning: 'cdfix' made the change 'Success'. [astropy.wcs.wcs]\n",
      "/var/folders/fs/f3k7bp2n3k1bldhn58thddt40000gn/T/ipykernel_87985/3282180528.py:23: UserWarning: FixedFormatter should only be used together with FixedLocator\n",
      "  ax.set_xticklabels(ax.get_xticklabels(), rotation=45)\n",
      "WARNING: FITSFixedWarning: 'cdfix' made the change 'Success'. [astropy.wcs.wcs]\n",
      "/var/folders/fs/f3k7bp2n3k1bldhn58thddt40000gn/T/ipykernel_87985/3282180528.py:23: UserWarning: FixedFormatter should only be used together with FixedLocator\n",
      "  ax.set_xticklabels(ax.get_xticklabels(), rotation=45)\n",
      "WARNING: FITSFixedWarning: 'cdfix' made the change 'Success'. [astropy.wcs.wcs]\n",
      "/var/folders/fs/f3k7bp2n3k1bldhn58thddt40000gn/T/ipykernel_87985/3282180528.py:23: UserWarning: FixedFormatter should only be used together with FixedLocator\n",
      "  ax.set_xticklabels(ax.get_xticklabels(), rotation=45)\n",
      "WARNING: FITSFixedWarning: 'cdfix' made the change 'Success'. [astropy.wcs.wcs]\n",
      "/var/folders/fs/f3k7bp2n3k1bldhn58thddt40000gn/T/ipykernel_87985/3282180528.py:23: UserWarning: FixedFormatter should only be used together with FixedLocator\n",
      "  ax.set_xticklabels(ax.get_xticklabels(), rotation=45)\n",
      "WARNING: FITSFixedWarning: 'cdfix' made the change 'Success'. [astropy.wcs.wcs]\n",
      "/var/folders/fs/f3k7bp2n3k1bldhn58thddt40000gn/T/ipykernel_87985/3282180528.py:23: UserWarning: FixedFormatter should only be used together with FixedLocator\n",
      "  ax.set_xticklabels(ax.get_xticklabels(), rotation=45)\n",
      "WARNING: FITSFixedWarning: 'cdfix' made the change 'Success'. [astropy.wcs.wcs]\n",
      "/var/folders/fs/f3k7bp2n3k1bldhn58thddt40000gn/T/ipykernel_87985/3282180528.py:23: UserWarning: FixedFormatter should only be used together with FixedLocator\n",
      "  ax.set_xticklabels(ax.get_xticklabels(), rotation=45)\n",
      "WARNING: FITSFixedWarning: 'cdfix' made the change 'Success'. [astropy.wcs.wcs]\n",
      "/var/folders/fs/f3k7bp2n3k1bldhn58thddt40000gn/T/ipykernel_87985/3282180528.py:23: UserWarning: FixedFormatter should only be used together with FixedLocator\n",
      "  ax.set_xticklabels(ax.get_xticklabels(), rotation=45)\n",
      "WARNING: FITSFixedWarning: 'cdfix' made the change 'Success'. [astropy.wcs.wcs]\n",
      "/var/folders/fs/f3k7bp2n3k1bldhn58thddt40000gn/T/ipykernel_87985/3282180528.py:23: UserWarning: FixedFormatter should only be used together with FixedLocator\n",
      "  ax.set_xticklabels(ax.get_xticklabels(), rotation=45)\n",
      "WARNING: FITSFixedWarning: 'cdfix' made the change 'Success'. [astropy.wcs.wcs]\n",
      "/var/folders/fs/f3k7bp2n3k1bldhn58thddt40000gn/T/ipykernel_87985/3282180528.py:23: UserWarning: FixedFormatter should only be used together with FixedLocator\n",
      "  ax.set_xticklabels(ax.get_xticklabels(), rotation=45)\n",
      "WARNING: FITSFixedWarning: 'cdfix' made the change 'Success'. [astropy.wcs.wcs]\n",
      "/var/folders/fs/f3k7bp2n3k1bldhn58thddt40000gn/T/ipykernel_87985/3282180528.py:23: UserWarning: FixedFormatter should only be used together with FixedLocator\n",
      "  ax.set_xticklabels(ax.get_xticklabels(), rotation=45)\n",
      "WARNING: FITSFixedWarning: 'cdfix' made the change 'Success'. [astropy.wcs.wcs]\n",
      "/var/folders/fs/f3k7bp2n3k1bldhn58thddt40000gn/T/ipykernel_87985/3282180528.py:23: UserWarning: FixedFormatter should only be used together with FixedLocator\n",
      "  ax.set_xticklabels(ax.get_xticklabels(), rotation=45)\n",
      "WARNING: FITSFixedWarning: 'cdfix' made the change 'Success'. [astropy.wcs.wcs]\n",
      "/var/folders/fs/f3k7bp2n3k1bldhn58thddt40000gn/T/ipykernel_87985/3282180528.py:23: UserWarning: FixedFormatter should only be used together with FixedLocator\n",
      "  ax.set_xticklabels(ax.get_xticklabels(), rotation=45)\n",
      "WARNING: FITSFixedWarning: 'cdfix' made the change 'Success'. [astropy.wcs.wcs]\n",
      "/var/folders/fs/f3k7bp2n3k1bldhn58thddt40000gn/T/ipykernel_87985/3282180528.py:23: UserWarning: FixedFormatter should only be used together with FixedLocator\n",
      "  ax.set_xticklabels(ax.get_xticklabels(), rotation=45)\n",
      "WARNING: FITSFixedWarning: 'cdfix' made the change 'Success'. [astropy.wcs.wcs]\n",
      "/var/folders/fs/f3k7bp2n3k1bldhn58thddt40000gn/T/ipykernel_87985/3282180528.py:23: UserWarning: FixedFormatter should only be used together with FixedLocator\n",
      "  ax.set_xticklabels(ax.get_xticklabels(), rotation=45)\n",
      "WARNING: FITSFixedWarning: 'cdfix' made the change 'Success'. [astropy.wcs.wcs]\n",
      "/var/folders/fs/f3k7bp2n3k1bldhn58thddt40000gn/T/ipykernel_87985/3282180528.py:23: UserWarning: FixedFormatter should only be used together with FixedLocator\n",
      "  ax.set_xticklabels(ax.get_xticklabels(), rotation=45)\n",
      "WARNING: FITSFixedWarning: 'cdfix' made the change 'Success'. [astropy.wcs.wcs]\n",
      "/var/folders/fs/f3k7bp2n3k1bldhn58thddt40000gn/T/ipykernel_87985/3282180528.py:23: UserWarning: FixedFormatter should only be used together with FixedLocator\n",
      "  ax.set_xticklabels(ax.get_xticklabels(), rotation=45)\n",
      "WARNING: FITSFixedWarning: 'cdfix' made the change 'Success'. [astropy.wcs.wcs]\n",
      "/var/folders/fs/f3k7bp2n3k1bldhn58thddt40000gn/T/ipykernel_87985/3282180528.py:23: UserWarning: FixedFormatter should only be used together with FixedLocator\n",
      "  ax.set_xticklabels(ax.get_xticklabels(), rotation=45)\n",
      "WARNING: FITSFixedWarning: 'cdfix' made the change 'Success'. [astropy.wcs.wcs]\n",
      "/var/folders/fs/f3k7bp2n3k1bldhn58thddt40000gn/T/ipykernel_87985/3282180528.py:23: UserWarning: FixedFormatter should only be used together with FixedLocator\n",
      "  ax.set_xticklabels(ax.get_xticklabels(), rotation=45)\n",
      "WARNING: FITSFixedWarning: 'cdfix' made the change 'Success'. [astropy.wcs.wcs]\n",
      "/var/folders/fs/f3k7bp2n3k1bldhn58thddt40000gn/T/ipykernel_87985/3282180528.py:23: UserWarning: FixedFormatter should only be used together with FixedLocator\n",
      "  ax.set_xticklabels(ax.get_xticklabels(), rotation=45)\n",
      "WARNING: FITSFixedWarning: 'cdfix' made the change 'Success'. [astropy.wcs.wcs]\n",
      "/var/folders/fs/f3k7bp2n3k1bldhn58thddt40000gn/T/ipykernel_87985/3282180528.py:23: UserWarning: FixedFormatter should only be used together with FixedLocator\n",
      "  ax.set_xticklabels(ax.get_xticklabels(), rotation=45)\n",
      "WARNING: FITSFixedWarning: 'cdfix' made the change 'Success'. [astropy.wcs.wcs]\n",
      "/var/folders/fs/f3k7bp2n3k1bldhn58thddt40000gn/T/ipykernel_87985/3282180528.py:23: UserWarning: FixedFormatter should only be used together with FixedLocator\n",
      "  ax.set_xticklabels(ax.get_xticklabels(), rotation=45)\n",
      "WARNING: FITSFixedWarning: 'cdfix' made the change 'Success'. [astropy.wcs.wcs]\n",
      "/var/folders/fs/f3k7bp2n3k1bldhn58thddt40000gn/T/ipykernel_87985/3282180528.py:23: UserWarning: FixedFormatter should only be used together with FixedLocator\n",
      "  ax.set_xticklabels(ax.get_xticklabels(), rotation=45)\n",
      "WARNING: FITSFixedWarning: 'cdfix' made the change 'Success'. [astropy.wcs.wcs]\n",
      "/var/folders/fs/f3k7bp2n3k1bldhn58thddt40000gn/T/ipykernel_87985/3282180528.py:23: UserWarning: FixedFormatter should only be used together with FixedLocator\n",
      "  ax.set_xticklabels(ax.get_xticklabels(), rotation=45)\n",
      "WARNING: FITSFixedWarning: 'cdfix' made the change 'Success'. [astropy.wcs.wcs]\n",
      "/var/folders/fs/f3k7bp2n3k1bldhn58thddt40000gn/T/ipykernel_87985/3282180528.py:23: UserWarning: FixedFormatter should only be used together with FixedLocator\n",
      "  ax.set_xticklabels(ax.get_xticklabels(), rotation=45)\n",
      "WARNING: FITSFixedWarning: 'cdfix' made the change 'Success'. [astropy.wcs.wcs]\n",
      "/var/folders/fs/f3k7bp2n3k1bldhn58thddt40000gn/T/ipykernel_87985/3282180528.py:23: UserWarning: FixedFormatter should only be used together with FixedLocator\n",
      "  ax.set_xticklabels(ax.get_xticklabels(), rotation=45)\n",
      "WARNING: FITSFixedWarning: 'cdfix' made the change 'Success'. [astropy.wcs.wcs]\n",
      "/var/folders/fs/f3k7bp2n3k1bldhn58thddt40000gn/T/ipykernel_87985/3282180528.py:23: UserWarning: FixedFormatter should only be used together with FixedLocator\n",
      "  ax.set_xticklabels(ax.get_xticklabels(), rotation=45)\n",
      "WARNING: FITSFixedWarning: 'cdfix' made the change 'Success'. [astropy.wcs.wcs]\n",
      "/var/folders/fs/f3k7bp2n3k1bldhn58thddt40000gn/T/ipykernel_87985/3282180528.py:23: UserWarning: FixedFormatter should only be used together with FixedLocator\n",
      "  ax.set_xticklabels(ax.get_xticklabels(), rotation=45)\n",
      "WARNING: FITSFixedWarning: 'cdfix' made the change 'Success'. [astropy.wcs.wcs]\n",
      "/var/folders/fs/f3k7bp2n3k1bldhn58thddt40000gn/T/ipykernel_87985/3282180528.py:23: UserWarning: FixedFormatter should only be used together with FixedLocator\n",
      "  ax.set_xticklabels(ax.get_xticklabels(), rotation=45)\n",
      "WARNING: FITSFixedWarning: 'cdfix' made the change 'Success'. [astropy.wcs.wcs]\n",
      "/var/folders/fs/f3k7bp2n3k1bldhn58thddt40000gn/T/ipykernel_87985/3282180528.py:23: UserWarning: FixedFormatter should only be used together with FixedLocator\n",
      "  ax.set_xticklabels(ax.get_xticklabels(), rotation=45)\n",
      "WARNING: FITSFixedWarning: 'cdfix' made the change 'Success'. [astropy.wcs.wcs]\n",
      "/var/folders/fs/f3k7bp2n3k1bldhn58thddt40000gn/T/ipykernel_87985/3282180528.py:23: UserWarning: FixedFormatter should only be used together with FixedLocator\n",
      "  ax.set_xticklabels(ax.get_xticklabels(), rotation=45)\n",
      "WARNING: FITSFixedWarning: 'cdfix' made the change 'Success'. [astropy.wcs.wcs]\n",
      "/var/folders/fs/f3k7bp2n3k1bldhn58thddt40000gn/T/ipykernel_87985/3282180528.py:23: UserWarning: FixedFormatter should only be used together with FixedLocator\n",
      "  ax.set_xticklabels(ax.get_xticklabels(), rotation=45)\n",
      "WARNING: FITSFixedWarning: 'cdfix' made the change 'Success'. [astropy.wcs.wcs]\n",
      "/var/folders/fs/f3k7bp2n3k1bldhn58thddt40000gn/T/ipykernel_87985/3282180528.py:23: UserWarning: FixedFormatter should only be used together with FixedLocator\n",
      "  ax.set_xticklabels(ax.get_xticklabels(), rotation=45)\n",
      "WARNING: FITSFixedWarning: 'cdfix' made the change 'Success'. [astropy.wcs.wcs]\n",
      "/var/folders/fs/f3k7bp2n3k1bldhn58thddt40000gn/T/ipykernel_87985/3282180528.py:23: UserWarning: FixedFormatter should only be used together with FixedLocator\n",
      "  ax.set_xticklabels(ax.get_xticklabels(), rotation=45)\n",
      "WARNING: FITSFixedWarning: 'cdfix' made the change 'Success'. [astropy.wcs.wcs]\n",
      "/var/folders/fs/f3k7bp2n3k1bldhn58thddt40000gn/T/ipykernel_87985/3282180528.py:23: UserWarning: FixedFormatter should only be used together with FixedLocator\n",
      "  ax.set_xticklabels(ax.get_xticklabels(), rotation=45)\n",
      "WARNING: FITSFixedWarning: 'cdfix' made the change 'Success'. [astropy.wcs.wcs]\n",
      "/var/folders/fs/f3k7bp2n3k1bldhn58thddt40000gn/T/ipykernel_87985/3282180528.py:23: UserWarning: FixedFormatter should only be used together with FixedLocator\n",
      "  ax.set_xticklabels(ax.get_xticklabels(), rotation=45)\n",
      "WARNING: FITSFixedWarning: 'cdfix' made the change 'Success'. [astropy.wcs.wcs]\n",
      "/var/folders/fs/f3k7bp2n3k1bldhn58thddt40000gn/T/ipykernel_87985/3282180528.py:23: UserWarning: FixedFormatter should only be used together with FixedLocator\n",
      "  ax.set_xticklabels(ax.get_xticklabels(), rotation=45)\n",
      "WARNING: FITSFixedWarning: 'cdfix' made the change 'Success'. [astropy.wcs.wcs]\n",
      "/var/folders/fs/f3k7bp2n3k1bldhn58thddt40000gn/T/ipykernel_87985/3282180528.py:23: UserWarning: FixedFormatter should only be used together with FixedLocator\n",
      "  ax.set_xticklabels(ax.get_xticklabels(), rotation=45)\n",
      "WARNING: FITSFixedWarning: 'cdfix' made the change 'Success'. [astropy.wcs.wcs]\n",
      "/var/folders/fs/f3k7bp2n3k1bldhn58thddt40000gn/T/ipykernel_87985/3282180528.py:23: UserWarning: FixedFormatter should only be used together with FixedLocator\n",
      "  ax.set_xticklabels(ax.get_xticklabels(), rotation=45)\n",
      "WARNING: FITSFixedWarning: 'cdfix' made the change 'Success'. [astropy.wcs.wcs]\n",
      "/var/folders/fs/f3k7bp2n3k1bldhn58thddt40000gn/T/ipykernel_87985/3282180528.py:23: UserWarning: FixedFormatter should only be used together with FixedLocator\n",
      "  ax.set_xticklabels(ax.get_xticklabels(), rotation=45)\n",
      "WARNING: FITSFixedWarning: 'cdfix' made the change 'Success'. [astropy.wcs.wcs]\n",
      "/var/folders/fs/f3k7bp2n3k1bldhn58thddt40000gn/T/ipykernel_87985/3282180528.py:23: UserWarning: FixedFormatter should only be used together with FixedLocator\n",
      "  ax.set_xticklabels(ax.get_xticklabels(), rotation=45)\n",
      "WARNING: FITSFixedWarning: 'cdfix' made the change 'Success'. [astropy.wcs.wcs]\n",
      "/var/folders/fs/f3k7bp2n3k1bldhn58thddt40000gn/T/ipykernel_87985/3282180528.py:23: UserWarning: FixedFormatter should only be used together with FixedLocator\n",
      "  ax.set_xticklabels(ax.get_xticklabels(), rotation=45)\n",
      "WARNING: FITSFixedWarning: 'cdfix' made the change 'Success'. [astropy.wcs.wcs]\n",
      "/var/folders/fs/f3k7bp2n3k1bldhn58thddt40000gn/T/ipykernel_87985/3282180528.py:23: UserWarning: FixedFormatter should only be used together with FixedLocator\n",
      "  ax.set_xticklabels(ax.get_xticklabels(), rotation=45)\n",
      "WARNING: FITSFixedWarning: 'cdfix' made the change 'Success'. [astropy.wcs.wcs]\n",
      "/var/folders/fs/f3k7bp2n3k1bldhn58thddt40000gn/T/ipykernel_87985/3282180528.py:23: UserWarning: FixedFormatter should only be used together with FixedLocator\n",
      "  ax.set_xticklabels(ax.get_xticklabels(), rotation=45)\n",
      "WARNING: FITSFixedWarning: 'cdfix' made the change 'Success'. [astropy.wcs.wcs]\n",
      "/var/folders/fs/f3k7bp2n3k1bldhn58thddt40000gn/T/ipykernel_87985/3282180528.py:23: UserWarning: FixedFormatter should only be used together with FixedLocator\n",
      "  ax.set_xticklabels(ax.get_xticklabels(), rotation=45)\n",
      "WARNING: FITSFixedWarning: 'cdfix' made the change 'Success'. [astropy.wcs.wcs]\n",
      "/var/folders/fs/f3k7bp2n3k1bldhn58thddt40000gn/T/ipykernel_87985/3282180528.py:23: UserWarning: FixedFormatter should only be used together with FixedLocator\n",
      "  ax.set_xticklabels(ax.get_xticklabels(), rotation=45)\n",
      "WARNING: FITSFixedWarning: 'cdfix' made the change 'Success'. [astropy.wcs.wcs]\n",
      "/var/folders/fs/f3k7bp2n3k1bldhn58thddt40000gn/T/ipykernel_87985/3282180528.py:23: UserWarning: FixedFormatter should only be used together with FixedLocator\n",
      "  ax.set_xticklabels(ax.get_xticklabels(), rotation=45)\n",
      "WARNING: FITSFixedWarning: 'cdfix' made the change 'Success'. [astropy.wcs.wcs]\n",
      "/var/folders/fs/f3k7bp2n3k1bldhn58thddt40000gn/T/ipykernel_87985/3282180528.py:23: UserWarning: FixedFormatter should only be used together with FixedLocator\n",
      "  ax.set_xticklabels(ax.get_xticklabels(), rotation=45)\n",
      "WARNING: FITSFixedWarning: 'cdfix' made the change 'Success'. [astropy.wcs.wcs]\n",
      "/var/folders/fs/f3k7bp2n3k1bldhn58thddt40000gn/T/ipykernel_87985/3282180528.py:23: UserWarning: FixedFormatter should only be used together with FixedLocator\n",
      "  ax.set_xticklabels(ax.get_xticklabels(), rotation=45)\n",
      "WARNING: FITSFixedWarning: 'cdfix' made the change 'Success'. [astropy.wcs.wcs]\n",
      "/var/folders/fs/f3k7bp2n3k1bldhn58thddt40000gn/T/ipykernel_87985/3282180528.py:23: UserWarning: FixedFormatter should only be used together with FixedLocator\n",
      "  ax.set_xticklabels(ax.get_xticklabels(), rotation=45)\n",
      "WARNING: FITSFixedWarning: 'cdfix' made the change 'Success'. [astropy.wcs.wcs]\n",
      "/var/folders/fs/f3k7bp2n3k1bldhn58thddt40000gn/T/ipykernel_87985/3282180528.py:23: UserWarning: FixedFormatter should only be used together with FixedLocator\n",
      "  ax.set_xticklabels(ax.get_xticklabels(), rotation=45)\n",
      "WARNING: FITSFixedWarning: 'cdfix' made the change 'Success'. [astropy.wcs.wcs]\n",
      "/var/folders/fs/f3k7bp2n3k1bldhn58thddt40000gn/T/ipykernel_87985/3282180528.py:23: UserWarning: FixedFormatter should only be used together with FixedLocator\n",
      "  ax.set_xticklabels(ax.get_xticklabels(), rotation=45)\n",
      "WARNING: FITSFixedWarning: 'cdfix' made the change 'Success'. [astropy.wcs.wcs]\n",
      "/var/folders/fs/f3k7bp2n3k1bldhn58thddt40000gn/T/ipykernel_87985/3282180528.py:23: UserWarning: FixedFormatter should only be used together with FixedLocator\n",
      "  ax.set_xticklabels(ax.get_xticklabels(), rotation=45)\n",
      "WARNING: FITSFixedWarning: 'cdfix' made the change 'Success'. [astropy.wcs.wcs]\n",
      "/var/folders/fs/f3k7bp2n3k1bldhn58thddt40000gn/T/ipykernel_87985/3282180528.py:23: UserWarning: FixedFormatter should only be used together with FixedLocator\n",
      "  ax.set_xticklabels(ax.get_xticklabels(), rotation=45)\n",
      "WARNING: FITSFixedWarning: 'cdfix' made the change 'Success'. [astropy.wcs.wcs]\n",
      "/var/folders/fs/f3k7bp2n3k1bldhn58thddt40000gn/T/ipykernel_87985/3282180528.py:23: UserWarning: FixedFormatter should only be used together with FixedLocator\n",
      "  ax.set_xticklabels(ax.get_xticklabels(), rotation=45)\n",
      "WARNING: FITSFixedWarning: 'cdfix' made the change 'Success'. [astropy.wcs.wcs]\n",
      "/var/folders/fs/f3k7bp2n3k1bldhn58thddt40000gn/T/ipykernel_87985/3282180528.py:23: UserWarning: FixedFormatter should only be used together with FixedLocator\n",
      "  ax.set_xticklabels(ax.get_xticklabels(), rotation=45)\n",
      "WARNING: FITSFixedWarning: 'cdfix' made the change 'Success'. [astropy.wcs.wcs]\n",
      "/var/folders/fs/f3k7bp2n3k1bldhn58thddt40000gn/T/ipykernel_87985/3282180528.py:23: UserWarning: FixedFormatter should only be used together with FixedLocator\n",
      "  ax.set_xticklabels(ax.get_xticklabels(), rotation=45)\n",
      "WARNING: FITSFixedWarning: 'cdfix' made the change 'Success'. [astropy.wcs.wcs]\n",
      "/var/folders/fs/f3k7bp2n3k1bldhn58thddt40000gn/T/ipykernel_87985/3282180528.py:23: UserWarning: FixedFormatter should only be used together with FixedLocator\n",
      "  ax.set_xticklabels(ax.get_xticklabels(), rotation=45)\n",
      "WARNING: FITSFixedWarning: 'cdfix' made the change 'Success'. [astropy.wcs.wcs]\n",
      "/var/folders/fs/f3k7bp2n3k1bldhn58thddt40000gn/T/ipykernel_87985/3282180528.py:23: UserWarning: FixedFormatter should only be used together with FixedLocator\n",
      "  ax.set_xticklabels(ax.get_xticklabels(), rotation=45)\n",
      "WARNING: FITSFixedWarning: 'cdfix' made the change 'Success'. [astropy.wcs.wcs]\n",
      "/var/folders/fs/f3k7bp2n3k1bldhn58thddt40000gn/T/ipykernel_87985/3282180528.py:23: UserWarning: FixedFormatter should only be used together with FixedLocator\n",
      "  ax.set_xticklabels(ax.get_xticklabels(), rotation=45)\n",
      "WARNING: FITSFixedWarning: 'cdfix' made the change 'Success'. [astropy.wcs.wcs]\n",
      "/var/folders/fs/f3k7bp2n3k1bldhn58thddt40000gn/T/ipykernel_87985/3282180528.py:23: UserWarning: FixedFormatter should only be used together with FixedLocator\n",
      "  ax.set_xticklabels(ax.get_xticklabels(), rotation=45)\n",
      "WARNING: FITSFixedWarning: 'cdfix' made the change 'Success'. [astropy.wcs.wcs]\n",
      "/var/folders/fs/f3k7bp2n3k1bldhn58thddt40000gn/T/ipykernel_87985/3282180528.py:23: UserWarning: FixedFormatter should only be used together with FixedLocator\n",
      "  ax.set_xticklabels(ax.get_xticklabels(), rotation=45)\n",
      "WARNING: FITSFixedWarning: 'cdfix' made the change 'Success'. [astropy.wcs.wcs]\n",
      "/var/folders/fs/f3k7bp2n3k1bldhn58thddt40000gn/T/ipykernel_87985/3282180528.py:23: UserWarning: FixedFormatter should only be used together with FixedLocator\n",
      "  ax.set_xticklabels(ax.get_xticklabels(), rotation=45)\n",
      "WARNING: FITSFixedWarning: 'cdfix' made the change 'Success'. [astropy.wcs.wcs]\n",
      "/var/folders/fs/f3k7bp2n3k1bldhn58thddt40000gn/T/ipykernel_87985/3282180528.py:23: UserWarning: FixedFormatter should only be used together with FixedLocator\n",
      "  ax.set_xticklabels(ax.get_xticklabels(), rotation=45)\n",
      "WARNING: FITSFixedWarning: 'cdfix' made the change 'Success'. [astropy.wcs.wcs]\n",
      "/var/folders/fs/f3k7bp2n3k1bldhn58thddt40000gn/T/ipykernel_87985/3282180528.py:23: UserWarning: FixedFormatter should only be used together with FixedLocator\n",
      "  ax.set_xticklabels(ax.get_xticklabels(), rotation=45)\n",
      "WARNING: FITSFixedWarning: 'cdfix' made the change 'Success'. [astropy.wcs.wcs]\n",
      "/var/folders/fs/f3k7bp2n3k1bldhn58thddt40000gn/T/ipykernel_87985/3282180528.py:23: UserWarning: FixedFormatter should only be used together with FixedLocator\n",
      "  ax.set_xticklabels(ax.get_xticklabels(), rotation=45)\n",
      "WARNING: FITSFixedWarning: 'cdfix' made the change 'Success'. [astropy.wcs.wcs]\n",
      "/var/folders/fs/f3k7bp2n3k1bldhn58thddt40000gn/T/ipykernel_87985/3282180528.py:23: UserWarning: FixedFormatter should only be used together with FixedLocator\n",
      "  ax.set_xticklabels(ax.get_xticklabels(), rotation=45)\n",
      "WARNING: FITSFixedWarning: 'cdfix' made the change 'Success'. [astropy.wcs.wcs]\n",
      "/var/folders/fs/f3k7bp2n3k1bldhn58thddt40000gn/T/ipykernel_87985/3282180528.py:23: UserWarning: FixedFormatter should only be used together with FixedLocator\n",
      "  ax.set_xticklabels(ax.get_xticklabels(), rotation=45)\n",
      "WARNING: FITSFixedWarning: 'cdfix' made the change 'Success'. [astropy.wcs.wcs]\n",
      "/var/folders/fs/f3k7bp2n3k1bldhn58thddt40000gn/T/ipykernel_87985/3282180528.py:23: UserWarning: FixedFormatter should only be used together with FixedLocator\n",
      "  ax.set_xticklabels(ax.get_xticklabels(), rotation=45)\n",
      "WARNING: FITSFixedWarning: 'cdfix' made the change 'Success'. [astropy.wcs.wcs]\n",
      "/var/folders/fs/f3k7bp2n3k1bldhn58thddt40000gn/T/ipykernel_87985/3282180528.py:23: UserWarning: FixedFormatter should only be used together with FixedLocator\n",
      "  ax.set_xticklabels(ax.get_xticklabels(), rotation=45)\n",
      "WARNING: FITSFixedWarning: 'cdfix' made the change 'Success'. [astropy.wcs.wcs]\n",
      "/var/folders/fs/f3k7bp2n3k1bldhn58thddt40000gn/T/ipykernel_87985/3282180528.py:23: UserWarning: FixedFormatter should only be used together with FixedLocator\n",
      "  ax.set_xticklabels(ax.get_xticklabels(), rotation=45)\n",
      "WARNING: FITSFixedWarning: 'cdfix' made the change 'Success'. [astropy.wcs.wcs]\n",
      "/var/folders/fs/f3k7bp2n3k1bldhn58thddt40000gn/T/ipykernel_87985/3282180528.py:23: UserWarning: FixedFormatter should only be used together with FixedLocator\n",
      "  ax.set_xticklabels(ax.get_xticklabels(), rotation=45)\n",
      "WARNING: FITSFixedWarning: 'cdfix' made the change 'Success'. [astropy.wcs.wcs]\n",
      "/var/folders/fs/f3k7bp2n3k1bldhn58thddt40000gn/T/ipykernel_87985/3282180528.py:23: UserWarning: FixedFormatter should only be used together with FixedLocator\n",
      "  ax.set_xticklabels(ax.get_xticklabels(), rotation=45)\n",
      "WARNING: FITSFixedWarning: 'cdfix' made the change 'Success'. [astropy.wcs.wcs]\n",
      "/var/folders/fs/f3k7bp2n3k1bldhn58thddt40000gn/T/ipykernel_87985/3282180528.py:23: UserWarning: FixedFormatter should only be used together with FixedLocator\n",
      "  ax.set_xticklabels(ax.get_xticklabels(), rotation=45)\n",
      "WARNING: FITSFixedWarning: 'cdfix' made the change 'Success'. [astropy.wcs.wcs]\n",
      "/var/folders/fs/f3k7bp2n3k1bldhn58thddt40000gn/T/ipykernel_87985/3282180528.py:23: UserWarning: FixedFormatter should only be used together with FixedLocator\n",
      "  ax.set_xticklabels(ax.get_xticklabels(), rotation=45)\n",
      "WARNING: FITSFixedWarning: 'cdfix' made the change 'Success'. [astropy.wcs.wcs]\n",
      "/var/folders/fs/f3k7bp2n3k1bldhn58thddt40000gn/T/ipykernel_87985/3282180528.py:23: UserWarning: FixedFormatter should only be used together with FixedLocator\n",
      "  ax.set_xticklabels(ax.get_xticklabels(), rotation=45)\n",
      "WARNING: FITSFixedWarning: 'cdfix' made the change 'Success'. [astropy.wcs.wcs]\n",
      "/var/folders/fs/f3k7bp2n3k1bldhn58thddt40000gn/T/ipykernel_87985/3282180528.py:23: UserWarning: FixedFormatter should only be used together with FixedLocator\n",
      "  ax.set_xticklabels(ax.get_xticklabels(), rotation=45)\n",
      "WARNING: FITSFixedWarning: 'cdfix' made the change 'Success'. [astropy.wcs.wcs]\n",
      "/var/folders/fs/f3k7bp2n3k1bldhn58thddt40000gn/T/ipykernel_87985/3282180528.py:23: UserWarning: FixedFormatter should only be used together with FixedLocator\n",
      "  ax.set_xticklabels(ax.get_xticklabels(), rotation=45)\n",
      "WARNING: FITSFixedWarning: 'cdfix' made the change 'Success'. [astropy.wcs.wcs]\n",
      "/var/folders/fs/f3k7bp2n3k1bldhn58thddt40000gn/T/ipykernel_87985/3282180528.py:23: UserWarning: FixedFormatter should only be used together with FixedLocator\n",
      "  ax.set_xticklabels(ax.get_xticklabels(), rotation=45)\n",
      "WARNING: FITSFixedWarning: 'cdfix' made the change 'Success'. [astropy.wcs.wcs]\n",
      "/var/folders/fs/f3k7bp2n3k1bldhn58thddt40000gn/T/ipykernel_87985/3282180528.py:23: UserWarning: FixedFormatter should only be used together with FixedLocator\n",
      "  ax.set_xticklabels(ax.get_xticklabels(), rotation=45)\n",
      "WARNING: FITSFixedWarning: 'cdfix' made the change 'Success'. [astropy.wcs.wcs]\n",
      "/var/folders/fs/f3k7bp2n3k1bldhn58thddt40000gn/T/ipykernel_87985/3282180528.py:23: UserWarning: FixedFormatter should only be used together with FixedLocator\n",
      "  ax.set_xticklabels(ax.get_xticklabels(), rotation=45)\n",
      "WARNING: FITSFixedWarning: 'cdfix' made the change 'Success'. [astropy.wcs.wcs]\n",
      "/var/folders/fs/f3k7bp2n3k1bldhn58thddt40000gn/T/ipykernel_87985/3282180528.py:23: UserWarning: FixedFormatter should only be used together with FixedLocator\n",
      "  ax.set_xticklabels(ax.get_xticklabels(), rotation=45)\n",
      "WARNING: FITSFixedWarning: 'cdfix' made the change 'Success'. [astropy.wcs.wcs]\n",
      "/var/folders/fs/f3k7bp2n3k1bldhn58thddt40000gn/T/ipykernel_87985/3282180528.py:23: UserWarning: FixedFormatter should only be used together with FixedLocator\n",
      "  ax.set_xticklabels(ax.get_xticklabels(), rotation=45)\n",
      "WARNING: FITSFixedWarning: 'cdfix' made the change 'Success'. [astropy.wcs.wcs]\n",
      "/var/folders/fs/f3k7bp2n3k1bldhn58thddt40000gn/T/ipykernel_87985/3282180528.py:23: UserWarning: FixedFormatter should only be used together with FixedLocator\n",
      "  ax.set_xticklabels(ax.get_xticklabels(), rotation=45)\n",
      "WARNING: FITSFixedWarning: 'cdfix' made the change 'Success'. [astropy.wcs.wcs]\n",
      "/var/folders/fs/f3k7bp2n3k1bldhn58thddt40000gn/T/ipykernel_87985/3282180528.py:23: UserWarning: FixedFormatter should only be used together with FixedLocator\n",
      "  ax.set_xticklabels(ax.get_xticklabels(), rotation=45)\n",
      "WARNING: FITSFixedWarning: 'cdfix' made the change 'Success'. [astropy.wcs.wcs]\n",
      "/var/folders/fs/f3k7bp2n3k1bldhn58thddt40000gn/T/ipykernel_87985/3282180528.py:23: UserWarning: FixedFormatter should only be used together with FixedLocator\n",
      "  ax.set_xticklabels(ax.get_xticklabels(), rotation=45)\n",
      "WARNING: FITSFixedWarning: 'cdfix' made the change 'Success'. [astropy.wcs.wcs]\n",
      "/var/folders/fs/f3k7bp2n3k1bldhn58thddt40000gn/T/ipykernel_87985/3282180528.py:23: UserWarning: FixedFormatter should only be used together with FixedLocator\n",
      "  ax.set_xticklabels(ax.get_xticklabels(), rotation=45)\n",
      "WARNING: FITSFixedWarning: 'cdfix' made the change 'Success'. [astropy.wcs.wcs]\n",
      "/var/folders/fs/f3k7bp2n3k1bldhn58thddt40000gn/T/ipykernel_87985/3282180528.py:23: UserWarning: FixedFormatter should only be used together with FixedLocator\n",
      "  ax.set_xticklabels(ax.get_xticklabels(), rotation=45)\n",
      "WARNING: FITSFixedWarning: 'cdfix' made the change 'Success'. [astropy.wcs.wcs]\n",
      "/var/folders/fs/f3k7bp2n3k1bldhn58thddt40000gn/T/ipykernel_87985/3282180528.py:23: UserWarning: FixedFormatter should only be used together with FixedLocator\n",
      "  ax.set_xticklabels(ax.get_xticklabels(), rotation=45)\n",
      "WARNING: FITSFixedWarning: 'cdfix' made the change 'Success'. [astropy.wcs.wcs]\n",
      "/var/folders/fs/f3k7bp2n3k1bldhn58thddt40000gn/T/ipykernel_87985/3282180528.py:23: UserWarning: FixedFormatter should only be used together with FixedLocator\n",
      "  ax.set_xticklabels(ax.get_xticklabels(), rotation=45)\n",
      "WARNING: FITSFixedWarning: 'cdfix' made the change 'Success'. [astropy.wcs.wcs]\n",
      "/var/folders/fs/f3k7bp2n3k1bldhn58thddt40000gn/T/ipykernel_87985/3282180528.py:23: UserWarning: FixedFormatter should only be used together with FixedLocator\n",
      "  ax.set_xticklabels(ax.get_xticklabels(), rotation=45)\n",
      "WARNING: FITSFixedWarning: 'cdfix' made the change 'Success'. [astropy.wcs.wcs]\n",
      "/var/folders/fs/f3k7bp2n3k1bldhn58thddt40000gn/T/ipykernel_87985/3282180528.py:23: UserWarning: FixedFormatter should only be used together with FixedLocator\n",
      "  ax.set_xticklabels(ax.get_xticklabels(), rotation=45)\n",
      "WARNING: FITSFixedWarning: 'cdfix' made the change 'Success'. [astropy.wcs.wcs]\n",
      "/var/folders/fs/f3k7bp2n3k1bldhn58thddt40000gn/T/ipykernel_87985/3282180528.py:23: UserWarning: FixedFormatter should only be used together with FixedLocator\n",
      "  ax.set_xticklabels(ax.get_xticklabels(), rotation=45)\n",
      "WARNING: FITSFixedWarning: 'cdfix' made the change 'Success'. [astropy.wcs.wcs]\n",
      "/var/folders/fs/f3k7bp2n3k1bldhn58thddt40000gn/T/ipykernel_87985/3282180528.py:23: UserWarning: FixedFormatter should only be used together with FixedLocator\n",
      "  ax.set_xticklabels(ax.get_xticklabels(), rotation=45)\n",
      "WARNING: FITSFixedWarning: 'cdfix' made the change 'Success'. [astropy.wcs.wcs]\n",
      "/var/folders/fs/f3k7bp2n3k1bldhn58thddt40000gn/T/ipykernel_87985/3282180528.py:23: UserWarning: FixedFormatter should only be used together with FixedLocator\n",
      "  ax.set_xticklabels(ax.get_xticklabels(), rotation=45)\n",
      "WARNING: FITSFixedWarning: 'cdfix' made the change 'Success'. [astropy.wcs.wcs]\n",
      "/var/folders/fs/f3k7bp2n3k1bldhn58thddt40000gn/T/ipykernel_87985/3282180528.py:23: UserWarning: FixedFormatter should only be used together with FixedLocator\n",
      "  ax.set_xticklabels(ax.get_xticklabels(), rotation=45)\n",
      "WARNING: FITSFixedWarning: 'cdfix' made the change 'Success'. [astropy.wcs.wcs]\n",
      "/var/folders/fs/f3k7bp2n3k1bldhn58thddt40000gn/T/ipykernel_87985/3282180528.py:23: UserWarning: FixedFormatter should only be used together with FixedLocator\n",
      "  ax.set_xticklabels(ax.get_xticklabels(), rotation=45)\n",
      "WARNING: FITSFixedWarning: 'cdfix' made the change 'Success'. [astropy.wcs.wcs]\n",
      "/var/folders/fs/f3k7bp2n3k1bldhn58thddt40000gn/T/ipykernel_87985/3282180528.py:23: UserWarning: FixedFormatter should only be used together with FixedLocator\n",
      "  ax.set_xticklabels(ax.get_xticklabels(), rotation=45)\n",
      "WARNING: FITSFixedWarning: 'cdfix' made the change 'Success'. [astropy.wcs.wcs]\n",
      "/var/folders/fs/f3k7bp2n3k1bldhn58thddt40000gn/T/ipykernel_87985/3282180528.py:23: UserWarning: FixedFormatter should only be used together with FixedLocator\n",
      "  ax.set_xticklabels(ax.get_xticklabels(), rotation=45)\n",
      "WARNING: FITSFixedWarning: 'cdfix' made the change 'Success'. [astropy.wcs.wcs]\n",
      "/var/folders/fs/f3k7bp2n3k1bldhn58thddt40000gn/T/ipykernel_87985/3282180528.py:23: UserWarning: FixedFormatter should only be used together with FixedLocator\n",
      "  ax.set_xticklabels(ax.get_xticklabels(), rotation=45)\n",
      "WARNING: FITSFixedWarning: 'cdfix' made the change 'Success'. [astropy.wcs.wcs]\n",
      "/var/folders/fs/f3k7bp2n3k1bldhn58thddt40000gn/T/ipykernel_87985/3282180528.py:23: UserWarning: FixedFormatter should only be used together with FixedLocator\n",
      "  ax.set_xticklabels(ax.get_xticklabels(), rotation=45)\n",
      "WARNING: FITSFixedWarning: 'cdfix' made the change 'Success'. [astropy.wcs.wcs]\n",
      "/var/folders/fs/f3k7bp2n3k1bldhn58thddt40000gn/T/ipykernel_87985/3282180528.py:23: UserWarning: FixedFormatter should only be used together with FixedLocator\n",
      "  ax.set_xticklabels(ax.get_xticklabels(), rotation=45)\n",
      "WARNING: FITSFixedWarning: 'cdfix' made the change 'Success'. [astropy.wcs.wcs]\n",
      "/var/folders/fs/f3k7bp2n3k1bldhn58thddt40000gn/T/ipykernel_87985/3282180528.py:23: UserWarning: FixedFormatter should only be used together with FixedLocator\n",
      "  ax.set_xticklabels(ax.get_xticklabels(), rotation=45)\n",
      "WARNING: FITSFixedWarning: 'cdfix' made the change 'Success'. [astropy.wcs.wcs]\n",
      "/var/folders/fs/f3k7bp2n3k1bldhn58thddt40000gn/T/ipykernel_87985/3282180528.py:23: UserWarning: FixedFormatter should only be used together with FixedLocator\n",
      "  ax.set_xticklabels(ax.get_xticklabels(), rotation=45)\n",
      "WARNING: FITSFixedWarning: 'cdfix' made the change 'Success'. [astropy.wcs.wcs]\n",
      "/var/folders/fs/f3k7bp2n3k1bldhn58thddt40000gn/T/ipykernel_87985/3282180528.py:23: UserWarning: FixedFormatter should only be used together with FixedLocator\n",
      "  ax.set_xticklabels(ax.get_xticklabels(), rotation=45)\n",
      "WARNING: FITSFixedWarning: 'cdfix' made the change 'Success'. [astropy.wcs.wcs]\n",
      "/var/folders/fs/f3k7bp2n3k1bldhn58thddt40000gn/T/ipykernel_87985/3282180528.py:23: UserWarning: FixedFormatter should only be used together with FixedLocator\n",
      "  ax.set_xticklabels(ax.get_xticklabels(), rotation=45)\n",
      "WARNING: FITSFixedWarning: 'cdfix' made the change 'Success'. [astropy.wcs.wcs]\n",
      "/var/folders/fs/f3k7bp2n3k1bldhn58thddt40000gn/T/ipykernel_87985/3282180528.py:23: UserWarning: FixedFormatter should only be used together with FixedLocator\n",
      "  ax.set_xticklabels(ax.get_xticklabels(), rotation=45)\n",
      "WARNING: FITSFixedWarning: 'cdfix' made the change 'Success'. [astropy.wcs.wcs]\n",
      "/var/folders/fs/f3k7bp2n3k1bldhn58thddt40000gn/T/ipykernel_87985/3282180528.py:23: UserWarning: FixedFormatter should only be used together with FixedLocator\n",
      "  ax.set_xticklabels(ax.get_xticklabels(), rotation=45)\n",
      "WARNING: FITSFixedWarning: 'cdfix' made the change 'Success'. [astropy.wcs.wcs]\n",
      "/var/folders/fs/f3k7bp2n3k1bldhn58thddt40000gn/T/ipykernel_87985/3282180528.py:23: UserWarning: FixedFormatter should only be used together with FixedLocator\n",
      "  ax.set_xticklabels(ax.get_xticklabels(), rotation=45)\n",
      "WARNING: FITSFixedWarning: 'cdfix' made the change 'Success'. [astropy.wcs.wcs]\n",
      "/var/folders/fs/f3k7bp2n3k1bldhn58thddt40000gn/T/ipykernel_87985/3282180528.py:23: UserWarning: FixedFormatter should only be used together with FixedLocator\n",
      "  ax.set_xticklabels(ax.get_xticklabels(), rotation=45)\n",
      "WARNING: FITSFixedWarning: 'cdfix' made the change 'Success'. [astropy.wcs.wcs]\n",
      "/var/folders/fs/f3k7bp2n3k1bldhn58thddt40000gn/T/ipykernel_87985/3282180528.py:23: UserWarning: FixedFormatter should only be used together with FixedLocator\n",
      "  ax.set_xticklabels(ax.get_xticklabels(), rotation=45)\n",
      "WARNING: FITSFixedWarning: 'cdfix' made the change 'Success'. [astropy.wcs.wcs]\n",
      "/var/folders/fs/f3k7bp2n3k1bldhn58thddt40000gn/T/ipykernel_87985/3282180528.py:23: UserWarning: FixedFormatter should only be used together with FixedLocator\n",
      "  ax.set_xticklabels(ax.get_xticklabels(), rotation=45)\n",
      "WARNING: FITSFixedWarning: 'cdfix' made the change 'Success'. [astropy.wcs.wcs]\n",
      "/var/folders/fs/f3k7bp2n3k1bldhn58thddt40000gn/T/ipykernel_87985/3282180528.py:23: UserWarning: FixedFormatter should only be used together with FixedLocator\n",
      "  ax.set_xticklabels(ax.get_xticklabels(), rotation=45)\n",
      "WARNING: FITSFixedWarning: 'cdfix' made the change 'Success'. [astropy.wcs.wcs]\n",
      "/var/folders/fs/f3k7bp2n3k1bldhn58thddt40000gn/T/ipykernel_87985/3282180528.py:23: UserWarning: FixedFormatter should only be used together with FixedLocator\n",
      "  ax.set_xticklabels(ax.get_xticklabels(), rotation=45)\n",
      "WARNING: FITSFixedWarning: 'cdfix' made the change 'Success'. [astropy.wcs.wcs]\n",
      "/var/folders/fs/f3k7bp2n3k1bldhn58thddt40000gn/T/ipykernel_87985/3282180528.py:23: UserWarning: FixedFormatter should only be used together with FixedLocator\n",
      "  ax.set_xticklabels(ax.get_xticklabels(), rotation=45)\n",
      "WARNING: FITSFixedWarning: 'cdfix' made the change 'Success'. [astropy.wcs.wcs]\n",
      "/var/folders/fs/f3k7bp2n3k1bldhn58thddt40000gn/T/ipykernel_87985/3282180528.py:23: UserWarning: FixedFormatter should only be used together with FixedLocator\n",
      "  ax.set_xticklabels(ax.get_xticklabels(), rotation=45)\n",
      "WARNING: FITSFixedWarning: 'cdfix' made the change 'Success'. [astropy.wcs.wcs]\n",
      "/var/folders/fs/f3k7bp2n3k1bldhn58thddt40000gn/T/ipykernel_87985/3282180528.py:23: UserWarning: FixedFormatter should only be used together with FixedLocator\n",
      "  ax.set_xticklabels(ax.get_xticklabels(), rotation=45)\n",
      "WARNING: FITSFixedWarning: 'cdfix' made the change 'Success'. [astropy.wcs.wcs]\n",
      "/var/folders/fs/f3k7bp2n3k1bldhn58thddt40000gn/T/ipykernel_87985/3282180528.py:23: UserWarning: FixedFormatter should only be used together with FixedLocator\n",
      "  ax.set_xticklabels(ax.get_xticklabels(), rotation=45)\n",
      "WARNING: FITSFixedWarning: 'cdfix' made the change 'Success'. [astropy.wcs.wcs]\n",
      "/var/folders/fs/f3k7bp2n3k1bldhn58thddt40000gn/T/ipykernel_87985/3282180528.py:23: UserWarning: FixedFormatter should only be used together with FixedLocator\n",
      "  ax.set_xticklabels(ax.get_xticklabels(), rotation=45)\n",
      "WARNING: FITSFixedWarning: 'cdfix' made the change 'Success'. [astropy.wcs.wcs]\n",
      "/var/folders/fs/f3k7bp2n3k1bldhn58thddt40000gn/T/ipykernel_87985/3282180528.py:23: UserWarning: FixedFormatter should only be used together with FixedLocator\n",
      "  ax.set_xticklabels(ax.get_xticklabels(), rotation=45)\n",
      "WARNING: FITSFixedWarning: 'cdfix' made the change 'Success'. [astropy.wcs.wcs]\n",
      "/var/folders/fs/f3k7bp2n3k1bldhn58thddt40000gn/T/ipykernel_87985/3282180528.py:23: UserWarning: FixedFormatter should only be used together with FixedLocator\n",
      "  ax.set_xticklabels(ax.get_xticklabels(), rotation=45)\n",
      "WARNING: FITSFixedWarning: 'cdfix' made the change 'Success'. [astropy.wcs.wcs]\n",
      "/var/folders/fs/f3k7bp2n3k1bldhn58thddt40000gn/T/ipykernel_87985/3282180528.py:23: UserWarning: FixedFormatter should only be used together with FixedLocator\n",
      "  ax.set_xticklabels(ax.get_xticklabels(), rotation=45)\n",
      "WARNING: FITSFixedWarning: 'cdfix' made the change 'Success'. [astropy.wcs.wcs]\n",
      "/var/folders/fs/f3k7bp2n3k1bldhn58thddt40000gn/T/ipykernel_87985/3282180528.py:23: UserWarning: FixedFormatter should only be used together with FixedLocator\n",
      "  ax.set_xticklabels(ax.get_xticklabels(), rotation=45)\n",
      "WARNING: FITSFixedWarning: 'cdfix' made the change 'Success'. [astropy.wcs.wcs]\n",
      "/var/folders/fs/f3k7bp2n3k1bldhn58thddt40000gn/T/ipykernel_87985/3282180528.py:23: UserWarning: FixedFormatter should only be used together with FixedLocator\n",
      "  ax.set_xticklabels(ax.get_xticklabels(), rotation=45)\n",
      "WARNING: FITSFixedWarning: 'cdfix' made the change 'Success'. [astropy.wcs.wcs]\n",
      "/var/folders/fs/f3k7bp2n3k1bldhn58thddt40000gn/T/ipykernel_87985/3282180528.py:23: UserWarning: FixedFormatter should only be used together with FixedLocator\n",
      "  ax.set_xticklabels(ax.get_xticklabels(), rotation=45)\n",
      "WARNING: FITSFixedWarning: 'cdfix' made the change 'Success'. [astropy.wcs.wcs]\n",
      "/var/folders/fs/f3k7bp2n3k1bldhn58thddt40000gn/T/ipykernel_87985/3282180528.py:23: UserWarning: FixedFormatter should only be used together with FixedLocator\n",
      "  ax.set_xticklabels(ax.get_xticklabels(), rotation=45)\n",
      "WARNING: FITSFixedWarning: 'cdfix' made the change 'Success'. [astropy.wcs.wcs]\n",
      "/var/folders/fs/f3k7bp2n3k1bldhn58thddt40000gn/T/ipykernel_87985/3282180528.py:23: UserWarning: FixedFormatter should only be used together with FixedLocator\n",
      "  ax.set_xticklabels(ax.get_xticklabels(), rotation=45)\n",
      "WARNING: FITSFixedWarning: 'cdfix' made the change 'Success'. [astropy.wcs.wcs]\n",
      "/var/folders/fs/f3k7bp2n3k1bldhn58thddt40000gn/T/ipykernel_87985/3282180528.py:23: UserWarning: FixedFormatter should only be used together with FixedLocator\n",
      "  ax.set_xticklabels(ax.get_xticklabels(), rotation=45)\n",
      "WARNING: FITSFixedWarning: 'cdfix' made the change 'Success'. [astropy.wcs.wcs]\n",
      "/var/folders/fs/f3k7bp2n3k1bldhn58thddt40000gn/T/ipykernel_87985/3282180528.py:23: UserWarning: FixedFormatter should only be used together with FixedLocator\n",
      "  ax.set_xticklabels(ax.get_xticklabels(), rotation=45)\n",
      "WARNING: FITSFixedWarning: 'cdfix' made the change 'Success'. [astropy.wcs.wcs]\n",
      "/var/folders/fs/f3k7bp2n3k1bldhn58thddt40000gn/T/ipykernel_87985/3282180528.py:23: UserWarning: FixedFormatter should only be used together with FixedLocator\n",
      "  ax.set_xticklabels(ax.get_xticklabels(), rotation=45)\n",
      "WARNING: FITSFixedWarning: 'cdfix' made the change 'Success'. [astropy.wcs.wcs]\n",
      "/var/folders/fs/f3k7bp2n3k1bldhn58thddt40000gn/T/ipykernel_87985/3282180528.py:23: UserWarning: FixedFormatter should only be used together with FixedLocator\n",
      "  ax.set_xticklabels(ax.get_xticklabels(), rotation=45)\n",
      "WARNING: FITSFixedWarning: 'cdfix' made the change 'Success'. [astropy.wcs.wcs]\n",
      "/var/folders/fs/f3k7bp2n3k1bldhn58thddt40000gn/T/ipykernel_87985/3282180528.py:23: UserWarning: FixedFormatter should only be used together with FixedLocator\n",
      "  ax.set_xticklabels(ax.get_xticklabels(), rotation=45)\n",
      "WARNING: FITSFixedWarning: 'cdfix' made the change 'Success'. [astropy.wcs.wcs]\n",
      "/var/folders/fs/f3k7bp2n3k1bldhn58thddt40000gn/T/ipykernel_87985/3282180528.py:23: UserWarning: FixedFormatter should only be used together with FixedLocator\n",
      "  ax.set_xticklabels(ax.get_xticklabels(), rotation=45)\n",
      "WARNING: FITSFixedWarning: 'cdfix' made the change 'Success'. [astropy.wcs.wcs]\n",
      "/var/folders/fs/f3k7bp2n3k1bldhn58thddt40000gn/T/ipykernel_87985/3282180528.py:23: UserWarning: FixedFormatter should only be used together with FixedLocator\n",
      "  ax.set_xticklabels(ax.get_xticklabels(), rotation=45)\n",
      "WARNING: FITSFixedWarning: 'cdfix' made the change 'Success'. [astropy.wcs.wcs]\n",
      "/var/folders/fs/f3k7bp2n3k1bldhn58thddt40000gn/T/ipykernel_87985/3282180528.py:23: UserWarning: FixedFormatter should only be used together with FixedLocator\n",
      "  ax.set_xticklabels(ax.get_xticklabels(), rotation=45)\n",
      "WARNING: FITSFixedWarning: 'cdfix' made the change 'Success'. [astropy.wcs.wcs]\n",
      "/var/folders/fs/f3k7bp2n3k1bldhn58thddt40000gn/T/ipykernel_87985/3282180528.py:23: UserWarning: FixedFormatter should only be used together with FixedLocator\n",
      "  ax.set_xticklabels(ax.get_xticklabels(), rotation=45)\n",
      "WARNING: FITSFixedWarning: 'cdfix' made the change 'Success'. [astropy.wcs.wcs]\n",
      "/var/folders/fs/f3k7bp2n3k1bldhn58thddt40000gn/T/ipykernel_87985/3282180528.py:23: UserWarning: FixedFormatter should only be used together with FixedLocator\n",
      "  ax.set_xticklabels(ax.get_xticklabels(), rotation=45)\n",
      "WARNING: FITSFixedWarning: 'cdfix' made the change 'Success'. [astropy.wcs.wcs]\n",
      "/var/folders/fs/f3k7bp2n3k1bldhn58thddt40000gn/T/ipykernel_87985/3282180528.py:23: UserWarning: FixedFormatter should only be used together with FixedLocator\n",
      "  ax.set_xticklabels(ax.get_xticklabels(), rotation=45)\n",
      "WARNING: FITSFixedWarning: 'cdfix' made the change 'Success'. [astropy.wcs.wcs]\n",
      "/var/folders/fs/f3k7bp2n3k1bldhn58thddt40000gn/T/ipykernel_87985/3282180528.py:23: UserWarning: FixedFormatter should only be used together with FixedLocator\n",
      "  ax.set_xticklabels(ax.get_xticklabels(), rotation=45)\n",
      "WARNING: FITSFixedWarning: 'cdfix' made the change 'Success'. [astropy.wcs.wcs]\n",
      "/var/folders/fs/f3k7bp2n3k1bldhn58thddt40000gn/T/ipykernel_87985/3282180528.py:23: UserWarning: FixedFormatter should only be used together with FixedLocator\n",
      "  ax.set_xticklabels(ax.get_xticklabels(), rotation=45)\n",
      "WARNING: FITSFixedWarning: 'cdfix' made the change 'Success'. [astropy.wcs.wcs]\n",
      "/var/folders/fs/f3k7bp2n3k1bldhn58thddt40000gn/T/ipykernel_87985/3282180528.py:23: UserWarning: FixedFormatter should only be used together with FixedLocator\n",
      "  ax.set_xticklabels(ax.get_xticklabels(), rotation=45)\n",
      "WARNING: FITSFixedWarning: 'cdfix' made the change 'Success'. [astropy.wcs.wcs]\n",
      "/var/folders/fs/f3k7bp2n3k1bldhn58thddt40000gn/T/ipykernel_87985/3282180528.py:23: UserWarning: FixedFormatter should only be used together with FixedLocator\n",
      "  ax.set_xticklabels(ax.get_xticklabels(), rotation=45)\n",
      "WARNING: FITSFixedWarning: 'cdfix' made the change 'Success'. [astropy.wcs.wcs]\n",
      "/var/folders/fs/f3k7bp2n3k1bldhn58thddt40000gn/T/ipykernel_87985/3282180528.py:23: UserWarning: FixedFormatter should only be used together with FixedLocator\n",
      "  ax.set_xticklabels(ax.get_xticklabels(), rotation=45)\n",
      "WARNING: FITSFixedWarning: 'cdfix' made the change 'Success'. [astropy.wcs.wcs]\n",
      "/var/folders/fs/f3k7bp2n3k1bldhn58thddt40000gn/T/ipykernel_87985/3282180528.py:23: UserWarning: FixedFormatter should only be used together with FixedLocator\n",
      "  ax.set_xticklabels(ax.get_xticklabels(), rotation=45)\n",
      "WARNING: FITSFixedWarning: 'cdfix' made the change 'Success'. [astropy.wcs.wcs]\n",
      "/var/folders/fs/f3k7bp2n3k1bldhn58thddt40000gn/T/ipykernel_87985/3282180528.py:23: UserWarning: FixedFormatter should only be used together with FixedLocator\n",
      "  ax.set_xticklabels(ax.get_xticklabels(), rotation=45)\n",
      "WARNING: FITSFixedWarning: 'cdfix' made the change 'Success'. [astropy.wcs.wcs]\n",
      "/var/folders/fs/f3k7bp2n3k1bldhn58thddt40000gn/T/ipykernel_87985/3282180528.py:23: UserWarning: FixedFormatter should only be used together with FixedLocator\n",
      "  ax.set_xticklabels(ax.get_xticklabels(), rotation=45)\n",
      "WARNING: FITSFixedWarning: 'cdfix' made the change 'Success'. [astropy.wcs.wcs]\n",
      "/var/folders/fs/f3k7bp2n3k1bldhn58thddt40000gn/T/ipykernel_87985/3282180528.py:23: UserWarning: FixedFormatter should only be used together with FixedLocator\n",
      "  ax.set_xticklabels(ax.get_xticklabels(), rotation=45)\n",
      "WARNING: FITSFixedWarning: 'cdfix' made the change 'Success'. [astropy.wcs.wcs]\n",
      "/var/folders/fs/f3k7bp2n3k1bldhn58thddt40000gn/T/ipykernel_87985/3282180528.py:23: UserWarning: FixedFormatter should only be used together with FixedLocator\n",
      "  ax.set_xticklabels(ax.get_xticklabels(), rotation=45)\n",
      "WARNING: FITSFixedWarning: 'cdfix' made the change 'Success'. [astropy.wcs.wcs]\n",
      "/var/folders/fs/f3k7bp2n3k1bldhn58thddt40000gn/T/ipykernel_87985/3282180528.py:23: UserWarning: FixedFormatter should only be used together with FixedLocator\n",
      "  ax.set_xticklabels(ax.get_xticklabels(), rotation=45)\n",
      "WARNING: FITSFixedWarning: 'cdfix' made the change 'Success'. [astropy.wcs.wcs]\n",
      "/var/folders/fs/f3k7bp2n3k1bldhn58thddt40000gn/T/ipykernel_87985/3282180528.py:23: UserWarning: FixedFormatter should only be used together with FixedLocator\n",
      "  ax.set_xticklabels(ax.get_xticklabels(), rotation=45)\n",
      "WARNING: FITSFixedWarning: 'cdfix' made the change 'Success'. [astropy.wcs.wcs]\n",
      "/var/folders/fs/f3k7bp2n3k1bldhn58thddt40000gn/T/ipykernel_87985/3282180528.py:23: UserWarning: FixedFormatter should only be used together with FixedLocator\n",
      "  ax.set_xticklabels(ax.get_xticklabels(), rotation=45)\n",
      "WARNING: FITSFixedWarning: 'cdfix' made the change 'Success'. [astropy.wcs.wcs]\n",
      "/var/folders/fs/f3k7bp2n3k1bldhn58thddt40000gn/T/ipykernel_87985/3282180528.py:23: UserWarning: FixedFormatter should only be used together with FixedLocator\n",
      "  ax.set_xticklabels(ax.get_xticklabels(), rotation=45)\n",
      "WARNING: FITSFixedWarning: 'cdfix' made the change 'Success'. [astropy.wcs.wcs]\n",
      "/var/folders/fs/f3k7bp2n3k1bldhn58thddt40000gn/T/ipykernel_87985/3282180528.py:23: UserWarning: FixedFormatter should only be used together with FixedLocator\n",
      "  ax.set_xticklabels(ax.get_xticklabels(), rotation=45)\n",
      "WARNING: FITSFixedWarning: 'cdfix' made the change 'Success'. [astropy.wcs.wcs]\n",
      "/var/folders/fs/f3k7bp2n3k1bldhn58thddt40000gn/T/ipykernel_87985/3282180528.py:23: UserWarning: FixedFormatter should only be used together with FixedLocator\n",
      "  ax.set_xticklabels(ax.get_xticklabels(), rotation=45)\n",
      "WARNING: FITSFixedWarning: 'cdfix' made the change 'Success'. [astropy.wcs.wcs]\n",
      "/var/folders/fs/f3k7bp2n3k1bldhn58thddt40000gn/T/ipykernel_87985/3282180528.py:23: UserWarning: FixedFormatter should only be used together with FixedLocator\n",
      "  ax.set_xticklabels(ax.get_xticklabels(), rotation=45)\n",
      "WARNING: FITSFixedWarning: 'cdfix' made the change 'Success'. [astropy.wcs.wcs]\n",
      "/var/folders/fs/f3k7bp2n3k1bldhn58thddt40000gn/T/ipykernel_87985/3282180528.py:23: UserWarning: FixedFormatter should only be used together with FixedLocator\n",
      "  ax.set_xticklabels(ax.get_xticklabels(), rotation=45)\n",
      "WARNING: FITSFixedWarning: 'cdfix' made the change 'Success'. [astropy.wcs.wcs]\n",
      "/var/folders/fs/f3k7bp2n3k1bldhn58thddt40000gn/T/ipykernel_87985/3282180528.py:23: UserWarning: FixedFormatter should only be used together with FixedLocator\n",
      "  ax.set_xticklabels(ax.get_xticklabels(), rotation=45)\n",
      "WARNING: FITSFixedWarning: 'cdfix' made the change 'Success'. [astropy.wcs.wcs]\n",
      "/var/folders/fs/f3k7bp2n3k1bldhn58thddt40000gn/T/ipykernel_87985/3282180528.py:23: UserWarning: FixedFormatter should only be used together with FixedLocator\n",
      "  ax.set_xticklabels(ax.get_xticklabels(), rotation=45)\n",
      "WARNING: FITSFixedWarning: 'cdfix' made the change 'Success'. [astropy.wcs.wcs]\n",
      "/var/folders/fs/f3k7bp2n3k1bldhn58thddt40000gn/T/ipykernel_87985/3282180528.py:23: UserWarning: FixedFormatter should only be used together with FixedLocator\n",
      "  ax.set_xticklabels(ax.get_xticklabels(), rotation=45)\n",
      "WARNING: FITSFixedWarning: 'cdfix' made the change 'Success'. [astropy.wcs.wcs]\n",
      "/var/folders/fs/f3k7bp2n3k1bldhn58thddt40000gn/T/ipykernel_87985/3282180528.py:23: UserWarning: FixedFormatter should only be used together with FixedLocator\n",
      "  ax.set_xticklabels(ax.get_xticklabels(), rotation=45)\n",
      "WARNING: FITSFixedWarning: 'cdfix' made the change 'Success'. [astropy.wcs.wcs]\n",
      "/var/folders/fs/f3k7bp2n3k1bldhn58thddt40000gn/T/ipykernel_87985/3282180528.py:23: UserWarning: FixedFormatter should only be used together with FixedLocator\n",
      "  ax.set_xticklabels(ax.get_xticklabels(), rotation=45)\n",
      "WARNING: FITSFixedWarning: 'cdfix' made the change 'Success'. [astropy.wcs.wcs]\n",
      "/var/folders/fs/f3k7bp2n3k1bldhn58thddt40000gn/T/ipykernel_87985/3282180528.py:23: UserWarning: FixedFormatter should only be used together with FixedLocator\n",
      "  ax.set_xticklabels(ax.get_xticklabels(), rotation=45)\n",
      "WARNING: FITSFixedWarning: 'cdfix' made the change 'Success'. [astropy.wcs.wcs]\n",
      "/var/folders/fs/f3k7bp2n3k1bldhn58thddt40000gn/T/ipykernel_87985/3282180528.py:23: UserWarning: FixedFormatter should only be used together with FixedLocator\n",
      "  ax.set_xticklabels(ax.get_xticklabels(), rotation=45)\n",
      "WARNING: FITSFixedWarning: 'cdfix' made the change 'Success'. [astropy.wcs.wcs]\n",
      "/var/folders/fs/f3k7bp2n3k1bldhn58thddt40000gn/T/ipykernel_87985/3282180528.py:23: UserWarning: FixedFormatter should only be used together with FixedLocator\n",
      "  ax.set_xticklabels(ax.get_xticklabels(), rotation=45)\n",
      "WARNING: FITSFixedWarning: 'cdfix' made the change 'Success'. [astropy.wcs.wcs]\n",
      "/var/folders/fs/f3k7bp2n3k1bldhn58thddt40000gn/T/ipykernel_87985/3282180528.py:23: UserWarning: FixedFormatter should only be used together with FixedLocator\n",
      "  ax.set_xticklabels(ax.get_xticklabels(), rotation=45)\n",
      "WARNING: FITSFixedWarning: 'cdfix' made the change 'Success'. [astropy.wcs.wcs]\n",
      "/var/folders/fs/f3k7bp2n3k1bldhn58thddt40000gn/T/ipykernel_87985/3282180528.py:23: UserWarning: FixedFormatter should only be used together with FixedLocator\n",
      "  ax.set_xticklabels(ax.get_xticklabels(), rotation=45)\n",
      "WARNING: FITSFixedWarning: 'cdfix' made the change 'Success'. [astropy.wcs.wcs]\n",
      "/var/folders/fs/f3k7bp2n3k1bldhn58thddt40000gn/T/ipykernel_87985/3282180528.py:23: UserWarning: FixedFormatter should only be used together with FixedLocator\n",
      "  ax.set_xticklabels(ax.get_xticklabels(), rotation=45)\n",
      "WARNING: FITSFixedWarning: 'cdfix' made the change 'Success'. [astropy.wcs.wcs]\n",
      "/var/folders/fs/f3k7bp2n3k1bldhn58thddt40000gn/T/ipykernel_87985/3282180528.py:23: UserWarning: FixedFormatter should only be used together with FixedLocator\n",
      "  ax.set_xticklabels(ax.get_xticklabels(), rotation=45)\n",
      "WARNING: FITSFixedWarning: 'cdfix' made the change 'Success'. [astropy.wcs.wcs]\n",
      "/var/folders/fs/f3k7bp2n3k1bldhn58thddt40000gn/T/ipykernel_87985/3282180528.py:23: UserWarning: FixedFormatter should only be used together with FixedLocator\n",
      "  ax.set_xticklabels(ax.get_xticklabels(), rotation=45)\n",
      "WARNING: FITSFixedWarning: 'cdfix' made the change 'Success'. [astropy.wcs.wcs]\n",
      "/var/folders/fs/f3k7bp2n3k1bldhn58thddt40000gn/T/ipykernel_87985/3282180528.py:23: UserWarning: FixedFormatter should only be used together with FixedLocator\n",
      "  ax.set_xticklabels(ax.get_xticklabels(), rotation=45)\n",
      "WARNING: FITSFixedWarning: 'cdfix' made the change 'Success'. [astropy.wcs.wcs]\n",
      "/var/folders/fs/f3k7bp2n3k1bldhn58thddt40000gn/T/ipykernel_87985/3282180528.py:23: UserWarning: FixedFormatter should only be used together with FixedLocator\n",
      "  ax.set_xticklabels(ax.get_xticklabels(), rotation=45)\n",
      "WARNING: FITSFixedWarning: 'cdfix' made the change 'Success'. [astropy.wcs.wcs]\n",
      "/var/folders/fs/f3k7bp2n3k1bldhn58thddt40000gn/T/ipykernel_87985/3282180528.py:23: UserWarning: FixedFormatter should only be used together with FixedLocator\n",
      "  ax.set_xticklabels(ax.get_xticklabels(), rotation=45)\n",
      "WARNING: FITSFixedWarning: 'cdfix' made the change 'Success'. [astropy.wcs.wcs]\n",
      "/var/folders/fs/f3k7bp2n3k1bldhn58thddt40000gn/T/ipykernel_87985/3282180528.py:23: UserWarning: FixedFormatter should only be used together with FixedLocator\n",
      "  ax.set_xticklabels(ax.get_xticklabels(), rotation=45)\n",
      "WARNING: FITSFixedWarning: 'cdfix' made the change 'Success'. [astropy.wcs.wcs]\n",
      "/var/folders/fs/f3k7bp2n3k1bldhn58thddt40000gn/T/ipykernel_87985/3282180528.py:23: UserWarning: FixedFormatter should only be used together with FixedLocator\n",
      "  ax.set_xticklabels(ax.get_xticklabels(), rotation=45)\n",
      "WARNING: FITSFixedWarning: 'cdfix' made the change 'Success'. [astropy.wcs.wcs]\n",
      "/var/folders/fs/f3k7bp2n3k1bldhn58thddt40000gn/T/ipykernel_87985/3282180528.py:23: UserWarning: FixedFormatter should only be used together with FixedLocator\n",
      "  ax.set_xticklabels(ax.get_xticklabels(), rotation=45)\n",
      "WARNING: FITSFixedWarning: 'cdfix' made the change 'Success'. [astropy.wcs.wcs]\n",
      "/var/folders/fs/f3k7bp2n3k1bldhn58thddt40000gn/T/ipykernel_87985/3282180528.py:23: UserWarning: FixedFormatter should only be used together with FixedLocator\n",
      "  ax.set_xticklabels(ax.get_xticklabels(), rotation=45)\n",
      "WARNING: FITSFixedWarning: 'cdfix' made the change 'Success'. [astropy.wcs.wcs]\n",
      "/var/folders/fs/f3k7bp2n3k1bldhn58thddt40000gn/T/ipykernel_87985/3282180528.py:23: UserWarning: FixedFormatter should only be used together with FixedLocator\n",
      "  ax.set_xticklabels(ax.get_xticklabels(), rotation=45)\n",
      "WARNING: FITSFixedWarning: 'cdfix' made the change 'Success'. [astropy.wcs.wcs]\n",
      "/var/folders/fs/f3k7bp2n3k1bldhn58thddt40000gn/T/ipykernel_87985/3282180528.py:23: UserWarning: FixedFormatter should only be used together with FixedLocator\n",
      "  ax.set_xticklabels(ax.get_xticklabels(), rotation=45)\n",
      "WARNING: FITSFixedWarning: 'cdfix' made the change 'Success'. [astropy.wcs.wcs]\n",
      "/var/folders/fs/f3k7bp2n3k1bldhn58thddt40000gn/T/ipykernel_87985/3282180528.py:23: UserWarning: FixedFormatter should only be used together with FixedLocator\n",
      "  ax.set_xticklabels(ax.get_xticklabels(), rotation=45)\n",
      "WARNING: FITSFixedWarning: 'cdfix' made the change 'Success'. [astropy.wcs.wcs]\n",
      "/var/folders/fs/f3k7bp2n3k1bldhn58thddt40000gn/T/ipykernel_87985/3282180528.py:23: UserWarning: FixedFormatter should only be used together with FixedLocator\n",
      "  ax.set_xticklabels(ax.get_xticklabels(), rotation=45)\n",
      "WARNING: FITSFixedWarning: 'cdfix' made the change 'Success'. [astropy.wcs.wcs]\n",
      "/var/folders/fs/f3k7bp2n3k1bldhn58thddt40000gn/T/ipykernel_87985/3282180528.py:23: UserWarning: FixedFormatter should only be used together with FixedLocator\n",
      "  ax.set_xticklabels(ax.get_xticklabels(), rotation=45)\n",
      "WARNING: FITSFixedWarning: 'cdfix' made the change 'Success'. [astropy.wcs.wcs]\n",
      "/var/folders/fs/f3k7bp2n3k1bldhn58thddt40000gn/T/ipykernel_87985/3282180528.py:23: UserWarning: FixedFormatter should only be used together with FixedLocator\n",
      "  ax.set_xticklabels(ax.get_xticklabels(), rotation=45)\n",
      "WARNING: FITSFixedWarning: 'cdfix' made the change 'Success'. [astropy.wcs.wcs]\n",
      "/var/folders/fs/f3k7bp2n3k1bldhn58thddt40000gn/T/ipykernel_87985/3282180528.py:23: UserWarning: FixedFormatter should only be used together with FixedLocator\n",
      "  ax.set_xticklabels(ax.get_xticklabels(), rotation=45)\n",
      "WARNING: FITSFixedWarning: 'cdfix' made the change 'Success'. [astropy.wcs.wcs]\n",
      "/var/folders/fs/f3k7bp2n3k1bldhn58thddt40000gn/T/ipykernel_87985/3282180528.py:23: UserWarning: FixedFormatter should only be used together with FixedLocator\n",
      "  ax.set_xticklabels(ax.get_xticklabels(), rotation=45)\n",
      "WARNING: FITSFixedWarning: 'cdfix' made the change 'Success'. [astropy.wcs.wcs]\n",
      "/var/folders/fs/f3k7bp2n3k1bldhn58thddt40000gn/T/ipykernel_87985/3282180528.py:23: UserWarning: FixedFormatter should only be used together with FixedLocator\n",
      "  ax.set_xticklabels(ax.get_xticklabels(), rotation=45)\n",
      "WARNING: FITSFixedWarning: 'cdfix' made the change 'Success'. [astropy.wcs.wcs]\n",
      "/var/folders/fs/f3k7bp2n3k1bldhn58thddt40000gn/T/ipykernel_87985/3282180528.py:23: UserWarning: FixedFormatter should only be used together with FixedLocator\n",
      "  ax.set_xticklabels(ax.get_xticklabels(), rotation=45)\n",
      "WARNING: FITSFixedWarning: 'cdfix' made the change 'Success'. [astropy.wcs.wcs]\n",
      "/var/folders/fs/f3k7bp2n3k1bldhn58thddt40000gn/T/ipykernel_87985/3282180528.py:23: UserWarning: FixedFormatter should only be used together with FixedLocator\n",
      "  ax.set_xticklabels(ax.get_xticklabels(), rotation=45)\n",
      "WARNING: FITSFixedWarning: 'cdfix' made the change 'Success'. [astropy.wcs.wcs]\n",
      "/var/folders/fs/f3k7bp2n3k1bldhn58thddt40000gn/T/ipykernel_87985/3282180528.py:23: UserWarning: FixedFormatter should only be used together with FixedLocator\n",
      "  ax.set_xticklabels(ax.get_xticklabels(), rotation=45)\n",
      "WARNING: FITSFixedWarning: 'cdfix' made the change 'Success'. [astropy.wcs.wcs]\n",
      "/var/folders/fs/f3k7bp2n3k1bldhn58thddt40000gn/T/ipykernel_87985/3282180528.py:23: UserWarning: FixedFormatter should only be used together with FixedLocator\n",
      "  ax.set_xticklabels(ax.get_xticklabels(), rotation=45)\n",
      "WARNING: FITSFixedWarning: 'cdfix' made the change 'Success'. [astropy.wcs.wcs]\n",
      "/var/folders/fs/f3k7bp2n3k1bldhn58thddt40000gn/T/ipykernel_87985/3282180528.py:23: UserWarning: FixedFormatter should only be used together with FixedLocator\n",
      "  ax.set_xticklabels(ax.get_xticklabels(), rotation=45)\n",
      "WARNING: FITSFixedWarning: 'cdfix' made the change 'Success'. [astropy.wcs.wcs]\n",
      "/var/folders/fs/f3k7bp2n3k1bldhn58thddt40000gn/T/ipykernel_87985/3282180528.py:23: UserWarning: FixedFormatter should only be used together with FixedLocator\n",
      "  ax.set_xticklabels(ax.get_xticklabels(), rotation=45)\n",
      "WARNING: FITSFixedWarning: 'cdfix' made the change 'Success'. [astropy.wcs.wcs]\n",
      "/var/folders/fs/f3k7bp2n3k1bldhn58thddt40000gn/T/ipykernel_87985/3282180528.py:23: UserWarning: FixedFormatter should only be used together with FixedLocator\n",
      "  ax.set_xticklabels(ax.get_xticklabels(), rotation=45)\n",
      "WARNING: FITSFixedWarning: 'cdfix' made the change 'Success'. [astropy.wcs.wcs]\n",
      "/var/folders/fs/f3k7bp2n3k1bldhn58thddt40000gn/T/ipykernel_87985/3282180528.py:23: UserWarning: FixedFormatter should only be used together with FixedLocator\n",
      "  ax.set_xticklabels(ax.get_xticklabels(), rotation=45)\n"
     ]
    }
   ],
   "source": [
    "for ridx in range(len(sample)):\n",
    "    ostar = ostars.iloc[ridx]\n",
    "    name = sample.index[ridx]\n",
    "    cutout = fits.open(f'./{sample_name}/cutouts/{name}.fits')[0]\n",
    "    cutout_wcs = wcs.WCS(cutout.header)\n",
    "    \n",
    "    row = sample.iloc[ridx]\n",
    "    name = row.name\n",
    "    \n",
    "    fig = plt.figure(figsize=(13, 4))\n",
    "    ax = fig.add_subplot(1,3,1)\n",
    "    \n",
    "    alt_l_index = np.arange(len(alt_l), dtype=int)[is_observable][ridx]\n",
    "    ax.plot(obsframe.obstime.datetime, alt_l[alt_l_index].alt, 'o')\n",
    "    ax.xaxis.set_major_formatter(mdates.DateFormatter('%H:%M'))\n",
    "    ax.xaxis.set_major_locator(mdates.HourLocator(interval=1))\n",
    "    #ax.set_xtic(rotation=45)\n",
    "    tw = ax.twinx()\n",
    "    tw.plot(obsframe.obstime.datetime, alt_l[alt_l_index].secz, 'o', color='C1')\n",
    "    tw.set_ylim(1.,3.)\n",
    "    tw.set_ylabel('airmass', color='C1', rotation=270, labelpad=20)\n",
    "    \n",
    "    ax.set_xticklabels(ax.get_xticklabels(), rotation=45)\n",
    "    ax.set_xlabel('Time [UTC]')\n",
    "    ax.set_ylabel('altitude', color='C0')\n",
    "    \n",
    "    \n",
    "    ek.text(\n",
    "        0.025,\n",
    "        0.975,\n",
    "        r'%s' % row.name,\n",
    "        ax=ax,\n",
    "        fontsize=10,\n",
    "        bordercolor='w',\n",
    "        borderwidth=2\n",
    "    )\n",
    "    \n",
    "    ax.spines.left.set_color(\"C0\")\n",
    "\n",
    "    \n",
    "    ax=fig.add_axes(132, projection=cutout_wcs.celestial)\n",
    "    ek.imshow(cutout.data[0],origin='lower', cmap='Greys', q=0.0025, ax=ax)\n",
    "    \n",
    "    msize = 20\n",
    "    ek.celestial_plot(sample.iloc[ridx]['RA'], sample.iloc[ridx]['DEC'], ax, marker='o', markeredgecolor='lime', markerfacecolor='None', markersize=msize)\n",
    "    ek.celestial_plot(ostar['ra'], ostar['dec'], ax, marker='o', markeredgecolor='cyan', markerfacecolor='None', markersize=msize)\n",
    "    \n",
    "    ek.text(0.025, 0.975, 'Offset Star', color='cyan', ax=ax, bordercolor='w', borderwidth=3)\n",
    "    ek.text(0.025, 0.905, 'Science Target', color='lime', ax=ax, bordercolor='w', borderwidth=3)\n",
    "\n",
    "\n",
    "    ras = [sample.iloc[ridx]['RA'], ostar['ra']]\n",
    "    decs = [sample.iloc[ridx]['DEC'],ostar['dec']]\n",
    "    ek.celestial_plot( ras, decs, ax, color='r', lw=0.2, ls=':' )\n",
    "    ek.text(\n",
    "        np.mean(ras),\n",
    "        np.mean(decs),\n",
    "        r\"%i''\" % ostar.distance_arcsec,\n",
    "        color='tab:red',\n",
    "        coord_type='absolute',\n",
    "        bordercolor='w',\n",
    "        borderwidth=2,\n",
    "        transform=ax.get_transform('fk5'),\n",
    "        ax=ax\n",
    "    )\n",
    "        \n",
    "    \n",
    "    ax.grid(color='white', ls=':')\n",
    "    ax.set_xlabel('RA [J2000]')\n",
    "    ax.set_ylabel('DEC [J2000]')\n",
    "    \n",
    "\n",
    "    imax = fig.add_axes(133)\n",
    "    thumbnail = mpimg.imread(f'./{sample_name}/thumbnails/{name}.jpg')\n",
    "    imax.imshow(thumbnail)\n",
    "    imax.axis('off')\n",
    "    fha = fha_from_sfr(row)\n",
    "    fha_oom = np.floor(np.log10(fha))\n",
    "\n",
    "    ek.text(\n",
    "        0.025,\n",
    "        0.975,\n",
    "        r'''$m_r = %.1f$\n",
    "$m_{N708}=%.1f$\n",
    "$F_{\\rm H\\alpha}^{\\rm est} = %.2f\\times 10^{%i} \\frac{\\rm erg}{\\rm s\\ cm^{2}}$'''%(\n",
    "            utils.flux2mag(row['r_cModelFlux_Merian']),\n",
    "            utils.flux2mag(row['N708_cModelFlux_Merian']),\n",
    "            fha / 10.**fha_oom,\n",
    "            fha_oom\n",
    "        ),\n",
    "        ax=imax,\n",
    "        color='w',\n",
    "        fontsize=12\n",
    "    )\n",
    "    plt.tight_layout ()\n",
    "    \n",
    "    pos = imax.get_position ()\n",
    "    new_pos = [pos.x0 - 0.1, pos.y0, pos.width, pos.height]\n",
    "    imax.set_position (new_pos)\n",
    "\n",
    "    plt.savefig(f'./{sample_name}/finding_charts/{name}.png')\n",
    "    plt.close()"
   ]
  },
  {
   "cell_type": "code",
   "execution_count": null,
   "id": "0b345030-89fa-463e-a447-a983ab11c3e3",
   "metadata": {},
   "outputs": [],
   "source": []
  }
 ],
 "metadata": {
  "kernelspec": {
   "display_name": "Python 3 (ipykernel)",
   "language": "python",
   "name": "python3"
  },
  "language_info": {
   "codemirror_mode": {
    "name": "ipython",
    "version": 3
   },
   "file_extension": ".py",
   "mimetype": "text/x-python",
   "name": "python",
   "nbconvert_exporter": "python",
   "pygments_lexer": "ipython3",
   "version": "3.10.12"
  }
 },
 "nbformat": 4,
 "nbformat_minor": 5
}
